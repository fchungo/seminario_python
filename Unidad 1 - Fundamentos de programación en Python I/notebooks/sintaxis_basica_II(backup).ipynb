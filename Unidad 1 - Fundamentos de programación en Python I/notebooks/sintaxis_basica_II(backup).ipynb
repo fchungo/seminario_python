{
 "cells": [
  {
   "cell_type": "markdown",
   "metadata": {},
   "source": [
    "![](../imagenes/titulo_020.png)"
   ]
  },
  {
   "cell_type": "markdown",
   "metadata": {},
   "source": [
    "## Índice\n",
    "\n",
    "* [Funciones mágicas](#Funciones-magicas)\n",
    "* [Introduccion a estructuras de control de flujo](#Introduccion-a-estructuras-de-control-de-flujo)\n",
    "    * [Estructuras condicionales](#Estructuras-condicionales)\n",
    "        * [Estructura condicional - IF/ELIF/ELSE](#Estructura-condicional---IF/ELIF/ELSE)\n",
    "        * [Estructura condicional por casos - SWITCH](#Estructura-condicional-por-casos---SWITCH)\n",
    "    * [Estructura de control iterativas](#Estructuras-de-control-iterativas)\n",
    "        * [Estructura de control iterativa - While](#Estructura-de-control-iterativa---While) \n",
    "        * [Estructura de control iterativa - For](#Estructura-de-control-iterativa---For)\n",
    "    * [Declaraciones Break, Continue, Else y Pass](#Declaraciones-Break,-Continue,-Else-y-Pass)\n",
    "        * [Break](#Break)\n",
    "        * [Continue](#Continue)\n",
    "        * [Else](#Else)\n",
    "        * [Pass](#Pass)\n",
    "* [Funciones definidas por el usuario](#Funciones-definidas-por-el-usuario)\n",
    "    * [Encoding - codificacion del codigo fuente](#Encoding---codificacion-del-codigo-fuente)\n",
    "    * [Definicion de funciones](#Definicion-de-funciones)\n",
    "    * [Retorno - return](#Retorno---return)\n",
    "    * [Argumentos](#Argumentos)\n",
    "        * [Argumentos con valores por omision](#Argumentos-con-valores-por-omision)\n",
    "        * [Palabras claves como argumentos](#Palabras-claves-como-argumentos)\n",
    "        * [Listas de argumentos arbitrarios](#Listas-de-argumentos-arbitrarios)"
   ]
  },
  {
   "cell_type": "markdown",
   "metadata": {},
   "source": [
    "## Funciones magicas\n",
    "\n",
    "Jupyter como IPython tiene un conjunto de funciones predefinidas llamadas **mágicas** que representa una de las mejoras más importantes que aporta en relación al intérprete de Python por defecto. Hay dos tipos de funciones mágicas:\n",
    "\n",
    "* Orientadas a **líneas**, trabajan en una sola línea.\n",
    "* Orientadas a **celdas**, trabajan en varias líneas.\n",
    "\n",
    "En nuestro caso ya utilizamos la función mágica `%matplotlib inline` que nos permite imprimir una figura en una celda, a continuación de las líneas de código que la definen.\n",
    "\n",
    "> **Nota:** todas las funciones mágicas llevan por delante un signo % en el caso de las orientadas a líneas y %% en el caso de las orientadas a celdas.\n",
    "\n",
    "Para listar todas las funciones mágicas disponibles:"
   ]
  },
  {
   "cell_type": "code",
   "execution_count": 1,
   "metadata": {},
   "outputs": [
    {
     "data": {
      "application/json": {
       "cell": {
        "!": "OSMagics",
        "HTML": "Other",
        "SVG": "Other",
        "bash": "Other",
        "capture": "ExecutionMagics",
        "cmd": "Other",
        "debug": "ExecutionMagics",
        "file": "Other",
        "html": "DisplayMagics",
        "javascript": "DisplayMagics",
        "js": "DisplayMagics",
        "latex": "DisplayMagics",
        "markdown": "DisplayMagics",
        "perl": "Other",
        "prun": "ExecutionMagics",
        "pypy": "Other",
        "python": "Other",
        "python2": "Other",
        "python3": "Other",
        "ruby": "Other",
        "script": "ScriptMagics",
        "sh": "Other",
        "svg": "DisplayMagics",
        "sx": "OSMagics",
        "system": "OSMagics",
        "time": "ExecutionMagics",
        "timeit": "ExecutionMagics",
        "writefile": "OSMagics"
       },
       "line": {
        "alias": "OSMagics",
        "alias_magic": "BasicMagics",
        "autocall": "AutoMagics",
        "automagic": "AutoMagics",
        "autosave": "KernelMagics",
        "bookmark": "OSMagics",
        "cd": "OSMagics",
        "clear": "KernelMagics",
        "cls": "KernelMagics",
        "colors": "BasicMagics",
        "config": "ConfigMagics",
        "connect_info": "KernelMagics",
        "copy": "Other",
        "ddir": "Other",
        "debug": "ExecutionMagics",
        "dhist": "OSMagics",
        "dirs": "OSMagics",
        "doctest_mode": "BasicMagics",
        "echo": "Other",
        "ed": "Other",
        "edit": "KernelMagics",
        "env": "OSMagics",
        "gui": "BasicMagics",
        "hist": "Other",
        "history": "HistoryMagics",
        "killbgscripts": "ScriptMagics",
        "ldir": "Other",
        "less": "KernelMagics",
        "load": "CodeMagics",
        "load_ext": "ExtensionMagics",
        "loadpy": "CodeMagics",
        "logoff": "LoggingMagics",
        "logon": "LoggingMagics",
        "logstart": "LoggingMagics",
        "logstate": "LoggingMagics",
        "logstop": "LoggingMagics",
        "ls": "Other",
        "lsmagic": "BasicMagics",
        "macro": "ExecutionMagics",
        "magic": "BasicMagics",
        "matplotlib": "PylabMagics",
        "mkdir": "Other",
        "more": "KernelMagics",
        "notebook": "BasicMagics",
        "page": "BasicMagics",
        "pastebin": "CodeMagics",
        "pdb": "ExecutionMagics",
        "pdef": "NamespaceMagics",
        "pdoc": "NamespaceMagics",
        "pfile": "NamespaceMagics",
        "pinfo": "NamespaceMagics",
        "pinfo2": "NamespaceMagics",
        "pip": "BasicMagics",
        "popd": "OSMagics",
        "pprint": "BasicMagics",
        "precision": "BasicMagics",
        "profile": "BasicMagics",
        "prun": "ExecutionMagics",
        "psearch": "NamespaceMagics",
        "psource": "NamespaceMagics",
        "pushd": "OSMagics",
        "pwd": "OSMagics",
        "pycat": "OSMagics",
        "pylab": "PylabMagics",
        "qtconsole": "KernelMagics",
        "quickref": "BasicMagics",
        "recall": "HistoryMagics",
        "rehashx": "OSMagics",
        "reload_ext": "ExtensionMagics",
        "ren": "Other",
        "rep": "Other",
        "rerun": "HistoryMagics",
        "reset": "NamespaceMagics",
        "reset_selective": "NamespaceMagics",
        "rmdir": "Other",
        "run": "ExecutionMagics",
        "save": "CodeMagics",
        "sc": "OSMagics",
        "set_env": "OSMagics",
        "store": "StoreMagics",
        "sx": "OSMagics",
        "system": "OSMagics",
        "tb": "ExecutionMagics",
        "time": "ExecutionMagics",
        "timeit": "ExecutionMagics",
        "unalias": "OSMagics",
        "unload_ext": "ExtensionMagics",
        "who": "NamespaceMagics",
        "who_ls": "NamespaceMagics",
        "whos": "NamespaceMagics",
        "xdel": "NamespaceMagics",
        "xmode": "BasicMagics"
       }
      },
      "text/plain": [
       "Available line magics:\n",
       "%alias  %alias_magic  %autocall  %automagic  %autosave  %bookmark  %cd  %clear  %cls  %colors  %config  %connect_info  %copy  %ddir  %debug  %dhist  %dirs  %doctest_mode  %echo  %ed  %edit  %env  %gui  %hist  %history  %killbgscripts  %ldir  %less  %load  %load_ext  %loadpy  %logoff  %logon  %logstart  %logstate  %logstop  %ls  %lsmagic  %macro  %magic  %matplotlib  %mkdir  %more  %notebook  %page  %pastebin  %pdb  %pdef  %pdoc  %pfile  %pinfo  %pinfo2  %popd  %pprint  %precision  %profile  %prun  %psearch  %psource  %pushd  %pwd  %pycat  %pylab  %qtconsole  %quickref  %recall  %rehashx  %reload_ext  %ren  %rep  %rerun  %reset  %reset_selective  %rmdir  %run  %save  %sc  %set_env  %store  %sx  %system  %tb  %time  %timeit  %unalias  %unload_ext  %who  %who_ls  %whos  %xdel  %xmode\n",
       "\n",
       "Available cell magics:\n",
       "%%!  %%HTML  %%SVG  %%bash  %%capture  %%cmd  %%debug  %%file  %%html  %%javascript  %%js  %%latex  %%markdown  %%perl  %%prun  %%pypy  %%python  %%python2  %%python3  %%ruby  %%script  %%sh  %%svg  %%sx  %%system  %%time  %%timeit  %%writefile\n",
       "\n",
       "Automagic is ON, % prefix IS NOT needed for line magics."
      ]
     },
     "execution_count": 1,
     "metadata": {},
     "output_type": "execute_result"
    }
   ],
   "source": [
    "%lsmagic"
   ]
  },
  {
   "cell_type": "code",
   "execution_count": 5,
   "metadata": {},
   "outputs": [],
   "source": [
    "%time?"
   ]
  },
  {
   "cell_type": "markdown",
   "metadata": {},
   "source": [
    "## Introduccion a estructuras de control de flujo\n",
    "\n",
    "**Las estructuras esenciales son los bucles y los condicionales**. Estas estructuras son comunes con el resto de los lenguajes de programación existentes, también son conocidas como **sentencias**. Las estructuras de bucles es un contador que permite ejecutar varias tareas idénticas secuencialmente con la variación de diversos índices; se pueden encapsular con otros contadores y con otras sentencias. Las estructuras condicionales permite incluir variaciones en la ejecución del código según el cumplimiento de ciertas condiciones lógicas. Estas no son las únicas estructuras de programación, tan solo son las más básicas. A partir de ellas se derivan sentencias más útiles y más específicas como veremos a continuación.\n",
    "\n",
    "Para hablar de estructuras de control de flujo en Python, es imprescindible primero, hablar de **indentación**.\n",
    "\n",
    "¿Qué es la indentación? En un lenguaje de programación, **la indentación es lo que la sangría** al lenguaje escrito. No todos los lenguajes de programación, necesitan de una indentación, aunque sí, se estila implementarla, **a fin de otorgar mayor legibilidad al código**. Pero en el caso de Python, la indentación es obligatoria, ya que de ella, dependerá su estructura.\n",
    "\n",
    "> **PEP 8 - Indentado:** una indentación de 4 (cuatro) espacios en blanco, indicará que las instrucciones indentadas, forman parte de una misma estructura de control.\n",
    "\n",
    "``` python\n",
    "n = 9\n",
    "r = 1\n",
    "while n > 0:\n",
    "    r *= n\n",
    "    n -= 1\n",
    "print(r)\n",
    "```\n",
    "Ventajas del indentado:\n",
    "\n",
    "* La **estructura visual** del código refleja la **estructura real**.\n",
    "* **No más missing braces** (cerrar las estructuras, llaves en C++).\n",
    "* Uniformidad en la **estética del código**.\n",
    "\n",
    "> **Nota:** `ii += 1` equivale a `ii = ii + 1`. En el segundo Python, realiza la operación `ii + 1` creando un nuevo objeto con ese valor y luego lo asigna a la variable `ii`; es decir, existe una reasignación. En el primero, sin embargo, el incremento se produce sobre la propia variable. Esto puede conducirnos a mejoras en velocidad. Otros operadores **in-place** son: `-=`, `*=`, `/=` "
   ]
  },
  {
   "cell_type": "markdown",
   "metadata": {},
   "source": [
    "### Estructuras condicionales\n",
    "\n",
    "Las estructuras de control condicionales, son aquellas que nos **permiten evaluar si una o más condiciones se cumplen**, para decir qué acción vamos a ejecutar. "
   ]
  },
  {
   "cell_type": "markdown",
   "metadata": {},
   "source": [
    "#### Estructura condicional - IF/ELIF/ELSE\n",
    "\n",
    "La evaluación de condiciones, solo puede arrojar 1 de 2 resultados: **verdadero** o **falso** (`True` o `False`). Las estructuras de control de flujo condicionales, se definen mediante el uso de tres palabras claves reservadas del lenguaje: `if` (si), `elif `(sino, si) y `else` (sino).\n",
    "\n",
    "Para describir la evaluación a realizar sobre una condición, se utilizan [operadores de comparación](11_primeros_pasos_I.ipynb/##Operadores-de-comparacion) (`==`, `!=`, `<`, `>`, entre otros). Para evaluar más de una condición simultáneamente, se utilizan [operadores logicos](11_primeros_pasos_I.ipynb/#Operadores-logicos) (`AND`, `OR`, `NOT`, entre otros).\n",
    "\n",
    "El diagrama de flujo es el siguiente:\n",
    "\n",
    "![](../imagenes/sentencia_if.png)\n",
    "\n",
    "La sintaxis de la estructura:\n",
    "\n",
    "``` python\n",
    "if condition1:\n",
    "    statement1\n",
    "elif condition2:\n",
    "    statement2\n",
    "elif condition3:\n",
    "    statement3\n",
    ".\n",
    ".\n",
    ".\n",
    "else:\n",
    "    statement4\n",
    "```"
   ]
  },
  {
   "cell_type": "code",
   "execution_count": null,
   "metadata": {},
   "outputs": [],
   "source": [
    "# Si el semáforo esta en verde, cruzar la calle. Sino, esperar.\n",
    "\n",
    "semaforo = \"rojo\"\n",
    "\n",
    "if semaforo == \"verde\": \n",
    "    print (\"Cruzar la calle\")\n",
    "    \n",
    "else: \n",
    "    print (\"Esperar\")"
   ]
  },
  {
   "cell_type": "markdown",
   "metadata": {},
   "source": [
    "Veamos un ejemplo para completar."
   ]
  },
  {
   "cell_type": "code",
   "execution_count": null,
   "metadata": {},
   "outputs": [],
   "source": [
    "'''\n",
    "Si gasto hasta $100, pago con dinero en efectivo. \n",
    "Si no, si gasto más de $100 pero menos de $300, pago con tarjeta de débito. \n",
    "Si no, pago con tarjeta de crédito.\n",
    "'''\n",
    "compra = 50 \n",
    "\n",
    "if compra :# completar! \n",
    "    print (\"Pago en efectivo\")\n",
    "    \n",
    "elif compra : # completar!  \n",
    "    print (\"Pago con tarjeta de débito\") \n",
    "    \n",
    "else: \n",
    "    print (\"Pago con tarjeta de crédito\")"
   ]
  },
  {
   "cell_type": "code",
   "execution_count": null,
   "metadata": {},
   "outputs": [],
   "source": [
    "%run ../scripts/if.py"
   ]
  },
  {
   "cell_type": "markdown",
   "metadata": {},
   "source": [
    "Un código un poco más avanzado."
   ]
  },
  {
   "cell_type": "code",
   "execution_count": null,
   "metadata": {},
   "outputs": [],
   "source": [
    "import numpy as np\n",
    "import matplotlib.pyplot as plt\n",
    "\n",
    "input = [5, 10]\n",
    "\n",
    "if len(input) == 1:\n",
    "    x1 = np.linspace(0,2*np.pi,input[0]*20)\n",
    "    \n",
    "    plt.plot(x1,np.sin(input[0]*x1))\n",
    "    plt.title (\"sin(x)\")\n",
    "    plt.ylabel (\"Amplitud\")\n",
    "    plt.xlabel (\"t [radianes]\")\n",
    "    plt.ylim(-2,2)\n",
    "    plt.xlim(0,2*np.pi);\n",
    "    plt.legend([\"Sin (2$\\pi$\" + str(input[0]) + \")\"]) \n",
    "    plt.grid()\n",
    "    plt.show()      \n",
    "    \n",
    "elif  len(input) == 2:  \n",
    "    x1 = np.linspace(0,2*np.pi,input[0]*20)\n",
    "    x2 = np.linspace(0,2*np.pi,input[1]*20)\n",
    "    \n",
    "    plt.plot(x1,np.sin(input[0]*x1),x2,np.sin(input[1]*x2))   \n",
    "    plt.title (\"sin(x)\")\n",
    "    plt.ylabel (\"Amplitud\")\n",
    "    plt.xlabel (\"t [radianes]\")\n",
    "    plt.ylim(-2,2)\n",
    "    plt.xlim(0,2*np.pi);\n",
    "    plt.legend([\"Sin (2$\\pi$\" + str(input[0]) + \")\",\"Sin (2$\\pi$\" + str(input[1]) + \")\"]) \n",
    "    plt.grid()\n",
    "    plt.show() \n",
    "    \n",
    "else:\n",
    "    print (\"Cantidad de argumentos incorrecto.\")"
   ]
  },
  {
   "cell_type": "markdown",
   "metadata": {},
   "source": [
    "> **Nota:** es importante que evitemos estructuras lógicas muy complejas, porque son difíciles de entender y depurar; aún cuando sean de nuestra autoría."
   ]
  },
  {
   "cell_type": "markdown",
   "metadata": {},
   "source": [
    "### Estructura condicional por casos - SWITCH \n",
    "\n",
    "La sentencia `switch` realiza una función análoga a un conjunto de `if`...`elif` concatenados. Permite seleccionar, por medio de una expresión, el siguiente bloque de instrucciones a ejecutar de entre varios posibles:\n",
    "\n",
    "![](../imagenes/caminos.png)\n",
    "\n",
    "**Pero Python no dispone de la sentencia `switch`** como es el caso de otros lenguajes (C++, Java, etc)\n",
    "\n",
    "![](../imagenes/BEAN-say-what.jpg)\n",
    "\n",
    "Si **Mr. Bean**, Python no tiene `switch`, entonces la forma más directa de reemplazarlo es usando una secuencia de instrucciones `if`-`elif`-`else`:"
   ]
  },
  {
   "cell_type": "code",
   "execution_count": 1,
   "metadata": {},
   "outputs": [
    {
     "name": "stdout",
     "output_type": "stream",
     "text": [
      "Rey\n"
     ]
    }
   ],
   "source": [
    "n = 12 # mazo de cartas españolas\n",
    "\n",
    "if n == 1:\n",
    "    print('As')\n",
    "    \n",
    "elif 2 <= n <= 9:\n",
    "    print(n)\n",
    "    \n",
    "elif n == 10:\n",
    "    print('Sota')\n",
    "    \n",
    "elif n == 11:\n",
    "    print('Caballo')\n",
    "    \n",
    "elif n == 12:\n",
    "    print('Rey')\n",
    "    \n",
    "else:\n",
    "    print('Inválido')"
   ]
  },
  {
   "cell_type": "markdown",
   "metadata": {},
   "source": [
    "Ciertamente **funciona** y debería ser bastante fácil de usar, **pero no es una solución muy elegante**. Especialmente si hay más de un puñado de casos, se torna una estructura difícil de leer. Además, en cuestiones de rendimiento que cada una de las condiciones if debe verificarse en realidad y **merma la velocidad del script**.\n",
    "\n",
    "La **solución Pythonica** (son las soluciones que siguen el zen de Python) es hacer uso de los poderosos [**diccionarios de Python**](011-sintaxis_basica_I.ipynb#Diccionarios). Los diccionarios de Python permiten una coincidencia uno a uno simple de una **key** y un **value**. La parte interesante es que los valores en los diccionarios se refieren a funciones que contienen el código que normalmente estaría dentro de los bloques de casos. Aquí está el código anterior reescrito como un diccionario y funciones:"
   ]
  },
  {
   "cell_type": "code",
   "execution_count": 2,
   "metadata": {},
   "outputs": [],
   "source": [
    "# definición de funciones\n",
    "def n(a):\n",
    "    print (str(a))\n",
    "    \n",
    "def As():\n",
    "    print (\"As\") \n",
    "    \n",
    "def sota():\n",
    "    print (\"sota\")\n",
    "    \n",
    "def caballo():\n",
    "    print (\"caballo\")\n",
    "    \n",
    "def rey():\n",
    "    print (\"rey\")\n",
    "\n",
    "# definición de diccionario    \n",
    "opciones = {1 : As,\n",
    "                2 : n,\n",
    "                3 : n,\n",
    "                4 : n,\n",
    "                5 : n,\n",
    "                6 : n,\n",
    "                7 : n,\n",
    "                8 : n,\n",
    "                9 : n,\n",
    "                10 : sota,\n",
    "                11 : caballo,\n",
    "                12 : rey}"
   ]
  },
  {
   "cell_type": "code",
   "execution_count": 3,
   "metadata": {},
   "outputs": [
    {
     "name": "stdout",
     "output_type": "stream",
     "text": [
      "As\n",
      "caballo\n",
      "4\n"
     ]
    }
   ],
   "source": [
    "opciones[1]()\n",
    "opciones[11]()\n",
    "opciones[4](4)"
   ]
  },
  {
   "cell_type": "markdown",
   "metadata": {},
   "source": [
    "Intentemos aplicarlo a una calculadora, en un ejemplo para completar:"
   ]
  },
  {
   "cell_type": "code",
   "execution_count": null,
   "metadata": {},
   "outputs": [],
   "source": [
    "def sumar(a, b):\n",
    "    return a + b\n",
    " \n",
    "def restar(a, b):\n",
    "    return a - b\n",
    " \n",
    "def multiplicar(a, b):\n",
    "    return a * b;\n",
    " \n",
    "num1 = input(\"Num1: \")\n",
    "num2 = input(\"Num2: \")\n",
    " \n",
    "print(\"Opciones\\n1.- Sumar\\n2.- Restar\\n3.- Multiplicar\")\n",
    " \n",
    "operaciones = {}  # completar!\n",
    " \n",
    "seleccion = input('Escoge una: ')\n",
    "\n",
    "try:\n",
    "    resultado = operaciones[](int(), int())  # completar!\n",
    "    print ()\n",
    "except:\n",
    "    print(\"Esa no vale\")"
   ]
  },
  {
   "cell_type": "code",
   "execution_count": 8,
   "metadata": {},
   "outputs": [
    {
     "name": "stdout",
     "output_type": "stream",
     "text": [
      "Num1: 1\n",
      "Num2: 2\n",
      "Opciones\n",
      "1.- Sumar\n",
      "2.- Restar\n",
      "3.- Multiplicar\n",
      "Escoge una: 1\n",
      "3\n"
     ]
    }
   ],
   "source": [
    "%run ../scripts/switch.py"
   ]
  },
  {
   "cell_type": "markdown",
   "metadata": {},
   "source": [
    "### Estructuras de control iterativas \n",
    "\n",
    "A diferencia de las estructuras de control condicionales, las iterativas (también llamadas cíclicas o bucles), nos **permiten ejecutar un mismo código, de manera repetida, mientras se cumpla una condición**.\n",
    "\n",
    "En Python se dispone de dos estructuras cíclicas:\n",
    "\n",
    "* El bucle `while`.\n",
    "* El bucle `for`.\n",
    "\n",
    "#### Estructura de control iterativa - While\n",
    "\n",
    "Este bucle, **se encarga de ejecutar una misma acción \"mientras que\" una determinada condición se cumpla**. Sólo debemos tener en cuenta cuando programamos, que el uso de un `while` es mucho más crítico que el uso de un `for`. Esto es porque la condición lógica que controla el bucle debe aplicarse sobre una variable interna en el bucle. Entonces es probable que si programamos mal, la variable que usamos como control nunca llegue a cumplir la condición que nos para la ejecución. También debemos tener en cuenta que los bucles controlados por una condición lógica no permiten la paralelización en el caso que tengamos varios procesadores [Nogueras, Guillem, 2007].\n",
    "\n",
    "El diagrama de flujo es el siguiente:\n",
    "\n",
    "![](../imagenes/sentencia_while.png)\n",
    "\n",
    "La sintaxis de la estructura:\n",
    "``` python\n",
    "while condition:\n",
    "    statement\n",
    "else:\n",
    "    post-code # no se ejecuta en caso de un break en el statement\n",
    "``` "
   ]
  },
  {
   "cell_type": "code",
   "execution_count": null,
   "metadata": {},
   "outputs": [],
   "source": [
    "%run ../scripts/while_1.py"
   ]
  },
  {
   "cell_type": "markdown",
   "metadata": {},
   "source": [
    "Un ejemplo para completar:"
   ]
  },
  {
   "cell_type": "code",
   "execution_count": null,
   "metadata": {},
   "outputs": [],
   "source": [
    "# El programa calcula un logaritmo natural a partir del numero ingresado, mayor que cero.\n",
    "# Si el número es menor, el programa se detiene.\n",
    "import math \n",
    "\n",
    "a = input(\"Ingrese un numero mayor de 0:\")\n",
    "a = float()   # completar!\n",
    "while a:  # completar! \n",
    "    if:  # completar!\n",
    "        print(\"Debe ingresar un numero positivo \")\n",
    "        print(\"Este programa terminara\")\n",
    "        break\n",
    "    print([\"El logaritmo natural de \" + str(a) + \" es: \" + str(math.log(a))])\n",
    "    a = input(\"\")  # completar!\n",
    "    a =  # completar! \n",
    "print(\"Debe ingresar un numero positivo \")\n",
    "print(\"Este programa terminara\")"
   ]
  },
  {
   "cell_type": "code",
   "execution_count": null,
   "metadata": {},
   "outputs": [],
   "source": [
    "%run ../scripts/while_2.py"
   ]
  },
  {
   "cell_type": "markdown",
   "metadata": {},
   "source": [
    "#### Estructura de control iterativa - For\n",
    "\n",
    "El bucle `for`, en Python, es aquel que **nos permitirá iterar sobre una variable compleja, del tipo lista o tupla**. Es una estructura de control **destinada a realizar un número finito de ciclos y una o varias acciones**. Es decir, para una determinada variable, que avanza de 1 en 1 (o no...) desde el límite inferior hasta el límite superior ejecutamos el cuerpo de la sentencia. Pero a diferencia de otros lenguajes **no necesariamente es una progresión aritmética de números, lo hace sobre elementos de cualquier secuencia**, como veremos en los ejemplos.\n",
    "\n",
    "El cuerpo puede depender o no de la variable contador, ésta puede ser un contador aparte, que simplemente nos imponga que una determinada sentencia que se ejecute un número j de veces. **La mayoría de las veces nuestro cuerpo dependerá de la variable que usemos como contador, es decir, será un índice de nuestro cuerpo.** \n",
    "\n",
    "``` python\n",
    "for item in sequence:\n",
    "    statement\n",
    "else:\n",
    "    post-code # no se ejecuta en caso de un break en el body\n",
    "```"
   ]
  },
  {
   "cell_type": "code",
   "execution_count": null,
   "metadata": {},
   "outputs": [],
   "source": [
    "# la estructura más basica\n",
    "for i in range(5):\n",
    "    print(i)"
   ]
  },
  {
   "cell_type": "code",
   "execution_count": null,
   "metadata": {},
   "outputs": [],
   "source": [
    "# en listas\n",
    "mi_lista = ['Juan', 'Antonio', 'Pedro', 'Herminio'] \n",
    "for nombre in mi_lista: \n",
    "    print (nombre)"
   ]
  },
  {
   "cell_type": "code",
   "execution_count": null,
   "metadata": {},
   "outputs": [],
   "source": [
    "# en tuplas\n",
    "mi_tupla = ('rosa', 'verde', 'celeste', 'amarillo') \n",
    "for color in mi_tupla: \n",
    "    print (color)"
   ]
  },
  {
   "cell_type": "markdown",
   "metadata": {},
   "source": [
    "En los ejemplos anteriores, **nombre** y **color**, son dos **variables declaradas en tiempo de ejecución** (es decir, se declaran dinámicamente durante el bucle), asumiendo como valor, el de cada elemento de la lista (o tupla) en cada iteración."
   ]
  },
  {
   "cell_type": "code",
   "execution_count": null,
   "metadata": {},
   "outputs": [],
   "source": [
    "# para iterar sobre los indice de una secuencia\n",
    "numeros = [-1,-4,3,9,0,-1,7]\n",
    "for i in range(len(numeros)):\n",
    "    if numeros[i] < 0:\n",
    "        print(\"Negativo en índice:\" ,i)"
   ]
  },
  {
   "cell_type": "code",
   "execution_count": null,
   "metadata": {},
   "outputs": [],
   "source": [
    "# de a pares\n",
    "pares = [(5,2),(-4,2),(8,9),(7,0),(-3,2)]\n",
    "for x,y in pares:\n",
    "    # print(x,y)\n",
    "    print(x**y)"
   ]
  },
  {
   "cell_type": "markdown",
   "metadata": {},
   "source": [
    "> **Nota :** es importante evitar en lo posible el uso de bucles en Python, ya que consumen mucho tiempo, pudiéndose en muchos casos realizar las mismas operaciones de una forma más eficiente y compacta (vectorización)."
   ]
  },
  {
   "cell_type": "markdown",
   "metadata": {},
   "source": [
    "## Declaraciones Break, Continue, Else y Pass\n",
    "\n",
    "### Break\n",
    "\n",
    "La sentencia `break` en Python **finaliza el ciclo actual y reanuda la ejecución**. El uso más común para `break` es cuando se activa una condición externa que requiere una salida apresurada de un bucle"
   ]
  },
  {
   "cell_type": "code",
   "execution_count": null,
   "metadata": {},
   "outputs": [],
   "source": [
    "for letra in \"Python\": \n",
    "   if letra == \"o\":\n",
    "      break\n",
    "   print (\"Letra actual:\" + letra)"
   ]
  },
  {
   "cell_type": "code",
   "execution_count": null,
   "metadata": {},
   "outputs": [],
   "source": [
    "var = 10                   \n",
    "while var > 0:              \n",
    "   print (\"Valor actual de la variable: \" + str(var))\n",
    "   var -= 1\n",
    "   if var == 5:\n",
    "      break"
   ]
  },
  {
   "cell_type": "markdown",
   "metadata": {},
   "source": [
    "### Continue\n",
    "\n",
    "La instrucción `continue` en Python **devuelve el control al principio del ciclo** `while` o `for`. La sentencia `continue` rechaza todas las sentencias restantes en la iteración actual del ciclo y mueve el control nuevamente a la parte superior del ciclo."
   ]
  },
  {
   "cell_type": "code",
   "execution_count": null,
   "metadata": {},
   "outputs": [],
   "source": [
    "for letra in \"Python\": \n",
    "   if letra == \"o\":\n",
    "      continue\n",
    "   print (\"Letra actual:\" + letra)"
   ]
  },
  {
   "cell_type": "markdown",
   "metadata": {},
   "source": [
    "### Else\n",
    "\n",
    "Python admite tener una instrucción else asociada con una instrucción de ciclo. Las sentencias de lazo pueden tener una cláusula `else` que **es ejecutada cuando el lazo termina, luego de agotar la lista (con `for`) o cuando la condición se hace falsa (con `while`), pero no cuando el lazo es terminado con la sentencia `break`**."
   ]
  },
  {
   "cell_type": "code",
   "execution_count": null,
   "metadata": {},
   "outputs": [],
   "source": [
    "for n in range (2,10):\n",
    "    for x in range (2,n): \n",
    "        if n % x == 0:\n",
    "            print (n, \"es igual a\", x, \"*\", int(n/x))\n",
    "            break\n",
    "    else:\n",
    "        # sigue el bucle sin encontrar un factor\n",
    "        print (n, \"es un numero primo\")"
   ]
  },
  {
   "cell_type": "markdown",
   "metadata": {},
   "source": [
    "Cuando se usa con un ciclo, el `else` tiene más en común con el `else` de una declaración `try` que con el de un `if`: el `else` de un `try` se ejecuta cuando no se genera ninguna excepción, y el `else` de un ciclo se ejecuta cuando no hay ningún `break`."
   ]
  },
  {
   "cell_type": "markdown",
   "metadata": {},
   "source": [
    "### Pass\n",
    "\n",
    "La sentencia Pass en Python se usa cuando se requiere una declaración sintácticamente pero no se desea ejecutar ningún comando o código. **En definitiva no hace nada**. Es útil en los lugares donde el código finalmente irá, pero aún no se ha escrito: "
   ]
  },
  {
   "cell_type": "code",
   "execution_count": null,
   "metadata": {},
   "outputs": [],
   "source": [
    "while True:\n",
    "    pass # Espera ocupada hasta una interrupción de teclado (Ctrl+C)"
   ]
  },
  {
   "cell_type": "code",
   "execution_count": null,
   "metadata": {},
   "outputs": [],
   "source": [
    "for letter in 'Python': \n",
    "   if letter == 'h':\n",
    "      pass\n",
    "      print 'This is pass block'\n",
    "   print 'Current Letter :', letter\n",
    "\n",
    "print \"Good bye!\""
   ]
  },
  {
   "cell_type": "markdown",
   "metadata": {},
   "source": [
    "## Funciones definidas por el usuario\n",
    "\n",
    "Una función, es la forma de **agrupar expresiones y sentencias** que realicen determinadas acciones, pero que éstas, solo **se ejecuten cuando son llamadas**. Es decir, que al colocar un algoritmo dentro de una función y se corre el archivo, el algoritmo no será ejecutado si no se ha hecho una referencia a la función que lo contiene.\n",
    "En definitiva lo más importante para programar, y no solo en Python, es saber organizar el código en piezas más pequeñas que hagan tareas independientes y combinarlas entre sí. Las funciones son el primer nivel de organización del código: reciben unas entradas, las procesan y devuelven unas salidas.\n",
    "\n",
    "![](../imagenes/blackbox.jpg)\n",
    "\n",
    "Las funciones tienen un gran potencial, para conocer [más detalles](http://librosweb.es/libro/python/capitulo_4.html)."
   ]
  },
  {
   "cell_type": "markdown",
   "metadata": {},
   "source": [
    "### Encoding - codificacion del codigo fuente\n",
    "\n",
    "Por default, los archivos fuente de Python son codificados en [UTF-8](https://es.wikipedia.org/wiki/UTF-8) [G. Van Rossum., 2017].\n",
    "\n",
    "El encoding (o codificación) es otro de los elementos del lenguaje que no puede omitirse a la hora de hablar de estructuras de control. **El encoding no es más que una directiva que se coloca al inicio de un archivo Python, a fin de indicar al sistema, la codificación de caracteres utilizada en el archivo**.\n",
    "\n",
    "``` python\n",
    "# -*- coding: utf-8 -*-\n",
    "``` "
   ]
  },
  {
   "cell_type": "markdown",
   "metadata": {},
   "source": [
    "### Definicion de funciones\n",
    "\n",
    "Lo vemos con un ejemplo concreto:"
   ]
  },
  {
   "cell_type": "code",
   "execution_count": null,
   "metadata": {},
   "outputs": [],
   "source": [
    "# -*- coding: utf-8 -*-\n",
    "\n",
    "def fib(n):\n",
    "    \"\"\" Escribe la serie de Fibonacci hasta n. \"\"\"\n",
    "    \n",
    "    a, b = 0, 1  # asignacion multiple\n",
    "    while a < n:\n",
    "        print (a, end = ' ') # es para imprimirlos seguidos y no uno debajo del otro.\n",
    "        a, b = b, a + b"
   ]
  },
  {
   "cell_type": "code",
   "execution_count": null,
   "metadata": {},
   "outputs": [],
   "source": [
    "?fib(n)"
   ]
  },
  {
   "cell_type": "code",
   "execution_count": null,
   "metadata": {},
   "outputs": [],
   "source": [
    "# Invocamos la función definida.    \n",
    "fib(2000)"
   ]
  },
  {
   "cell_type": "markdown",
   "metadata": {},
   "source": [
    "La palabra reservada `def` se usa para **definir funciones**. Debe seguirle el nombre de la función y la **lista de argumentos entre paréntesis**. Las sentencias que forman el cuerpo de la función empiezan en la línea siguiente, y deben estar con sangría. **La primer sentencia** del cuerpo de la función puede ser opcionalmente una cadena de texto literal (utilizar `\"\"\"`, en lugar de `#`); esta es la cadena de texto de documentación de la función, o **docstring**. Es una buena práctica, no solo documentar las funciones, sino hacerlo con un estilo único y estandarizado. Una referencia respaldada en el ecosistema científico es el estilo de documentación de [`NumPy`](https://numpydoc.readthedocs.io/en/latest/format.html#docstring-standard)"
   ]
  },
  {
   "cell_type": "markdown",
   "metadata": {},
   "source": [
    "### Retorno - return\n",
    "\n",
    "Si lo que buscamos es escribir una función que **retorne** una lista con los números de la serie de Fibonacci en lugar de imprimirlos, podemos pensar en el siguiente ejemplo para completar:"
   ]
  },
  {
   "cell_type": "code",
   "execution_count": null,
   "metadata": {},
   "outputs": [],
   "source": [
    "# -*- coding: utf-8 -*-\n",
    "\n",
    "def fib2(n):\n",
    "    \"\"\"Devuelve una lista conteniendo la serie de Fibonacci hasta n.\"\"\"\n",
    "    \n",
    "    resultado  # inicializo la lista completar! \n",
    "    a, b = 0, 1  # asignacion multiple\n",
    "    while a < n:\n",
    "        resultado.  # completar! \n",
    "        a, b =  # completar! \n",
    "    return # completar! \n",
    "\n",
    "# Invocamos la función definida.    \n",
    "fib2000 = fib2(2000)\n",
    "type(fib2000)"
   ]
  },
  {
   "cell_type": "code",
   "execution_count": null,
   "metadata": {},
   "outputs": [],
   "source": [
    "%run ../scripts/fibo.py"
   ]
  },
  {
   "cell_type": "markdown",
   "metadata": {},
   "source": [
    "El factorial de un entero positivo $n$, se define en principio como el producto de todos los números enteros positivos desde 1 (es decir, los números naturales) hasta $n$. Por ejemplo: \n",
    "$$5! = 1*2*3*4*5=120$$\n",
    "Escribir una función que devuelva el factorial de un número $n$"
   ]
  },
  {
   "cell_type": "code",
   "execution_count": null,
   "metadata": {},
   "outputs": [],
   "source": [
    "# -*- coding: utf-8 -*-\n",
    "\n",
    "def fact(n):\n",
    "    \"\"\"Devuelve el factorial de un número\"\"\"\n",
    "    \n",
    "    # completar! \n",
    "    return r\n",
    "\n",
    "fact(5)"
   ]
  },
  {
   "cell_type": "code",
   "execution_count": null,
   "metadata": {},
   "outputs": [],
   "source": [
    "%run ../scripts/factorial.py"
   ]
  },
  {
   "cell_type": "markdown",
   "metadata": {},
   "source": [
    "Sigamos practicando, ahora definamos una función para pasar de Celsius a Kelvin."
   ]
  },
  {
   "cell_type": "code",
   "execution_count": 2,
   "metadata": {},
   "outputs": [
    {
     "name": "stdout",
     "output_type": "stream",
     "text": [
      "295.15\n"
     ]
    }
   ],
   "source": [
    "%run ../scripts/celsius_kelvin.py"
   ]
  },
  {
   "cell_type": "markdown",
   "metadata": {},
   "source": [
    "### Scope\n",
    "\n",
    "Es importante resaltar que **las variables que se crean dentro de las funciones no son accesibles una vez que termina la ejecución de la función**. En cambio, la función si que puede acceder a cosas que se han definido fuera de ella. No obstantes, esto último no constituye una buena práctica de cara a la reproducibilidad, mantenibilidad y testeo de la función. "
   ]
  },
  {
   "cell_type": "markdown",
   "metadata": {},
   "source": [
    "### Argumentos\n",
    "\n",
    "También es posible definir funciones con un número variable de argumentos. Hay tres formas que pueden ser combinadas:\n",
    "\n",
    "* Argumentos con valores por omisión.\n",
    "* Palabras claves como argumentos.\n",
    "* Listas de argumentos arbitrarios."
   ]
  },
  {
   "cell_type": "markdown",
   "metadata": {},
   "source": [
    "#### Argumentos con valores por omision\n",
    "\n",
    "La forma más útil es especificar un valor por omisión para uno o más argumentos. Esto crea una función que puede ser llamada con menos argumentos que los que permite. Por ejemplo:"
   ]
  },
  {
   "cell_type": "code",
   "execution_count": null,
   "metadata": {},
   "outputs": [],
   "source": [
    "def pedir_confirmacion(prompt, reintentos=4, recordatorio=\"Por favor, intente nuevamente!\"):\n",
    "    while True:\n",
    "        ok = input(prompt)\n",
    "        if ok in (\"s\", \"S\", \"si\", \"Si\", \"SI\", \"sI\"):  # contemplando todos los casos, \"in\" palabra resevada para probar si una secuencia contiene o no un determinado valor.\n",
    "            return True\n",
    "        if ok in (\"n\", \"N\", \"no\", \"No\", \"NO\", \"nO\"):  # contemplando todos los casos\n",
    "            return False\n",
    "        reintentos -= 1\n",
    "        if reintentos < 0:\n",
    "            raise ValueError(\"respuesta de usuario inválida\")\n",
    "        print (recordatorio)"
   ]
  },
  {
   "cell_type": "code",
   "execution_count": null,
   "metadata": {},
   "outputs": [],
   "source": [
    "# pasando solo el argumento obligatorio\n",
    "\n",
    "pedir_confirmacion(\"¿Realmente queres salir?\")"
   ]
  },
  {
   "cell_type": "code",
   "execution_count": null,
   "metadata": {},
   "outputs": [],
   "source": [
    "# pasando uno de los argumento opcionales\n",
    "\n",
    "pedir_confirmacion(\"¿Sobreescribir el archivo?\", 2)"
   ]
  },
  {
   "cell_type": "code",
   "execution_count": null,
   "metadata": {},
   "outputs": [],
   "source": [
    "# pasando todos los argumentos\n",
    "\n",
    "pedir_confirmacion(\"¿Sobreescribir el archivo?\", 2, \"Vamos, solo si o no!\")"
   ]
  },
  {
   "cell_type": "markdown",
   "metadata": {},
   "source": [
    "#### Palabras claves como argumentos\n",
    "\n",
    "Las funciones también puede ser llamadas usando argumentos con palabras claves (o argumentos nombrados) de la forma **keyword = value**. Por ejemplo, la siguiente función:"
   ]
  },
  {
   "cell_type": "code",
   "execution_count": null,
   "metadata": {},
   "outputs": [],
   "source": [
    "def loro(tension, estado='muerto', accion='explotar', tipo='Azul Nordico'):\n",
    "    print(\"-- Este loro no va a\", accion, end=' ')\n",
    "    print(\"si le aplicás\", tension, \"voltios.\")\n",
    "    print(\"-- Gran plumaje tiene el\", tipo)\n",
    "    print(\"-- Está\", estado, \"!\")"
   ]
  },
  {
   "cell_type": "markdown",
   "metadata": {},
   "source": [
    "Acepta un argumento obligatorio (tension) y tres argumentos opcionales (estado, accion, y tipo). Esta función puede llamarse de cualquiera de las siguientes maneras:"
   ]
  },
  {
   "cell_type": "code",
   "execution_count": null,
   "metadata": {},
   "outputs": [],
   "source": [
    "loro(1000)  # 1 argumento posicional"
   ]
  },
  {
   "cell_type": "code",
   "execution_count": null,
   "metadata": {},
   "outputs": [],
   "source": [
    "loro(tension=1000)  # 1 argumento nombrado, palabra clave"
   ]
  },
  {
   "cell_type": "code",
   "execution_count": null,
   "metadata": {},
   "outputs": [],
   "source": [
    "loro(tension=1000000, accion='BOOOOOM')  # 2 argumentos nombrados"
   ]
  },
  {
   "cell_type": "code",
   "execution_count": null,
   "metadata": {},
   "outputs": [],
   "source": [
    "loro(accion='BOOOOOM', tension=1000000) # 2 argumentos nombrados, sin orden"
   ]
  },
  {
   "cell_type": "markdown",
   "metadata": {},
   "source": [
    "Cuando un parámetro formal de la forma `**nombre` está presente al final, **recibe un diccionario** conteniendo todos los argumentos nombrados excepto aquellos correspondientes a un parámetro formal. Esto puede ser combinado con un parámetro formal de la forma `*nombre` que **recibe una tupla** conteniendo los argumentos posicionales además de la lista de parámetros formales. (`*nombre` debe ocurrir antes de `**nombre`). Por ejemplo, si definimos una función así:"
   ]
  },
  {
   "cell_type": "code",
   "execution_count": null,
   "metadata": {},
   "outputs": [],
   "source": [
    "def venta_de_queso (tipo, *argumento, **palabrasclaves):\n",
    "    print(\"-- ¿Tiene\", tipo, \"?\")\n",
    "    print(\"-- Lo siento, nos quedamos sin\", tipo)\n",
    "    for arg in argumento:\n",
    "        print(arg)\n",
    "    print(\"-\" * 40)\n",
    "    for c in palabrasclaves:\n",
    "        print(c, \":\", palabrasclaves[c])"
   ]
  },
  {
   "cell_type": "markdown",
   "metadata": {},
   "source": [
    "Puede ser llamada así:"
   ]
  },
  {
   "cell_type": "code",
   "execution_count": null,
   "metadata": {},
   "outputs": [],
   "source": [
    "venta_de_queso(\"Limburger\", \"Es muy liquido, sr.\", \"Realmente es muy liquido, sr.\", \n",
    "               cliente=\"Juan Gomez\",\n",
    "               vendedor=\"Miguel Paez\",\n",
    "               puesto=\"Venta de Queso Argentino\")"
   ]
  },
  {
   "cell_type": "markdown",
   "metadata": {},
   "source": [
    "#### Listas de argumentos arbitrarios\n",
    "\n",
    "Finalmente, la opción menos frecuentemente usada es especificar que una función puede ser llamada con un número arbitrario de argumentos. Estos argumentos serán organizados en una tupla. "
   ]
  },
  {
   "cell_type": "code",
   "execution_count": null,
   "metadata": {},
   "outputs": [],
   "source": [
    "def f(*args):\n",
    "    return args"
   ]
  },
  {
   "cell_type": "code",
   "execution_count": null,
   "metadata": {},
   "outputs": [],
   "source": [
    "f(1, 5, True, False, \"Hello, world!\")"
   ]
  },
  {
   "cell_type": "markdown",
   "metadata": {},
   "source": [
    "## Referencias\n",
    "\n",
    "* Molloy, Derek. Exploring Raspberry Pi: interfacing to the real world with embedded Linux. John Wiley & Sons, 2016.\n",
    "* Cano, Juan Luis. Curso Aero Python. Extraido de [GitHub](https://github.com/AeroPython/Curso_AeroPython), 2016.\n",
    "* G. Van Rossum. El tutorial de Python. PyAr http://docs.python.org.ar/tutorial/\n",
    "* Datos y variables. 2009\n",
    "* Nogueras, Guillem. Introducción informal a Matlab y Octave. Universidad Politecnica de Madrid, 2007\n",
    "* Massimo Di Pierro. Web2py - Manual de Referencia. Extraido de [www.web2py.com](http://www.web2py.com/books/default/chapter/36/02/el-lenguaje-python), 2018.\n",
    "* Eugenia Bahit. Python para principiante. Extraido de [Libros Web](http://librosweb.es/libro/python/), 2018.\n",
    "* INTI - Electrónica e Informática, UT Comunicaciones. Introducción al Procesamiento Digital de Señales, 2017."
   ]
  },
  {
   "cell_type": "markdown",
   "metadata": {},
   "source": [
    "## Licencia\n",
    "\n",
    "<a rel=\"license\" href=\"http://creativecommons.org/licenses/by-sa/4.0/\"><img alt=\"Licencia de Creative Commons\" style=\"border-width:0\" src=\"https://i.creativecommons.org/l/by-sa/4.0/88x31.png\" /></a><br />Este documento se destribuye con una <a rel=\"license\" href=\"http://creativecommons.org/licenses/by-sa/4.0/\">licencia Atribución CompartirIgual 4.0 Internacional de Creative Commons</a>.\n",
    "\n",
    "© 2019. Infiniem Lab DSP. infiniemlab.dsp@gmail.com. Introducción a Python3 (CC BY-SA 4.0))"
   ]
  }
 ],
 "metadata": {
  "kernelspec": {
   "display_name": "Python 3",
   "language": "python",
   "name": "python3"
  },
  "language_info": {
   "codemirror_mode": {
    "name": "ipython",
    "version": 3
   },
   "file_extension": ".py",
   "mimetype": "text/x-python",
   "name": "python",
   "nbconvert_exporter": "python",
   "pygments_lexer": "ipython3",
   "version": "3.7.4"
  }
 },
 "nbformat": 4,
 "nbformat_minor": 4
}
