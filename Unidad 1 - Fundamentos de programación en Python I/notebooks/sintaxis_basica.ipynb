{
 "cells": [
  {
   "cell_type": "markdown",
   "metadata": {},
   "source": [
    "\n",
    "\n",
    "![](../imagenes/titulo_011.png)"
   ]
  },
  {
   "cell_type": "markdown",
   "metadata": {},
   "source": [
    "## Índice\n",
    "\n",
    "* [Material de consulta](#Material-de-consulta)\n",
    "* [Entornos de trabajo](#Entornos-de-trabajo)\n",
    "    * [Desde la terminal](#Desde-la-terminal)\n",
    "    * [Desde IDE](#Desde-un-IDE)\n",
    "    * [Desde Jupyter Lab](#Desde-Jupyter-Lab)\n",
    "* [PEP-8 guía de estilo](#PEP-8---guia-de-estilo)\n",
    "* [Datos](#Datos)\n",
    "    * [Datos basicos](#Datos-basicos)\n",
    "    * [Función type](#Funcion-type)\n",
    "    * [Función help](#Funcion-help)\n",
    "    * [Operaciones entre datos](#Operaciones-entre-datos)\n",
    "        * [Operadores aritméticos elementales](#Operadores-aritmeticos-elementales)\n",
    "        * [Operadores de comparación](#Operadores-de-comparacion)\n",
    "        * [Operadores lógicos](#Operadores-logicos)\n",
    "* [Funciones integradas](#Funciones-integradas)\n",
    "* [Módulos](#Modulos)\n",
    "    * [Módulos matemáticos - math y cmath](#Modulos-matematicos---math-y-cmath)\n",
    "    * [From ... import](#From-...-import)\n",
    "    * [Import ... as](#Import-...-as)\n",
    "* [Variables](#Variables)\n",
    "    * [Asignación](#Asignacion)\n",
    "        * [Asignación multiple](#Asignacion-multiple)\n",
    "    * [Indexado](#Indexado)\n",
    "    * [Tipos de variables](#Tipos-de-variables)\n",
    "* [Pongamos en práctica lo aprendido antes que se nos olvide](#Pongamos-en-practica-lo-aprendido-antes-que-se-nos-olvide)\n",
    "* [Ahora es tu turno!](#Ahora-es-tu-turno!)\n",
    "* [Tipos de datos complejos](#Tipos-de-datos-complejos)\n",
    "    * [Listas](#Listas)\n",
    "        * [Otras operaciones](#Otras-operaciones-I)\n",
    "    * [Tuplas](#Tuplas)\n",
    "    * [Diccionarios](#Diccionarios)\n",
    "        * [Otras operaciones](#Otras-operaciones_II)\n",
    "* [Referencias](#Referencias)\n",
    "* [Licencia](#Licencia)"
   ]
  },
  {
   "cell_type": "markdown",
   "metadata": {},
   "source": [
    "## Material de consulta\n",
    "\n",
    "La mayor parte del contenido de esta documentación fue extraida de la [version en español](http://docs.python.org.ar/tutorial/pdfs/TutorialPython3.pdf) traducida por la comunidad de Python en Argentina del [tutorial oficial de Python](https://docs.python.org/3.6/tutorial/index.html). **Excelente punto de partida en el mundo Python**. \n"
   ]
  },
  {
   "cell_type": "markdown",
   "metadata": {},
   "source": [
    "## Entornos de trabajo\n",
    "\n",
    "Existen **varias formas de trabajar con Python**, vamos a ver algunas de ellas y concentrarnos en las utilizadas en el workshop:\n",
    "\n",
    "### Desde la terminal\n",
    "\n",
    "Abrimos una terminal, ejecutamos Python tipeando `python`, `python3` o algo parecido (con ayuda del autocompletar `TAB`) y `Enter`.\n",
    "\n",
    "![](../imagenes/terminal_300x200.png)\n",
    "\n",
    "### Desde IDE\n",
    "\n",
    "Un **entorno de desarrollo integrado o entorno de desarrollo interactivo**, en inglés Integrated Development Environment (IDE), es una aplicación informática que proporciona servicios integrales para facilitarle al desarrollador o programador el desarrollo de software. \n",
    "\n",
    "* [Spyder](https://pythonhosted.org/spyder/) (muy parecido a MATLAB)\n",
    "\n",
    "![](../imagenes/spyder.png)\n",
    "\n",
    "**En la próxima clase vamos a ver en detalle este IDE.**\n",
    "\n",
    "![](../imagenes/futurama_300x200.png)\n",
    "\n",
    "Tranquilos !!!, acá tienen ya vamos a llegar.\n",
    "\n",
    "* [Atom](https://ide.atom.io/)\n",
    "\n",
    "![](../imagenes/atom.png)\n",
    "\n",
    "### Desde Jupyter Lab\n",
    "\n",
    "En la [Clase_00](000-instalacion.ipynb), se mostró como utilizar el material del workshop utilizando **Jupyter Lab**. De igual manera, a continuación, invocar al intérprete en modo interactivo de Python desde la consola que dispone **Jupyter Lab**.\n",
    "\n",
    "> Se dice que estamos usando el **intérprete en modo interactivo**, cuando los comandos son leídos desde una terminal. En este modo se espera el siguiente comando con el prompt primario (prompt - mensaje, define un evento o acción), usualmente tres signos mayor-que (>>>); para las líneas de continuación espera con el prompt secundario, por defecto tres puntos (...). Antes de mostrar el prompt primario, el intérprete muestra un mensaje de bienvenida reportando su número de versión y una nota de copyright. **En nuestro caso el prompt se identifica con el numero de linea \"In [ ]\", es porque la consola invocada usa IPython.**\n",
    "\n",
    "![](../imagenes/jupyterConsola_300x200.png)\n",
    "\n",
    "Este último modo es el utilizado a continuación."
   ]
  },
  {
   "cell_type": "markdown",
   "metadata": {},
   "source": [
    "## PEP 8 - guia de estilo\n",
    "\n",
    "![](../imagenes/elegante_100x200.png)\n",
    "\n",
    "La elegancia de la sintaxis de Python, \"obliga\" de alguna manera cumplir con una cantidad de **reglas de escritura**. Para esto existe PEP “Propuestas de Mejora Python” (**Python Enhancement Proposals**), existen muchos Peps, el [PEP 8](https://www.python.org/dev/peps/pep-0008/#type-variable-names) en concreto es la propuesta del estándar de programación y buenas prácticas para el lenguaje. Es en general una guía para mejorar la legibilidad del código y hacerlo tan consistente como se pueda.\n",
    "\n",
    "> Las reglas más importantes van a ser **mencionadas como notas** a lo largo del workshop."
   ]
  },
  {
   "cell_type": "markdown",
   "metadata": {},
   "source": [
    "El IDE [Atom](https://ide.atom.io/) posee un plugin que ayuda a cuidar los detalles de escritura propuestos por **PEP 8**."
   ]
  },
  {
   "cell_type": "markdown",
   "metadata": {},
   "source": [
    "## Datos\n",
    "\n",
    "Se denomina **dato** a cualquier **objeto manipulable por la computadora**. Un dato puede ser un carácter leı́do de un teclado, información almacenada en un disco, un número que se encuentra en la memoria central, etc. Los distintos tipos de datos se representan en diferentes formas: por ejemplo, no se almacena internamente de la misma manera un número entero que un carácter. Aunque los lenguajes de alto nivel permiten en alguna medida ignorar la representación interna de los datos, es preciso conocer algunos conceptos mı́nimos. **A nivel de máquina todos los datos se representan utilizando una secuencia finita de bits**. La definición de un tipo de dato incluye la definición del conjunto de valores permitidos y las operaciones que se pueden llevar a cabo sobre estos valores. Cuando se utiliza un dato en un programa es preciso que esté determinado su tipo para que el **compilador** o **interpretador** sepa cómo debe tratarlo y almacenarlo. Dependiendo del lenguaje puede o no ser preciso declarar expresamente en el programa el tipo de cada dato. No todos los tipos de datos existen en todos los lenguajes de programación. Hay lenguajes más ricos que otros en este sentido [Datos y variables, 2009].\n",
    "\n",
    "### Datos basicos\n",
    "\n",
    "Los **tipos de datos básicos**, denominados **elementales** (o primitivas) son:"
   ]
  },
  {
   "cell_type": "code",
   "execution_count": null,
   "metadata": {},
   "outputs": [],
   "source": [
    "# Números enteros (int) (2 or 4 bytes)\n",
    "5, 22, -4"
   ]
  },
  {
   "cell_type": "code",
   "execution_count": null,
   "metadata": {},
   "outputs": [],
   "source": [
    "# Números reales (float) (parte entera - parte decimal) (4 bytes)\n",
    "0.009, -31.423, 3.0"
   ]
  },
  {
   "cell_type": "code",
   "execution_count": null,
   "metadata": {},
   "outputs": [],
   "source": [
    "# Lógicos (bool) (1 bit)\n",
    "True, False"
   ]
  },
  {
   "cell_type": "code",
   "execution_count": null,
   "metadata": {},
   "outputs": [],
   "source": [
    "# Caracteres (char --> ASCII) (1 byte)\n",
    "'h', '!', 'A'"
   ]
  },
  {
   "cell_type": "markdown",
   "metadata": {},
   "source": [
    "Los **tipos de datos** construidos a partir de datos elementales, se los denomina **estructura de datos**:"
   ]
  },
  {
   "cell_type": "code",
   "execution_count": null,
   "metadata": {},
   "outputs": [],
   "source": [
    "# Números complejos (complex)\n",
    "2+3j, -3J"
   ]
  },
  {
   "cell_type": "markdown",
   "metadata": {},
   "source": [
    "Python trae soporte por defecto para los números complejos, dónde la parte imaginaria va a estar representada por la **letra j o J en lugar de utilizar la i** como en la notación matemática. "
   ]
  },
  {
   "cell_type": "code",
   "execution_count": null,
   "metadata": {},
   "outputs": [],
   "source": [
    "# Cadena de caracteres (String)\n",
    "'Esto es una cadena de caracteres', \"123ABC\""
   ]
  },
  {
   "cell_type": "markdown",
   "metadata": {},
   "source": [
    "Se puede recuperar resultados pasados usando _<n>. Por ejemplo, para recuperar el resultado correspondiente a Out [7], usaríamos _7. Esta variable guarda ese valor para toda la sesión."
   ]
  },
  {
   "cell_type": "code",
   "execution_count": null,
   "metadata": {},
   "outputs": [],
   "source": [
    "# Para acceder al último resultado\n",
    "_"
   ]
  },
  {
   "cell_type": "code",
   "execution_count": null,
   "metadata": {},
   "outputs": [],
   "source": [
    "# Resultado de la línea [2]\n",
    "_2"
   ]
  },
  {
   "cell_type": "markdown",
   "metadata": {},
   "source": [
    "> **PEP 8 - Comentarios:** comentarios en la misma línea del código deben separarse con dos espacios en blanco. Luego del símbolo # debe ir un solo espacio en blanco.\n",
    "\n",
    "``` python\n",
    "# Correcto\n",
    "a = 15  # Edad de María\n",
    " \n",
    "# Incorrecto\n",
    "a = 15 # Edad de María\n",
    "```"
   ]
  },
  {
   "cell_type": "markdown",
   "metadata": {},
   "source": [
    "### Funcion type"
   ]
  },
  {
   "cell_type": "code",
   "execution_count": null,
   "metadata": {},
   "outputs": [],
   "source": [
    "type(42)"
   ]
  },
  {
   "cell_type": "code",
   "execution_count": null,
   "metadata": {},
   "outputs": [],
   "source": [
    "type(\"Python\")"
   ]
  },
  {
   "cell_type": "code",
   "execution_count": null,
   "metadata": {},
   "outputs": [],
   "source": [
    "type(3.14)"
   ]
  },
  {
   "cell_type": "markdown",
   "metadata": {},
   "source": [
    "Incluso preguntar si es un tipo particular."
   ]
  },
  {
   "cell_type": "code",
   "execution_count": null,
   "metadata": {},
   "outputs": [],
   "source": [
    "isinstance('Maxi', str)"
   ]
  },
  {
   "cell_type": "code",
   "execution_count": null,
   "metadata": {},
   "outputs": [],
   "source": [
    "isinstance('Maxi', int)"
   ]
  },
  {
   "cell_type": "markdown",
   "metadata": {},
   "source": [
    "Función muy útil para controlar ingresos de usuarios o argumentos de funciones."
   ]
  },
  {
   "cell_type": "markdown",
   "metadata": {},
   "source": [
    "### Funcion help"
   ]
  },
  {
   "cell_type": "code",
   "execution_count": null,
   "metadata": {},
   "outputs": [],
   "source": [
    "help (10)"
   ]
  },
  {
   "cell_type": "code",
   "execution_count": null,
   "metadata": {},
   "outputs": [],
   "source": [
    "help (3.1)"
   ]
  },
  {
   "cell_type": "code",
   "execution_count": null,
   "metadata": {},
   "outputs": [],
   "source": [
    "help (str)"
   ]
  },
  {
   "cell_type": "code",
   "execution_count": null,
   "metadata": {},
   "outputs": [],
   "source": [
    "str??"
   ]
  },
  {
   "cell_type": "markdown",
   "metadata": {},
   "source": [
    "## Operaciones entre datos\n",
    "\n",
    "Si abrimos una consola de Python, podríamos utilizarla como calculadora (siempre entre datos del mismo tipo):\n",
    "\n",
    "### Operadores aritmeticos elementales"
   ]
  },
  {
   "cell_type": "code",
   "execution_count": null,
   "metadata": {},
   "outputs": [],
   "source": [
    "# Exponenciación (doble asterisco)\n",
    "10**6, 10**-6 "
   ]
  },
  {
   "cell_type": "code",
   "execution_count": null,
   "metadata": {},
   "outputs": [],
   "source": [
    "# Los enteros son virtualmente ilimitados\n",
    "x = 9 ** 100\n",
    "print(x)"
   ]
  },
  {
   "cell_type": "code",
   "execution_count": null,
   "metadata": {},
   "outputs": [],
   "source": [
    "# Suma\n",
    "12 + 123, 5.67 + 0.42"
   ]
  },
  {
   "cell_type": "code",
   "execution_count": null,
   "metadata": {},
   "outputs": [],
   "source": [
    "# Resta\n",
    "123 - 12, 2.13 - 12"
   ]
  },
  {
   "cell_type": "code",
   "execution_count": null,
   "metadata": {},
   "outputs": [],
   "source": [
    "# Multiplicación\n",
    "123 * -12, 34 * 65"
   ]
  },
  {
   "cell_type": "code",
   "execution_count": null,
   "metadata": {},
   "outputs": [],
   "source": [
    "# División\n",
    "10/2"
   ]
  },
  {
   "cell_type": "markdown",
   "metadata": {},
   "source": [
    "Al dividir números **enteros**, el resultado es **siempre decimal**, aunque sea un número entero. Cuando Python escribe un número decimal, lo escribe siempre con parte decimal, aunque sea nula."
   ]
  },
  {
   "cell_type": "markdown",
   "metadata": {},
   "source": [
    "> **Nota:** al realizar **operaciones con decimales**, los resultados pueden presentar **errores de redondeo**."
   ]
  },
  {
   "cell_type": "code",
   "execution_count": null,
   "metadata": {},
   "outputs": [],
   "source": [
    "# Resto\n",
    "10 % 3"
   ]
  },
  {
   "cell_type": "code",
   "execution_count": null,
   "metadata": {},
   "outputs": [],
   "source": [
    "10/3"
   ]
  },
  {
   "cell_type": "markdown",
   "metadata": {},
   "source": [
    "Las **reglas de prioridad** de operaciones son las mismas que en algebra:\n",
    "\n",
    "* Exponenciaciones.\n",
    "* Multiplicaciones y divisiones.\n",
    "* Sumas y restas.\n",
    "\n",
    "Utilice paréntesis para modificar la prioridad."
   ]
  },
  {
   "cell_type": "markdown",
   "metadata": {},
   "source": [
    "> **Nota:** hay **soporte completo de punto flotante**; operadores con operando mezclados convertirá los enteros a punto flotante:"
   ]
  },
  {
   "cell_type": "code",
   "execution_count": null,
   "metadata": {},
   "outputs": [],
   "source": [
    "4 * 3.75 - 1"
   ]
  },
  {
   "cell_type": "markdown",
   "metadata": {},
   "source": [
    "### Operadores de comparacion"
   ]
  },
  {
   "cell_type": "code",
   "execution_count": null,
   "metadata": {},
   "outputs": [],
   "source": [
    "'A' == 'a'  # Igual a"
   ]
  },
  {
   "cell_type": "code",
   "execution_count": null,
   "metadata": {},
   "outputs": [],
   "source": [
    "1 != 0  # Distinto"
   ]
  },
  {
   "cell_type": "code",
   "execution_count": null,
   "metadata": {},
   "outputs": [],
   "source": [
    "-12 < 2  # Menor que"
   ]
  },
  {
   "cell_type": "code",
   "execution_count": null,
   "metadata": {},
   "outputs": [],
   "source": [
    "31 > 1  # Mayor que"
   ]
  },
  {
   "cell_type": "code",
   "execution_count": null,
   "metadata": {},
   "outputs": [],
   "source": [
    "21 <= 2  # Menor o igual que"
   ]
  },
  {
   "cell_type": "code",
   "execution_count": null,
   "metadata": {},
   "outputs": [],
   "source": [
    "3 >= 1  # Mayor o igual que"
   ]
  },
  {
   "cell_type": "markdown",
   "metadata": {},
   "source": [
    "`is, is not` identidad del objeto: útil para saber si dos variables referencian al mismo objeto."
   ]
  },
  {
   "cell_type": "markdown",
   "metadata": {},
   "source": [
    "### Operadores logicos"
   ]
  },
  {
   "cell_type": "code",
   "execution_count": null,
   "metadata": {},
   "outputs": [],
   "source": [
    "(6 > 10), not (6 > 10)  # Negación"
   ]
  },
  {
   "cell_type": "code",
   "execution_count": null,
   "metadata": {},
   "outputs": [],
   "source": [
    "(6 < 10) & (10 > 6)  # Conjunción (ampersand)"
   ]
  },
  {
   "cell_type": "code",
   "execution_count": null,
   "metadata": {},
   "outputs": [],
   "source": [
    "(6 < 10) and (10 > 6)  # Conjunción *alternativa"
   ]
  },
  {
   "cell_type": "code",
   "execution_count": null,
   "metadata": {},
   "outputs": [],
   "source": [
    "(0 > 5) | (0 < 5)  # Disyunción"
   ]
  },
  {
   "cell_type": "code",
   "execution_count": null,
   "metadata": {},
   "outputs": [],
   "source": [
    "(0 > 5) or (0 < 5)  # Disyunción *alternativa"
   ]
  },
  {
   "cell_type": "markdown",
   "metadata": {},
   "source": [
    "Intentar realizar los siguientes cálculos:\n",
    "\n",
    "* $((5^3+3/4)+\\sqrt{3})^{1/3}=5.032...$ \n",
    "\n",
    "* $\\frac{1}{\\frac{2}{(0.3)^1/3}*21}=0.0159....$"
   ]
  },
  {
   "cell_type": "code",
   "execution_count": null,
   "metadata": {},
   "outputs": [],
   "source": []
  },
  {
   "cell_type": "markdown",
   "metadata": {},
   "source": [
    "## Funciones integradas\n",
    "\n",
    "A continuación se presenta algunas de las **funciones útiles**, que vienen **integradas en Python** (sin necesidad de importar ningún módulo), que pueden ser utilizadas con la mayoría de los datos. Estas funciones son pertenecientes a la [librería estandar](https://docs.python.org/3/library/) de Python."
   ]
  },
  {
   "cell_type": "code",
   "execution_count": null,
   "metadata": {},
   "outputs": [],
   "source": [
    "# Devuelve una tupla formada por el cociente y el resto de la divión \n",
    "divmod(13, 4) "
   ]
  },
  {
   "cell_type": "code",
   "execution_count": null,
   "metadata": {},
   "outputs": [],
   "source": [
    "# Devuelve x elevado a y\n",
    "pow(2, 3)"
   ]
  },
  {
   "cell_type": "code",
   "execution_count": null,
   "metadata": {},
   "outputs": [],
   "source": [
    "# Devuelve el argumento redondeado al entero más próximo\n",
    "round(4.35)"
   ]
  },
  {
   "cell_type": "code",
   "execution_count": null,
   "metadata": {},
   "outputs": [],
   "source": [
    "# Devuelve un rango de valores\n",
    "range(6)"
   ]
  },
  {
   "cell_type": "code",
   "execution_count": null,
   "metadata": {},
   "outputs": [],
   "source": [
    "# Idem, redondeado en la posición indicada por el segundo argumento\n",
    "round(4.3527, 2)"
   ]
  },
  {
   "cell_type": "code",
   "execution_count": null,
   "metadata": {},
   "outputs": [],
   "source": [
    "# Calcula el valor absoluto\n",
    "abs(-6)"
   ]
  },
  {
   "cell_type": "code",
   "execution_count": null,
   "metadata": {},
   "outputs": [],
   "source": [
    "# Calcula el valor máximo de un conjunto de valores (numéricos o alfabéticos)\n",
    "max(4, 5, -2, 8, 3.5, -10)"
   ]
  },
  {
   "cell_type": "code",
   "execution_count": null,
   "metadata": {},
   "outputs": [],
   "source": [
    "max(\"David\", \"Alicia\", \"Tomás\", \"Emilio\")"
   ]
  },
  {
   "cell_type": "code",
   "execution_count": null,
   "metadata": {},
   "outputs": [],
   "source": [
    "# Calcula el valor mínimo de un conjunto de valores (numéricos o alfabéticos)\n",
    "min(4, 5, -2, 8, 3.5, -10)"
   ]
  },
  {
   "cell_type": "code",
   "execution_count": null,
   "metadata": {},
   "outputs": [],
   "source": [
    "min(\"David\", \"Alicia\", \"Tomás\", \"Emilio\")"
   ]
  },
  {
   "cell_type": "code",
   "execution_count": null,
   "metadata": {},
   "outputs": [],
   "source": [
    "# Calcula la suma de un conjunto de valores, \n",
    "# debe ser un tipo de datos iterable (tupla, rango, lista, conjunto o diccionario)\n",
    "sum((1, 2, 3, 4, 5))"
   ]
  },
  {
   "cell_type": "code",
   "execution_count": null,
   "metadata": {},
   "outputs": [],
   "source": [
    "sum(range(6))"
   ]
  },
  {
   "cell_type": "code",
   "execution_count": null,
   "metadata": {},
   "outputs": [],
   "source": [
    "# Ordena un conjunto de valores,\n",
    "# debe ser un tipo de datos iterable (tupla, rango, lista, conjunto o diccionario)\n",
    "sorted((10, 2, 8, -3, 6))"
   ]
  },
  {
   "cell_type": "code",
   "execution_count": null,
   "metadata": {},
   "outputs": [],
   "source": [
    "# Devuelve la longitud de una secuencia o colección\n",
    "len([1,2,3,4,6])"
   ]
  },
  {
   "cell_type": "code",
   "execution_count": null,
   "metadata": {},
   "outputs": [],
   "source": [
    "# Imprime expresiones\n",
    "print(\"introducción informal a Python 3\")"
   ]
  },
  {
   "cell_type": "markdown",
   "metadata": {},
   "source": [
    "## Modulos\n",
    "\n",
    "Para aquellas funciones que **no estan dentro de la librería estandar, se utilizan módulos, archivos Python **.py** que constan de código Python**. Un módulo puede definir funciones, clases y variables, ademas puede incluir código ejecutable. Se puede hacer referencia a cualquier archivo de Python como un módulo. Un archivo de Python llamado hello.py tiene el nombre de módulo \"\"hello\" que se puede importar a otros archivos de Python o utilizar en el intérprete de línea de comandos de Python. Estos módulos, a la vez, pueden formar parte de **paquetes**. Un paquete, **es una carpeta que contiene archivos .py**, pero para que una carpeta pueda ser considerada un paquete, debe **contener un archivo de inicio llamado __init__.py**. \n",
    "\n",
    "> **Nota:** este archivo, no necesita contener ninguna instrucción. De hecho, puede estar completamente vacío.\n",
    "\n",
    "La estructura general de un modulo es:\n",
    "\n",
    "![](../imagenes/estructura_modulos.jpg)\n",
    "\n",
    "### ¿Por que usar paquetes de modulos?\n",
    "\n",
    "Proveen una manera fácil de organizar los componentes de software de un sistema, utilizando el concepto de **namespaces** (en Python, un namespace, es el nombre que se ha indicado luego de la palabra `import`, es decir la ruta **namespace** del módulo)\n",
    "\n",
    "**Ventajas:**\n",
    "\n",
    "* Reutilización de código: diseño modular de software.\n",
    "* Particionamiento del namespace: agrupa nombres por funcionalidad.\n",
    "\n",
    "**Estructura de un programa en Python:**\n",
    "\n",
    "* Un archivo top-level\n",
    "* Uno o más archivos suplemetarios, conocidos como módulos\n",
    "\n",
    "Una declaración de `import`  se compone de la palabra clave `import`  junto con el nombre del módulo.\n",
    "\n",
    "Cuando importamos un módulo, lo estamos poniendo a nuestra disposición en nuestro programa actual referenciandolo a la función en notación de punto, como **[module].[function]**.\n",
    "\n",
    "\n",
    "\n",
    "Para continuar aprendiendo de modulos ir al siguiente [link](http://librosweb.es/libro/python/capitulo_3.html)."
   ]
  },
  {
   "cell_type": "markdown",
   "metadata": {},
   "source": [
    "### Modulos matematicos - math y cmath"
   ]
  },
  {
   "cell_type": "code",
   "execution_count": null,
   "metadata": {},
   "outputs": [],
   "source": [
    "# Operaciones matemáticas comunes\n",
    "\n",
    "import math\n",
    "\n",
    "print(\"sin(2\\u03c0/3) = {}\".format(math.sin(2 * math.pi / 3)))\n",
    "print(\"cos(2\\u03c0/3) = {}\".format(math.cos(2 * math.pi / 3)))"
   ]
  },
  {
   "cell_type": "code",
   "execution_count": null,
   "metadata": {},
   "outputs": [],
   "source": [
    "# En cmath tambien se encuentran las de números complejos\n",
    "\n",
    "import cmath\n",
    "\n",
    "z = 2 + 3j\n",
    "print(\"{0:.3} = modulo = {1[0]:.3} fase = {1[1]:.3}\".format(z,cmath.polar(z)))\n",
    "print(\"sin(z) = {0:.3f}\".format(cmath.sin(z)))"
   ]
  },
  {
   "cell_type": "markdown",
   "metadata": {},
   "source": [
    "### From ... import\n",
    "\n",
    "Para hacer **referencia a los elementos de un módulo**, puede usar la declaración de `from ... import`. Cuando se importa un módulos de esta manera, puede referirse a las funciones por nombres y no a través de la notación de punto."
   ]
  },
  {
   "cell_type": "code",
   "execution_count": null,
   "metadata": {},
   "outputs": [],
   "source": [
    "from math import floor\n",
    "\n",
    "# redondear un número al entero anterior\n",
    "floor(5 / 2)"
   ]
  },
  {
   "cell_type": "code",
   "execution_count": null,
   "metadata": {},
   "outputs": [],
   "source": [
    "from math import ceil\n",
    "\n",
    "# redondear un número al entero posterior\n",
    "math.ceil(5 / 2)"
   ]
  },
  {
   "cell_type": "markdown",
   "metadata": {},
   "source": [
    "### Import ... as\n",
    "\n",
    "Es posible **modificar los nombres de los módulos y sus funciones dentro de Python** utilizando la palabra clave `as`. Esto es útil para cambiar un nombre porque ya fue usado el mismo nombre para otra cosa en el programa, otro módulo que hse importó, o para abreviar un nombre más largo.\n",
    "La construcción de esta declaración se ven así:`import [module] as [another_name]`.\n"
   ]
  },
  {
   "cell_type": "code",
   "execution_count": null,
   "metadata": {},
   "outputs": [],
   "source": [
    "%matplotlib inline\n",
    "import matplotlib.pyplot as plt  # módulo para hacer plot\n",
    "\n",
    "plt.plot(range(7),range(7),'-.',color='b' )"
   ]
  },
  {
   "cell_type": "markdown",
   "metadata": {},
   "source": [
    "Veamos otro ejemplo, la **aproximación de orden 3 del desarrollo de Taylor en 0 de la función seno** es (crean que es así...):\n",
    "\n",
    "$sen(x)\\approx x-x^{3}/6$"
   ]
  },
  {
   "cell_type": "code",
   "execution_count": null,
   "metadata": {},
   "outputs": [],
   "source": [
    "import numpy as np  # módulo para trabajar con array\n",
    "import matplotlib.pyplot as plt # módulo para hacer plot\n",
    "\n",
    "x = np.linspace(-np.pi,+np.pi,100)\n",
    "aprox = x - np.power(x,3)/6\n",
    "\n",
    "plt.plot(x/np.pi,np.sin(x),'r',x/np.pi,aprox,'.')\n",
    "plt.xlabel(\"radianes [$\\pi$]\")\n",
    "plt.ylabel(\"Amplitud\")\n",
    "plt.grid()"
   ]
  },
  {
   "cell_type": "markdown",
   "metadata": {},
   "source": [
    "## Variables\n",
    "\n",
    "![](../imagenes/variables.png)\n",
    "\n",
    "Características de Python respecto al uso de variables:\n",
    "\n",
    "* **Lenguaje de tipado dinámico:** quiere decir que si no definimos las variables de manera explícita, las **variables** serán de un tipo **en función del contenido** y será interpretada en tiempo de ejecución. Las ganancias en tiempos de ejecución que pueden lograrse al cambiar de un tipo a otro son probablemente marginales, y salvo aplicaciones muy específicas, es mejor trabajar con los tipos por defecto sin realizar conversiones de tipos (por el momento ...).\n",
    "\n",
    "* **Lenguaje fuertemente tipado:** no se permiten violaciones de los tipos de datos, es decir, dado el valor de una variable de un tipo concreto, no se puede usar como si fuera de otro tipo distinto a menos que se haga una conversión.\n",
    "\n",
    "Por otra parte, **no es necesario inicializar las variables**, aunque en algunos casos inicializar y establecer posiciones de memoria previamente puede mejorar el rendimiento de nuestro código.\n",
    "\n",
    "> **Nota:** en Python todo son objetos."
   ]
  },
  {
   "cell_type": "markdown",
   "metadata": {},
   "source": [
    "### Asignacion\n",
    "\n",
    "Las instrucciones de asignación sirven para almacenar un valor en una variable. La sintaxis más habitual de una operación de asignación es:"
   ]
  },
  {
   "cell_type": "code",
   "execution_count": null,
   "metadata": {},
   "outputs": [],
   "source": [
    "s = \"soy un string\""
   ]
  },
  {
   "cell_type": "markdown",
   "metadata": {},
   "source": [
    "![](../imagenes/variables_objetos_01.png)"
   ]
  },
  {
   "cell_type": "code",
   "execution_count": null,
   "metadata": {},
   "outputs": [],
   "source": [
    "s = 78"
   ]
  },
  {
   "cell_type": "markdown",
   "metadata": {},
   "source": [
    "![](../imagenes/variables_objetos_02.png)"
   ]
  },
  {
   "cell_type": "markdown",
   "metadata": {},
   "source": [
    "Con estos ejemplos ejemplificamos que el valor del objeto no cambió durante la vida del objeto. Por lo contrario, se creo otro objeto."
   ]
  },
  {
   "cell_type": "code",
   "execution_count": null,
   "metadata": {},
   "outputs": [],
   "source": [
    "v = s"
   ]
  },
  {
   "cell_type": "markdown",
   "metadata": {},
   "source": [
    "![](../imagenes/variables_objetos_03.png)"
   ]
  },
  {
   "cell_type": "code",
   "execution_count": null,
   "metadata": {},
   "outputs": [],
   "source": [
    "ancho = 20\n",
    "largo = 5 * 9\n",
    "ancho * largo"
   ]
  },
  {
   "cell_type": "markdown",
   "metadata": {},
   "source": [
    "Para tener en cuenta con respecto a los nombres de variables, es que son **Case sensitive** (valor explicito)."
   ]
  },
  {
   "cell_type": "code",
   "execution_count": null,
   "metadata": {},
   "outputs": [],
   "source": [
    "a = 5\n",
    "A = 3\n",
    "a + A"
   ]
  },
  {
   "cell_type": "code",
   "execution_count": null,
   "metadata": {},
   "outputs": [],
   "source": [
    "#1a = 4  # Primer carácter debe ser una letra"
   ]
  },
  {
   "cell_type": "markdown",
   "metadata": {},
   "source": [
    "Utilización de la opción **autocompletar** (TAB) (valor implicito)"
   ]
  },
  {
   "cell_type": "code",
   "execution_count": null,
   "metadata": {},
   "outputs": [],
   "source": [
    "altura_triangulo = 3\n",
    "base_triangulo = 2"
   ]
  },
  {
   "cell_type": "code",
   "execution_count": null,
   "metadata": {},
   "outputs": [],
   "source": [
    "# area_triangulo = "
   ]
  },
  {
   "cell_type": "markdown",
   "metadata": {},
   "source": [
    "#### Asignacion multiple\n",
    "\n",
    "Se puede asignar un solo valor a varias variables simultáneamente:"
   ]
  },
  {
   "cell_type": "code",
   "execution_count": null,
   "metadata": {},
   "outputs": [],
   "source": [
    "a = b = c = 1\n",
    "a, b, c"
   ]
  },
  {
   "cell_type": "markdown",
   "metadata": {},
   "source": [
    "También se pueden asignar varios objetos a múltiples variables:"
   ]
  },
  {
   "cell_type": "code",
   "execution_count": null,
   "metadata": {},
   "outputs": [],
   "source": [
    "a, b, c = 1, 2, \"Maxi\"\n",
    "a, b, c"
   ]
  },
  {
   "cell_type": "markdown",
   "metadata": {},
   "source": [
    "> **PEP 8 - Nombre de variables:** utilizar nombres descriptivos y en minúsculas. Para nombres compuestos, separar las palabras por guiones bajos. Antes y después del signo =, debe haber uno (y solo un) espacio en blanco.\n",
    "\n",
    "\n",
    "``` python\n",
    "# Correcto\n",
    "mi_variable = 12\n",
    " \n",
    "# Incorrectos\n",
    "MiVariable = 12\n",
    "mivariable = 12\n",
    "mi_variable=12\n",
    "mi_variable = 12\n",
    "```"
   ]
  },
  {
   "cell_type": "markdown",
   "metadata": {},
   "source": [
    "Algunos nombres no pueden ser usados porque estan reservados:"
   ]
  },
  {
   "cell_type": "code",
   "execution_count": null,
   "metadata": {},
   "outputs": [],
   "source": [
    "import keyword\n",
    "print(keyword.kwlist)"
   ]
  },
  {
   "cell_type": "markdown",
   "metadata": {},
   "source": [
    "Si hablamos de la **conversión de la materia en energía**, en que pensamos...\n",
    "\n",
    "![](../imagenes/emc2_pic.png)\n",
    "\n",
    "$E=mc^2$\n",
    "\n",
    "Esta ecuación sorprendentemente sencilla, vincula los mundos antes separados de la **materia** y la **energía**, y se puede utilizar para **encontrar la cantidad de energía que se libera conforme la materia se destruye en reacciones nucleares** tanto naturales como inducidas por el hombre.\n",
    "El **Sol** irradia $385x10^{24} \\text{J/s}$ de energía, los cuales se generan mediante reacciones nucleares\n",
    "que **convierten la materia en energía**. \n",
    "\n",
    "*Determinar junto a la ecuación de Einstein, cuánta materia se debe convertir en energía para producir esa cantidad de radiación en un día.*\n",
    "\n",
    "Ayudas: \n",
    "* $c=3.0x10^8 \\text{m/s}$.\n",
    "* $1\\text{J = kg m}^2/\\text{s}^2$\n",
    "\n",
    "Respuesta: \n",
    "* $m = 3.6960x10^{14}$"
   ]
  },
  {
   "cell_type": "code",
   "execution_count": null,
   "metadata": {},
   "outputs": [],
   "source": [
    "%run ../scripts/ecuación_einstein.py"
   ]
  },
  {
   "cell_type": "markdown",
   "metadata": {},
   "source": [
    "### Indexado\n",
    "\n",
    "Python indexa **comenzando en 0, no en 1** como en MATLAB. De todas formas su sintaxis es muy parecida. Se presenta un ejemplo con string, pero como se mostrará más adelante lo mismo se aplica a las lista y tuplas.\n",
    "\n",
    "![](../imagenes/indexado.png) "
   ]
  },
  {
   "cell_type": "code",
   "execution_count": null,
   "metadata": {},
   "outputs": [],
   "source": [
    "x = \"Monty Python\"\n",
    "x[0]"
   ]
  },
  {
   "cell_type": "code",
   "execution_count": null,
   "metadata": {},
   "outputs": [],
   "source": [
    "len(x)"
   ]
  },
  {
   "cell_type": "code",
   "execution_count": null,
   "metadata": {},
   "outputs": [],
   "source": [
    "x[0:2] # Un slice de un string, es otro string"
   ]
  },
  {
   "cell_type": "code",
   "execution_count": null,
   "metadata": {},
   "outputs": [],
   "source": [
    "x[:5]"
   ]
  },
  {
   "cell_type": "code",
   "execution_count": null,
   "metadata": {},
   "outputs": [],
   "source": [
    "x[1:-1]"
   ]
  },
  {
   "cell_type": "code",
   "execution_count": null,
   "metadata": {},
   "outputs": [],
   "source": [
    "x[:]"
   ]
  },
  {
   "cell_type": "code",
   "execution_count": null,
   "metadata": {},
   "outputs": [],
   "source": [
    "x[0:5:2]"
   ]
  },
  {
   "cell_type": "code",
   "execution_count": null,
   "metadata": {},
   "outputs": [],
   "source": [
    "x[::-1]"
   ]
  },
  {
   "cell_type": "markdown",
   "metadata": {},
   "source": [
    "Por ejemplo, si quisieramos saber si una palabra es **palindromo** (es igual si se lee de izquierda a derecha que de derecha a izquierda), usamos lo anteriormente aprendido:"
   ]
  },
  {
   "cell_type": "code",
   "execution_count": null,
   "metadata": {},
   "outputs": [],
   "source": [
    "x = 'reconocer'\n",
    "if x == x[::-1]:\n",
    "    print('La palabra: ' + x + ', es palindromo')"
   ]
  },
  {
   "cell_type": "markdown",
   "metadata": {},
   "source": [
    "En el caso de expresiones se complica un poco más."
   ]
  },
  {
   "cell_type": "markdown",
   "metadata": {},
   "source": [
    "> **Nota:** los **objetos string** requiere de un apartado especial, más adelante vamos hablar en detalle."
   ]
  },
  {
   "cell_type": "markdown",
   "metadata": {},
   "source": [
    "### Tipos de variables\n",
    "\n",
    "En Python tenemos tipos mutables (como **listas**, **diccionarios**) e inmutables (como los **numéricos**, **tuplas**, **string**)\n",
    "\n",
    "* **Mutable:** el valor del objeto puede cambiar durante la vida del objeto\n",
    "* **Inmutable:** el valor del objeto no puede cambiar durante la vida del objeto\n"
   ]
  },
  {
   "cell_type": "code",
   "execution_count": null,
   "metadata": {},
   "outputs": [],
   "source": [
    "i = 78\n",
    "i"
   ]
  },
  {
   "cell_type": "markdown",
   "metadata": {},
   "source": [
    "![](../imagenes/variables_objetos_04.png)"
   ]
  },
  {
   "cell_type": "code",
   "execution_count": null,
   "metadata": {},
   "outputs": [],
   "source": [
    "i += 2\n",
    "i"
   ]
  },
  {
   "cell_type": "markdown",
   "metadata": {},
   "source": [
    "![](../imagenes/variables_objetos_05.png)"
   ]
  },
  {
   "cell_type": "code",
   "execution_count": null,
   "metadata": {},
   "outputs": [],
   "source": [
    "i -= 2\n",
    "i"
   ]
  },
  {
   "cell_type": "markdown",
   "metadata": {},
   "source": [
    "## Pongamos en practica lo aprendido antes que se nos olvide\n",
    "\n",
    "La curva de olvido ilustra la pérdida del conocimiento adquirido con el tiempo. Un concepto relacionado con la intensidad del recuerdo, que indica cuánto se mantiene un contenido en el cerebro. Cuanto más intenso sea un recuerdo, más tiempo se mantiene. Un gráfico  típico de la curva del olvido muestra que normalmente en unos días o semanas se olvida la mitad de lo que hemos aprendido, a no ser que lo repasemos. Una aproximación matemática a la curva de la memoria es la siguiente fórmula (Hermann Ebbinghaus):\n",
    "\n",
    "$$R=e^{-t/s}$$\n",
    "\n",
    "donde $R$ representa la curva de olvido, $S$ la intensidad (porcentaje) de lo aprendido y $t$ el tiempo en horas."
   ]
  },
  {
   "cell_type": "code",
   "execution_count": null,
   "metadata": {},
   "outputs": [],
   "source": [
    "# permite hacer plot en lineas de comando\n",
    "%matplotlib inline \n",
    "\n",
    "# importando módulos \n",
    "import matplotlib.pyplot as plt  # módulo para hacer plot\n",
    "import numpy as np  # módulo para trabajar con array\n",
    "\n",
    "plt.xkcd()  # Estilo de plot\n",
    "\n",
    "T = np.linspace(1, 24*10, 100) \n",
    "\n",
    "s1 = 100\n",
    "arg1 = T/s1\n",
    "R1 = np.exp(-arg1)\n",
    "\n",
    "s2 = 50\n",
    "arg2 = T/s2\n",
    "R2 = np.exp(-arg2)\n",
    "\n",
    "plt.plot(T/24,R1*100,'.',color='r' )\n",
    "plt.plot(T/24,R2*100,'.',color='b' )\n",
    "\n",
    "plt.title('Curva del olvido')\n",
    "plt.xlabel('t [dias]')\n",
    "plt.ylabel('R[%]')\n",
    "plt.show()"
   ]
  },
  {
   "cell_type": "markdown",
   "metadata": {},
   "source": [
    "> Para aquellos que vienen de MATLAB, algunas cosas les resulten un poco más familiares y otras no tanto. De todas formas este ejemplo engloba muchos elementos que iremos abordando a lo largo del workshop. Por lo tanto, no entrar en pánico y disfrutar el viaje. "
   ]
  },
  {
   "cell_type": "markdown",
   "metadata": {},
   "source": [
    "### Ahora es tu turno! \n",
    "\n",
    "![](../imagenes/homero_200x100.png)\n",
    "\n",
    "Con ayuda del anterior ejemplo, escribir el primer script en python (desde el editor de texto y almacenar en .py) para calcular la velocidad del sonido [m/s] en el aire a partir de la ecuación de **Boyle-Mariotte** [Möser M., Barros J.L, 2009]:\n",
    "\n",
    "$$c(t) = \\sqrt{k \\frac{R}{M_{mol}}t}$$\n",
    "\n",
    "Esta depende solo del medio y de la temperatura absoluta, pero no de la presión o densidad estáticas. Si se ingresan los valores típicos para el aire:  \n",
    "\n",
    "$$M_{mol} = 28,8 x 10^{-3} \\text{ kg/mol}$$\n",
    "$$t = 288 \\text{ K (15°C)}$$\n",
    "$$k = 1,4$$\n",
    "$$R = 8,314 \\text{ J/mol K como J = N*m, N = kg*m/s 2}$$\n",
    "\n",
    "Realizarlo para un intervalo de temperaturas.\n",
    "\n",
    "**Ayudas:**\n",
    "\n",
    "* `t = np.array(range(25))`\n",
    "* `c = np.sqrt(k*R*T/M_mol)`"
   ]
  },
  {
   "cell_type": "code",
   "execution_count": null,
   "metadata": {},
   "outputs": [],
   "source": [
    "%run vel_prop.py"
   ]
  },
  {
   "cell_type": "code",
   "execution_count": null,
   "metadata": {},
   "outputs": [],
   "source": [
    "#%load vel_prop.py"
   ]
  },
  {
   "cell_type": "markdown",
   "metadata": {},
   "source": [
    "## Tipos de datos complejos\n",
    "\n",
    "Python, posee además de los tipos de datos ya vistos (primitivas, string, entre otros), 3 tipos más complejos, que admiten datos de varios tipos. Comencemos por las **secuencias de elementos ordenados**: **listas** y **tuplas**.\n",
    "\n",
    "### Listas\n",
    "\n",
    "Una lista es una variable que permite almacenar varios **datos mutables** (pueden ser modificados una vez creados) de tipos diferentes. Usaremos listas para poder modelar datos compuestos pero cuya cantidad y valor varían a lo largo del tiempo\n",
    "\n",
    "![](../imagenes/listas.png)"
   ]
  },
  {
   "cell_type": "code",
   "execution_count": null,
   "metadata": {},
   "outputs": [],
   "source": [
    "x = []  # Una lista vacía\n",
    "y = [0,1,2,3,4,5]  # Una lista de enteros\n",
    "z = list(range(6))  # La misma lista de enteros\n",
    "\n",
    "# Listas heterogéneas\n",
    "s = [32, \"a\", -5, -2.349, [1,2,3], \"te\", \"crees\", \"muy\", \"lista?\"] \n",
    "\n",
    "l = [x,y,z]  # Lista de listas"
   ]
  },
  {
   "cell_type": "code",
   "execution_count": null,
   "metadata": {},
   "outputs": [],
   "source": [
    "type(z)"
   ]
  },
  {
   "cell_type": "code",
   "execution_count": null,
   "metadata": {},
   "outputs": [],
   "source": [
    "# verificar las variables creadas\n",
    "s"
   ]
  },
  {
   "cell_type": "code",
   "execution_count": null,
   "metadata": {},
   "outputs": [],
   "source": [
    "x = [\"primero\", \"segundo\", \"tercero\", \"cuarto\", \"quinto\"]\n",
    "x[0]"
   ]
  },
  {
   "cell_type": "code",
   "execution_count": null,
   "metadata": {},
   "outputs": [],
   "source": [
    "len(x) # longitud de la lista"
   ]
  },
  {
   "cell_type": "markdown",
   "metadata": {},
   "source": [
    "Podemos **indexar** las secuencias, utilizando la sintaxis `[<inicio>:<final>:<salto>]`:"
   ]
  },
  {
   "cell_type": "markdown",
   "metadata": {},
   "source": [
    "![](../imagenes/indexing.png)"
   ]
  },
  {
   "cell_type": "code",
   "execution_count": null,
   "metadata": {},
   "outputs": [],
   "source": [
    "x[4]"
   ]
  },
  {
   "cell_type": "code",
   "execution_count": null,
   "metadata": {},
   "outputs": [],
   "source": [
    "x[-1]"
   ]
  },
  {
   "cell_type": "code",
   "execution_count": null,
   "metadata": {},
   "outputs": [],
   "source": [
    "x[-2]"
   ]
  },
  {
   "cell_type": "code",
   "execution_count": null,
   "metadata": {},
   "outputs": [],
   "source": [
    "x[0:2]  # Un slice de una lista, es también una lista"
   ]
  },
  {
   "cell_type": "code",
   "execution_count": null,
   "metadata": {},
   "outputs": [],
   "source": [
    "x[0:4]"
   ]
  },
  {
   "cell_type": "code",
   "execution_count": null,
   "metadata": {},
   "outputs": [],
   "source": [
    "x[:5] "
   ]
  },
  {
   "cell_type": "code",
   "execution_count": null,
   "metadata": {},
   "outputs": [],
   "source": [
    "x[1:-1]"
   ]
  },
  {
   "cell_type": "code",
   "execution_count": null,
   "metadata": {},
   "outputs": [],
   "source": [
    "x[:]"
   ]
  },
  {
   "cell_type": "code",
   "execution_count": null,
   "metadata": {},
   "outputs": [],
   "source": [
    "x[0:5:2]"
   ]
  },
  {
   "cell_type": "code",
   "execution_count": null,
   "metadata": {},
   "outputs": [],
   "source": [
    "x[1:5:2]"
   ]
  },
  {
   "cell_type": "code",
   "execution_count": null,
   "metadata": {},
   "outputs": [],
   "source": [
    "x[-1:-4:-1]"
   ]
  },
  {
   "cell_type": "code",
   "execution_count": null,
   "metadata": {},
   "outputs": [],
   "source": [
    "x[::-1]"
   ]
  },
  {
   "cell_type": "markdown",
   "metadata": {},
   "source": [
    "Las listas son **mutables** (como habiamos mencionado anteriormente). Esto implica que su **estructura puede cambiar**."
   ]
  },
  {
   "cell_type": "code",
   "execution_count": null,
   "metadata": {},
   "outputs": [],
   "source": [
    "x"
   ]
  },
  {
   "cell_type": "code",
   "execution_count": null,
   "metadata": {},
   "outputs": [],
   "source": [
    "x[1] = 2\n",
    "x"
   ]
  },
  {
   "cell_type": "code",
   "execution_count": null,
   "metadata": {},
   "outputs": [],
   "source": [
    "x[0:2] = [\"hh\", \"tt\"]  # slicing también funciona\n",
    "x"
   ]
  },
  {
   "cell_type": "code",
   "execution_count": null,
   "metadata": {},
   "outputs": [],
   "source": [
    "x[0:3] = [\"???\"]\n",
    "x"
   ]
  },
  {
   "cell_type": "code",
   "execution_count": null,
   "metadata": {},
   "outputs": [],
   "source": [
    "x[1:1] = [\"333\"]\n",
    "x"
   ]
  },
  {
   "cell_type": "code",
   "execution_count": null,
   "metadata": {},
   "outputs": [],
   "source": [
    "x = [1,2,3]\n",
    "x.append(\"cuatro\") # equivalente a x[len(x):] = [\"cuatro\"]\n",
    "x"
   ]
  },
  {
   "cell_type": "code",
   "execution_count": null,
   "metadata": {},
   "outputs": [],
   "source": [
    "y = [5,6,7]\n",
    "x.append(y) # equivalente a x[len(x):] = [y]\n",
    "x"
   ]
  },
  {
   "cell_type": "code",
   "execution_count": null,
   "metadata": {},
   "outputs": [],
   "source": [
    "x = [1,2,3]\n",
    "y = [5,6,7]\n",
    "x.extend(y)  # equivalente a x[len(x):] = y\n",
    "x"
   ]
  },
  {
   "cell_type": "code",
   "execution_count": null,
   "metadata": {},
   "outputs": [],
   "source": [
    "x.insert(2, \"hola\") # equivalente a x[2:2] = [\"hola\"]\n",
    "x"
   ]
  },
  {
   "cell_type": "code",
   "execution_count": null,
   "metadata": {},
   "outputs": [],
   "source": [
    "x.insert(0,\"primero\") # equivalente a x[0:0] = [\"primero\"]\n",
    "x"
   ]
  },
  {
   "cell_type": "code",
   "execution_count": null,
   "metadata": {},
   "outputs": [],
   "source": [
    "x.insert(-1,1000)\n",
    "x"
   ]
  },
  {
   "cell_type": "code",
   "execution_count": null,
   "metadata": {},
   "outputs": [],
   "source": [
    "del x[0]  # equivalente a x[0:1] = []\n",
    "x"
   ]
  },
  {
   "cell_type": "code",
   "execution_count": null,
   "metadata": {},
   "outputs": [],
   "source": [
    "del x[2:5] # equivalente a x[2:5] = []\n",
    "x"
   ]
  },
  {
   "cell_type": "code",
   "execution_count": null,
   "metadata": {},
   "outputs": [],
   "source": [
    "help(list.extend)"
   ]
  },
  {
   "cell_type": "code",
   "execution_count": null,
   "metadata": {},
   "outputs": [],
   "source": [
    "help(list.reverse)\n",
    "\n",
    "# probar también help(list)"
   ]
  },
  {
   "cell_type": "markdown",
   "metadata": {},
   "source": [
    "#### Otras operaciones I"
   ]
  },
  {
   "cell_type": "code",
   "execution_count": null,
   "metadata": {},
   "outputs": [],
   "source": [
    "x = [1,2,3]\n",
    "y = [4,5,6]\n",
    "x + y"
   ]
  },
  {
   "cell_type": "code",
   "execution_count": null,
   "metadata": {},
   "outputs": [],
   "source": [
    "1 in x # parecido a find en MATLAB."
   ]
  },
  {
   "cell_type": "code",
   "execution_count": null,
   "metadata": {},
   "outputs": [],
   "source": [
    "4 in x"
   ]
  },
  {
   "cell_type": "code",
   "execution_count": null,
   "metadata": {},
   "outputs": [],
   "source": [
    "5 not in x"
   ]
  },
  {
   "cell_type": "code",
   "execution_count": null,
   "metadata": {},
   "outputs": [],
   "source": [
    "x = [None]*10\n",
    "x"
   ]
  },
  {
   "cell_type": "code",
   "execution_count": null,
   "metadata": {},
   "outputs": [],
   "source": [
    "x = [1,2]*3\n",
    "x"
   ]
  },
  {
   "cell_type": "code",
   "execution_count": null,
   "metadata": {},
   "outputs": [],
   "source": [
    "bs = [5,2,4,2]\n",
    "cs = sorted(bs) # ordenar en una nueva variable\n",
    "cs"
   ]
  },
  {
   "cell_type": "code",
   "execution_count": null,
   "metadata": {},
   "outputs": [],
   "source": [
    "ds = [5,3,4,5]\n",
    "ds.sort() # ordena en la misma variable\n",
    "ds"
   ]
  },
  {
   "cell_type": "markdown",
   "metadata": {},
   "source": [
    "### Tuplas\n",
    "\n",
    "Una tupla es una variable que permite almacenar varios **datos inmutables**, son como las listas, pero no pueden ser modificadas, sólo creadas. Se pueden pensar como una lista de sólo lectura."
   ]
  },
  {
   "cell_type": "code",
   "execution_count": null,
   "metadata": {},
   "outputs": [],
   "source": [
    "t = ('a','b','c')\n",
    "t"
   ]
  },
  {
   "cell_type": "code",
   "execution_count": null,
   "metadata": {},
   "outputs": [],
   "source": [
    "a = (\"Voten\",\"por\",\"mi\")\n",
    "a"
   ]
  },
  {
   "cell_type": "code",
   "execution_count": null,
   "metadata": {},
   "outputs": [],
   "source": [
    "# Es común ver este tipo de expresiones. Se llama tuple unpacking\n",
    "\n",
    "x, y, z = 'a', 7, 9"
   ]
  },
  {
   "cell_type": "code",
   "execution_count": null,
   "metadata": {},
   "outputs": [],
   "source": [
    "a = "
   ]
  },
  {
   "cell_type": "markdown",
   "metadata": {},
   "source": [
    "¿Por qué usar **tuplas** y **no listas**?\n",
    "\n",
    "* Son un poco más eficientes que las listas y ocupan menos memoria.\n",
    "* Se usan en general donde se requiere una secuencia inmutable, como en el **key** de un diccionario.\n",
    "* Los argumentos a función son pasados como tuplas."
   ]
  },
  {
   "cell_type": "markdown",
   "metadata": {},
   "source": [
    "### Diccionarios\n",
    "\n",
    "![](../imagenes/diccionario.png)\n",
    "\n",
    "Mientras que a las listas y tuplas se accede solo y únicamente por un número de índice, los diccionarios permiten utilizar una **key** para declarar y acceder a un valor:\n",
    "\n",
    "Características:\n",
    "\n",
    "* Los diccionarios en Python se acceden con enteros, strings u otros objetos llamados **keys** en este contexto.\n",
    "* Como las listas, pueden contener cualquier tipo de objeto en **values**.\n",
    "* A diferencia de las listas, que estaban implícitamente ordenadas, **los diccionarios no tienen un orden interno**.\n",
    "* En otros lenguajes, se conocen también como *hashes*, *hashmaps*, *associative array*.\n",
    "\n",
    "Parece un comportamiento similar a una lista...\n",
    "\n",
    "![](../imagenes/diccionario_obj.png)"
   ]
  },
  {
   "cell_type": "code",
   "execution_count": null,
   "metadata": {},
   "outputs": [],
   "source": [
    "d = {}\n",
    "d[0] = \"rojo\"\n",
    "d[1] = \"amarillo\"\n",
    "d"
   ]
  },
  {
   "cell_type": "markdown",
   "metadata": {},
   "source": [
    "Sin embargo, podemos hacer esto, mucho mas práctico."
   ]
  },
  {
   "cell_type": "code",
   "execution_count": null,
   "metadata": {},
   "outputs": [],
   "source": [
    "del d[0], d[1] # borrar un campo\n",
    "d[\"nombre\"]  = \"Juan\"\n",
    "d[\"edad\"] = 26\n",
    "d[\"legajo\"] = 32415\n",
    "d[\"sector\"] = \"7G\"\n",
    "d[\"riesgo\"] = \"máximo\"\n",
    "d[\"notas\"] = \"[9,7,5]\"\n",
    "d"
   ]
  },
  {
   "cell_type": "code",
   "execution_count": null,
   "metadata": {},
   "outputs": [],
   "source": [
    "list(d.keys())"
   ]
  },
  {
   "cell_type": "code",
   "execution_count": null,
   "metadata": {},
   "outputs": [],
   "source": [
    "list(d.values())"
   ]
  },
  {
   "cell_type": "code",
   "execution_count": null,
   "metadata": {},
   "outputs": [],
   "source": [
    "list(d.items())"
   ]
  },
  {
   "cell_type": "markdown",
   "metadata": {},
   "source": [
    "### Otras operaciones II"
   ]
  },
  {
   "cell_type": "code",
   "execution_count": null,
   "metadata": {},
   "outputs": [],
   "source": [
    "d = dict(red = \"rojo\",green=\"verde\",black=\"negro\")\n",
    "d"
   ]
  },
  {
   "cell_type": "code",
   "execution_count": null,
   "metadata": {},
   "outputs": [],
   "source": [
    "l = [('a', 0),('b',1),('c',2)]\n",
    "d = dict(l)\n",
    "d"
   ]
  },
  {
   "cell_type": "code",
   "execution_count": null,
   "metadata": {},
   "outputs": [],
   "source": [
    "print(\"Cantidad de entradas: {}\".format(len(d)))"
   ]
  },
  {
   "cell_type": "code",
   "execution_count": null,
   "metadata": {},
   "outputs": [],
   "source": [
    "\"red\" in d, \"yellow\" in d"
   ]
  },
  {
   "cell_type": "code",
   "execution_count": null,
   "metadata": {},
   "outputs": [],
   "source": [
    "print(d.get(\"red\", \"no encontrado\"))"
   ]
  },
  {
   "cell_type": "code",
   "execution_count": null,
   "metadata": {},
   "outputs": [],
   "source": [
    "print(d.get(\"orange\", \"no encontrado\"))"
   ]
  },
  {
   "cell_type": "markdown",
   "metadata": {},
   "source": [
    "## Referencias\n",
    "\n",
    "* Molloy, Derek. Exploring Raspberry Pi: interfacing to the real world with embedded Linux. John Wiley & Sons, 2016.\n",
    "* Cano, Juan Luis. Curso Aero Python. Extraido de [GitHub](https://github.com/AeroPython/Curso_AeroPython), 2016.\n",
    "* G. Van Rossum. El tutorial de Python. Extraido de [PyAr](http://docs.python.org.ar/tutorial/), 2018.\n",
    "* Datos y variables, 2009.\n",
    "* Massimo Di Pierro. Web2py - Manual de Referencia. Extraido de [www.web2py.com](http://www.web2py.com/books/default/chapter/36/02/el-lenguaje-python), 2018.\n",
    "* Eugenia Bahit. Python para principiante. Extraido de [Libros Web](http://librosweb.es/libro/python/), 2018.\n",
    "* INTI - Electrónica e Informática, UT Comunicaciones. Introducción al Procesamiento Digital de Señales, 2017."
   ]
  },
  {
   "cell_type": "markdown",
   "metadata": {},
   "source": [
    "## Licencia\n",
    "\n",
    "<a rel=\"license\" href=\"http://creativecommons.org/licenses/by-sa/4.0/\"><img alt=\"Licencia de Creative Commons\" style=\"border-width:0\" src=\"https://i.creativecommons.org/l/by-sa/4.0/88x31.png\" /></a><br />Este documento se destribuye con una <a rel=\"license\" href=\"http://creativecommons.org/licenses/by-sa/4.0/\">licencia Atribución CompartirIgual 4.0 Internacional de Creative Commons</a>.\n",
    "\n",
    "© 2019. Infiniem Lab DSP. infiniemlab.dsp@gmail.com. Introducción a Python3 (CC BY-SA 4.0))"
   ]
  }
 ],
 "metadata": {
  "kernelspec": {
   "display_name": "Python 3",
   "language": "python",
   "name": "python3"
  },
  "language_info": {
   "codemirror_mode": {
    "name": "ipython",
    "version": 3
   },
   "file_extension": ".py",
   "mimetype": "text/x-python",
   "name": "python",
   "nbconvert_exporter": "python",
   "pygments_lexer": "ipython3",
   "version": "3.7.3"
  }
 },
 "nbformat": 4,
 "nbformat_minor": 4
}
