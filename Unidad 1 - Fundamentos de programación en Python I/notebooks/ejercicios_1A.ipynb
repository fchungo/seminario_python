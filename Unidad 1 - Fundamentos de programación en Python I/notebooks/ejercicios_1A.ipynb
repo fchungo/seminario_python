{
 "cells": [
  {
   "cell_type": "markdown",
   "metadata": {
    "slideshow": {
     "slide_type": "-"
    }
   },
   "source": [
    "![](../img/titulos_ejercicios.png)"
   ]
  },
  {
   "cell_type": "markdown",
   "metadata": {
    "slideshow": {
     "slide_type": "-"
    }
   },
   "source": [
    "## Instalar y configurar el entorno de desarrollo\n",
    "\n",
    "Descargar el material de github\n",
    "\n",
    "**1.** Descargar el software Miniconda desde su [sitio web](https://docs.conda.io/en/latest/miniconda.html). Recordemos que en el apunte [instalacion](instalacion.ipynb) vamos encontrar material de consulta sobre el proceso de instalación y errores comunes. Luego de instalar, es conveniente hacer una actualización del software.\n",
    "\n",
    "**2.** Crear un entorno virtual para las librerias del seminario. Esto es útil para separar y evitar la interacción entre entornos de trabajo, ya que podemos elegir las herramientas predeterminadas para cada uno y evitar conflictos. En este caso usamos [virtualenv](https://virtualenv.pypa.io/en/stable/).\n",
    "\n",
    "``` bash\n",
    "pip install virtualenv # instalando virtualenv\n",
    "\n",
    "virtualenv nombre_de_tu_entorno -p python3 # creando un entorno con nombre <nombre_de_tu_entorno>\n",
    "\n",
    "source activate py3 # activar el entorno\n",
    "\n",
    "deactivate # desactiva el entorno\n",
    "```\n",
    "\n",
    "Para eliminar tu entorno virtual, simplemente elimina la carpeta del proyecto:\n",
    "``` bash\n",
    "rm -rf my_project\n",
    "```\n",
    "\n",
    "**3.** Vamos a instalar los siguients paquetes a nuestro entorno virtual creado recientemente:\n",
    "* numpy\n",
    "* numpy-base\n",
    "* scipy\n",
    "* pandas\n",
    "* pandas-datareader\n",
    "* pandasql\n",
    "* matplotlib\n",
    "* seaborn\n",
    "* librosa\n",
    "\n",
    "Usando:\n",
    "\n",
    "``` bash\n",
    "conda install numpy\n",
    "```\n",
    "``` bash\n",
    "pip install numpy\n",
    "```\n",
    "\n",
    "> Es importante estar posicionado en el entorno virtual creado, sino la instalacion se realizan en el entorno base. Los paquetes que no están incluidos en Conda pueden instalarse a través del gestor de paquetes **pip**, como es el caso de **librosa**.\n",
    "\n",
    "Hay una forma mas practica de instalar varios paquetes, usando un archivo de texto *requirements.txt*, [aca](https://medium.com/@boscacci/why-and-how-to-make-a-requirements-txt-f329c685181e) una nota que explica en detalle crear estos archivos.\n",
    "\n",
    "``` bash\n",
    "pip install -r requirements.txt # comando para instalar los paquetes usando un archivo de texto\n",
    "```\n",
    "\n",
    "**4.** Instalar un IDE para poder crear archivos .py, .md, .ipynb, entre otros. Para lo cual desde la consola usamos las siguientes intrucciones:\n",
    "\n",
    "``` bash\n",
    "conda install spyder \n",
    "\n",
    "conda install jupyterlab\n",
    "```\n",
    "\n",
    "Un IDE muy simple pero no por eso menos potente es [Sublime Text](https://www.sublimetext.com/3), no es solo para Python. Incluso para trabajar con Python hay que [configurarlo previamente](http://damnwidget.github.io/anaconda/) o una [configuración más especifica](https://realpython.com/setting-up-sublime-text-3-for-full-stack-python-development/).\n"
   ]
  },
  {
   "cell_type": "markdown",
   "metadata": {},
   "source": [
    "## Primeros pasos en Jupyter Lab\n",
    "\n",
    "**1.** Abriremos Jupyter Lab y exploraremos su interfaz, lo primero que debemos hacer es pulsar el botón '+' para crear un nuevo lanzador. Las pestaña emergente nos muestra dos opciones principales: **Notebook y Console**. Abramos una consola seleccionando la segunda opción y tratemos de utilizarla como una calculadora, realizando operaciones entre números de todo tipo.\n",
    "\n",
    "**2.** Ahora cerremos la consola, lancemos un nuevo notebook, e intentemos hacer lo mismo, ¿qué diferencias se encuentran?"
   ]
  },
  {
   "cell_type": "markdown",
   "metadata": {},
   "source": [
    "Probadon Snippets de codigo Python"
   ]
  }
 ],
 "metadata": {
  "kernelspec": {
   "display_name": "Python 3",
   "language": "python",
   "name": "python3"
  },
  "language_info": {
   "codemirror_mode": {
    "name": "ipython",
    "version": 3
   },
   "file_extension": ".py",
   "mimetype": "text/x-python",
   "name": "python",
   "nbconvert_exporter": "python",
   "pygments_lexer": "ipython3",
   "version": "3.7.3"
  }
 },
 "nbformat": 4,
 "nbformat_minor": 4
}
