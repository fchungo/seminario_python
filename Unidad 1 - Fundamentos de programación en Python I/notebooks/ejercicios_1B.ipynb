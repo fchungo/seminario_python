{
 "cells": [
  {
   "cell_type": "markdown",
   "metadata": {
    "slideshow": {
     "slide_type": "-"
    }
   },
   "source": [
    "[comment]: <> (los titulares se generan en el siguiente link: https://docs.google.com/drawings/d/1TLM83sTn9w2Jmq0l0Jy1ivIeLRVO_rKBCamm5Tq11Yo/edit?usp=sharing)\n",
    "\n",
    "![](../img/titulos_ejercicios.png)"
   ]
  },
  {
   "cell_type": "markdown",
   "metadata": {
    "slideshow": {
     "slide_type": "-"
    }
   },
   "source": [
    "# Ejercicios propuesto \n",
    "\n",
    "**1.** realizar los siguientes cálculos utilizando la consola de python:\n",
    "\n",
    "* $((5^3+3/4)+\\sqrt{3})^{1/3}=5.032...$ \n",
    "\n",
    "* $\\frac{1}{\\frac{2}{(0.3)^1/3}*21}=0.0159....$"
   ]
  },
  {
   "cell_type": "markdown",
   "metadata": {
    "slideshow": {
     "slide_type": "-"
    }
   },
   "source": [
    "**2.** Las ecuación que define la caída libre de un cuerpo, sin considerar las fuerzas de rozamiento, es la siguiente:\n",
    "\n",
    "\\begin{equation}\n",
    "    x = 0.5 \\cdot g \\cdot t^2\n",
    "\\end{equation}\n",
    "\\begin{equation}\n",
    "    v = g \\cdot t\n",
    "\\end{equation}\n",
    "\n",
    "Donde $g = 9,8 m/s^2$ es la fuerza de gravedad, $x$ es la distancia recorrida, $v$ es la velocidad instantánea y $t$ es el tiempo transcurrido.\n",
    "Calculemos el valor de $x$ y $v$ para un instante de tiempo $t=2$ segundos. \n",
    "\n",
    "Primero pensemos, ¿cuántas variables tengo que definir? ¿De qué tipo serán? A su vez tratemos de comentar todos los pasos que estamos desarrollando en nuestro código."
   ]
  },
  {
   "cell_type": "code",
   "execution_count": null,
   "metadata": {},
   "outputs": [],
   "source": [
    "# definimos las variables que vamos a usar en la función\n",
    "tiempo = 2.0\n",
    "gravedad = 9.8\n",
    "\n",
    "# la distancia y la velocidad se guardan en otras variables\n",
    "distancia = 0.5 * gravedad * tiempo ** 2\n",
    "velocidad = gravedad * tiempo"
   ]
  },
  {
   "cell_type": "markdown",
   "metadata": {},
   "source": [
    "**3.** En el punto anterior hemos hecho los pasos para calcular el valor de $x$ y de $y$. Si queremos que el programa nos devuelva sus valores, podemos usar `print`. Tratemos de obtener el siguiente mensaje de salida a partir del uso de este comando:\n",
    "\n",
    "*La distancia recorrida tras  2  segundos es de  19.6  metros*\n",
    "\n",
    "*La velocidad instantánea a los  2  segundos es de  19.6 m/s*\n"
   ]
  },
  {
   "cell_type": "code",
   "execution_count": null,
   "metadata": {},
   "outputs": [],
   "source": [
    "print('La distancia recorrida tras ', int(tiempo) ,' segundos es de ', distancia, ' metros')\n",
    "print('La velocidad instantánea a los ', int(tiempo), ' segundos es de ', velocidad, 'm/s')"
   ]
  },
  {
   "cell_type": "markdown",
   "metadata": {},
   "source": [
    "**4.** Desarrollar un programa que permita ingresar  dos números ENTEROS A y B a través delteclado. Imprima su suma, su diferencia , su cociente."
   ]
  },
  {
   "cell_type": "code",
   "execution_count": 2,
   "metadata": {},
   "outputs": [
    {
     "name": "stdin",
     "output_type": "stream",
     "text": [
      "Ingrese un número:  1\n",
      "Ingrese otro número:  2\n"
     ]
    },
    {
     "name": "stdout",
     "output_type": "stream",
     "text": [
      "1  +  2  = 3\n",
      "1  -  2  = -1\n",
      "1  /  2  = 0.5\n",
      "1  *  2  = 2\n"
     ]
    }
   ],
   "source": [
    "# ingresos\n",
    "input_1 = int(input(\"Ingrese un número: \"))\n",
    "input_2 = int(input(\"Ingrese otro número: \"))\n",
    "\n",
    "# resultados\n",
    "print(input_1, \" + \", input_2, \" =\", input_1+input_2)\n",
    "print(input_1, \" - \", input_2, \" =\", input_1-input_2)\n",
    "print(input_1, \" / \", input_2, \" =\", input_1/input_2)\n",
    "print(input_1, \" * \", input_2, \" =\", input_1*input_2)"
   ]
  },
  {
   "cell_type": "markdown",
   "metadata": {},
   "source": [
    "**5.** Ingresar la longitud del radio de un círculo. Calcular e imprimir:\n",
    "* La superficie del círculo Sup = pi * r ^2\n",
    "* El perímetro de la circunferencia Per = pi * diámetro\n",
    "* La superficie de la esfera                   Sup = 4 * pi * r ^ 2\n",
    "* El volumen de la esfera                     Vol = 4/3 * pi * r ^3"
   ]
  },
  {
   "cell_type": "code",
   "execution_count": null,
   "metadata": {},
   "outputs": [],
   "source": [
    "import math\n",
    "\n",
    "input = float(input(\"Ingrese la longuitud del radio de un circulo = \"))\n",
    "\n",
    "print(\"La superficie del circulo es = \", math.pi*input**2)\n",
    "print(\"El perimetro de la circunferencia es = \", math.pi*input*2)\n",
    "print(\"La superficie de la esfera es = \", 4*math.pi*input**2)\n",
    "print(\"El volumen de la esfera es = \", 4/3*math.pi*input**3)"
   ]
  },
  {
   "cell_type": "markdown",
   "metadata": {},
   "source": [
    "**6.** Realizar un programa que permita ingresar la edad de una persona en años y la conviertaa días. Imprimir el resultado. Considerar que todos los años tienen 365 días."
   ]
  },
  {
   "cell_type": "code",
   "execution_count": 1,
   "metadata": {},
   "outputs": [
    {
     "name": "stdin",
     "output_type": "stream",
     "text": [
      "Ingrese una edad:  2\n"
     ]
    },
    {
     "name": "stdout",
     "output_type": "stream",
     "text": [
      "La cantidad de dias son: 730\n"
     ]
    }
   ],
   "source": [
    "input = int(input(\"Ingrese una edad: \"))\n",
    "\n",
    "print(\"La cantidad de dias son:\", input*365)"
   ]
  },
  {
   "cell_type": "markdown",
   "metadata": {},
   "source": [
    "**7.** Ingresar 3 números enteros. Calcular su promedio y mostrarlo por pantalla."
   ]
  },
  {
   "cell_type": "code",
   "execution_count": null,
   "metadata": {},
   "outputs": [],
   "source": [
    "input_1 = float(input(\"Ingrese un número: \"))\n",
    "input_2 = float(input(\"Ingrese un número: \"))\n",
    "input_3 = float(input(\"Ingrese un número: \"))\n",
    "\n",
    "print(\"El promedio de los números ingresados es: \", (input_1+input_2+input_3)/3)"
   ]
  },
  {
   "cell_type": "markdown",
   "metadata": {},
   "source": [
    "**8.** Una inmobiliaria paga a sus vendedores un salario de $800, más una comisión de $50por cada venta realizada más el 5% de valor de esas ventas. Realizar un programa queimprima el número del vendedor y el salario que le corresponde en un determinado mes. Seleen el número del vendedor, la cantidad de ventas que realizó y el valor total de lasmismas."
   ]
  },
  {
   "cell_type": "code",
   "execution_count": 3,
   "metadata": {},
   "outputs": [
    {
     "name": "stdin",
     "output_type": "stream",
     "text": [
      "Ingrese el ID del vendedor:  123\n",
      "Ingrese la cantidad de ventas:  2\n",
      "Ingrese el valor total de las ventas:  123\n"
     ]
    },
    {
     "name": "stdout",
     "output_type": "stream",
     "text": [
      "El vendedor  123  realizó  2 ventas y le corresponde un sueldo de $ 900.0615\n"
     ]
    }
   ],
   "source": [
    "ID = int(input(\"Ingrese el ID del vendedor: \"))\n",
    "cant_ventas = int(input(\"Ingrese la cantidad de ventas: \"))\n",
    "val_ventas = int(input(\"Ingrese el valor total de las ventas: \"))\n",
    "\n",
    "print(\"El vendedor \", ID, \" realizó \", cant_ventas, \"ventas y le corresponde un sueldo de $\", 800+cant_ventas*50+(0.05*val_ventas)/100)"
   ]
  },
  {
   "cell_type": "markdown",
   "metadata": {},
   "source": [
    "**9.** Ingresar dos números A y B e imprimir el mayor o cualquiera si son iguales"
   ]
  },
  {
   "cell_type": "code",
   "execution_count": null,
   "metadata": {},
   "outputs": [],
   "source": [
    "input_1 = float(input(\"Ingrese un número: \"))\n",
    "input_2 = float(input(\"Ingrese otro número: \"))\n",
    "\n",
    "if (input_1 > input_2):\n",
    "\tprint(\"El número mayor es \", input_1)\n",
    "elif (input_2 > input_1):\n",
    "\tprint(\"El número mayor es \", input_2)\n",
    "else:\n",
    "\tprint(\"Los numeros son iguales a \", input_1)"
   ]
  },
  {
   "cell_type": "markdown",
   "metadata": {},
   "source": [
    "**10.** Leer un número entero A e imprimir un mensaje indicando si es par o impar. (Operador%)"
   ]
  },
  {
   "cell_type": "code",
   "execution_count": 1,
   "metadata": {},
   "outputs": [
    {
     "name": "stdin",
     "output_type": "stream",
     "text": [
      "Ingrese un número:  2\n"
     ]
    },
    {
     "name": "stdout",
     "output_type": "stream",
     "text": [
      "El número  2  es par\n"
     ]
    }
   ],
   "source": [
    "input_1 = int(input(\"Ingrese un número: \"))\n",
    "\n",
    "if (input_1%2==0):\n",
    "\tprint(\"El número \", input_1, \" es par\")\n",
    "else:\n",
    "\tprint(\"El número \", input_1, \" es impar\")"
   ]
  },
  {
   "cell_type": "markdown",
   "metadata": {},
   "source": [
    "**11.** Leer un número entero N y determinar si es un número natural (positivo y distinto decero). Si lo es, imprimirlo junto con su doble. En caso contrario, imprimirlo junto con su triple."
   ]
  },
  {
   "cell_type": "code",
   "execution_count": null,
   "metadata": {},
   "outputs": [],
   "source": [
    "input_1 = int(input(\"Ingrese un número: \"))\n",
    "\n",
    "if (input_1>0 and input_1!=0):\n",
    "\tprint(\"El número \", input_1, \" es natural y su doble es:\", input_1*2)\n",
    "else:\n",
    "\tprint(\"El número \", input_1, \" no es natural y su triple es:\", input_1*3)"
   ]
  },
  {
   "cell_type": "markdown",
   "metadata": {},
   "source": [
    "**12.** Ingresar dos números enteros A y B. Desarrollar un programa que determine si A esmúltiplo de B y si B es múltiplo de A. Imprimir mensajes aclaratorios"
   ]
  },
  {
   "cell_type": "code",
   "execution_count": null,
   "metadata": {},
   "outputs": [],
   "source": [
    "input_1 = int(input(\"Ingrese un número: \"))\n",
    "input_2 = int(input(\"Ingrese otro número: \"))\n",
    "\n",
    "if (input_1%input_2==0):\n",
    "\tprint(input_2, \" es multiplo de \", input_1)\n",
    "elif (input_2%input_1==0):\n",
    "\tprint(input_1, \" es multiplo de \", input_2)\n",
    "else:\n",
    "\tprint(\"Los números ingresados no son multiplos entre ellos.\")"
   ]
  },
  {
   "cell_type": "markdown",
   "metadata": {},
   "source": [
    "**13.** Desarrollar un programa para leer la base y la altura de un triángulo e imprimir susuperficie. El algoritmo debe validar los datos de entrada, verificando que éstos seannúmeros positivos. En caso contrario debe imprimirse el dato erróneo junto con una leyendaaclaratoria. Se recuerda que Sup = (Base * Altura) / 2"
   ]
  },
  {
   "cell_type": "code",
   "execution_count": 1,
   "metadata": {},
   "outputs": [
    {
     "name": "stdin",
     "output_type": "stream",
     "text": [
      "Ingrese la base de un triangulo:  1\n",
      "Ingrese la altura de un triangulo:  2\n"
     ]
    },
    {
     "name": "stdout",
     "output_type": "stream",
     "text": [
      "La superficie del triangulo es:  1.0\n"
     ]
    }
   ],
   "source": [
    "base = float(input(\"Ingrese la base de un triangulo: \"))\n",
    "altura = float(input(\"Ingrese la altura de un triangulo: \"))\n",
    "\n",
    "if (base>0 and altura>0):\n",
    "\tprint(\"La superficie del triangulo es: \", base*altura/2)\n",
    "else:\n",
    "\tprint(\"Los números ingresados deben ser positivos. Sup = (Base * Altura)/2\")"
   ]
  },
  {
   "cell_type": "markdown",
   "metadata": {},
   "source": [
    "**14.** Una empresa aplica el siguiente procedimiento en la comercialización de sus productos:· Aplica el precio base a la primera docena de unidades. · Aplica un 10% de descuento a todas las unidades entre 13 y 100. · Aplica un 25% de descuento a todas las unidades porencima de las 100. Por ejemplo, supongamos que vende 230 unidades de un producto cuyoprecio base es 100. El cálculo resultante sería: 100 * 12 + 90 * 88 + 75 * 130 = 18870, y elprecio promedio será 18870 / 230 = 82,04"
   ]
  },
  {
   "cell_type": "code",
   "execution_count": 17,
   "metadata": {},
   "outputs": [
    {
     "name": "stdin",
     "output_type": "stream",
     "text": [
      "Cuantas ventas se realizaron:   230\n",
      "Cual es el precio base:   100\n"
     ]
    },
    {
     "name": "stdout",
     "output_type": "stream",
     "text": [
      "El precio promedio es:  82.04347826086956\n"
     ]
    }
   ],
   "source": [
    "ventas = int(input(\"Cuantas ventas se realizaron:  \"))\n",
    "precio = int(input(\"Cual es el precio base:  \"))\n",
    "\n",
    "if (ventas<=12):\n",
    "\tcosto = ventas*precio\n",
    "elif (ventas>12 and ventas<100):\n",
    "\tcosto = 12*precio + (ventas-12)*(precio*0.1)\n",
    "elif (ventas>=100):\n",
    "\tcosto = 12*precio + 88*(precio*0.9)+(ventas-100)*(precio*0.75)\n",
    "\t\n",
    "print(\"El precio promedio es: \", costo/ventas)"
   ]
  }
 ],
 "metadata": {
  "kernelspec": {
   "display_name": "Python 3",
   "language": "python",
   "name": "python3"
  },
  "language_info": {
   "codemirror_mode": {
    "name": "ipython",
    "version": 3
   },
   "file_extension": ".py",
   "mimetype": "text/x-python",
   "name": "python",
   "nbconvert_exporter": "python",
   "pygments_lexer": "ipython3",
   "version": "3.7.4"
  }
 },
 "nbformat": 4,
 "nbformat_minor": 4
}
