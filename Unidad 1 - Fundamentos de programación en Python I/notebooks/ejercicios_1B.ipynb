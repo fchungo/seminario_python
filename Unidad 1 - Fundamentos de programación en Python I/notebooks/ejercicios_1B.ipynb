{
 "cells": [
  {
   "cell_type": "markdown",
   "metadata": {
    "slideshow": {
     "slide_type": "-"
    }
   },
   "source": [
    "![](../imagenes/titulo_000.png)"
   ]
  },
  {
   "cell_type": "markdown",
   "metadata": {
    "slideshow": {
     "slide_type": "-"
    }
   },
   "source": [
    "## Variables y operaciones matemáticas\n",
    "\n",
    "**1.** Las ecuación que define la caída libre de un cuerpo, sin considerar las fuerzas de rozamiento, es la siguiente:\n",
    "\n",
    "\\begin{equation}\n",
    "    x = 0.5 \\cdot g \\cdot t^2\n",
    "\\end{equation}\n",
    "\\begin{equation}\n",
    "    v = g \\cdot t\n",
    "\\end{equation}\n",
    "\n",
    "Donde $g = 9,8 m/s^2$ es la fuerza de gravedad, $x$ es la distancia recorrida, $v$ es la velocidad instantánea y $t$ es el tiempo transcurrido.\n",
    "Calculemos el valor de $x$ y $v$ para un instante de tiempo $t=2$ segundos. \n",
    "\n",
    "Primero pensemos, ¿cuántas variables tengo que definir? ¿De qué tipo serán? A su vez tratemos de comentar todos los pasos que estamos desarrollando en nuestro código."
   ]
  },
  {
   "cell_type": "code",
   "execution_count": 5,
   "metadata": {},
   "outputs": [],
   "source": [
    "# definimos las variables que vamos a usar en la función\n",
    "tiempo = 2.0\n",
    "gravedad = 9.8\n",
    "\n",
    "# la distancia y la velocidad se guardan en otras variables\n",
    "distancia = 0.5 * gravedad * tiempo ** 2\n",
    "velocidad = gravedad * tiempo"
   ]
  },
  {
   "cell_type": "markdown",
   "metadata": {},
   "source": [
    "**2.** En el punto anterior hemos hecho los pasos para calcular el valor de $x$ y de $y$. Si queremos que el programa nos devuelva sus valores, podemos usar `print`. Tratemos de obtener el siguiente mensaje de salida a partir del uso de este comando:\n",
    "\n",
    "*La distancia recorrida tras  2  segundos es de  19.6  metros*\n",
    "\n",
    "*La velocidad instantánea a los  2  segundos es de  19.6 m/s*\n"
   ]
  },
  {
   "cell_type": "code",
   "execution_count": 9,
   "metadata": {},
   "outputs": [
    {
     "name": "stdout",
     "output_type": "stream",
     "text": [
      "La distancia recorrida tras  2  segundos es de  19.6  metros\n",
      "La velocidad instantánea a los  2  segundos es de  19.6 m/s\n"
     ]
    }
   ],
   "source": [
    "print('La distancia recorrida tras ', int(tiempo) ,' segundos es de ', distancia, ' metros')\n",
    "print('La velocidad instantánea a los ', int(tiempo), ' segundos es de ', velocidad, 'm/s')"
   ]
  },
  {
   "cell_type": "markdown",
   "metadata": {},
   "source": [
    "**3.**"
   ]
  },
  {
   "cell_type": "code",
   "execution_count": 14,
   "metadata": {},
   "outputs": [
    {
     "name": "stdin",
     "output_type": "stream",
     "text": [
      "Ingrese 1 si está en la tierra o 2 si está en la luna:  2\n"
     ]
    },
    {
     "name": "stdout",
     "output_type": "stream",
     "text": [
      "\n"
     ]
    }
   ],
   "source": [
    "planeta = int(input('Ingrese 1 si está en la tierra o 2 si está en la luna: '))\n",
    "\n",
    "if (planeta == 1):\n",
    "    gravedad = 9.8\n",
    "    print()       # COMPLETAR ESTE MENSAJE PARA QUE DIGA EL VALOR DE LA GRAVEDAD \n",
    "elif (planeta == 2):\n",
    "    gravedad = 1.6\n",
    "    print()        # COMPLETAR ESTE MENSAJE PARA QUE DIGA EL VALOR DE LA GRAVEDAD"
   ]
  },
  {
   "cell_type": "code",
   "execution_count": 15,
   "metadata": {},
   "outputs": [
    {
     "name": "stdin",
     "output_type": "stream",
     "text": [
      "Ingrese el instante de tiempo:  2\n"
     ]
    }
   ],
   "source": [
    "tiempo = int(input('Ingrese el instante de tiempo: '))"
   ]
  },
  {
   "cell_type": "code",
   "execution_count": 16,
   "metadata": {},
   "outputs": [
    {
     "name": "stdout",
     "output_type": "stream",
     "text": [
      "La distancia recorrida tras  2  segundos es de  3.2  metros\n",
      "La velocidad instantánea a los  2  segundos es de  3.2 m/s\n"
     ]
    }
   ],
   "source": [
    "distancia = 0.5 * gravedad * tiempo ** 2\n",
    "velocidad = gravedad * tiempo\n",
    "\n",
    "print('La distancia recorrida tras ', int(tiempo) ,' segundos es de ', distancia, ' metros')\n",
    "print('La velocidad instantánea a los ', int(tiempo), ' segundos es de ', velocidad, 'm/s')"
   ]
  },
  {
   "cell_type": "markdown",
   "metadata": {},
   "source": [
    "## Uso del módulo *math*"
   ]
  },
  {
   "cell_type": "code",
   "execution_count": 20,
   "metadata": {},
   "outputs": [],
   "source": [
    "import math\n",
    "\n",
    "# Debajo de este comentario ingresar: math.\n",
    "# Luego presionar Tab, se verán las funciones disponibles dentro del módulo\n",
    "math."
   ]
  },
  {
   "cell_type": "code",
   "execution_count": 21,
   "metadata": {},
   "outputs": [
    {
     "data": {
      "text/plain": [
       "\u001b[0;31mSignature:\u001b[0m \u001b[0mmath\u001b[0m\u001b[0;34m.\u001b[0m\u001b[0msqrt\u001b[0m\u001b[0;34m(\u001b[0m\u001b[0mx\u001b[0m\u001b[0;34m,\u001b[0m \u001b[0;34m/\u001b[0m\u001b[0;34m)\u001b[0m\u001b[0;34m\u001b[0m\u001b[0;34m\u001b[0m\u001b[0m\n",
       "\u001b[0;31mDocstring:\u001b[0m Return the square root of x.\n",
       "\u001b[0;31mType:\u001b[0m      builtin_function_or_method\n"
      ]
     },
     "metadata": {},
     "output_type": "display_data"
    }
   ],
   "source": [
    "# Visualizar la ayuda para la función math.sqrt\n",
    "math.sqrt?"
   ]
  },
  {
   "cell_type": "markdown",
   "metadata": {},
   "source": [
    "Si ahora queremos calcular el instante de tiempo dada la distancia recorrida, debemos plantear la ecuación:\n",
    "\n",
    "\\begin{equation}\n",
    "    t = \\sqrt{\\frac{2d}{g}}\n",
    "\\end{equation}\n",
    "\n",
    "Podemos resolverla con el uso de la función `sqrt`, a continuación plantearemos el código necesario."
   ]
  },
  {
   "cell_type": "code",
   "execution_count": 25,
   "metadata": {},
   "outputs": [
    {
     "name": "stdin",
     "output_type": "stream",
     "text": [
      "Ingrese la distancia recorrida por el cuerpo en caída libre:  7\n"
     ]
    },
    {
     "name": "stdout",
     "output_type": "stream",
     "text": [
      "El tiempo transcurrido para que el objeto recorra 7.0  metros es de  2.96 segundos.\n"
     ]
    }
   ],
   "source": [
    "distancia = float(input('Ingrese la distancia recorrida por el cuerpo en caída libre: '))\n",
    "\n",
    "tiempo = math.sqrt((2*distancia)/gravedad)\n",
    "print('El tiempo transcurrido para que el objeto recorra', \n",
    "      distancia, ' metros es de ', \n",
    "      round(tiempo, 2), 'segundos.')"
   ]
  }
 ],
 "metadata": {
  "kernelspec": {
   "display_name": "Python 3",
   "language": "python",
   "name": "python3"
  },
  "language_info": {
   "codemirror_mode": {
    "name": "ipython",
    "version": 3
   },
   "file_extension": ".py",
   "mimetype": "text/x-python",
   "name": "python",
   "nbconvert_exporter": "python",
   "pygments_lexer": "ipython3",
   "version": "3.7.3"
  }
 },
 "nbformat": 4,
 "nbformat_minor": 4
}
