{
 "cells": [
  {
   "cell_type": "markdown",
   "metadata": {},
   "source": [
    "## Contenido\n",
    "\n",
    "* [Material de consulta](#Material-de-consulta)\n",
    "* [Entornos de trabajo](#Entornos-de-trabajo)\n",
    "    * [Desde la terminal](#Desde-la-terminal)\n",
    "    * [Desde IDE](#Desde-un-IDE)\n",
    "    * [Desde Jupyter Lab](#Desde-Jupyter-Lab)\n",
    "* [PEP-8 guía de estilo](#PEP-8---guia-de-estilo)\n",
    "* [Datos](#Datos)\n",
    "    * [Datos basicos](#Datos-basicos)\n",
    "    * [Función type](#Funcion-type)\n",
    "    * [Función help](#Funcion-help)\n",
    "    * [Operaciones entre datos](#Operaciones-entre-datos)\n",
    "        * [Operadores aritméticos elementales](#Operadores-aritmeticos-elementales)\n",
    "        * [Operadores de comparación](#Operadores-de-comparacion)\n",
    "        * [Operadores lógicos](#Operadores-logicos)\n",
    "* [Funciones integradas](#Funciones-integradas)\n",
    "* [Módulos](#Modulos)\n",
    "    * [Módulos matemáticos - math y cmath](#Modulos-matematicos---math-y-cmath)\n",
    "    * [From ... import](#From-...-import)\n",
    "    * [Import ... as](#Import-...-as)\n",
    "* [Variables](#Variables)\n",
    "    * [Asignación](#Asignacion)\n",
    "        * [Asignación multiple](#Asignacion-multiple)\n",
    "    * [Indexado](#Indexado)\n",
    "    * [Tipos de variables](#Tipos-de-variables)\n",
    "* [Pongamos en práctica lo aprendido antes que se nos olvide](#Pongamos-en-practica-lo-aprendido-antes-que-se-nos-olvide)\n",
    "* [Ahora es tu turno!](#Ahora-es-tu-turno!)\n",
    "* [Tipos de datos complejos](#Tipos-de-datos-complejos)\n",
    "    * [Listas](#Listas)\n",
    "        * [Otras operaciones](#Otras-operaciones-I)\n",
    "    * [Tuplas](#Tuplas)\n",
    "    * [Diccionarios](#Diccionarios)\n",
    "        * [Otras operaciones](#Otras-operaciones_II)\n",
    "* [Referencias](#Referencias)\n",
    "* [Licencia](#Licencia)"
   ]
  },
  {
   "cell_type": "markdown",
   "metadata": {},
   "source": [
    "Para agregar cuando definamos estructuras"
   ]
  },
  {
   "cell_type": "markdown",
   "metadata": {},
   "source": [
    "## PEP 8 - guia de estilo\n",
    "\n",
    "![](../imagenes/elegante_100x200.png)\n",
    "\n",
    "La elegancia de la sintaxis de Python, \"obliga\" de alguna manera cumplir con una cantidad de **reglas de escritura**. Para esto existe PEP “Propuestas de Mejora Python” (**Python Enhancement Proposals**), existen muchos Peps, el [PEP 8](https://www.python.org/dev/peps/pep-0008/#type-variable-names) en concreto es la propuesta del estándar de programación y buenas prácticas para el lenguaje. Es en general una guía para mejorar la legibilidad del código y hacerlo tan consistente como se pueda.\n",
    "\n",
    "> Las reglas más importantes van a ser **mencionadas como notas** a lo largo del workshop."
   ]
  },
  {
   "cell_type": "markdown",
   "metadata": {},
   "source": [
    "El IDE [Atom](https://ide.atom.io/) posee un plugin que ayuda a cuidar los detalles de escritura propuestos por **PEP 8**."
   ]
  },
  {
   "cell_type": "markdown",
   "metadata": {},
   "source": [
    "> **PEP 8 - Indentado:** una indentación de 4 (cuatro) espacios en blanco, indicará que las instrucciones indentadas, forman parte de una misma estructura de control.\n",
    "\n",
    "> **PEP 8 - Comentarios:** comentarios en la misma línea del código deben separarse con dos espacios en blanco. Luego del símbolo # debe ir un solo espacio en blanco.\n",
    "\n",
    "``` python\n",
    "# Correcto\n",
    "a = 15  # Edad de María\n",
    " \n",
    "# Incorrecto\n",
    "a = 15 # Edad de María\n",
    "```"
   ]
  },
  {
   "cell_type": "markdown",
   "metadata": {},
   "source": [
    "Operadores in-place\n",
    "> **Nota:** `ii += 1` equivale a `ii = ii + 1`. En el segundo Python, realiza la operación `ii + 1` creando un nuevo objeto con ese valor y luego lo asigna a la variable `ii`; es decir, existe una reasignación. En el primero, sin embargo, el incremento se produce sobre la propia variable. Esto puede conducirnos a mejoras en velocidad. Otros operadores **in-place** son: `-=`, `*=`, `/=` "
   ]
  },
  {
   "cell_type": "markdown",
   "metadata": {},
   "source": [
    "tipo de dato range"
   ]
  },
  {
   "cell_type": "code",
   "execution_count": null,
   "metadata": {},
   "outputs": [],
   "source": [
    "# Devuelve un rango de valores\n",
    "range(6)"
   ]
  },
  {
   "cell_type": "markdown",
   "metadata": {},
   "source": [
    "## Funciones integradas\n",
    "\n",
    "A continuación se presenta algunas de las **funciones útiles**, que vienen **integradas en Python** (sin necesidad de importar ningún módulo), que pueden ser utilizadas con la mayoría de los datos. Estas funciones son pertenecientes a la [librería estandar](https://docs.python.org/3/library/) de Python."
   ]
  },
  {
   "cell_type": "code",
   "execution_count": null,
   "metadata": {},
   "outputs": [],
   "source": [
    "# Devuelve una tupla formada por el cociente y el resto de la divión \n",
    "divmod(13, 4) "
   ]
  },
  {
   "cell_type": "code",
   "execution_count": null,
   "metadata": {},
   "outputs": [],
   "source": [
    "# Devuelve x elevado a y\n",
    "pow(2, 3)"
   ]
  },
  {
   "cell_type": "code",
   "execution_count": null,
   "metadata": {},
   "outputs": [],
   "source": [
    "# Calcula el valor absoluto\n",
    "abs(-6)"
   ]
  },
  {
   "cell_type": "code",
   "execution_count": null,
   "metadata": {},
   "outputs": [],
   "source": [
    "# Devuelve el argumento redondeado al entero más próximo\n",
    "round(4.35)"
   ]
  },
  {
   "cell_type": "code",
   "execution_count": null,
   "metadata": {},
   "outputs": [],
   "source": [
    "# Idem, redondeado en la posición indicada por el segundo argumento\n",
    "round(4.3527, 2)"
   ]
  },
  {
   "cell_type": "code",
   "execution_count": null,
   "metadata": {},
   "outputs": [],
   "source": [
    "# Calcula el valor máximo de un conjunto de valores (numéricos o alfabéticos)\n",
    "max(4, 5, -2, 8, 3.5, -10)"
   ]
  },
  {
   "cell_type": "code",
   "execution_count": null,
   "metadata": {},
   "outputs": [],
   "source": [
    "max(\"David\", \"Alicia\", \"Tomás\", \"Emilio\")"
   ]
  },
  {
   "cell_type": "code",
   "execution_count": null,
   "metadata": {},
   "outputs": [],
   "source": [
    "# Calcula el valor mínimo de un conjunto de valores (numéricos o alfabéticos)\n",
    "min(4, 5, -2, 8, 3.5, -10)"
   ]
  },
  {
   "cell_type": "code",
   "execution_count": null,
   "metadata": {},
   "outputs": [],
   "source": [
    "min(\"David\", \"Alicia\", \"Tomás\", \"Emilio\")"
   ]
  },
  {
   "cell_type": "code",
   "execution_count": null,
   "metadata": {},
   "outputs": [],
   "source": [
    "# Calcula la suma de un conjunto de valores, \n",
    "# debe ser un tipo de datos iterable (tupla, rango, lista, conjunto o diccionario)\n",
    "sum((1, 2, 3, 4, 5))"
   ]
  },
  {
   "cell_type": "code",
   "execution_count": null,
   "metadata": {},
   "outputs": [],
   "source": [
    "sum(range(6))"
   ]
  },
  {
   "cell_type": "code",
   "execution_count": null,
   "metadata": {},
   "outputs": [],
   "source": [
    "# Ordena un conjunto de valores,\n",
    "# debe ser un tipo de datos iterable (tupla, rango, lista, conjunto o diccionario)\n",
    "sorted((10, 2, 8, -3, 6))"
   ]
  },
  {
   "cell_type": "markdown",
   "metadata": {},
   "source": [
    "### Funcion type"
   ]
  },
  {
   "cell_type": "code",
   "execution_count": 1,
   "metadata": {},
   "outputs": [
    {
     "data": {
      "text/plain": [
       "int"
      ]
     },
     "execution_count": 1,
     "metadata": {},
     "output_type": "execute_result"
    }
   ],
   "source": [
    "type(42)"
   ]
  },
  {
   "cell_type": "code",
   "execution_count": null,
   "metadata": {},
   "outputs": [],
   "source": [
    "type(\"Python\")"
   ]
  },
  {
   "cell_type": "code",
   "execution_count": null,
   "metadata": {},
   "outputs": [],
   "source": [
    "type(3.14)"
   ]
  },
  {
   "cell_type": "markdown",
   "metadata": {},
   "source": [
    "Incluso preguntar si es un tipo particular."
   ]
  },
  {
   "cell_type": "code",
   "execution_count": null,
   "metadata": {},
   "outputs": [],
   "source": [
    "isinstance('Maxi', str)"
   ]
  },
  {
   "cell_type": "code",
   "execution_count": null,
   "metadata": {},
   "outputs": [],
   "source": [
    "isinstance('Maxi', int)"
   ]
  },
  {
   "cell_type": "markdown",
   "metadata": {},
   "source": [
    "Función muy útil para controlar ingresos de usuarios o argumentos de funciones."
   ]
  },
  {
   "cell_type": "markdown",
   "metadata": {},
   "source": [
    "### Funcion help"
   ]
  },
  {
   "cell_type": "code",
   "execution_count": null,
   "metadata": {},
   "outputs": [],
   "source": [
    "help (10)"
   ]
  },
  {
   "cell_type": "code",
   "execution_count": null,
   "metadata": {},
   "outputs": [],
   "source": [
    "help (3.1)"
   ]
  },
  {
   "cell_type": "code",
   "execution_count": null,
   "metadata": {},
   "outputs": [],
   "source": [
    "help (str)"
   ]
  },
  {
   "cell_type": "code",
   "execution_count": null,
   "metadata": {},
   "outputs": [],
   "source": [
    "str??"
   ]
  },
  {
   "cell_type": "markdown",
   "metadata": {},
   "source": [
    "# Variables\n",
    "\n",
    "Un poco mas sobre variables"
   ]
  },
  {
   "cell_type": "code",
   "execution_count": null,
   "metadata": {},
   "outputs": [],
   "source": [
    "ancho = 20\n",
    "largo = 5 * 9\n",
    "ancho * largo"
   ]
  },
  {
   "cell_type": "markdown",
   "metadata": {},
   "source": [
    "Para tener en cuenta con respecto a los nombres de variables, es que son **Case sensitive** (valor explicito)."
   ]
  },
  {
   "cell_type": "code",
   "execution_count": null,
   "metadata": {},
   "outputs": [],
   "source": [
    "a = 5\n",
    "A = 3\n",
    "a + A"
   ]
  },
  {
   "cell_type": "code",
   "execution_count": null,
   "metadata": {},
   "outputs": [],
   "source": [
    "#1a = 4  # Primer carácter debe ser una letra"
   ]
  },
  {
   "cell_type": "markdown",
   "metadata": {},
   "source": [
    "Utilización de la opción **autocompletar** (TAB) (valor implicito)"
   ]
  },
  {
   "cell_type": "code",
   "execution_count": null,
   "metadata": {},
   "outputs": [],
   "source": [
    "altura_triangulo = 3\n",
    "base_triangulo = 2"
   ]
  },
  {
   "cell_type": "code",
   "execution_count": null,
   "metadata": {},
   "outputs": [],
   "source": [
    "# area_triangulo = "
   ]
  },
  {
   "cell_type": "markdown",
   "metadata": {},
   "source": [
    "#### Asignacion multiple\n",
    "\n",
    "Se puede asignar un solo valor a varias variables simultáneamente:"
   ]
  },
  {
   "cell_type": "code",
   "execution_count": null,
   "metadata": {},
   "outputs": [],
   "source": [
    "a = b = c = 1\n",
    "a, b, c"
   ]
  },
  {
   "cell_type": "markdown",
   "metadata": {},
   "source": [
    "También se pueden asignar varios objetos a múltiples variables:"
   ]
  },
  {
   "cell_type": "code",
   "execution_count": null,
   "metadata": {},
   "outputs": [],
   "source": [
    "a, b, c = 1, 2, \"Maxi\"\n",
    "a, b, c"
   ]
  },
  {
   "cell_type": "markdown",
   "metadata": {},
   "source": [
    "> **PEP 8 - Nombre de variables:** utilizar nombres descriptivos y en minúsculas. Para nombres compuestos, separar las palabras por guiones bajos. Antes y después del signo =, debe haber uno (y solo un) espacio en blanco.\n",
    "\n",
    "\n",
    "``` python\n",
    "# Correcto\n",
    "mi_variable = 12\n",
    " \n",
    "# Incorrectos\n",
    "MiVariable = 12\n",
    "mivariable = 12\n",
    "mi_variable=12\n",
    "mi_variable = 12\n",
    "```"
   ]
  },
  {
   "cell_type": "markdown",
   "metadata": {},
   "source": [
    "Algunos nombres no pueden ser usados porque estan reservados:"
   ]
  },
  {
   "cell_type": "code",
   "execution_count": null,
   "metadata": {},
   "outputs": [],
   "source": [
    "import keyword\n",
    "print(keyword.kwlist)"
   ]
  },
  {
   "cell_type": "markdown",
   "metadata": {},
   "source": [
    "Si hablamos de la **conversión de la materia en energía**, en que pensamos...\n",
    "\n",
    "![](../imagenes/emc2_pic.png)\n",
    "\n",
    "$E=mc^2$\n",
    "\n",
    "Esta ecuación sorprendentemente sencilla, vincula los mundos antes separados de la **materia** y la **energía**, y se puede utilizar para **encontrar la cantidad de energía que se libera conforme la materia se destruye en reacciones nucleares** tanto naturales como inducidas por el hombre.\n",
    "El **Sol** irradia $385x10^{24} \\text{J/s}$ de energía, los cuales se generan mediante reacciones nucleares\n",
    "que **convierten la materia en energía**. \n",
    "\n",
    "*Determinar junto a la ecuación de Einstein, cuánta materia se debe convertir en energía para producir esa cantidad de radiación en un día.*\n",
    "\n",
    "Ayudas: \n",
    "* $c=3.0x10^8 \\text{m/s}$.\n",
    "* $1\\text{J = kg m}^2/\\text{s}^2$\n",
    "\n",
    "Respuesta: \n",
    "* $m = 3.6960x10^{14}$"
   ]
  },
  {
   "cell_type": "code",
   "execution_count": null,
   "metadata": {},
   "outputs": [],
   "source": [
    "%run ../scripts/ecuación_einstein.py"
   ]
  },
  {
   "cell_type": "markdown",
   "metadata": {},
   "source": [
    "## Indexado\n",
    "\n",
    "un poco mas de indexado"
   ]
  },
  {
   "cell_type": "code",
   "execution_count": null,
   "metadata": {},
   "outputs": [],
   "source": [
    "x[0:2] # Un slice de un string, es otro string"
   ]
  },
  {
   "cell_type": "code",
   "execution_count": null,
   "metadata": {},
   "outputs": [],
   "source": [
    "x[:5]"
   ]
  },
  {
   "cell_type": "code",
   "execution_count": null,
   "metadata": {},
   "outputs": [],
   "source": [
    "x[1:-1]"
   ]
  },
  {
   "cell_type": "code",
   "execution_count": null,
   "metadata": {},
   "outputs": [],
   "source": [
    "x[:]"
   ]
  },
  {
   "cell_type": "code",
   "execution_count": null,
   "metadata": {},
   "outputs": [],
   "source": [
    "x[0:5:2]"
   ]
  },
  {
   "cell_type": "code",
   "execution_count": null,
   "metadata": {},
   "outputs": [],
   "source": [
    "x[::-1]"
   ]
  },
  {
   "cell_type": "markdown",
   "metadata": {},
   "source": [
    "Por ejemplo, si quisieramos saber si una palabra es **palindromo** (es igual si se lee de izquierda a derecha que de derecha a izquierda), usamos lo anteriormente aprendido:"
   ]
  },
  {
   "cell_type": "code",
   "execution_count": null,
   "metadata": {},
   "outputs": [],
   "source": [
    "x = 'reconocer'\n",
    "if x == x[::-1]:\n",
    "    print('La palabra: ' + x + ', es palindromo')"
   ]
  },
  {
   "cell_type": "markdown",
   "metadata": {},
   "source": [
    "En el caso de expresiones se complica un poco más."
   ]
  },
  {
   "cell_type": "markdown",
   "metadata": {},
   "source": [
    "> **Nota:** los **objetos string** requiere de un apartado especial, más adelante vamos hablar en detalle."
   ]
  },
  {
   "cell_type": "markdown",
   "metadata": {},
   "source": [
    "## Modulos\n",
    "\n",
    "Para aquellas funciones que **no estan dentro de la librería estandar, se utilizan módulos, archivos Python **.py** que constan de código Python**. Un módulo puede definir funciones, clases y variables, ademas puede incluir código ejecutable. Se puede hacer referencia a cualquier archivo de Python como un módulo. Un archivo de Python llamado hello.py tiene el nombre de módulo \"\"hello\" que se puede importar a otros archivos de Python o utilizar en el intérprete de línea de comandos de Python. Estos módulos, a la vez, pueden formar parte de **paquetes**. Un paquete, **es una carpeta que contiene archivos .py**, pero para que una carpeta pueda ser considerada un paquete, debe **contener un archivo de inicio llamado __init__.py**. \n",
    "\n",
    "> **Nota:** este archivo, no necesita contener ninguna instrucción. De hecho, puede estar completamente vacío.\n",
    "\n",
    "La estructura general de un modulo es:\n",
    "\n",
    "![](../imagenes/estructura_modulos.jpg)\n",
    "\n",
    "### ¿Por que usar paquetes de modulos?\n",
    "\n",
    "Proveen una manera fácil de organizar los componentes de software de un sistema, utilizando el concepto de **namespaces** (en Python, un namespace, es el nombre que se ha indicado luego de la palabra `import`, es decir la ruta **namespace** del módulo)\n",
    "\n",
    "**Ventajas:**\n",
    "\n",
    "* Reutilización de código: diseño modular de software.\n",
    "* Particionamiento del namespace: agrupa nombres por funcionalidad.\n",
    "\n",
    "**Estructura de un programa en Python:**\n",
    "\n",
    "* Un archivo top-level\n",
    "* Uno o más archivos suplemetarios, conocidos como módulos\n",
    "\n",
    "Una declaración de `import`  se compone de la palabra clave `import`  junto con el nombre del módulo.\n",
    "\n",
    "Cuando importamos un módulo, lo estamos poniendo a nuestra disposición en nuestro programa actual referenciandolo a la función en notación de punto, como **[module].[function]**.\n",
    "\n",
    "\n",
    "\n",
    "Para continuar aprendiendo de modulos ir al siguiente [link](http://librosweb.es/libro/python/capitulo_3.html)."
   ]
  },
  {
   "cell_type": "markdown",
   "metadata": {},
   "source": [
    "### Modulos matematicos - math y cmath"
   ]
  },
  {
   "cell_type": "code",
   "execution_count": null,
   "metadata": {},
   "outputs": [],
   "source": [
    "# Operaciones matemáticas comunes\n",
    "\n",
    "import math\n",
    "\n",
    "print(\"sin(2\\u03c0/3) = {}\".format(math.sin(2 * math.pi / 3)))\n",
    "print(\"cos(2\\u03c0/3) = {}\".format(math.cos(2 * math.pi / 3)))"
   ]
  },
  {
   "cell_type": "code",
   "execution_count": null,
   "metadata": {},
   "outputs": [],
   "source": [
    "# En cmath tambien se encuentran las de números complejos\n",
    "\n",
    "import cmath\n",
    "\n",
    "z = 2 + 3j\n",
    "print(\"{0:.3} = modulo = {1[0]:.3} fase = {1[1]:.3}\".format(z,cmath.polar(z)))\n",
    "print(\"sin(z) = {0:.3f}\".format(cmath.sin(z)))"
   ]
  },
  {
   "cell_type": "markdown",
   "metadata": {},
   "source": [
    "### From ... import\n",
    "\n",
    "Para hacer **referencia a los elementos de un módulo**, puede usar la declaración de `from ... import`. Cuando se importa un módulos de esta manera, puede referirse a las funciones por nombres y no a través de la notación de punto."
   ]
  },
  {
   "cell_type": "code",
   "execution_count": null,
   "metadata": {},
   "outputs": [],
   "source": [
    "from math import floor\n",
    "\n",
    "# redondear un número al entero anterior\n",
    "floor(5 / 2)"
   ]
  },
  {
   "cell_type": "code",
   "execution_count": null,
   "metadata": {},
   "outputs": [],
   "source": [
    "from math import ceil\n",
    "\n",
    "# redondear un número al entero posterior\n",
    "math.ceil(5 / 2)"
   ]
  },
  {
   "cell_type": "markdown",
   "metadata": {},
   "source": [
    "### Import ... as\n",
    "\n",
    "Es posible **modificar los nombres de los módulos y sus funciones dentro de Python** utilizando la palabra clave `as`. Esto es útil para cambiar un nombre porque ya fue usado el mismo nombre para otra cosa en el programa, otro módulo que hse importó, o para abreviar un nombre más largo.\n",
    "La construcción de esta declaración se ven así:`import [module] as [another_name]`.\n"
   ]
  },
  {
   "cell_type": "code",
   "execution_count": null,
   "metadata": {},
   "outputs": [],
   "source": [
    "%matplotlib inline\n",
    "import matplotlib.pyplot as plt  # módulo para hacer plot\n",
    "\n",
    "plt.plot(range(7),range(7),'-.',color='b' )"
   ]
  },
  {
   "cell_type": "markdown",
   "metadata": {},
   "source": [
    "Veamos otro ejemplo, la **aproximación de orden 3 del desarrollo de Taylor en 0 de la función seno** es (crean que es así...):\n",
    "\n",
    "$sen(x)\\approx x-x^{3}/6$"
   ]
  },
  {
   "cell_type": "code",
   "execution_count": null,
   "metadata": {},
   "outputs": [],
   "source": [
    "import numpy as np  # módulo para trabajar con array\n",
    "import matplotlib.pyplot as plt # módulo para hacer plot\n",
    "\n",
    "x = np.linspace(-np.pi,+np.pi,100)\n",
    "aprox = x - np.power(x,3)/6\n",
    "\n",
    "plt.plot(x/np.pi,np.sin(x),'r',x/np.pi,aprox,'.')\n",
    "plt.xlabel(\"radianes [$\\pi$]\")\n",
    "plt.ylabel(\"Amplitud\")\n",
    "plt.grid()"
   ]
  },
  {
   "cell_type": "markdown",
   "metadata": {},
   "source": [
    "### Tipos de variables\n",
    "\n",
    "En Python tenemos tipos mutables (como **listas**, **diccionarios**) e inmutables (como los **numéricos**, **tuplas**, **string**)\n",
    "\n",
    "* **Mutable:** el valor del objeto puede cambiar durante la vida del objeto\n",
    "* **Inmutable:** el valor del objeto no puede cambiar durante la vida del objeto\n"
   ]
  },
  {
   "cell_type": "code",
   "execution_count": null,
   "metadata": {},
   "outputs": [],
   "source": [
    "i = 78\n",
    "i"
   ]
  },
  {
   "cell_type": "markdown",
   "metadata": {},
   "source": [
    "![](../imagenes/variables_objetos_04.png)"
   ]
  },
  {
   "cell_type": "code",
   "execution_count": null,
   "metadata": {},
   "outputs": [],
   "source": [
    "i += 2\n",
    "i"
   ]
  },
  {
   "cell_type": "markdown",
   "metadata": {},
   "source": [
    "![](../imagenes/variables_objetos_05.png)"
   ]
  },
  {
   "cell_type": "code",
   "execution_count": null,
   "metadata": {},
   "outputs": [],
   "source": [
    "i -= 2\n",
    "i"
   ]
  },
  {
   "cell_type": "markdown",
   "metadata": {},
   "source": [
    "## Pongamos en practica lo aprendido antes que se nos olvide\n",
    "\n",
    "La curva de olvido ilustra la pérdida del conocimiento adquirido con el tiempo. Un concepto relacionado con la intensidad del recuerdo, que indica cuánto se mantiene un contenido en el cerebro. Cuanto más intenso sea un recuerdo, más tiempo se mantiene. Un gráfico  típico de la curva del olvido muestra que normalmente en unos días o semanas se olvida la mitad de lo que hemos aprendido, a no ser que lo repasemos. Una aproximación matemática a la curva de la memoria es la siguiente fórmula (Hermann Ebbinghaus):\n",
    "\n",
    "$$R=e^{-t/s}$$\n",
    "\n",
    "donde $R$ representa la curva de olvido, $S$ la intensidad (porcentaje) de lo aprendido y $t$ el tiempo en horas."
   ]
  },
  {
   "cell_type": "code",
   "execution_count": null,
   "metadata": {},
   "outputs": [],
   "source": [
    "# permite hacer plot en lineas de comando\n",
    "%matplotlib inline \n",
    "\n",
    "# importando módulos \n",
    "import matplotlib.pyplot as plt  # módulo para hacer plot\n",
    "import numpy as np  # módulo para trabajar con array\n",
    "\n",
    "plt.xkcd()  # Estilo de plot\n",
    "\n",
    "T = np.linspace(1, 24*10, 100) \n",
    "\n",
    "s1 = 100\n",
    "arg1 = T/s1\n",
    "R1 = np.exp(-arg1)\n",
    "\n",
    "s2 = 50\n",
    "arg2 = T/s2\n",
    "R2 = np.exp(-arg2)\n",
    "\n",
    "plt.plot(T/24,R1*100,'.',color='r' )\n",
    "plt.plot(T/24,R2*100,'.',color='b' )\n",
    "\n",
    "plt.title('Curva del olvido')\n",
    "plt.xlabel('t [dias]')\n",
    "plt.ylabel('R[%]')\n",
    "plt.show()"
   ]
  },
  {
   "cell_type": "markdown",
   "metadata": {},
   "source": [
    "> Para aquellos que vienen de MATLAB, algunas cosas les resulten un poco más familiares y otras no tanto. De todas formas este ejemplo engloba muchos elementos que iremos abordando a lo largo del workshop. Por lo tanto, no entrar en pánico y disfrutar el viaje. "
   ]
  },
  {
   "cell_type": "markdown",
   "metadata": {},
   "source": [
    "### Ahora es tu turno! \n",
    "\n",
    "![](../imagenes/homero_200x100.png)\n",
    "\n",
    "Con ayuda del anterior ejemplo, escribir el primer script en python (desde el editor de texto y almacenar en .py) para calcular la velocidad del sonido [m/s] en el aire a partir de la ecuación de **Boyle-Mariotte** [Möser M., Barros J.L, 2009]:\n",
    "\n",
    "$$c(t) = \\sqrt{k \\frac{R}{M_{mol}}t}$$\n",
    "\n",
    "Esta depende solo del medio y de la temperatura absoluta, pero no de la presión o densidad estáticas. Si se ingresan los valores típicos para el aire:  \n",
    "\n",
    "$$M_{mol} = 28,8 x 10^{-3} \\text{ kg/mol}$$\n",
    "$$t = 288 \\text{ K (15°C)}$$\n",
    "$$k = 1,4$$\n",
    "$$R = 8,314 \\text{ J/mol K como J = N*m, N = kg*m/s 2}$$\n",
    "\n",
    "Realizarlo para un intervalo de temperaturas.\n",
    "\n",
    "**Ayudas:**\n",
    "\n",
    "* `t = np.array(range(25))`\n",
    "* `c = np.sqrt(k*R*T/M_mol)`"
   ]
  },
  {
   "cell_type": "code",
   "execution_count": null,
   "metadata": {},
   "outputs": [],
   "source": [
    "%run vel_prop.py"
   ]
  },
  {
   "cell_type": "code",
   "execution_count": null,
   "metadata": {},
   "outputs": [],
   "source": [
    "#%load vel_prop.py"
   ]
  },
  {
   "cell_type": "markdown",
   "metadata": {},
   "source": [
    "## Tipos de datos complejos\n",
    "\n",
    "Python, posee además de los tipos de datos ya vistos (primitivas, string, entre otros), 3 tipos más complejos, que admiten datos de varios tipos. Comencemos por las **secuencias de elementos ordenados**: **listas** y **tuplas**.\n",
    "\n",
    "### Listas\n",
    "\n",
    "Una lista es una variable que permite almacenar varios **datos mutables** (pueden ser modificados una vez creados) de tipos diferentes. Usaremos listas para poder modelar datos compuestos pero cuya cantidad y valor varían a lo largo del tiempo\n",
    "\n",
    "![](../imagenes/listas.png)"
   ]
  },
  {
   "cell_type": "code",
   "execution_count": null,
   "metadata": {},
   "outputs": [],
   "source": [
    "x = []  # Una lista vacía\n",
    "y = [0,1,2,3,4,5]  # Una lista de enteros\n",
    "z = list(range(6))  # La misma lista de enteros\n",
    "\n",
    "# Listas heterogéneas\n",
    "s = [32, \"a\", -5, -2.349, [1,2,3], \"te\", \"crees\", \"muy\", \"lista?\"] \n",
    "\n",
    "l = [x,y,z]  # Lista de listas"
   ]
  },
  {
   "cell_type": "code",
   "execution_count": null,
   "metadata": {},
   "outputs": [],
   "source": [
    "type(z)"
   ]
  },
  {
   "cell_type": "code",
   "execution_count": null,
   "metadata": {},
   "outputs": [],
   "source": [
    "# verificar las variables creadas\n",
    "s"
   ]
  },
  {
   "cell_type": "code",
   "execution_count": null,
   "metadata": {},
   "outputs": [],
   "source": [
    "x = [\"primero\", \"segundo\", \"tercero\", \"cuarto\", \"quinto\"]\n",
    "x[0]"
   ]
  },
  {
   "cell_type": "code",
   "execution_count": null,
   "metadata": {},
   "outputs": [],
   "source": [
    "len(x) # longitud de la lista"
   ]
  },
  {
   "cell_type": "markdown",
   "metadata": {},
   "source": [
    "Podemos **indexar** las secuencias, utilizando la sintaxis `[<inicio>:<final>:<salto>]`:"
   ]
  },
  {
   "cell_type": "markdown",
   "metadata": {},
   "source": [
    "![](../imagenes/indexing.png)"
   ]
  },
  {
   "cell_type": "code",
   "execution_count": null,
   "metadata": {},
   "outputs": [],
   "source": [
    "x[4]"
   ]
  },
  {
   "cell_type": "code",
   "execution_count": null,
   "metadata": {},
   "outputs": [],
   "source": [
    "x[-1]"
   ]
  },
  {
   "cell_type": "code",
   "execution_count": null,
   "metadata": {},
   "outputs": [],
   "source": [
    "x[-2]"
   ]
  },
  {
   "cell_type": "code",
   "execution_count": null,
   "metadata": {},
   "outputs": [],
   "source": [
    "x[0:2]  # Un slice de una lista, es también una lista"
   ]
  },
  {
   "cell_type": "code",
   "execution_count": null,
   "metadata": {},
   "outputs": [],
   "source": [
    "x[0:4]"
   ]
  },
  {
   "cell_type": "code",
   "execution_count": null,
   "metadata": {},
   "outputs": [],
   "source": [
    "x[:5] "
   ]
  },
  {
   "cell_type": "code",
   "execution_count": null,
   "metadata": {},
   "outputs": [],
   "source": [
    "x[1:-1]"
   ]
  },
  {
   "cell_type": "code",
   "execution_count": null,
   "metadata": {},
   "outputs": [],
   "source": [
    "x[:]"
   ]
  },
  {
   "cell_type": "code",
   "execution_count": null,
   "metadata": {},
   "outputs": [],
   "source": [
    "x[0:5:2]"
   ]
  },
  {
   "cell_type": "code",
   "execution_count": null,
   "metadata": {},
   "outputs": [],
   "source": [
    "x[1:5:2]"
   ]
  },
  {
   "cell_type": "code",
   "execution_count": null,
   "metadata": {},
   "outputs": [],
   "source": [
    "x[-1:-4:-1]"
   ]
  },
  {
   "cell_type": "code",
   "execution_count": null,
   "metadata": {},
   "outputs": [],
   "source": [
    "x[::-1]"
   ]
  },
  {
   "cell_type": "markdown",
   "metadata": {},
   "source": [
    "Las listas son **mutables** (como habiamos mencionado anteriormente). Esto implica que su **estructura puede cambiar**."
   ]
  },
  {
   "cell_type": "code",
   "execution_count": null,
   "metadata": {},
   "outputs": [],
   "source": [
    "x"
   ]
  },
  {
   "cell_type": "code",
   "execution_count": null,
   "metadata": {},
   "outputs": [],
   "source": [
    "x[1] = 2\n",
    "x"
   ]
  },
  {
   "cell_type": "code",
   "execution_count": null,
   "metadata": {},
   "outputs": [],
   "source": [
    "x[0:2] = [\"hh\", \"tt\"]  # slicing también funciona\n",
    "x"
   ]
  },
  {
   "cell_type": "code",
   "execution_count": null,
   "metadata": {},
   "outputs": [],
   "source": [
    "x[0:3] = [\"???\"]\n",
    "x"
   ]
  },
  {
   "cell_type": "code",
   "execution_count": null,
   "metadata": {},
   "outputs": [],
   "source": [
    "x[1:1] = [\"333\"]\n",
    "x"
   ]
  },
  {
   "cell_type": "code",
   "execution_count": null,
   "metadata": {},
   "outputs": [],
   "source": [
    "x = [1,2,3]\n",
    "x.append(\"cuatro\") # equivalente a x[len(x):] = [\"cuatro\"]\n",
    "x"
   ]
  },
  {
   "cell_type": "code",
   "execution_count": null,
   "metadata": {},
   "outputs": [],
   "source": [
    "y = [5,6,7]\n",
    "x.append(y) # equivalente a x[len(x):] = [y]\n",
    "x"
   ]
  },
  {
   "cell_type": "code",
   "execution_count": null,
   "metadata": {},
   "outputs": [],
   "source": [
    "x = [1,2,3]\n",
    "y = [5,6,7]\n",
    "x.extend(y)  # equivalente a x[len(x):] = y\n",
    "x"
   ]
  },
  {
   "cell_type": "code",
   "execution_count": null,
   "metadata": {},
   "outputs": [],
   "source": [
    "x.insert(2, \"hola\") # equivalente a x[2:2] = [\"hola\"]\n",
    "x"
   ]
  },
  {
   "cell_type": "code",
   "execution_count": null,
   "metadata": {},
   "outputs": [],
   "source": [
    "x.insert(0,\"primero\") # equivalente a x[0:0] = [\"primero\"]\n",
    "x"
   ]
  },
  {
   "cell_type": "code",
   "execution_count": null,
   "metadata": {},
   "outputs": [],
   "source": [
    "x.insert(-1,1000)\n",
    "x"
   ]
  },
  {
   "cell_type": "code",
   "execution_count": null,
   "metadata": {},
   "outputs": [],
   "source": [
    "del x[0]  # equivalente a x[0:1] = []\n",
    "x"
   ]
  },
  {
   "cell_type": "code",
   "execution_count": null,
   "metadata": {},
   "outputs": [],
   "source": [
    "del x[2:5] # equivalente a x[2:5] = []\n",
    "x"
   ]
  },
  {
   "cell_type": "code",
   "execution_count": null,
   "metadata": {},
   "outputs": [],
   "source": [
    "help(list.extend)"
   ]
  },
  {
   "cell_type": "code",
   "execution_count": null,
   "metadata": {},
   "outputs": [],
   "source": [
    "help(list.reverse)\n",
    "\n",
    "# probar también help(list)"
   ]
  },
  {
   "cell_type": "markdown",
   "metadata": {},
   "source": [
    "#### Otras operaciones I"
   ]
  },
  {
   "cell_type": "code",
   "execution_count": null,
   "metadata": {},
   "outputs": [],
   "source": [
    "x = [1,2,3]\n",
    "y = [4,5,6]\n",
    "x + y"
   ]
  },
  {
   "cell_type": "code",
   "execution_count": null,
   "metadata": {},
   "outputs": [],
   "source": [
    "1 in x # parecido a find en MATLAB."
   ]
  },
  {
   "cell_type": "code",
   "execution_count": null,
   "metadata": {},
   "outputs": [],
   "source": [
    "4 in x"
   ]
  },
  {
   "cell_type": "code",
   "execution_count": null,
   "metadata": {},
   "outputs": [],
   "source": [
    "5 not in x"
   ]
  },
  {
   "cell_type": "code",
   "execution_count": null,
   "metadata": {},
   "outputs": [],
   "source": [
    "x = [None]*10\n",
    "x"
   ]
  },
  {
   "cell_type": "code",
   "execution_count": null,
   "metadata": {},
   "outputs": [],
   "source": [
    "x = [1,2]*3\n",
    "x"
   ]
  },
  {
   "cell_type": "code",
   "execution_count": null,
   "metadata": {},
   "outputs": [],
   "source": [
    "bs = [5,2,4,2]\n",
    "cs = sorted(bs) # ordenar en una nueva variable\n",
    "cs"
   ]
  },
  {
   "cell_type": "code",
   "execution_count": null,
   "metadata": {},
   "outputs": [],
   "source": [
    "ds = [5,3,4,5]\n",
    "ds.sort() # ordena en la misma variable\n",
    "ds"
   ]
  },
  {
   "cell_type": "markdown",
   "metadata": {},
   "source": [
    "### Tuplas\n",
    "\n",
    "Una tupla es una variable que permite almacenar varios **datos inmutables**, son como las listas, pero no pueden ser modificadas, sólo creadas. Se pueden pensar como una lista de sólo lectura."
   ]
  },
  {
   "cell_type": "code",
   "execution_count": null,
   "metadata": {},
   "outputs": [],
   "source": [
    "t = ('a','b','c')\n",
    "t"
   ]
  },
  {
   "cell_type": "code",
   "execution_count": null,
   "metadata": {},
   "outputs": [],
   "source": [
    "a = (\"Voten\",\"por\",\"mi\")\n",
    "a"
   ]
  },
  {
   "cell_type": "code",
   "execution_count": null,
   "metadata": {},
   "outputs": [],
   "source": [
    "# Es común ver este tipo de expresiones. Se llama tuple unpacking\n",
    "\n",
    "x, y, z = 'a', 7, 9"
   ]
  },
  {
   "cell_type": "code",
   "execution_count": null,
   "metadata": {},
   "outputs": [],
   "source": [
    "a = "
   ]
  },
  {
   "cell_type": "markdown",
   "metadata": {},
   "source": [
    "¿Por qué usar **tuplas** y **no listas**?\n",
    "\n",
    "* Son un poco más eficientes que las listas y ocupan menos memoria.\n",
    "* Se usan en general donde se requiere una secuencia inmutable, como en el **key** de un diccionario.\n",
    "* Los argumentos a función son pasados como tuplas."
   ]
  },
  {
   "cell_type": "markdown",
   "metadata": {},
   "source": [
    "### Diccionarios\n",
    "\n",
    "![](../imagenes/diccionario.png)\n",
    "\n",
    "Mientras que a las listas y tuplas se accede solo y únicamente por un número de índice, los diccionarios permiten utilizar una **key** para declarar y acceder a un valor:\n",
    "\n",
    "Características:\n",
    "\n",
    "* Los diccionarios en Python se acceden con enteros, strings u otros objetos llamados **keys** en este contexto.\n",
    "* Como las listas, pueden contener cualquier tipo de objeto en **values**.\n",
    "* A diferencia de las listas, que estaban implícitamente ordenadas, **los diccionarios no tienen un orden interno**.\n",
    "* En otros lenguajes, se conocen también como *hashes*, *hashmaps*, *associative array*.\n",
    "\n",
    "Parece un comportamiento similar a una lista...\n",
    "\n",
    "![](../imagenes/diccionario_obj.png)"
   ]
  },
  {
   "cell_type": "code",
   "execution_count": null,
   "metadata": {},
   "outputs": [],
   "source": [
    "d = {}\n",
    "d[0] = \"rojo\"\n",
    "d[1] = \"amarillo\"\n",
    "d"
   ]
  },
  {
   "cell_type": "markdown",
   "metadata": {},
   "source": [
    "Sin embargo, podemos hacer esto, mucho mas práctico."
   ]
  },
  {
   "cell_type": "code",
   "execution_count": null,
   "metadata": {},
   "outputs": [],
   "source": [
    "del d[0], d[1] # borrar un campo\n",
    "d[\"nombre\"]  = \"Juan\"\n",
    "d[\"edad\"] = 26\n",
    "d[\"legajo\"] = 32415\n",
    "d[\"sector\"] = \"7G\"\n",
    "d[\"riesgo\"] = \"máximo\"\n",
    "d[\"notas\"] = \"[9,7,5]\"\n",
    "d"
   ]
  },
  {
   "cell_type": "code",
   "execution_count": null,
   "metadata": {},
   "outputs": [],
   "source": [
    "list(d.keys())"
   ]
  },
  {
   "cell_type": "code",
   "execution_count": null,
   "metadata": {},
   "outputs": [],
   "source": [
    "list(d.values())"
   ]
  },
  {
   "cell_type": "code",
   "execution_count": null,
   "metadata": {},
   "outputs": [],
   "source": [
    "list(d.items())"
   ]
  },
  {
   "cell_type": "markdown",
   "metadata": {},
   "source": [
    "### Otras operaciones II"
   ]
  },
  {
   "cell_type": "code",
   "execution_count": null,
   "metadata": {},
   "outputs": [],
   "source": [
    "d = dict(red = \"rojo\",green=\"verde\",black=\"negro\")\n",
    "d"
   ]
  },
  {
   "cell_type": "code",
   "execution_count": null,
   "metadata": {},
   "outputs": [],
   "source": [
    "l = [('a', 0),('b',1),('c',2)]\n",
    "d = dict(l)\n",
    "d"
   ]
  },
  {
   "cell_type": "code",
   "execution_count": null,
   "metadata": {},
   "outputs": [],
   "source": [
    "print(\"Cantidad de entradas: {}\".format(len(d)))"
   ]
  },
  {
   "cell_type": "code",
   "execution_count": null,
   "metadata": {},
   "outputs": [],
   "source": [
    "\"red\" in d, \"yellow\" in d"
   ]
  },
  {
   "cell_type": "code",
   "execution_count": null,
   "metadata": {},
   "outputs": [],
   "source": [
    "print(d.get(\"red\", \"no encontrado\"))"
   ]
  },
  {
   "cell_type": "code",
   "execution_count": null,
   "metadata": {},
   "outputs": [],
   "source": [
    "print(d.get(\"orange\", \"no encontrado\"))"
   ]
  },
  {
   "cell_type": "markdown",
   "metadata": {},
   "source": [
    "# EJERCICIOS"
   ]
  },
  {
   "cell_type": "markdown",
   "metadata": {},
   "source": [
    "**3.**"
   ]
  },
  {
   "cell_type": "code",
   "execution_count": 14,
   "metadata": {},
   "outputs": [
    {
     "name": "stdin",
     "output_type": "stream",
     "text": [
      "Ingrese 1 si está en la tierra o 2 si está en la luna:  2\n"
     ]
    },
    {
     "name": "stdout",
     "output_type": "stream",
     "text": [
      "\n"
     ]
    }
   ],
   "source": [
    "planeta = int(input('Ingrese 1 si está en la tierra o 2 si está en la luna: '))\n",
    "\n",
    "if (planeta == 1):\n",
    "    gravedad = 9.8\n",
    "    print()       # COMPLETAR ESTE MENSAJE PARA QUE DIGA EL VALOR DE LA GRAVEDAD \n",
    "elif (planeta == 2):\n",
    "    gravedad = 1.6\n",
    "    print()        # COMPLETAR ESTE MENSAJE PARA QUE DIGA EL VALOR DE LA GRAVEDAD"
   ]
  },
  {
   "cell_type": "code",
   "execution_count": 15,
   "metadata": {},
   "outputs": [
    {
     "name": "stdin",
     "output_type": "stream",
     "text": [
      "Ingrese el instante de tiempo:  2\n"
     ]
    }
   ],
   "source": [
    "tiempo = int(input('Ingrese el instante de tiempo: '))"
   ]
  },
  {
   "cell_type": "code",
   "execution_count": 16,
   "metadata": {},
   "outputs": [
    {
     "name": "stdout",
     "output_type": "stream",
     "text": [
      "La distancia recorrida tras  2  segundos es de  3.2  metros\n",
      "La velocidad instantánea a los  2  segundos es de  3.2 m/s\n"
     ]
    }
   ],
   "source": [
    "distancia = 0.5 * gravedad * tiempo ** 2\n",
    "velocidad = gravedad * tiempo\n",
    "\n",
    "print('La distancia recorrida tras ', int(tiempo) ,' segundos es de ', distancia, ' metros')\n",
    "print('La velocidad instantánea a los ', int(tiempo), ' segundos es de ', velocidad, 'm/s')"
   ]
  },
  {
   "cell_type": "markdown",
   "metadata": {},
   "source": [
    "## Uso del módulo *math*"
   ]
  },
  {
   "cell_type": "code",
   "execution_count": 20,
   "metadata": {},
   "outputs": [],
   "source": [
    "import math\n",
    "\n",
    "# Debajo de este comentario ingresar: math.\n",
    "# Luego presionar Tab, se verán las funciones disponibles dentro del módulo\n",
    "math."
   ]
  },
  {
   "cell_type": "code",
   "execution_count": 21,
   "metadata": {},
   "outputs": [
    {
     "data": {
      "text/plain": [
       "\u001b[0;31mSignature:\u001b[0m \u001b[0mmath\u001b[0m\u001b[0;34m.\u001b[0m\u001b[0msqrt\u001b[0m\u001b[0;34m(\u001b[0m\u001b[0mx\u001b[0m\u001b[0;34m,\u001b[0m \u001b[0;34m/\u001b[0m\u001b[0;34m)\u001b[0m\u001b[0;34m\u001b[0m\u001b[0;34m\u001b[0m\u001b[0m\n",
       "\u001b[0;31mDocstring:\u001b[0m Return the square root of x.\n",
       "\u001b[0;31mType:\u001b[0m      builtin_function_or_method\n"
      ]
     },
     "metadata": {},
     "output_type": "display_data"
    }
   ],
   "source": [
    "# Visualizar la ayuda para la función math.sqrt\n",
    "math.sqrt?"
   ]
  },
  {
   "cell_type": "markdown",
   "metadata": {},
   "source": [
    "Si ahora queremos calcular el instante de tiempo dada la distancia recorrida, debemos plantear la ecuación:\n",
    "\n",
    "\\begin{equation}\n",
    "    t = \\sqrt{\\frac{2d}{g}}\n",
    "\\end{equation}\n",
    "\n",
    "Podemos resolverla con el uso de la función `sqrt`, a continuación plantearemos el código necesario."
   ]
  },
  {
   "cell_type": "code",
   "execution_count": 25,
   "metadata": {},
   "outputs": [
    {
     "name": "stdin",
     "output_type": "stream",
     "text": [
      "Ingrese la distancia recorrida por el cuerpo en caída libre:  7\n"
     ]
    },
    {
     "name": "stdout",
     "output_type": "stream",
     "text": [
      "El tiempo transcurrido para que el objeto recorra 7.0  metros es de  2.96 segundos.\n"
     ]
    }
   ],
   "source": [
    "distancia = float(input('Ingrese la distancia recorrida por el cuerpo en caída libre: '))\n",
    "\n",
    "tiempo = math.sqrt((2*distancia)/gravedad)\n",
    "print('El tiempo transcurrido para que el objeto recorra', \n",
    "      distancia, ' metros es de ', \n",
    "      round(tiempo, 2), 'segundos.')"
   ]
  }
 ],
 "metadata": {
  "kernelspec": {
   "display_name": "Python 3",
   "language": "python",
   "name": "python3"
  },
  "language_info": {
   "codemirror_mode": {
    "name": "ipython",
    "version": 3
   },
   "file_extension": ".py",
   "mimetype": "text/x-python",
   "name": "python",
   "nbconvert_exporter": "python",
   "pygments_lexer": "ipython3",
   "version": "3.7.3"
  }
 },
 "nbformat": 4,
 "nbformat_minor": 4
}
