{
 "cells": [
  {
   "cell_type": "markdown",
   "metadata": {},
   "source": [
    "## Contenido **CORREGIR**\n",
    "\n",
    "* [Material de consulta](#Material-de-consulta)\n",
    "* [Entornos de trabajo](#Entornos-de-trabajo)\n",
    "    * [Desde la terminal](#Desde-la-terminal)\n",
    "    * [Desde IDE](#Desde-un-IDE)\n",
    "    * [Desde Jupyter Lab](#Desde-Jupyter-Lab)\n",
    "* [PEP-8 guía de estilo](#PEP-8---guia-de-estilo)\n",
    "* [Datos](#Datos)\n",
    "    * [Datos basicos](#Datos-basicos)\n",
    "    * [Función type](#Funcion-type)\n",
    "    * [Función help](#Funcion-help)\n",
    "    * [Operaciones entre datos](#Operaciones-entre-datos)\n",
    "        * [Operadores aritméticos elementales](#Operadores-aritmeticos-elementales)\n",
    "        * [Operadores de comparación](#Operadores-de-comparacion)\n",
    "        * [Operadores lógicos](#Operadores-logicos)\n",
    "* [Funciones integradas](#Funciones-integradas)\n",
    "* [Módulos](#Modulos)\n",
    "    * [Módulos matemáticos - math y cmath](#Modulos-matematicos---math-y-cmath)\n",
    "    * [From ... import](#From-...-import)\n",
    "    * [Import ... as](#Import-...-as)\n",
    "* [Variables](#Variables)\n",
    "    * [Asignación](#Asignacion)\n",
    "        * [Asignación multiple](#Asignacion-multiple)\n",
    "    * [Indexado](#Indexado)\n",
    "    * [Tipos de variables](#Tipos-de-variables)\n",
    "* [Pongamos en práctica lo aprendido antes que se nos olvide](#Pongamos-en-practica-lo-aprendido-antes-que-se-nos-olvide)\n",
    "* [Ahora es tu turno!](#Ahora-es-tu-turno!)\n",
    "* [Tipos de datos complejos](#Tipos-de-datos-complejos)\n",
    "    * [Listas](#Listas)\n",
    "        * [Otras operaciones](#Otras-operaciones-I)\n",
    "    * [Tuplas](#Tuplas)\n",
    "    * [Diccionarios](#Diccionarios)\n",
    "        * [Otras operaciones](#Otras-operaciones_II)\n",
    "* [Referencias](#Referencias)\n",
    "* [Licencia](#Licencia)"
   ]
  },
  {
   "cell_type": "markdown",
   "metadata": {},
   "source": [
    "Para agregar cuando definamos estructuras"
   ]
  },
  {
   "cell_type": "markdown",
   "metadata": {},
   "source": [
    "## PEP 8 - guia de estilo\n",
    "\n",
    "![](../imagenes/elegante_100x200.png)\n",
    "\n",
    "La elegancia de la sintaxis de Python, \"obliga\" de alguna manera cumplir con una cantidad de **reglas de escritura**. Para esto existe PEP “Propuestas de Mejora Python” (**Python Enhancement Proposals**), existen muchos Peps, el [PEP 8](https://www.python.org/dev/peps/pep-0008/#type-variable-names) en concreto es la propuesta del estándar de programación y buenas prácticas para el lenguaje. Es en general una guía para mejorar la legibilidad del código y hacerlo tan consistente como se pueda.\n",
    "\n",
    "> Las reglas más importantes van a ser **mencionadas como notas** a lo largo del workshop."
   ]
  },
  {
   "cell_type": "markdown",
   "metadata": {},
   "source": [
    "El IDE [Atom](https://ide.atom.io/) posee un plugin que ayuda a cuidar los detalles de escritura propuestos por **PEP 8**."
   ]
  },
  {
   "cell_type": "markdown",
   "metadata": {},
   "source": [
    "> **PEP 8 - Indentado:** una indentación de 4 (cuatro) espacios en blanco, indicará que las instrucciones indentadas, forman parte de una misma estructura de control.\n",
    "\n",
    "> **PEP 8 - Comentarios:** comentarios en la misma línea del código deben separarse con dos espacios en blanco. Luego del símbolo # debe ir un solo espacio en blanco.\n",
    "\n",
    "``` python\n",
    "# Correcto\n",
    "a = 15  # Edad de María\n",
    " \n",
    "# Incorrecto\n",
    "a = 15 # Edad de María\n",
    "```"
   ]
  },
  {
   "cell_type": "markdown",
   "metadata": {},
   "source": [
    "Operadores in-place\n",
    "> **Nota:** `ii += 1` equivale a `ii = ii + 1`. En el segundo Python, realiza la operación `ii + 1` creando un nuevo objeto con ese valor y luego lo asigna a la variable `ii`; es decir, existe una reasignación. En el primero, sin embargo, el incremento se produce sobre la propia variable. Esto puede conducirnos a mejoras en velocidad. Otros operadores **in-place** son: `-=`, `*=`, `/=` "
   ]
  },
  {
   "cell_type": "markdown",
   "metadata": {},
   "source": [
    "tipo de dato range"
   ]
  },
  {
   "cell_type": "code",
   "execution_count": null,
   "metadata": {},
   "outputs": [],
   "source": [
    "# Devuelve un rango de valores\n",
    "range(6)"
   ]
  },
  {
   "cell_type": "markdown",
   "metadata": {
    "jupyter": {
     "source_hidden": true
    }
   },
   "source": [
    "## Funciones integradas\n",
    "\n",
    "A continuación se presenta algunas de las **funciones útiles**, que vienen **integradas en Python** (sin necesidad de importar ningún módulo), que pueden ser utilizadas con la mayoría de los datos. Estas funciones son pertenecientes a la [librería estandar](https://docs.python.org/3/library/) de Python."
   ]
  },
  {
   "cell_type": "code",
   "execution_count": null,
   "metadata": {},
   "outputs": [],
   "source": [
    "# Devuelve una tupla formada por el cociente y el resto de la divión \n",
    "divmod(13, 4) "
   ]
  },
  {
   "cell_type": "code",
   "execution_count": null,
   "metadata": {},
   "outputs": [],
   "source": [
    "# Devuelve x elevado a y\n",
    "pow(2, 3)"
   ]
  },
  {
   "cell_type": "code",
   "execution_count": null,
   "metadata": {},
   "outputs": [],
   "source": [
    "# Calcula el valor absoluto\n",
    "abs(-6)"
   ]
  },
  {
   "cell_type": "code",
   "execution_count": null,
   "metadata": {},
   "outputs": [],
   "source": [
    "# Devuelve el argumento redondeado al entero más próximo\n",
    "round(4.35)"
   ]
  },
  {
   "cell_type": "code",
   "execution_count": null,
   "metadata": {},
   "outputs": [],
   "source": [
    "# Idem, redondeado en la posición indicada por el segundo argumento\n",
    "round(4.3527, 2)"
   ]
  },
  {
   "cell_type": "code",
   "execution_count": null,
   "metadata": {},
   "outputs": [],
   "source": [
    "# Calcula el valor máximo de un conjunto de valores (numéricos o alfabéticos)\n",
    "max(4, 5, -2, 8, 3.5, -10)"
   ]
  },
  {
   "cell_type": "code",
   "execution_count": null,
   "metadata": {},
   "outputs": [],
   "source": [
    "max(\"David\", \"Alicia\", \"Tomás\", \"Emilio\")"
   ]
  },
  {
   "cell_type": "code",
   "execution_count": null,
   "metadata": {},
   "outputs": [],
   "source": [
    "# Calcula el valor mínimo de un conjunto de valores (numéricos o alfabéticos)\n",
    "min(4, 5, -2, 8, 3.5, -10)"
   ]
  },
  {
   "cell_type": "code",
   "execution_count": null,
   "metadata": {},
   "outputs": [],
   "source": [
    "min(\"David\", \"Alicia\", \"Tomás\", \"Emilio\")"
   ]
  },
  {
   "cell_type": "code",
   "execution_count": null,
   "metadata": {},
   "outputs": [],
   "source": [
    "# Calcula la suma de un conjunto de valores, \n",
    "# debe ser un tipo de datos iterable (tupla, rango, lista, conjunto o diccionario)\n",
    "sum((1, 2, 3, 4, 5))"
   ]
  },
  {
   "cell_type": "code",
   "execution_count": null,
   "metadata": {},
   "outputs": [],
   "source": [
    "sum(range(6))"
   ]
  },
  {
   "cell_type": "code",
   "execution_count": null,
   "metadata": {},
   "outputs": [],
   "source": [
    "# Ordena un conjunto de valores,\n",
    "# debe ser un tipo de datos iterable (tupla, rango, lista, conjunto o diccionario)\n",
    "sorted((10, 2, 8, -3, 6))"
   ]
  },
  {
   "cell_type": "markdown",
   "metadata": {},
   "source": [
    "### Funcion type"
   ]
  },
  {
   "cell_type": "code",
   "execution_count": 1,
   "metadata": {},
   "outputs": [
    {
     "data": {
      "text/plain": [
       "int"
      ]
     },
     "execution_count": 1,
     "metadata": {},
     "output_type": "execute_result"
    }
   ],
   "source": [
    "type(42)"
   ]
  },
  {
   "cell_type": "code",
   "execution_count": null,
   "metadata": {},
   "outputs": [],
   "source": [
    "type(\"Python\")"
   ]
  },
  {
   "cell_type": "code",
   "execution_count": null,
   "metadata": {},
   "outputs": [],
   "source": [
    "type(3.14)"
   ]
  },
  {
   "cell_type": "markdown",
   "metadata": {},
   "source": [
    "Incluso preguntar si es un tipo particular."
   ]
  },
  {
   "cell_type": "code",
   "execution_count": null,
   "metadata": {},
   "outputs": [],
   "source": [
    "isinstance('Maxi', str)"
   ]
  },
  {
   "cell_type": "code",
   "execution_count": null,
   "metadata": {},
   "outputs": [],
   "source": [
    "isinstance('Maxi', int)"
   ]
  },
  {
   "cell_type": "markdown",
   "metadata": {},
   "source": [
    "Función muy útil para controlar ingresos de usuarios o argumentos de funciones."
   ]
  },
  {
   "cell_type": "markdown",
   "metadata": {},
   "source": [
    "### Funcion help"
   ]
  },
  {
   "cell_type": "code",
   "execution_count": null,
   "metadata": {},
   "outputs": [],
   "source": [
    "help (10)"
   ]
  },
  {
   "cell_type": "code",
   "execution_count": null,
   "metadata": {},
   "outputs": [],
   "source": [
    "help (3.1)"
   ]
  },
  {
   "cell_type": "code",
   "execution_count": null,
   "metadata": {},
   "outputs": [],
   "source": [
    "help (str)"
   ]
  },
  {
   "cell_type": "code",
   "execution_count": null,
   "metadata": {},
   "outputs": [],
   "source": [
    "str??"
   ]
  },
  {
   "cell_type": "markdown",
   "metadata": {},
   "source": [
    "# Variables\n",
    "\n",
    "Un poco mas sobre variables"
   ]
  },
  {
   "cell_type": "code",
   "execution_count": null,
   "metadata": {},
   "outputs": [],
   "source": [
    "ancho = 20\n",
    "largo = 5 * 9\n",
    "ancho * largo"
   ]
  },
  {
   "cell_type": "markdown",
   "metadata": {},
   "source": [
    "Para tener en cuenta con respecto a los nombres de variables, es que son **Case sensitive** (valor explicito)."
   ]
  },
  {
   "cell_type": "code",
   "execution_count": null,
   "metadata": {},
   "outputs": [],
   "source": [
    "a = 5\n",
    "A = 3\n",
    "a + A"
   ]
  },
  {
   "cell_type": "code",
   "execution_count": null,
   "metadata": {},
   "outputs": [],
   "source": [
    "#1a = 4  # Primer carácter debe ser una letra"
   ]
  },
  {
   "cell_type": "markdown",
   "metadata": {},
   "source": [
    "Utilización de la opción **autocompletar** (TAB) (valor implicito)"
   ]
  },
  {
   "cell_type": "code",
   "execution_count": null,
   "metadata": {},
   "outputs": [],
   "source": [
    "altura_triangulo = 3\n",
    "base_triangulo = 2"
   ]
  },
  {
   "cell_type": "code",
   "execution_count": null,
   "metadata": {},
   "outputs": [],
   "source": [
    "# area_triangulo = "
   ]
  },
  {
   "cell_type": "markdown",
   "metadata": {},
   "source": [
    "#### Asignacion multiple\n",
    "\n",
    "Se puede asignar un solo valor a varias variables simultáneamente:"
   ]
  },
  {
   "cell_type": "code",
   "execution_count": null,
   "metadata": {},
   "outputs": [],
   "source": [
    "a = b = c = 1\n",
    "a, b, c"
   ]
  },
  {
   "cell_type": "markdown",
   "metadata": {},
   "source": [
    "También se pueden asignar varios objetos a múltiples variables:"
   ]
  },
  {
   "cell_type": "code",
   "execution_count": null,
   "metadata": {},
   "outputs": [],
   "source": [
    "a, b, c = 1, 2, \"Maxi\"\n",
    "a, b, c"
   ]
  },
  {
   "cell_type": "markdown",
   "metadata": {},
   "source": [
    "> **PEP 8 - Nombre de variables:** utilizar nombres descriptivos y en minúsculas. Para nombres compuestos, separar las palabras por guiones bajos. Antes y después del signo =, debe haber uno (y solo un) espacio en blanco.\n",
    "\n",
    "\n",
    "``` python\n",
    "# Correcto\n",
    "mi_variable = 12\n",
    " \n",
    "# Incorrectos\n",
    "MiVariable = 12\n",
    "mivariable = 12\n",
    "mi_variable=12\n",
    "mi_variable = 12\n",
    "```"
   ]
  },
  {
   "cell_type": "markdown",
   "metadata": {},
   "source": [
    "Algunos nombres no pueden ser usados porque estan reservados:"
   ]
  },
  {
   "cell_type": "code",
   "execution_count": null,
   "metadata": {},
   "outputs": [],
   "source": [
    "import keyword\n",
    "print(keyword.kwlist)"
   ]
  },
  {
   "cell_type": "markdown",
   "metadata": {},
   "source": [
    "Si hablamos de la **conversión de la materia en energía**, en que pensamos...\n",
    "\n",
    "![](../imagenes/emc2_pic.png)\n",
    "\n",
    "$E=mc^2$\n",
    "\n",
    "Esta ecuación sorprendentemente sencilla, vincula los mundos antes separados de la **materia** y la **energía**, y se puede utilizar para **encontrar la cantidad de energía que se libera conforme la materia se destruye en reacciones nucleares** tanto naturales como inducidas por el hombre.\n",
    "El **Sol** irradia $385x10^{24} \\text{J/s}$ de energía, los cuales se generan mediante reacciones nucleares\n",
    "que **convierten la materia en energía**. \n",
    "\n",
    "*Determinar junto a la ecuación de Einstein, cuánta materia se debe convertir en energía para producir esa cantidad de radiación en un día.*\n",
    "\n",
    "Ayudas: \n",
    "* $c=3.0x10^8 \\text{m/s}$.\n",
    "* $1\\text{J = kg m}^2/\\text{s}^2$\n",
    "\n",
    "Respuesta: \n",
    "* $m = 3.6960x10^{14}$"
   ]
  },
  {
   "cell_type": "code",
   "execution_count": null,
   "metadata": {},
   "outputs": [],
   "source": [
    "%run ../scripts/ecuación_einstein.py"
   ]
  },
  {
   "cell_type": "markdown",
   "metadata": {},
   "source": [
    "## Indexado\n",
    "\n",
    "un poco mas de indexado"
   ]
  },
  {
   "cell_type": "code",
   "execution_count": null,
   "metadata": {},
   "outputs": [],
   "source": [
    "x[0:2] # Un slice de un string, es otro string"
   ]
  },
  {
   "cell_type": "code",
   "execution_count": null,
   "metadata": {},
   "outputs": [],
   "source": [
    "x[:5]"
   ]
  },
  {
   "cell_type": "code",
   "execution_count": null,
   "metadata": {},
   "outputs": [],
   "source": [
    "x[1:-1]"
   ]
  },
  {
   "cell_type": "code",
   "execution_count": null,
   "metadata": {},
   "outputs": [],
   "source": [
    "x[:]"
   ]
  },
  {
   "cell_type": "code",
   "execution_count": null,
   "metadata": {},
   "outputs": [],
   "source": [
    "x[0:5:2]"
   ]
  },
  {
   "cell_type": "code",
   "execution_count": null,
   "metadata": {},
   "outputs": [],
   "source": [
    "x[::-1]"
   ]
  },
  {
   "cell_type": "markdown",
   "metadata": {},
   "source": [
    "Por ejemplo, si quisieramos saber si una palabra es **palindromo** (es igual si se lee de izquierda a derecha que de derecha a izquierda), usamos lo anteriormente aprendido:"
   ]
  },
  {
   "cell_type": "code",
   "execution_count": null,
   "metadata": {},
   "outputs": [],
   "source": [
    "x = 'reconocer'\n",
    "if x == x[::-1]:\n",
    "    print('La palabra: ' + x + ', es palindromo')"
   ]
  },
  {
   "cell_type": "markdown",
   "metadata": {},
   "source": [
    "En el caso de expresiones se complica un poco más."
   ]
  },
  {
   "cell_type": "markdown",
   "metadata": {},
   "source": [
    "> **Nota:** los **objetos string** requiere de un apartado especial, más adelante vamos hablar en detalle."
   ]
  },
  {
   "cell_type": "markdown",
   "metadata": {},
   "source": [
    "## Modulos\n",
    "\n",
    "Para aquellas funciones que **no estan dentro de la librería estandar, se utilizan módulos, archivos Python **.py** que constan de código Python**. Un módulo puede definir funciones, clases y variables, ademas puede incluir código ejecutable. Se puede hacer referencia a cualquier archivo de Python como un módulo. Un archivo de Python llamado hello.py tiene el nombre de módulo \"hello\" que se puede importar a otros archivos de Python o utilizar en el intérprete de línea de comandos de Python. Estos módulos, a la vez, pueden formar parte de **paquetes**. Un paquete, **es una carpeta que contiene archivos .py**, pero para que una carpeta pueda ser considerada un paquete, debe **contener un archivo de inicio llamado __init__.py**. \n",
    "\n",
    "> **Nota:** este archivo, no necesita contener ninguna instrucción. De hecho, puede estar completamente vacío.\n",
    "\n",
    "La estructura general de un modulo es:\n",
    "\n",
    "![](../img/estructura_modulos.jpg)\n",
    "\n",
    "### ¿Por que usar paquetes de modulos? DEJARLO PARA UN APARTADO FUTURO\n",
    "\n",
    "Proveen una manera fácil de organizar los componentes de software de un sistema, utilizando el concepto de **namespaces** (en Python, un namespace, es el nombre que se ha indicado luego de la palabra `import`, es decir la ruta **namespace** del módulo)\n",
    "\n",
    "**Ventajas:**\n",
    "\n",
    "* Reutilización de código: diseño modular de software.\n",
    "* Particionamiento del namespace: agrupa nombres por funcionalidad.\n",
    "\n",
    "**Estructura de un programa en Python:**\n",
    "\n",
    "* Un archivo top-level\n",
    "* Uno o más archivos suplemetarios, conocidos como módulos\n",
    "\n",
    "Una declaración de `import`  se compone de la palabra clave `import`  junto con el nombre del módulo.\n",
    "\n",
    "Cuando importamos un módulo, lo estamos poniendo a nuestra disposición en nuestro programa actual referenciandolo a la función en notación de punto, como **[module].[function]**.\n",
    "\n",
    "Para continuar aprendiendo de modulos ir al siguiente [link](http://librosweb.es/libro/python/capitulo_3.html)."
   ]
  },
  {
   "cell_type": "markdown",
   "metadata": {},
   "source": [
    "### Modulos matematicos - math y cmath"
   ]
  },
  {
   "cell_type": "code",
   "execution_count": null,
   "metadata": {},
   "outputs": [],
   "source": [
    "# Operaciones matemáticas comunes\n",
    "\n",
    "import math\n",
    "\n",
    "print(\"sin(2\\u03c0/3) = {}\".format(math.sin(2 * math.pi / 3)))\n",
    "print(\"cos(2\\u03c0/3) = {}\".format(math.cos(2 * math.pi / 3)))"
   ]
  },
  {
   "cell_type": "code",
   "execution_count": null,
   "metadata": {},
   "outputs": [],
   "source": [
    "# En cmath tambien se encuentran las de números complejos\n",
    "\n",
    "import cmath\n",
    "\n",
    "z = 2 + 3j\n",
    "print(\"{0:.3} = modulo = {1[0]:.3} fase = {1[1]:.3}\".format(z,cmath.polar(z)))\n",
    "print(\"sin(z) = {0:.3f}\".format(cmath.sin(z)))"
   ]
  },
  {
   "cell_type": "markdown",
   "metadata": {},
   "source": [
    "### From ... import\n",
    "\n",
    "Para hacer **referencia a los elementos de un módulo**, puede usar la declaración de `from ... import`. Cuando se importa un módulos de esta manera, puede referirse a las funciones por nombres y no a través de la notación de punto."
   ]
  },
  {
   "cell_type": "code",
   "execution_count": null,
   "metadata": {},
   "outputs": [],
   "source": [
    "from math import floor\n",
    "\n",
    "# redondear un número al entero anterior\n",
    "floor(5 / 2)"
   ]
  },
  {
   "cell_type": "code",
   "execution_count": null,
   "metadata": {},
   "outputs": [],
   "source": [
    "from math import ceil\n",
    "\n",
    "# redondear un número al entero posterior\n",
    "math.ceil(5 / 2)"
   ]
  },
  {
   "cell_type": "markdown",
   "metadata": {},
   "source": [
    "### Import ... as\n",
    "\n",
    "Es posible **modificar los nombres de los módulos y sus funciones dentro de Python** utilizando la palabra clave `as`. Esto es útil para cambiar un nombre porque ya fue usado el mismo nombre para otra cosa en el programa, otro módulo que hse importó, o para abreviar un nombre más largo.\n",
    "La construcción de esta declaración se ven así:`import [module] as [another_name]`.\n"
   ]
  },
  {
   "cell_type": "code",
   "execution_count": null,
   "metadata": {},
   "outputs": [],
   "source": [
    "%matplotlib inline\n",
    "import matplotlib.pyplot as plt  # módulo para hacer plot\n",
    "\n",
    "plt.plot(range(7),range(7),'-.',color='b' )"
   ]
  },
  {
   "cell_type": "markdown",
   "metadata": {},
   "source": [
    "Veamos otro ejemplo, la **aproximación de orden 3 del desarrollo de Taylor en 0 de la función seno** es (crean que es así...):\n",
    "\n",
    "$sen(x)\\approx x-x^{3}/6$"
   ]
  },
  {
   "cell_type": "code",
   "execution_count": null,
   "metadata": {},
   "outputs": [],
   "source": [
    "import numpy as np  # módulo para trabajar con array\n",
    "import matplotlib.pyplot as plt # módulo para hacer plot\n",
    "\n",
    "x = np.linspace(-np.pi,+np.pi,100)\n",
    "aprox = x - np.power(x,3)/6\n",
    "\n",
    "plt.plot(x/np.pi,np.sin(x),'r',x/np.pi,aprox,'.')\n",
    "plt.xlabel(\"radianes [$\\pi$]\")\n",
    "plt.ylabel(\"Amplitud\")\n",
    "plt.grid()"
   ]
  },
  {
   "cell_type": "markdown",
   "metadata": {},
   "source": [
    "### Tipos de variables\n",
    "\n",
    "En Python tenemos tipos mutables (como **listas**, **diccionarios**) e inmutables (como los **numéricos**, **tuplas**, **string**)\n",
    "\n",
    "* **Mutable:** el valor del objeto puede cambiar durante la vida del objeto\n",
    "* **Inmutable:** el valor del objeto no puede cambiar durante la vida del objeto\n"
   ]
  },
  {
   "cell_type": "code",
   "execution_count": null,
   "metadata": {},
   "outputs": [],
   "source": [
    "i = 78\n",
    "i"
   ]
  },
  {
   "cell_type": "markdown",
   "metadata": {},
   "source": [
    "![](../imagenes/variables_objetos_04.png)"
   ]
  },
  {
   "cell_type": "code",
   "execution_count": null,
   "metadata": {},
   "outputs": [],
   "source": [
    "i += 2\n",
    "i"
   ]
  },
  {
   "cell_type": "markdown",
   "metadata": {},
   "source": [
    "![](../imagenes/variables_objetos_05.png)"
   ]
  },
  {
   "cell_type": "code",
   "execution_count": null,
   "metadata": {},
   "outputs": [],
   "source": [
    "i -= 2\n",
    "i"
   ]
  },
  {
   "cell_type": "markdown",
   "metadata": {},
   "source": [
    "## Pongamos en practica lo aprendido antes que se nos olvide\n",
    "\n",
    "La curva de olvido ilustra la pérdida del conocimiento adquirido con el tiempo. Un concepto relacionado con la intensidad del recuerdo, que indica cuánto se mantiene un contenido en el cerebro. Cuanto más intenso sea un recuerdo, más tiempo se mantiene. Un gráfico  típico de la curva del olvido muestra que normalmente en unos días o semanas se olvida la mitad de lo que hemos aprendido, a no ser que lo repasemos. Una aproximación matemática a la curva de la memoria es la siguiente fórmula (Hermann Ebbinghaus):\n",
    "\n",
    "$$R=e^{-t/s}$$\n",
    "\n",
    "donde $R$ representa la curva de olvido, $S$ la intensidad (porcentaje) de lo aprendido y $t$ el tiempo en horas."
   ]
  },
  {
   "cell_type": "code",
   "execution_count": 1,
   "metadata": {},
   "outputs": [
    {
     "name": "stderr",
     "output_type": "stream",
     "text": [
      "findfont: Font family ['xkcd', 'xkcd Script', 'Humor Sans', 'Comic Sans MS'] not found. Falling back to DejaVu Sans.\n",
      "findfont: Font family ['xkcd', 'xkcd Script', 'Humor Sans', 'Comic Sans MS'] not found. Falling back to DejaVu Sans.\n"
     ]
    },
    {
     "data": {
      "image/png": "[encoded data removed]",
      "text/plain": [
       "<Figure size 432x288 with 1 Axes>"
      ]
     },
     "metadata": {},
     "output_type": "display_data"
    }
   ],
   "source": [
    "# permite hacer plot en lineas de comando\n",
    "%matplotlib inline \n",
    "\n",
    "# importando módulos \n",
    "import matplotlib.pyplot as plt  # módulo para hacer plot\n",
    "import numpy as np  # módulo para trabajar con array\n",
    "\n",
    "plt.xkcd()  # Estilo de plot\n",
    "\n",
    "T = np.linspace(1, 24*10, 100) \n",
    "\n",
    "s1 = 100\n",
    "arg1 = T/s1\n",
    "R1 = np.exp(-arg1)\n",
    "\n",
    "s2 = 50\n",
    "arg2 = T/s2\n",
    "R2 = np.exp(-arg2)\n",
    "\n",
    "plt.plot(T/24,R1*100,'.',color='r' )\n",
    "plt.plot(T/24,R2*100,'.',color='b' )\n",
    "\n",
    "plt.title('Curva del olvido')\n",
    "plt.xlabel('t [dias]')\n",
    "plt.ylabel('R[%]')\n",
    "plt.show()"
   ]
  },
  {
   "cell_type": "markdown",
   "metadata": {},
   "source": [
    "> Para aquellos que vienen de MATLAB, algunas cosas les resulten un poco más familiares y otras no tanto. De todas formas este ejemplo engloba muchos elementos que iremos abordando a lo largo del workshop. Por lo tanto, no entrar en pánico y disfrutar el viaje. "
   ]
  },
  {
   "cell_type": "markdown",
   "metadata": {},
   "source": [
    "### Ahora es tu turno! \n",
    "\n",
    "![](../imagenes/homero_200x100.png)\n",
    "\n",
    "Con ayuda del anterior ejemplo, escribir el primer script en python (desde el editor de texto y almacenar en .py) para calcular la velocidad del sonido [m/s] en el aire a partir de la ecuación de **Boyle-Mariotte** [Möser M., Barros J.L, 2009]:\n",
    "\n",
    "$$c(t) = \\sqrt{k \\frac{R}{M_{mol}}t}$$\n",
    "\n",
    "Esta depende solo del medio y de la temperatura absoluta, pero no de la presión o densidad estáticas. Si se ingresan los valores típicos para el aire:  \n",
    "\n",
    "$$M_{mol} = 28,8 x 10^{-3} \\text{ kg/mol}$$\n",
    "$$t = 288 \\text{ K (15°C)}$$\n",
    "$$k = 1,4$$\n",
    "$$R = 8,314 \\text{ J/mol K como J = N*m, N = kg*m/s 2}$$\n",
    "\n",
    "Realizarlo para un intervalo de temperaturas.\n",
    "\n",
    "**Ayudas:**\n",
    "\n",
    "* `t = np.array(range(25))`\n",
    "* `c = np.sqrt(k*R*T/M_mol)`"
   ]
  },
  {
   "cell_type": "code",
   "execution_count": null,
   "metadata": {},
   "outputs": [],
   "source": [
    "%run vel_prop.py"
   ]
  },
  {
   "cell_type": "code",
   "execution_count": null,
   "metadata": {},
   "outputs": [],
   "source": [
    "#%load vel_prop.py"
   ]
  },
  {
   "cell_type": "markdown",
   "metadata": {},
   "source": [
    "## Tipos de datos complejos\n",
    "\n",
    "Python, posee además de los tipos de datos ya vistos (primitivas, string, entre otros), 3 tipos más complejos, que admiten datos de varios tipos. Comencemos por las **secuencias de elementos ordenados**: **listas** y **tuplas**.\n",
    "\n",
    "### Listas\n",
    "\n",
    "Una lista es una variable que permite almacenar varios **datos mutables** (pueden ser modificados una vez creados) de tipos diferentes. Usaremos listas para poder modelar datos compuestos pero cuya cantidad y valor varían a lo largo del tiempo\n",
    "\n",
    "![](../imagenes/listas.png)"
   ]
  },
  {
   "cell_type": "code",
   "execution_count": null,
   "metadata": {},
   "outputs": [],
   "source": [
    "x = []  # Una lista vacía\n",
    "y = [0,1,2,3,4,5]  # Una lista de enteros\n",
    "z = list(range(6))  # La misma lista de enteros\n",
    "\n",
    "# Listas heterogéneas\n",
    "s = [32, \"a\", -5, -2.349, [1,2,3], \"te\", \"crees\", \"muy\", \"lista?\"] \n",
    "\n",
    "l = [x,y,z]  # Lista de listas"
   ]
  },
  {
   "cell_type": "code",
   "execution_count": null,
   "metadata": {},
   "outputs": [],
   "source": [
    "type(z)"
   ]
  },
  {
   "cell_type": "code",
   "execution_count": null,
   "metadata": {},
   "outputs": [],
   "source": [
    "# verificar las variables creadas\n",
    "s"
   ]
  },
  {
   "cell_type": "code",
   "execution_count": null,
   "metadata": {},
   "outputs": [],
   "source": [
    "x = [\"primero\", \"segundo\", \"tercero\", \"cuarto\", \"quinto\"]\n",
    "x[0]"
   ]
  },
  {
   "cell_type": "code",
   "execution_count": null,
   "metadata": {},
   "outputs": [],
   "source": [
    "len(x) # longitud de la lista"
   ]
  },
  {
   "cell_type": "markdown",
   "metadata": {},
   "source": [
    "Podemos **indexar** las secuencias, utilizando la sintaxis `[<inicio>:<final>:<salto>]`:"
   ]
  },
  {
   "cell_type": "markdown",
   "metadata": {},
   "source": [
    "![](../imagenes/indexing.png)"
   ]
  },
  {
   "cell_type": "code",
   "execution_count": null,
   "metadata": {},
   "outputs": [],
   "source": [
    "x[4]"
   ]
  },
  {
   "cell_type": "code",
   "execution_count": null,
   "metadata": {},
   "outputs": [],
   "source": [
    "x[-1]"
   ]
  },
  {
   "cell_type": "code",
   "execution_count": null,
   "metadata": {},
   "outputs": [],
   "source": [
    "x[-2]"
   ]
  },
  {
   "cell_type": "code",
   "execution_count": null,
   "metadata": {},
   "outputs": [],
   "source": [
    "x[0:2]  # Un slice de una lista, es también una lista"
   ]
  },
  {
   "cell_type": "code",
   "execution_count": null,
   "metadata": {},
   "outputs": [],
   "source": [
    "x[0:4]"
   ]
  },
  {
   "cell_type": "code",
   "execution_count": null,
   "metadata": {},
   "outputs": [],
   "source": [
    "x[:5] "
   ]
  },
  {
   "cell_type": "code",
   "execution_count": null,
   "metadata": {},
   "outputs": [],
   "source": [
    "x[1:-1]"
   ]
  },
  {
   "cell_type": "code",
   "execution_count": null,
   "metadata": {},
   "outputs": [],
   "source": [
    "x[:]"
   ]
  },
  {
   "cell_type": "code",
   "execution_count": null,
   "metadata": {},
   "outputs": [],
   "source": [
    "x[0:5:2]"
   ]
  },
  {
   "cell_type": "code",
   "execution_count": null,
   "metadata": {},
   "outputs": [],
   "source": [
    "x[1:5:2]"
   ]
  },
  {
   "cell_type": "code",
   "execution_count": null,
   "metadata": {},
   "outputs": [],
   "source": [
    "x[-1:-4:-1]"
   ]
  },
  {
   "cell_type": "code",
   "execution_count": null,
   "metadata": {},
   "outputs": [],
   "source": [
    "x[::-1]"
   ]
  },
  {
   "cell_type": "markdown",
   "metadata": {},
   "source": [
    "Las listas son **mutables** (como habiamos mencionado anteriormente). Esto implica que su **estructura puede cambiar**."
   ]
  },
  {
   "cell_type": "code",
   "execution_count": null,
   "metadata": {},
   "outputs": [],
   "source": [
    "x"
   ]
  },
  {
   "cell_type": "code",
   "execution_count": null,
   "metadata": {},
   "outputs": [],
   "source": [
    "x[1] = 2\n",
    "x"
   ]
  },
  {
   "cell_type": "code",
   "execution_count": null,
   "metadata": {},
   "outputs": [],
   "source": [
    "x[0:2] = [\"hh\", \"tt\"]  # slicing también funciona\n",
    "x"
   ]
  },
  {
   "cell_type": "code",
   "execution_count": null,
   "metadata": {},
   "outputs": [],
   "source": [
    "x[0:3] = [\"???\"]\n",
    "x"
   ]
  },
  {
   "cell_type": "code",
   "execution_count": null,
   "metadata": {},
   "outputs": [],
   "source": [
    "x[1:1] = [\"333\"]\n",
    "x"
   ]
  },
  {
   "cell_type": "code",
   "execution_count": null,
   "metadata": {},
   "outputs": [],
   "source": [
    "x = [1,2,3]\n",
    "x.append(\"cuatro\") # equivalente a x[len(x):] = [\"cuatro\"]\n",
    "x"
   ]
  },
  {
   "cell_type": "code",
   "execution_count": null,
   "metadata": {},
   "outputs": [],
   "source": [
    "y = [5,6,7]\n",
    "x.append(y) # equivalente a x[len(x):] = [y]\n",
    "x"
   ]
  },
  {
   "cell_type": "code",
   "execution_count": null,
   "metadata": {},
   "outputs": [],
   "source": [
    "x = [1,2,3]\n",
    "y = [5,6,7]\n",
    "x.extend(y)  # equivalente a x[len(x):] = y\n",
    "x"
   ]
  },
  {
   "cell_type": "code",
   "execution_count": null,
   "metadata": {},
   "outputs": [],
   "source": [
    "x.insert(2, \"hola\") # equivalente a x[2:2] = [\"hola\"]\n",
    "x"
   ]
  },
  {
   "cell_type": "code",
   "execution_count": null,
   "metadata": {},
   "outputs": [],
   "source": [
    "x.insert(0,\"primero\") # equivalente a x[0:0] = [\"primero\"]\n",
    "x"
   ]
  },
  {
   "cell_type": "code",
   "execution_count": null,
   "metadata": {},
   "outputs": [],
   "source": [
    "x.insert(-1,1000)\n",
    "x"
   ]
  },
  {
   "cell_type": "code",
   "execution_count": null,
   "metadata": {},
   "outputs": [],
   "source": [
    "del x[0]  # equivalente a x[0:1] = []\n",
    "x"
   ]
  },
  {
   "cell_type": "code",
   "execution_count": null,
   "metadata": {},
   "outputs": [],
   "source": [
    "del x[2:5] # equivalente a x[2:5] = []\n",
    "x"
   ]
  },
  {
   "cell_type": "code",
   "execution_count": null,
   "metadata": {},
   "outputs": [],
   "source": [
    "help(list.extend)"
   ]
  },
  {
   "cell_type": "code",
   "execution_count": null,
   "metadata": {},
   "outputs": [],
   "source": [
    "help(list.reverse)\n",
    "\n",
    "# probar también help(list)"
   ]
  },
  {
   "cell_type": "markdown",
   "metadata": {},
   "source": [
    "#### Otras operaciones I"
   ]
  },
  {
   "cell_type": "code",
   "execution_count": null,
   "metadata": {},
   "outputs": [],
   "source": [
    "x = [1,2,3]\n",
    "y = [4,5,6]\n",
    "x + y"
   ]
  },
  {
   "cell_type": "code",
   "execution_count": null,
   "metadata": {},
   "outputs": [],
   "source": [
    "1 in x # parecido a find en MATLAB."
   ]
  },
  {
   "cell_type": "code",
   "execution_count": null,
   "metadata": {},
   "outputs": [],
   "source": [
    "4 in x"
   ]
  },
  {
   "cell_type": "code",
   "execution_count": null,
   "metadata": {},
   "outputs": [],
   "source": [
    "5 not in x"
   ]
  },
  {
   "cell_type": "code",
   "execution_count": null,
   "metadata": {},
   "outputs": [],
   "source": [
    "x = [None]*10\n",
    "x"
   ]
  },
  {
   "cell_type": "code",
   "execution_count": null,
   "metadata": {},
   "outputs": [],
   "source": [
    "x = [1,2]*3\n",
    "x"
   ]
  },
  {
   "cell_type": "code",
   "execution_count": null,
   "metadata": {},
   "outputs": [],
   "source": [
    "bs = [5,2,4,2]\n",
    "cs = sorted(bs) # ordenar en una nueva variable\n",
    "cs"
   ]
  },
  {
   "cell_type": "code",
   "execution_count": null,
   "metadata": {},
   "outputs": [],
   "source": [
    "ds = [5,3,4,5]\n",
    "ds.sort() # ordena en la misma variable\n",
    "ds"
   ]
  },
  {
   "cell_type": "markdown",
   "metadata": {},
   "source": [
    "### Tuplas\n",
    "\n",
    "Una tupla es una variable que permite almacenar varios **datos inmutables**, son como las listas, pero no pueden ser modificadas, sólo creadas. Se pueden pensar como una lista de sólo lectura."
   ]
  },
  {
   "cell_type": "code",
   "execution_count": null,
   "metadata": {},
   "outputs": [],
   "source": [
    "t = ('a','b','c')\n",
    "t"
   ]
  },
  {
   "cell_type": "code",
   "execution_count": null,
   "metadata": {},
   "outputs": [],
   "source": [
    "a = (\"Voten\",\"por\",\"mi\")\n",
    "a"
   ]
  },
  {
   "cell_type": "code",
   "execution_count": null,
   "metadata": {},
   "outputs": [],
   "source": [
    "# Es común ver este tipo de expresiones. Se llama tuple unpacking\n",
    "\n",
    "x, y, z = 'a', 7, 9"
   ]
  },
  {
   "cell_type": "code",
   "execution_count": null,
   "metadata": {},
   "outputs": [],
   "source": [
    "a = "
   ]
  },
  {
   "cell_type": "markdown",
   "metadata": {},
   "source": [
    "¿Por qué usar **tuplas** y **no listas**?\n",
    "\n",
    "* Son un poco más eficientes que las listas y ocupan menos memoria.\n",
    "* Se usan en general donde se requiere una secuencia inmutable, como en el **key** de un diccionario.\n",
    "* Los argumentos a función son pasados como tuplas."
   ]
  },
  {
   "cell_type": "markdown",
   "metadata": {},
   "source": [
    "### Diccionarios\n",
    "\n",
    "![](../imagenes/diccionario.png)\n",
    "\n",
    "Mientras que a las listas y tuplas se accede solo y únicamente por un número de índice, los diccionarios permiten utilizar una **key** para declarar y acceder a un valor:\n",
    "\n",
    "Características:\n",
    "\n",
    "* Los diccionarios en Python se acceden con enteros, strings u otros objetos llamados **keys** en este contexto.\n",
    "* Como las listas, pueden contener cualquier tipo de objeto en **values**.\n",
    "* A diferencia de las listas, que estaban implícitamente ordenadas, **los diccionarios no tienen un orden interno**.\n",
    "* En otros lenguajes, se conocen también como *hashes*, *hashmaps*, *associative array*.\n",
    "\n",
    "Parece un comportamiento similar a una lista...\n",
    "\n",
    "![](../imagenes/diccionario_obj.png)"
   ]
  },
  {
   "cell_type": "code",
   "execution_count": null,
   "metadata": {},
   "outputs": [],
   "source": [
    "d = {}\n",
    "d[0] = \"rojo\"\n",
    "d[1] = \"amarillo\"\n",
    "d"
   ]
  },
  {
   "cell_type": "markdown",
   "metadata": {},
   "source": [
    "Sin embargo, podemos hacer esto, mucho mas práctico."
   ]
  },
  {
   "cell_type": "code",
   "execution_count": null,
   "metadata": {},
   "outputs": [],
   "source": [
    "del d[0], d[1] # borrar un campo\n",
    "d[\"nombre\"]  = \"Juan\"\n",
    "d[\"edad\"] = 26\n",
    "d[\"legajo\"] = 32415\n",
    "d[\"sector\"] = \"7G\"\n",
    "d[\"riesgo\"] = \"máximo\"\n",
    "d[\"notas\"] = \"[9,7,5]\"\n",
    "d"
   ]
  },
  {
   "cell_type": "code",
   "execution_count": null,
   "metadata": {},
   "outputs": [],
   "source": [
    "list(d.keys())"
   ]
  },
  {
   "cell_type": "code",
   "execution_count": null,
   "metadata": {},
   "outputs": [],
   "source": [
    "list(d.values())"
   ]
  },
  {
   "cell_type": "code",
   "execution_count": null,
   "metadata": {},
   "outputs": [],
   "source": [
    "list(d.items())"
   ]
  },
  {
   "cell_type": "markdown",
   "metadata": {},
   "source": [
    "### Otras operaciones II"
   ]
  },
  {
   "cell_type": "code",
   "execution_count": null,
   "metadata": {},
   "outputs": [],
   "source": [
    "d = dict(red = \"rojo\",green=\"verde\",black=\"negro\")\n",
    "d"
   ]
  },
  {
   "cell_type": "code",
   "execution_count": null,
   "metadata": {},
   "outputs": [],
   "source": [
    "l = [('a', 0),('b',1),('c',2)]\n",
    "d = dict(l)\n",
    "d"
   ]
  },
  {
   "cell_type": "code",
   "execution_count": null,
   "metadata": {},
   "outputs": [],
   "source": [
    "print(\"Cantidad de entradas: {}\".format(len(d)))"
   ]
  },
  {
   "cell_type": "code",
   "execution_count": null,
   "metadata": {},
   "outputs": [],
   "source": [
    "\"red\" in d, \"yellow\" in d"
   ]
  },
  {
   "cell_type": "code",
   "execution_count": null,
   "metadata": {},
   "outputs": [],
   "source": [
    "print(d.get(\"red\", \"no encontrado\"))"
   ]
  },
  {
   "cell_type": "code",
   "execution_count": null,
   "metadata": {},
   "outputs": [],
   "source": [
    "print(d.get(\"orange\", \"no encontrado\"))"
   ]
  },
  {
   "cell_type": "markdown",
   "metadata": {},
   "source": [
    "# EJERCICIOS"
   ]
  },
  {
   "cell_type": "markdown",
   "metadata": {},
   "source": [
    "**3.**"
   ]
  },
  {
   "cell_type": "code",
   "execution_count": 14,
   "metadata": {},
   "outputs": [
    {
     "name": "stdin",
     "output_type": "stream",
     "text": [
      "Ingrese 1 si está en la tierra o 2 si está en la luna:  2\n"
     ]
    },
    {
     "name": "stdout",
     "output_type": "stream",
     "text": [
      "\n"
     ]
    }
   ],
   "source": [
    "planeta = int(input('Ingrese 1 si está en la tierra o 2 si está en la luna: '))\n",
    "\n",
    "if (planeta == 1):\n",
    "    gravedad = 9.8\n",
    "    print()       # COMPLETAR ESTE MENSAJE PARA QUE DIGA EL VALOR DE LA GRAVEDAD \n",
    "elif (planeta == 2):\n",
    "    gravedad = 1.6\n",
    "    print()        # COMPLETAR ESTE MENSAJE PARA QUE DIGA EL VALOR DE LA GRAVEDAD"
   ]
  },
  {
   "cell_type": "code",
   "execution_count": 15,
   "metadata": {},
   "outputs": [
    {
     "name": "stdin",
     "output_type": "stream",
     "text": [
      "Ingrese el instante de tiempo:  2\n"
     ]
    }
   ],
   "source": [
    "tiempo = int(input('Ingrese el instante de tiempo: '))"
   ]
  },
  {
   "cell_type": "code",
   "execution_count": 16,
   "metadata": {},
   "outputs": [
    {
     "name": "stdout",
     "output_type": "stream",
     "text": [
      "La distancia recorrida tras  2  segundos es de  3.2  metros\n",
      "La velocidad instantánea a los  2  segundos es de  3.2 m/s\n"
     ]
    }
   ],
   "source": [
    "distancia = 0.5 * gravedad * tiempo ** 2\n",
    "velocidad = gravedad * tiempo\n",
    "\n",
    "print('La distancia recorrida tras ', int(tiempo) ,' segundos es de ', distancia, ' metros')\n",
    "print('La velocidad instantánea a los ', int(tiempo), ' segundos es de ', velocidad, 'm/s')"
   ]
  },
  {
   "cell_type": "markdown",
   "metadata": {},
   "source": [
    "## Uso del módulo *math*"
   ]
  },
  {
   "cell_type": "code",
   "execution_count": 20,
   "metadata": {},
   "outputs": [],
   "source": [
    "import math\n",
    "\n",
    "# Debajo de este comentario ingresar: math.\n",
    "# Luego presionar Tab, se verán las funciones disponibles dentro del módulo\n",
    "math."
   ]
  },
  {
   "cell_type": "code",
   "execution_count": 21,
   "metadata": {},
   "outputs": [
    {
     "data": {
      "text/plain": [
       "\u001b[0;31mSignature:\u001b[0m \u001b[0mmath\u001b[0m\u001b[0;34m.\u001b[0m\u001b[0msqrt\u001b[0m\u001b[0;34m(\u001b[0m\u001b[0mx\u001b[0m\u001b[0;34m,\u001b[0m \u001b[0;34m/\u001b[0m\u001b[0;34m)\u001b[0m\u001b[0;34m\u001b[0m\u001b[0;34m\u001b[0m\u001b[0m\n",
       "\u001b[0;31mDocstring:\u001b[0m Return the square root of x.\n",
       "\u001b[0;31mType:\u001b[0m      builtin_function_or_method\n"
      ]
     },
     "metadata": {},
     "output_type": "display_data"
    }
   ],
   "source": [
    "# Visualizar la ayuda para la función math.sqrt\n",
    "math.sqrt?"
   ]
  },
  {
   "cell_type": "markdown",
   "metadata": {},
   "source": [
    "Si ahora queremos calcular el instante de tiempo dada la distancia recorrida, debemos plantear la ecuación:\n",
    "\n",
    "\\begin{equation}\n",
    "    t = \\sqrt{\\frac{2d}{g}}\n",
    "\\end{equation}\n",
    "\n",
    "Podemos resolverla con el uso de la función `sqrt`, a continuación plantearemos el código necesario."
   ]
  },
  {
   "cell_type": "code",
   "execution_count": 25,
   "metadata": {},
   "outputs": [
    {
     "name": "stdin",
     "output_type": "stream",
     "text": [
      "Ingrese la distancia recorrida por el cuerpo en caída libre:  7\n"
     ]
    },
    {
     "name": "stdout",
     "output_type": "stream",
     "text": [
      "El tiempo transcurrido para que el objeto recorra 7.0  metros es de  2.96 segundos.\n"
     ]
    }
   ],
   "source": [
    "distancia = float(input('Ingrese la distancia recorrida por el cuerpo en caída libre: '))\n",
    "\n",
    "tiempo = math.sqrt((2*distancia)/gravedad)\n",
    "print('El tiempo transcurrido para que el objeto recorra', \n",
    "      distancia, ' metros es de ', \n",
    "      round(tiempo, 2), 'segundos.')"
   ]
  },
  {
   "cell_type": "markdown",
   "metadata": {},
   "source": [
    "## Introduccion a estructuras de control de flujo\n",
    "\n",
    "**Las estructuras esenciales son los bucles y los condicionales**. Estas estructuras son comunes con el resto de los lenguajes de programación existentes, también son conocidas como **sentencias**. Las estructuras de bucles es un contador que permite ejecutar varias tareas idénticas secuencialmente con la variación de diversos índices; se pueden encapsular con otros contadores y con otras sentencias. Las estructuras condicionales permite incluir variaciones en la ejecución del código según el cumplimiento de ciertas condiciones lógicas. Estas no son las únicas estructuras de programación, tan solo son las más básicas. A partir de ellas se derivan sentencias más útiles y más específicas como veremos a continuación.\n",
    "\n",
    "Para hablar de estructuras de control de flujo en Python, es imprescindible primero, hablar de **indentación**.\n",
    "\n",
    "¿Qué es la indentación? En un lenguaje de programación, **la indentación es lo que la sangría** al lenguaje escrito. No todos los lenguajes de programación, necesitan de una indentación, aunque sí, se estila implementarla, **a fin de otorgar mayor legibilidad al código**. Pero en el caso de Python, la indentación es obligatoria, ya que de ella, dependerá su estructura.\n",
    "\n",
    "> **PEP 8 - Indentado:** una indentación de 4 (cuatro) espacios en blanco, indicará que las instrucciones indentadas, forman parte de una misma estructura de control.\n",
    "\n",
    "``` python\n",
    "n = 9\n",
    "r = 1\n",
    "while n > 0:\n",
    "    r *= n\n",
    "    n -= 1\n",
    "print(r)\n",
    "```\n",
    "Ventajas del indentado:\n",
    "\n",
    "* La **estructura visual** del código refleja la **estructura real**.\n",
    "* **No más missing braces** (cerrar las estructuras, llaves en C++).\n",
    "* Uniformidad en la **estética del código**.\n",
    "\n",
    "> **Nota:** `ii += 1` equivale a `ii = ii + 1`. En el segundo Python, realiza la operación `ii + 1` creando un nuevo objeto con ese valor y luego lo asigna a la variable `ii`; es decir, existe una reasignación. En el primero, sin embargo, el incremento se produce sobre la propia variable. Esto puede conducirnos a mejoras en velocidad. Otros operadores **in-place** son: `-=`, `*=`, `/=` "
   ]
  },
  {
   "cell_type": "markdown",
   "metadata": {},
   "source": [
    "### Estructuras condicionales\n",
    "\n",
    "Las estructuras de control condicionales, son aquellas que nos **permiten evaluar si una o más condiciones se cumplen**, para decir qué acción vamos a ejecutar. "
   ]
  },
  {
   "cell_type": "markdown",
   "metadata": {},
   "source": [
    "#### Estructura condicional - IF/ELIF/ELSE\n",
    "\n",
    "La evaluación de condiciones, solo puede arrojar 1 de 2 resultados: **verdadero** o **falso** (`True` o `False`). Las estructuras de control de flujo condicionales, se definen mediante el uso de tres palabras claves reservadas del lenguaje: `if` (si), `elif `(sino, si) y `else` (sino).\n",
    "\n",
    "Para describir la evaluación a realizar sobre una condición, se utilizan [operadores de comparación](11_primeros_pasos_I.ipynb/##Operadores-de-comparacion) (`==`, `!=`, `<`, `>`, entre otros). Para evaluar más de una condición simultáneamente, se utilizan [operadores logicos](11_primeros_pasos_I.ipynb/#Operadores-logicos) (`AND`, `OR`, `NOT`, entre otros).\n",
    "\n",
    "El diagrama de flujo es el siguiente:\n",
    "\n",
    "![](../imagenes/sentencia_if.png)\n",
    "\n",
    "La sintaxis de la estructura:\n",
    "\n",
    "``` python\n",
    "if condition1:\n",
    "    statement1\n",
    "elif condition2:\n",
    "    statement2\n",
    "elif condition3:\n",
    "    statement3\n",
    ".\n",
    ".\n",
    ".\n",
    "else:\n",
    "    statement4\n",
    "```"
   ]
  },
  {
   "cell_type": "code",
   "execution_count": null,
   "metadata": {},
   "outputs": [],
   "source": [
    "# Si el semáforo esta en verde, cruzar la calle. Sino, esperar.\n",
    "\n",
    "semaforo = \"rojo\"\n",
    "\n",
    "if semaforo == \"verde\": \n",
    "    print (\"Cruzar la calle\")\n",
    "    \n",
    "else: \n",
    "    print (\"Esperar\")"
   ]
  },
  {
   "cell_type": "markdown",
   "metadata": {},
   "source": [
    "Veamos un ejemplo para completar."
   ]
  },
  {
   "cell_type": "code",
   "execution_count": null,
   "metadata": {},
   "outputs": [],
   "source": [
    "'''\n",
    "Si gasto hasta $100, pago con dinero en efectivo. \n",
    "Si no, si gasto más de $100 pero menos de $300, pago con tarjeta de débito. \n",
    "Si no, pago con tarjeta de crédito.\n",
    "'''\n",
    "compra = 50 \n",
    "\n",
    "if compra :# completar! \n",
    "    print (\"Pago en efectivo\")\n",
    "    \n",
    "elif compra : # completar!  \n",
    "    print (\"Pago con tarjeta de débito\") \n",
    "    \n",
    "else: \n",
    "    print (\"Pago con tarjeta de crédito\")"
   ]
  },
  {
   "cell_type": "code",
   "execution_count": null,
   "metadata": {},
   "outputs": [],
   "source": [
    "%run ../scripts/if.py"
   ]
  },
  {
   "cell_type": "markdown",
   "metadata": {},
   "source": [
    "Un código un poco más avanzado."
   ]
  },
  {
   "cell_type": "code",
   "execution_count": null,
   "metadata": {},
   "outputs": [],
   "source": [
    "import numpy as np\n",
    "import matplotlib.pyplot as plt\n",
    "\n",
    "input = [5, 10]\n",
    "\n",
    "if len(input) == 1:\n",
    "    x1 = np.linspace(0,2*np.pi,input[0]*20)\n",
    "    \n",
    "    plt.plot(x1,np.sin(input[0]*x1))\n",
    "    plt.title (\"sin(x)\")\n",
    "    plt.ylabel (\"Amplitud\")\n",
    "    plt.xlabel (\"t [radianes]\")\n",
    "    plt.ylim(-2,2)\n",
    "    plt.xlim(0,2*np.pi);\n",
    "    plt.legend([\"Sin (2$\\pi$\" + str(input[0]) + \")\"]) \n",
    "    plt.grid()\n",
    "    plt.show()      \n",
    "    \n",
    "elif  len(input) == 2:  \n",
    "    x1 = np.linspace(0,2*np.pi,input[0]*20)\n",
    "    x2 = np.linspace(0,2*np.pi,input[1]*20)\n",
    "    \n",
    "    plt.plot(x1,np.sin(input[0]*x1),x2,np.sin(input[1]*x2))   \n",
    "    plt.title (\"sin(x)\")\n",
    "    plt.ylabel (\"Amplitud\")\n",
    "    plt.xlabel (\"t [radianes]\")\n",
    "    plt.ylim(-2,2)\n",
    "    plt.xlim(0,2*np.pi);\n",
    "    plt.legend([\"Sin (2$\\pi$\" + str(input[0]) + \")\",\"Sin (2$\\pi$\" + str(input[1]) + \")\"]) \n",
    "    plt.grid()\n",
    "    plt.show() \n",
    "    \n",
    "else:\n",
    "    print (\"Cantidad de argumentos incorrecto.\")"
   ]
  },
  {
   "cell_type": "markdown",
   "metadata": {},
   "source": [
    "> **Nota:** es importante que evitemos estructuras lógicas muy complejas, porque son difíciles de entender y depurar; aún cuando sean de nuestra autoría."
   ]
  },
  {
   "cell_type": "markdown",
   "metadata": {},
   "source": [
    "### Estructura condicional por casos - SWITCH \n",
    "\n",
    "La sentencia `switch` realiza una función análoga a un conjunto de `if`...`elif` concatenados. Permite seleccionar, por medio de una expresión, el siguiente bloque de instrucciones a ejecutar de entre varios posibles:\n",
    "\n",
    "![](../imagenes/caminos.png)\n",
    "\n",
    "**Pero Python no dispone de la sentencia `switch`** como es el caso de otros lenguajes (C++, Java, etc)\n",
    "\n",
    "![](../imagenes/BEAN-say-what.jpg)\n",
    "\n",
    "Si **Mr. Bean**, Python no tiene `switch`, entonces la forma más directa de reemplazarlo es usando una secuencia de instrucciones `if`-`elif`-`else`:"
   ]
  },
  {
   "cell_type": "code",
   "execution_count": null,
   "metadata": {},
   "outputs": [],
   "source": [
    "n = 12 # mazo de cartas españolas\n",
    "\n",
    "if n == 1:\n",
    "    print('As')\n",
    "    \n",
    "elif 2 <= n <= 9:\n",
    "    print(n)\n",
    "    \n",
    "elif n == 10:\n",
    "    print('Sota')\n",
    "    \n",
    "elif n == 11:\n",
    "    print('Caballo')\n",
    "    \n",
    "elif n == 12:\n",
    "    print('Rey')\n",
    "    \n",
    "else:\n",
    "    print('Inválido')"
   ]
  },
  {
   "cell_type": "markdown",
   "metadata": {},
   "source": [
    "Ciertamente **funciona** y debería ser bastante fácil de usar, **pero no es una solución muy elegante**. Especialmente si hay más de un puñado de casos, se torna una estructura difícil de leer. Además, en cuestiones de rendimiento que cada una de las condiciones if debe verificarse en realidad y **merma la velocidad del script**.\n",
    "\n",
    "La **solución Pythonica** (son las soluciones que siguen el zen de Python) es hacer uso de los poderosos [**diccionarios de Python**](011-sintaxis_basica_I.ipynb#Diccionarios). Los diccionarios de Python permiten una coincidencia uno a uno simple de una **key** y un **value**. La parte interesante es que los valores en los diccionarios se refieren a funciones que contienen el código que normalmente estaría dentro de los bloques de casos. Aquí está el código anterior reescrito como un diccionario y funciones:"
   ]
  },
  {
   "cell_type": "code",
   "execution_count": null,
   "metadata": {},
   "outputs": [],
   "source": [
    "# definición de funciones\n",
    "def n(a):\n",
    "    print (str(a))\n",
    "    \n",
    "def As():\n",
    "    print (\"As\") \n",
    "    \n",
    "def sota():\n",
    "    print (\"sota\")\n",
    "    \n",
    "def caballo():\n",
    "    print (\"caballo\")\n",
    "    \n",
    "def rey():\n",
    "    print (\"rey\")\n",
    "\n",
    "# definición de diccionario    \n",
    "opciones = {1 : As,\n",
    "                2 : n,\n",
    "                3 : n,\n",
    "                4 : n,\n",
    "                5 : n,\n",
    "                6 : n,\n",
    "                7 : n,\n",
    "                8 : n,\n",
    "                9 : n,\n",
    "                10 : sota,\n",
    "                11 : caballo,\n",
    "                12 : rey}"
   ]
  },
  {
   "cell_type": "code",
   "execution_count": null,
   "metadata": {},
   "outputs": [],
   "source": [
    "opciones[1]()\n",
    "opciones[11]()\n",
    "opciones[4](4)"
   ]
  },
  {
   "cell_type": "markdown",
   "metadata": {},
   "source": [
    "Intentemos aplicarlo a una calculadora, en un ejemplo para completar:"
   ]
  },
  {
   "cell_type": "code",
   "execution_count": null,
   "metadata": {},
   "outputs": [],
   "source": [
    "def sumar(a, b):\n",
    "    return a + b\n",
    " \n",
    "def restar(a, b):\n",
    "    return a - b\n",
    " \n",
    "def multiplicar(a, b):\n",
    "    return a * b;\n",
    " \n",
    "num1 = input(\"Num1: \")\n",
    "num2 = input(\"Num2: \")\n",
    " \n",
    "print(\"Opciones\\n1.- Sumar\\n2.- Restar\\n3.- Multiplicar\")\n",
    " \n",
    "operaciones = {}  # completar!\n",
    " \n",
    "seleccion = input('Escoge una: ')\n",
    "\n",
    "try:\n",
    "    resultado = operaciones[](int(), int())  # completar!\n",
    "    print ()\n",
    "except:\n",
    "    print(\"Esa no vale\")"
   ]
  },
  {
   "cell_type": "code",
   "execution_count": null,
   "metadata": {},
   "outputs": [],
   "source": [
    "%run ../scripts/switch.py"
   ]
  },
  {
   "cell_type": "markdown",
   "metadata": {},
   "source": [
    "## Funciones definidas por el usuario\n",
    "\n",
    "Una función, es la forma de **agrupar expresiones y sentencias** que realicen determinadas acciones, pero que éstas, solo **se ejecuten cuando son llamadas**. Es decir, que al colocar un algoritmo dentro de una función y se corre el archivo, el algoritmo no será ejecutado si no se ha hecho una referencia a la función que lo contiene.\n",
    "En definitiva lo más importante para programar, y no solo en Python, es saber organizar el código en piezas más pequeñas que hagan tareas independientes y combinarlas entre sí. Las funciones son el primer nivel de organización del código: reciben unas entradas, las procesan y devuelven unas salidas.\n",
    "\n",
    "![](../imagenes/blackbox.jpg)\n",
    "\n",
    "Las funciones tienen un gran potencial, para conocer [más detalles](http://librosweb.es/libro/python/capitulo_4.html)."
   ]
  },
  {
   "cell_type": "markdown",
   "metadata": {},
   "source": [
    "### Encoding - codificacion del codigo fuente\n",
    "\n",
    "Por default, los archivos fuente de Python son codificados en [UTF-8](https://es.wikipedia.org/wiki/UTF-8) [G. Van Rossum., 2017].\n",
    "\n",
    "El encoding (o codificación) es otro de los elementos del lenguaje que no puede omitirse a la hora de hablar de estructuras de control. **El encoding no es más que una directiva que se coloca al inicio de un archivo Python, a fin de indicar al sistema, la codificación de caracteres utilizada en el archivo**.\n",
    "\n",
    "``` python\n",
    "# -*- coding: utf-8 -*-\n",
    "``` "
   ]
  },
  {
   "cell_type": "markdown",
   "metadata": {},
   "source": [
    "### Definicion de funciones\n",
    "\n",
    "Lo vemos con un ejemplo concreto:"
   ]
  },
  {
   "cell_type": "code",
   "execution_count": null,
   "metadata": {},
   "outputs": [],
   "source": [
    "# -*- coding: utf-8 -*-\n",
    "\n",
    "def fib(n):\n",
    "    \"\"\" Escribe la serie de Fibonacci hasta n. \"\"\"\n",
    "    \n",
    "    a, b = 0, 1  # asignacion multiple\n",
    "    while a < n:\n",
    "        print (a, end = ' ') # es para imprimirlos seguidos y no uno debajo del otro.\n",
    "        a, b = b, a + b"
   ]
  },
  {
   "cell_type": "code",
   "execution_count": null,
   "metadata": {},
   "outputs": [],
   "source": [
    "?fib(n)"
   ]
  },
  {
   "cell_type": "code",
   "execution_count": null,
   "metadata": {},
   "outputs": [],
   "source": [
    "# Invocamos la función definida.    \n",
    "fib(2000)"
   ]
  },
  {
   "cell_type": "markdown",
   "metadata": {},
   "source": [
    "La palabra reservada `def` se usa para **definir funciones**. Debe seguirle el nombre de la función y la **lista de argumentos entre paréntesis**. Las sentencias que forman el cuerpo de la función empiezan en la línea siguiente, y deben estar con sangría. **La primer sentencia** del cuerpo de la función puede ser opcionalmente una cadena de texto literal (utilizar `\"\"\"`, en lugar de `#`); esta es la cadena de texto de documentación de la función, o **docstring**. Es una buena práctica, no solo documentar las funciones, sino hacerlo con un estilo único y estandarizado. Una referencia respaldada en el ecosistema científico es el estilo de documentación de [`NumPy`](https://numpydoc.readthedocs.io/en/latest/format.html#docstring-standard)"
   ]
  },
  {
   "cell_type": "markdown",
   "metadata": {},
   "source": [
    "### Retorno - return\n",
    "\n",
    "Si lo que buscamos es escribir una función que **retorne** una lista con los números de la serie de Fibonacci en lugar de imprimirlos, podemos pensar en el siguiente ejemplo para completar:"
   ]
  },
  {
   "cell_type": "code",
   "execution_count": null,
   "metadata": {},
   "outputs": [],
   "source": [
    "# -*- coding: utf-8 -*-\n",
    "\n",
    "def fib2(n):\n",
    "    \"\"\"Devuelve una lista conteniendo la serie de Fibonacci hasta n.\"\"\"\n",
    "    \n",
    "    resultado  # inicializo la lista completar! \n",
    "    a, b = 0, 1  # asignacion multiple\n",
    "    while a < n:\n",
    "        resultado.  # completar! \n",
    "        a, b =  # completar! \n",
    "    return # completar! \n",
    "\n",
    "# Invocamos la función definida.    \n",
    "fib2000 = fib2(2000)\n",
    "type(fib2000)"
   ]
  },
  {
   "cell_type": "code",
   "execution_count": null,
   "metadata": {},
   "outputs": [],
   "source": [
    "%run ../scripts/fibo.py"
   ]
  },
  {
   "cell_type": "markdown",
   "metadata": {},
   "source": [
    "El factorial de un entero positivo $n$, se define en principio como el producto de todos los números enteros positivos desde 1 (es decir, los números naturales) hasta $n$. Por ejemplo: \n",
    "$$5! = 1*2*3*4*5=120$$\n",
    "Escribir una función que devuelva el factorial de un número $n$"
   ]
  },
  {
   "cell_type": "code",
   "execution_count": null,
   "metadata": {},
   "outputs": [],
   "source": [
    "# -*- coding: utf-8 -*-\n",
    "\n",
    "def fact(n):\n",
    "    \"\"\"Devuelve el factorial de un número\"\"\"\n",
    "    \n",
    "    # completar! \n",
    "    return r\n",
    "\n",
    "fact(5)"
   ]
  },
  {
   "cell_type": "code",
   "execution_count": null,
   "metadata": {},
   "outputs": [],
   "source": [
    "%run ../scripts/factorial.py"
   ]
  },
  {
   "cell_type": "markdown",
   "metadata": {},
   "source": [
    "Sigamos practicando, ahora definamos una función para pasar de Celsius a Kelvin."
   ]
  },
  {
   "cell_type": "code",
   "execution_count": null,
   "metadata": {},
   "outputs": [],
   "source": [
    "%run ../scripts/celsius_kelvin.py"
   ]
  },
  {
   "cell_type": "markdown",
   "metadata": {},
   "source": [
    "### Scope\n",
    "\n",
    "Es importante resaltar que **las variables que se crean dentro de las funciones no son accesibles una vez que termina la ejecución de la función**. En cambio, la función si que puede acceder a cosas que se han definido fuera de ella. No obstantes, esto último no constituye una buena práctica de cara a la reproducibilidad, mantenibilidad y testeo de la función. "
   ]
  },
  {
   "cell_type": "markdown",
   "metadata": {},
   "source": [
    "### Argumentos\n",
    "\n",
    "También es posible definir funciones con un número variable de argumentos. Hay tres formas que pueden ser combinadas:\n",
    "\n",
    "* Argumentos con valores por omisión.\n",
    "* Palabras claves como argumentos.\n",
    "* Listas de argumentos arbitrarios."
   ]
  },
  {
   "cell_type": "markdown",
   "metadata": {},
   "source": [
    "#### Argumentos con valores por omision\n",
    "\n",
    "La forma más útil es especificar un valor por omisión para uno o más argumentos. Esto crea una función que puede ser llamada con menos argumentos que los que permite. Por ejemplo:"
   ]
  },
  {
   "cell_type": "code",
   "execution_count": null,
   "metadata": {},
   "outputs": [],
   "source": [
    "def pedir_confirmacion(prompt, reintentos=4, recordatorio=\"Por favor, intente nuevamente!\"):\n",
    "    while True:\n",
    "        ok = input(prompt)\n",
    "        if ok in (\"s\", \"S\", \"si\", \"Si\", \"SI\", \"sI\"):  # contemplando todos los casos, \"in\" palabra resevada para probar si una secuencia contiene o no un determinado valor.\n",
    "            return True\n",
    "        if ok in (\"n\", \"N\", \"no\", \"No\", \"NO\", \"nO\"):  # contemplando todos los casos\n",
    "            return False\n",
    "        reintentos -= 1\n",
    "        if reintentos < 0:\n",
    "            raise ValueError(\"respuesta de usuario inválida\")\n",
    "        print (recordatorio)"
   ]
  },
  {
   "cell_type": "code",
   "execution_count": null,
   "metadata": {},
   "outputs": [],
   "source": [
    "# pasando solo el argumento obligatorio\n",
    "\n",
    "pedir_confirmacion(\"¿Realmente queres salir?\")"
   ]
  },
  {
   "cell_type": "code",
   "execution_count": null,
   "metadata": {},
   "outputs": [],
   "source": [
    "# pasando uno de los argumento opcionales\n",
    "\n",
    "pedir_confirmacion(\"¿Sobreescribir el archivo?\", 2)"
   ]
  },
  {
   "cell_type": "code",
   "execution_count": null,
   "metadata": {},
   "outputs": [],
   "source": [
    "# pasando todos los argumentos\n",
    "\n",
    "pedir_confirmacion(\"¿Sobreescribir el archivo?\", 2, \"Vamos, solo si o no!\")"
   ]
  },
  {
   "cell_type": "markdown",
   "metadata": {},
   "source": [
    "#### Palabras claves como argumentos\n",
    "\n",
    "Las funciones también puede ser llamadas usando argumentos con palabras claves (o argumentos nombrados) de la forma **keyword = value**. Por ejemplo, la siguiente función:"
   ]
  },
  {
   "cell_type": "code",
   "execution_count": null,
   "metadata": {},
   "outputs": [],
   "source": [
    "def loro(tension, estado='muerto', accion='explotar', tipo='Azul Nordico'):\n",
    "    print(\"-- Este loro no va a\", accion, end=' ')\n",
    "    print(\"si le aplicás\", tension, \"voltios.\")\n",
    "    print(\"-- Gran plumaje tiene el\", tipo)\n",
    "    print(\"-- Está\", estado, \"!\")"
   ]
  },
  {
   "cell_type": "markdown",
   "metadata": {},
   "source": [
    "Acepta un argumento obligatorio (tension) y tres argumentos opcionales (estado, accion, y tipo). Esta función puede llamarse de cualquiera de las siguientes maneras:"
   ]
  },
  {
   "cell_type": "code",
   "execution_count": null,
   "metadata": {},
   "outputs": [],
   "source": [
    "loro(1000)  # 1 argumento posicional"
   ]
  },
  {
   "cell_type": "code",
   "execution_count": null,
   "metadata": {},
   "outputs": [],
   "source": [
    "loro(tension=1000)  # 1 argumento nombrado, palabra clave"
   ]
  },
  {
   "cell_type": "code",
   "execution_count": null,
   "metadata": {},
   "outputs": [],
   "source": [
    "loro(tension=1000000, accion='BOOOOOM')  # 2 argumentos nombrados"
   ]
  },
  {
   "cell_type": "code",
   "execution_count": null,
   "metadata": {},
   "outputs": [],
   "source": [
    "loro(accion='BOOOOOM', tension=1000000) # 2 argumentos nombrados, sin orden"
   ]
  },
  {
   "cell_type": "markdown",
   "metadata": {},
   "source": [
    "Cuando un parámetro formal de la forma `**nombre` está presente al final, **recibe un diccionario** conteniendo todos los argumentos nombrados excepto aquellos correspondientes a un parámetro formal. Esto puede ser combinado con un parámetro formal de la forma `*nombre` que **recibe una tupla** conteniendo los argumentos posicionales además de la lista de parámetros formales. (`*nombre` debe ocurrir antes de `**nombre`). Por ejemplo, si definimos una función así:"
   ]
  },
  {
   "cell_type": "code",
   "execution_count": null,
   "metadata": {},
   "outputs": [],
   "source": [
    "def venta_de_queso (tipo, *argumento, **palabrasclaves):\n",
    "    print(\"-- ¿Tiene\", tipo, \"?\")\n",
    "    print(\"-- Lo siento, nos quedamos sin\", tipo)\n",
    "    for arg in argumento:\n",
    "        print(arg)\n",
    "    print(\"-\" * 40)\n",
    "    for c in palabrasclaves:\n",
    "        print(c, \":\", palabrasclaves[c])"
   ]
  },
  {
   "cell_type": "markdown",
   "metadata": {},
   "source": [
    "Puede ser llamada así:"
   ]
  },
  {
   "cell_type": "code",
   "execution_count": null,
   "metadata": {},
   "outputs": [],
   "source": [
    "venta_de_queso(\"Limburger\", \"Es muy liquido, sr.\", \"Realmente es muy liquido, sr.\", \n",
    "               cliente=\"Juan Gomez\",\n",
    "               vendedor=\"Miguel Paez\",\n",
    "               puesto=\"Venta de Queso Argentino\")"
   ]
  },
  {
   "cell_type": "markdown",
   "metadata": {},
   "source": [
    "#### Listas de argumentos arbitrarios\n",
    "\n",
    "Finalmente, la opción menos frecuentemente usada es especificar que una función puede ser llamada con un número arbitrario de argumentos. Estos argumentos serán organizados en una tupla. "
   ]
  },
  {
   "cell_type": "code",
   "execution_count": null,
   "metadata": {},
   "outputs": [],
   "source": [
    "def f(*args):\n",
    "    return args"
   ]
  },
  {
   "cell_type": "code",
   "execution_count": null,
   "metadata": {},
   "outputs": [],
   "source": [
    "f(1, 5, True, False, \"Hello, world!\")"
   ]
  },
  {
   "cell_type": "markdown",
   "metadata": {},
   "source": [
    "## Declaraciones Break, Continue, Else y Pass\n",
    "\n",
    "### Break\n",
    "\n",
    "La sentencia `break` en Python **finaliza el ciclo actual y reanuda la ejecución**. El uso más común para `break` es cuando se activa una condición externa que requiere una salida apresurada de un bucle"
   ]
  },
  {
   "cell_type": "code",
   "execution_count": null,
   "metadata": {},
   "outputs": [],
   "source": [
    "for letra in \"Python\": \n",
    "   if letra == \"o\":\n",
    "      break\n",
    "   print (\"Letra actual:\" + letra)"
   ]
  },
  {
   "cell_type": "code",
   "execution_count": null,
   "metadata": {},
   "outputs": [],
   "source": [
    "var = 10                   \n",
    "while var > 0:              \n",
    "   print (\"Valor actual de la variable: \" + str(var))\n",
    "   var -= 1\n",
    "   if var == 5:\n",
    "      break"
   ]
  },
  {
   "cell_type": "markdown",
   "metadata": {},
   "source": [
    "### Continue\n",
    "\n",
    "La instrucción `continue` en Python **devuelve el control al principio del ciclo** `while` o `for`. La sentencia `continue` rechaza todas las sentencias restantes en la iteración actual del ciclo y mueve el control nuevamente a la parte superior del ciclo."
   ]
  },
  {
   "cell_type": "code",
   "execution_count": null,
   "metadata": {},
   "outputs": [],
   "source": [
    "for letra in \"Python\": \n",
    "   if letra == \"o\":\n",
    "      continue\n",
    "   print (\"Letra actual:\" + letra)"
   ]
  },
  {
   "cell_type": "markdown",
   "metadata": {},
   "source": [
    "### Else\n",
    "\n",
    "Python admite tener una instrucción else asociada con una instrucción de ciclo. Las sentencias de lazo pueden tener una cláusula `else` que **es ejecutada cuando el lazo termina, luego de agotar la lista (con `for`) o cuando la condición se hace falsa (con `while`), pero no cuando el lazo es terminado con la sentencia `break`**."
   ]
  },
  {
   "cell_type": "code",
   "execution_count": null,
   "metadata": {},
   "outputs": [],
   "source": [
    "for n in range (2,10):\n",
    "    for x in range (2,n): \n",
    "        if n % x == 0:\n",
    "            print (n, \"es igual a\", x, \"*\", int(n/x))\n",
    "            break\n",
    "    else:\n",
    "        # sigue el bucle sin encontrar un factor\n",
    "        print (n, \"es un numero primo\")"
   ]
  },
  {
   "cell_type": "markdown",
   "metadata": {},
   "source": [
    "Cuando se usa con un ciclo, el `else` tiene más en común con el `else` de una declaración `try` que con el de un `if`: el `else` de un `try` se ejecuta cuando no se genera ninguna excepción, y el `else` de un ciclo se ejecuta cuando no hay ningún `break`."
   ]
  },
  {
   "cell_type": "markdown",
   "metadata": {},
   "source": [
    "### Pass\n",
    "\n",
    "La sentencia Pass en Python se usa cuando se requiere una declaración sintácticamente pero no se desea ejecutar ningún comando o código. **En definitiva no hace nada**. Es útil en los lugares donde el código finalmente irá, pero aún no se ha escrito: "
   ]
  },
  {
   "cell_type": "code",
   "execution_count": null,
   "metadata": {},
   "outputs": [],
   "source": [
    "while True:\n",
    "    pass # Espera ocupada hasta una interrupción de teclado (Ctrl+C)"
   ]
  },
  {
   "cell_type": "code",
   "execution_count": null,
   "metadata": {},
   "outputs": [],
   "source": [
    "for letter in 'Python': \n",
    "   if letter == 'h':\n",
    "      pass\n",
    "      print 'This is pass block'\n",
    "   print 'Current Letter :', letter\n",
    "\n",
    "print \"Good bye!\""
   ]
  },
  {
   "cell_type": "markdown",
   "metadata": {},
   "source": [
    "EJERCICIOS"
   ]
  },
  {
   "cell_type": "markdown",
   "metadata": {
    "slideshow": {
     "slide_type": "-"
    }
   },
   "source": [
    "# Ejercicios propuesto \n",
    "\n",
    "**1.** La curva de olvido ilustra la pérdida del conocimiento adquirido con el tiempo. Un concepto relacionado con la intensidad del recuerdo, que indica cuánto se mantiene un contenido en el cerebro. Cuanto más intenso sea un recuerdo, más tiempo se mantiene. Un gráfico  típico de la curva del olvido muestra que normalmente en unos días o semanas se olvida la mitad de lo que hemos aprendido, a no ser que lo repasemos. Una aproximación matemática a la curva de la memoria es la siguiente fórmula (Hermann Ebbinghaus):\n",
    "\n",
    "$$R=e^{-t/s}$$\n",
    "\n",
    "donde $R$ representa la curva de olvido, $S$ la intensidad (porcentaje) de lo aprendido y $t$ el tiempo en horas. Realizar la representación grafica de dicha expresión matemática."
   ]
  },
  {
   "cell_type": "code",
   "execution_count": null,
   "metadata": {},
   "outputs": [],
   "source": [
    "# permite hacer plot en lineas de comando\n",
    "%matplotlib inline \n",
    "\n",
    "# importando módulos \n",
    "import matplotlib.pyplot as plt  # módulo para hacer plot\n",
    "import numpy as np  # módulo para trabajar con array\n",
    "\n",
    "plt.xkcd()  # Estilo de plot\n",
    "\n",
    "T = np.linspace(1, 24*10, 100) \n",
    "\n",
    "s1 = 100\n",
    "arg1 = T/s1\n",
    "R1 = np.exp(-arg1)\n",
    "\n",
    "s2 = 50\n",
    "arg2 = T/s2\n",
    "R2 = np.exp(-arg2)\n",
    "\n",
    "plt.plot(T/24,R1*100,'.',color='r' )\n",
    "plt.plot(T/24,R2*100,'.',color='b' )\n",
    "\n",
    "plt.title('Curva del olvido')\n",
    "plt.xlabel('t [dias]')\n",
    "plt.ylabel('R[%]')\n",
    "plt.show()"
   ]
  },
  {
   "cell_type": "markdown",
   "metadata": {},
   "source": [
    "**2.** Con ayuda del anterior ejemplo, escribir el primer script en python (desde el editor de texto y almacenar en .py) para calcular la velocidad del sonido [m/s] en el aire a partir de la ecuación de **Boyle-Mariotte** [Möser M., Barros J.L, 2009]:\n",
    "\n",
    "$$c(t) = \\sqrt{k \\frac{R}{M_{mol}}t}$$\n",
    "\n",
    "Esta depende solo del medio y de la temperatura absoluta, pero no de la presión o densidad estáticas. Si se ingresan los valores típicos para el aire:  \n",
    "\n",
    "$$M_{mol} = 28,8 x 10^{-3} \\text{ kg/mol}$$\n",
    "$$t = 288 \\text{ K (15°C)}$$\n",
    "$$k = 1,4$$\n",
    "$$R = 8,314 \\text{ J/mol K como J = N*m, N = kg*m/s 2}$$\n",
    "\n",
    "Realizarlo para un intervalo de temperaturas.\n",
    "\n",
    "**Ayudas:**\n",
    "\n",
    "* `t = np.array(range(25))`\n",
    "* `c = np.sqrt(k*R*T/M_mol)`"
   ]
  },
  {
   "cell_type": "code",
   "execution_count": null,
   "metadata": {},
   "outputs": [],
   "source": [
    "# Importando módulos \n",
    "import matplotlib.pyplot as plt  # Módulo para hacer plot\n",
    "import numpy as np  # módulo para trabajar con array\n",
    "\n",
    "t = np.array(range(25))\n",
    "T = t + 273.5\n",
    "\n",
    "k = 1.4\n",
    "R = 8.314\n",
    "M_mol = 28.8*10**-3\n",
    "\n",
    "c = np.sqrt(k*R*T/M_mol)\n",
    "\n",
    "plt.plot(t,c,'.',color='r' )\n",
    "\n",
    "plt.title('Velocidad del sonido')\n",
    "plt.xlabel('Temperatura [C°]')\n",
    "plt.ylabel('Velocidad [m/s]')\n",
    "plt.grid()\n",
    "plt.show()"
   ]
  }
 ],
 "metadata": {
  "kernelspec": {
   "display_name": "Python 3",
   "language": "python",
   "name": "python3"
  },
  "language_info": {
   "codemirror_mode": {
    "name": "ipython",
    "version": 3
   },
   "file_extension": ".py",
   "mimetype": "text/x-python",
   "name": "python",
   "nbconvert_exporter": "python",
   "pygments_lexer": "ipython3",
   "version": "3.7.4"
  }
 },
 "nbformat": 4,
 "nbformat_minor": 4
}
