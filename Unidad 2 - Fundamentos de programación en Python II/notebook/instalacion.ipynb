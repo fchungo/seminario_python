{
 "cells": [
  {
   "cell_type": "markdown",
   "metadata": {
    "slideshow": {
     "slide_type": "-"
    }
   },
   "source": [
    "![](../imagenes/titulo_000.png)"
   ]
  },
  {
   "cell_type": "markdown",
   "metadata": {
    "slideshow": {
     "slide_type": "-"
    }
   },
   "source": [
    "## Índice\n",
    "\n",
    "* [Instalación del entorno de desarrollo](#Instalacion-del-entorno-de-desarrollo).\n",
    "    * [Anaconda](#Anaconda).\n",
    "        * [Actualizar Anaconda usando Conda](#Actualizar-Anaconda-usando-Conda).\n",
    "* [Descargar el material del workshop](#Descargar-el-material-del-workshop).\n",
    "    * [Utilizar el material del workshop](#Utilizar-el-material-del-workshop).\n",
    "* [Referencias](#Referencias).\n",
    "* [Licencia](#Licencia)."
   ]
  },
  {
   "cell_type": "markdown",
   "metadata": {
    "slideshow": {
     "slide_type": "slide"
    }
   },
   "source": [
    "## Instalacion del entorno de desarrollo\n",
    "\n",
    "Todo el material presentado fue realizado en la herramienta **Jupyter**, un novedoso entorno de trabajo open source orientado a científicos que soporta los lenguajes [R](https://www.r-project.org/) y Python, entre otros, y que está revolucionando la forma de trabajar en el mundo de los datos.\n",
    "\n",
    "> Tarea: seguir los siguientes pasos para instalar Python y todas los elementos necesarios.\n",
    "\n",
    "### Anaconda \n",
    "\n",
    "![](../imagenes/anacondaLogo_100x200.png)\n",
    "\n",
    "La instalación de Python, Jupyter y todos los paquetes que utilizaremos, por separado puede ser una tarea ardua y agotadora. [Anaconda](https://anaconda.org/) viene a resolver este incoveniente, se trata de una distribución de Python que recopila muchas de las bibliotecas necesarias en el ámbito de la computación científica. Además incluye herramientas para programar en Python, por ejemplo [Jupyter](http://jupyter.org/).\n",
    "\n",
    "* Anaconda es libre, de código abierto y con una [documentación](https://docs.anaconda.com/) bastante detallada y una gran comunidad.\n",
    "* Se trata de una suite Multiplataforma (Gnu/Linux, macOS y Windows).\n",
    "* Orientada a procesamiento de datos a gran escala y computación científica.\n",
    "* Apunta a simplificar el manejo de paquetes y su distribución.\n",
    "* Su gestor de paquetes se llama [conda](https://conda.io/docs/).\n",
    "* Elimina problemas de dependencias de paquetes y control de versiones.\n",
    "\n",
    "Pasos para la instalacion:\n",
    "\n",
    "> **Nota:** la explicacion se realiza para la distribucion en sistemas operativos GNU/Linux, [instrucciones para otros sistemas operativos](https://docs.anaconda.com/anaconda/install/).\n",
    "\n",
    "* Ir a la [página de descargas de Anaconda](https://www.anaconda.com/download/).\n",
    "* Seleccionar tu sistema operativo (Windows, OSX,**Linux**).\n",
    "* Descargar Anaconda (Python 3.X).\n",
    "\n",
    "Para instalar Anaconda Python, nos dirigiremos al directorio donde nos descargamos el paquete y ejecutaremos los siguientes comandos desde la terminal:\n",
    "\n",
    "``` shell\n",
    "cd ~/Descargas\n",
    "sudo bash Anaconda3-5.0.1-Linux-x86_64.sh\n",
    "```\n",
    "\n",
    "![](../imagenes/terminal3_300x200.png)\n",
    "\n",
    "Cuando se completa la instalación, la terminal nos preguntará si se debe agregar la ruta de su Anaconda Python a la variable de entorno PATH en nuestro archivo .bashrc. Escribe \"Yes\" y presiona \"Enter\".\n",
    "\n",
    "Llegados a este punto, la instalación estará completa. La venta que debería ver debería ser algo como lo siguiente.\n",
    "\n",
    "![](../imagenes/terminal4_300x200.png)\n",
    "\n",
    "> **Nota:** el instalador va solicitar instalar un paquete extra (Código VS de Microsoft), escriba \"yes\" y presiona \"Enter\". La instalación de VS con el instalador Anaconda requiere conexión a Internet.\n",
    "\n",
    "Ahora para realizar la comprobación de la instalación, tendremos que reniciar Ubuntu, desde la terminal: \n",
    "\n",
    "``` shell\n",
    "reboot\n",
    "```\n",
    "Luego abrimos una terminal nuevamente y ejecutaremos el siguiente comando:\n",
    "\n",
    "``` shell\n",
    "conda --version\n",
    "```\n",
    "Si la terminal nos devuelve la versión de Anaconda Python, la instalación se habrá completado con éxito y estará funcionando correctamente en Ubuntu.\n",
    "\n",
    "#### Actualizar Anaconda usando Conda\n",
    "\n",
    "![](../imagenes/conda_100x200.png)\n",
    "\n",
    "Ahora, vamos a actualizar Anaconda para asegurarnos de que tenemos nuestra distribución de Python con todos sus paquetes estan al día para lo que abrimos una terminal y ejecutamos los siguientes comandos de actualización (confirmando en el caso de tener que instalar paquetes nuevos):\n",
    "\n",
    "``` shell\n",
    "conda update anaconda\n",
    "conda update --all\n",
    "```\n",
    "\n",
    "Si experimentas cualquier clase de problema durante este proceso, [desinstala tu distribución de Anaconda](https://docs.anaconda.com/anaconda/install/) y vuelve a instalarla donde puedas asegurarte de tener una conexión a internet estable.\n",
    "\n",
    "Ya tenemos nuestra distribución de Python con todos los paquetes que necesitemos.\n",
    "\n",
    "> **Nota:** en caso de esperimentar un error (**ERROR conda.core.link:_execute(502)**) a la hora de actualizar `conda update --all`. Probar modificando los permisos de la carpeta alojado Anaconda: `sudo chown -R nombre de usuario /directorio de anaconda3`. Ej: `sudo chown -R kiwy /home/kiwy/ananconda3/`"
   ]
  },
  {
   "cell_type": "markdown",
   "metadata": {},
   "source": [
    "## Descargar el material del workshop\n",
    "\n",
    "Las últimas actualizaciones del contenido del curso está alojadas en [GitLab](https://about.gitlab.com/), una plataforma para almacenar proyectos de software que también proporciona una serie de herramientas para el trabajo en equipo. Digamos que es una especie de red social-herramienta para escribir y compartir código.\n",
    "\n",
    "Simplemente ve a nuestro [repositorio del curso en GitLab](https://gitlab.com/infiniemacustica), y en la parte derecha encontrarás un botón Download:\n",
    "\n",
    "![](../imagenes/gitlab_300x200.png)\n",
    "\n",
    "**Guardar** el archivo y **descomprimirlo**. De manera alternativa **clonar** utilizando la dirección https brindada en dicha página.\n",
    "\n",
    "> **Nota:** Si queres conocer un poco más respecto al uso de Git, se recomienda fuertemente el siguiente [link](002-introGit.ipynb). \n",
    "\n",
    "En la sección de ejercicios vamos a trabajar con esta herramienta."
   ]
  },
  {
   "cell_type": "markdown",
   "metadata": {},
   "source": [
    "### Utilizar el material del workshop\n",
    "\n",
    "Una vez que Python esta instalando, por medio de Anaconda y descargado el material del workshop, para poder utilizarlo abrir una terminal en la carpeta que se descomprimió el material. En linux se accede\n",
    "\n",
    "![](../imagenes/ubuntu1_300x200.png)\n",
    "\n",
    "Y en la terminal ingresar:\n",
    "\n",
    "``` shell\n",
    "jupyter lab\n",
    "```\n",
    "o en su **version simplificada**\n",
    "\n",
    "``` shell\n",
    "jupyter notebook\n",
    "```\n",
    "Se recomienda fuertemente `jupyter lab`.\n",
    "\n",
    "**Jupyter** es una aplicación web de código abierto que le permite crear y compartir documentos que contienen código, ecuaciones, visualizaciones y texto. **Lab** y **Notebook**, son dos versiones de la misma herramienta, que difieren tan solo en el entorno y poseen el mismo potencial. Para este workshop optamos por trabajar en **Lab**. Es importante aclarar además, que a lo largo del workshop cuando mencionemos **notebook**, se hará referencia al archivo .ipynb, en lugar al programa de **Jupyter Notebook** (con mayúscula). El termino **notebook** se hereda de [IPython](https://es.wikipedia.org/wiki/IPython).\n",
    "\n",
    "> **Nota:** es importante que la dirección que aparezca en la línea de comandos sea la correspondiente a la carpeta del curso (ej. \"workshop\"), o determinados elementos, como las imágenes incrustadas no se visualizarán correctamente.\n",
    "\n",
    "Aparecerán unas cuantas líneas y se abrirá tu navegador web predefinido. **No hace falta disponer de conexión a Internet**. Lo que está ocurriendo es que \"tu navegador está mostrando lo que le manda el programa que se está ejecutando desde la línea de comandos\". Así que no cierres la línea de comandos hasta que termines de usar el notebook y ya lo hayas guardado y cerrado en tu navegador.\n",
    "\n",
    "![](../imagenes/jupyterLab_300x200.png)\n",
    "\n",
    "En esa ventana de tu navegador puedes moverte por las carpetas y ver los archivos con extensión .ipynb. Ve a la carpeta **notebooks** y abre la primera clase haciendo click sobre ella. \n",
    "\n",
    "En esa primera clase se hace una pequeña introducción a Python. Lee el principio con calma para saber cómo manejar Jupyter Lab (también puedes usar la ayuda Help) y no tengas miedo de tocar y cambiar cosas a tu antojo. No vas a romper tu ordenador y en una de malas, siempre puedes volverte a descargar todo de GitLab.\n",
    "\n",
    "**Una explicación alternativa para [instalar Jupyter](https://github.com/numerical-mooc/numerical-mooc/blob/master/lessons/00_getting_started/00_02_Installing_Jupyter.md)**."
   ]
  },
  {
   "cell_type": "markdown",
   "metadata": {
    "slideshow": {
     "slide_type": "slide"
    }
   },
   "source": [
    "## Referencias\n",
    "\n",
    "* Molloy, Derek. Exploring Raspberry Pi: interfacing to the real world with embedded Linux. John Wiley & Sons, 2016.\n",
    "* Cano, Juan Luis. Curso Aero Python. Extraido de [GitHub](https://github.com/AeroPython/Curso_AeroPython), 2016."
   ]
  },
  {
   "cell_type": "markdown",
   "metadata": {},
   "source": [
    "## Licencia\n",
    "\n",
    "<a rel=\"license\" href=\"http://creativecommons.org/licenses/by-sa/4.0/\"><img alt=\"Licencia de Creative Commons\" style=\"border-width:0\" src=\"https://i.creativecommons.org/l/by-sa/4.0/88x31.png\" /></a><br />Este documento se destribuye con una <a rel=\"license\" href=\"http://creativecommons.org/licenses/by-sa/4.0/\">licencia Atribución CompartirIgual 4.0 Internacional de Creative Commons</a>.\n",
    "\n",
    "© 2019. Infiniem Lab DSP. infiniemlab.dsp@gmail.com. Introducción a Python3 (CC BY-SA 4.0))"
   ]
  }
 ],
 "metadata": {
  "kernelspec": {
   "display_name": "Python 3",
   "language": "python",
   "name": "python3"
  },
  "language_info": {
   "codemirror_mode": {
    "name": "ipython",
    "version": 3
   },
   "file_extension": ".py",
   "mimetype": "text/x-python",
   "name": "python",
   "nbconvert_exporter": "python",
   "pygments_lexer": "ipython3",
   "version": "3.7.3"
  }
 },
 "nbformat": 4,
 "nbformat_minor": 4
}
