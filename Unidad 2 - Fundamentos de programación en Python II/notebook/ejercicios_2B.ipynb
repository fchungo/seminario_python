{
 "cells": [
  {
   "cell_type": "code",
   "execution_count": 5,
   "metadata": {},
   "outputs": [],
   "source": [
    "# Crear un diccionario conteniendo una lista de 5 provincias\n",
    "provincias = {'BA': 'Buenos Aires',\n",
    "              'CH': 'Chubut',\n",
    "              'MZ': 'Mendoza',\n",
    "              'SL': 'San Luis',\n",
    "              'JU': 'Jujuy'}\n",
    "\n",
    "# Agregar un diccionario usando el mismo key que para provincias\n",
    "ciudades = {'BA': 'Buenos Aires',\n",
    "            'BA': 'Bahía Blanca',\n",
    "            'CH': 'Trelew',\n",
    "            'JU': 'Tilcara',\n",
    "            'CH': 'Comodoro Rivadavia',\n",
    "            'MZ': 'San Rafael',\n",
    "            'SL': 'Merlo'}\n"
   ]
  },
  {
   "cell_type": "code",
   "execution_count": 32,
   "metadata": {},
   "outputs": [],
   "source": [
    "# Imprimir la lista de provincias y ciudades\n",
    "def imprimir_datos():\n",
    "    print('Provincias:')\n",
    "    for key_p, nombre_p in provincias.items():\n",
    "        print(key_p, nombre_p)\n",
    "    print('\\nCiudades: ')\n",
    "    for key_c, nombre_c in ciudades.items():\n",
    "        print(key_c, nombre_c)\n",
    "\n",
    "historial_busquedas = []  # creamos lista vacía para guardar el historial\n",
    "# Buscar un dato específico\n",
    "def buscar_dato(nombre_dicc, key):\n",
    "    if nombre_dicc == 'provincias':\n",
    "        nombre_dato = provincias[key]\n",
    "        historial_busquedas.insert(0,nombre_dato)\n",
    "        print('Resultado de la búsqueda: ', nombre_dato)\n",
    "    elif nombre_dicc == 'ciudades':\n",
    "        nombre_dato = ciudades[key]\n",
    "        historial_busquedas.insert(0,nombre_dato)\n",
    "        print('Resultado de la búsqueda: ', nombre_dato)\n",
    "    else:\n",
    "        print('No se encontró nada, verifique el nombre de diccionario que desea modificar.')\n",
    "\n",
    "# Agregar elementos\n",
    "def agregar_datos(nombre_dicc, key, nombre):\n",
    "    if nombre_dicc == 'provincias':\n",
    "        provincias[key] = nombre\n",
    "        print('Dato agregado')\n",
    "    elif nombre_dicc == 'ciudades':\n",
    "        ciudades[key] = nombre\n",
    "        print('Dato agregado')\n",
    "    else:\n",
    "        print('No se agregó nada, verifique el nombre de diccionario que desea modificar.')\n",
    "        \n",
    "def eliminar_dato(nombre_dicc, key):\n",
    "    if nombre_dicc == 'provincias':\n",
    "        provincias.pop(key)\n",
    "        print('Dato eliminado')\n",
    "    elif nombre_dicc == 'ciudades':\n",
    "        ciudades.pop(key)\n",
    "        print('Dato eliminado')\n",
    "    else:\n",
    "        print('No se eliminó nada, verifique el nombre de diccionario que desea modificar.')\n",
    "\n",
    "def ver_historial():\n",
    "    print('Historial de búsquedas: ')\n",
    "    print(historial_busquedas)"
   ]
  },
  {
   "cell_type": "code",
   "execution_count": 39,
   "metadata": {},
   "outputs": [
    {
     "name": "stdout",
     "output_type": "stream",
     "text": [
      "Las operaciones para aplicar sobre los diccionarios son: \n",
      " 1. Imprimir datos \n",
      " 2. Buscar un dato específico por key \n",
      " 3. Agregar datos \n",
      " 4. Eliminar datos \n",
      " 5. Ver historial \n",
      "\n"
     ]
    },
    {
     "name": "stdin",
     "output_type": "stream",
     "text": [
      "Indique qué desea hacer:  4\n",
      "Ingrese el nombre del diccionario al que va a agregar el dato: \n",
      " provincias\n",
      "Indique el key que corresponda: \n",
      " MI\n"
     ]
    }
   ],
   "source": [
    "print('Las operaciones para aplicar sobre los diccionarios son: \\n',\n",
    "     '1. Imprimir datos \\n',\n",
    "     '2. Buscar un dato específico por key \\n',\n",
    "     '3. Agregar datos \\n',\n",
    "     '4. Eliminar datos \\n',\n",
    "     '5. Ver historial \\n')\n",
    "\n",
    "opcion = int(input('Indique qué desea hacer: '))\n",
    "\n",
    "if opcion == 1:\n",
    "    imprimir_datos()\n",
    "    \n",
    "elif opcion == 2:\n",
    "    nombre_dicc = input('Ingrese el nombre del diccionario al que va a buscar el dato: \\n')\n",
    "    key = input('Indique el key que corresponda: \\n')\n",
    "    buscar_dato(nombre_dicc, key)\n",
    "\n",
    "elif opcion == 3:\n",
    "    nombre_dicc = input('Ingrese el nombre del diccionario al que va a agregar el dato: \\n')\n",
    "    key = input('Indique el key que corresponda: \\n')\n",
    "    nombre_dato = input('Indique el nombre del dato que desea agregar')\n",
    "    agregar_datos(nombre_dicc, key, nombre_dato)\n",
    "    \n",
    "elif opcion == 4:\n",
    "    nombre_dicc = input('Ingrese el nombre del diccionario al que va a quitar el dato: \\n')\n",
    "    key = input('Indique el key que corresponda: \\n')    \n",
    "    eliminar_dato(nombre_dicc, key)\n",
    "\n",
    "elif opcion == 5:\n",
    "    print(ver_historial())\n",
    "\n",
    "else:\n",
    "    print('ERROR: Opción incorrecta.')"
   ]
  },
  {
   "cell_type": "code",
   "execution_count": null,
   "metadata": {},
   "outputs": [],
   "source": []
  }
 ],
 "metadata": {
  "kernelspec": {
   "display_name": "Python 3",
   "language": "python",
   "name": "python3"
  },
  "language_info": {
   "codemirror_mode": {
    "name": "ipython",
    "version": 3
   },
   "file_extension": ".py",
   "mimetype": "text/x-python",
   "name": "python",
   "nbconvert_exporter": "python",
   "pygments_lexer": "ipython3",
   "version": "3.7.3"
  }
 },
 "nbformat": 4,
 "nbformat_minor": 4
}
