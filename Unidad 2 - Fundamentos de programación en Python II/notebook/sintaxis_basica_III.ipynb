{
 "cells": [
  {
   "cell_type": "markdown",
   "metadata": {},
   "source": [
    "[comment]: <> (los titulares se generan en el siguiente link: https://docs.google.com/drawings/d/1TLM83sTn9w2Jmq0l0Jy1ivIeLRVO_rKBCamm5Tq11Yo/edit?usp=sharing)"
   ]
  },
  {
   "cell_type": "markdown",
   "metadata": {},
   "source": [
    "![](../img/titulo_sintaxis_basica.png)"
   ]
  },
  {
   "cell_type": "markdown",
   "metadata": {},
   "source": [
    "## Contenido **CORREGIR**\n",
    "\n",
    "* [Funciones mágicas](#Funciones-magicas)\n",
    "* [Introduccion a estructuras de control de flujo](#Introduccion-a-estructuras-de-control-de-flujo)\n",
    "    * [Estructuras condicionales](#Estructuras-condicionales)\n",
    "        * [Estructura condicional - IF/ELIF/ELSE](#Estructura-condicional---IF/ELIF/ELSE)\n",
    "        * [Estructura condicional por casos - SWITCH](#Estructura-condicional-por-casos---SWITCH)\n",
    "    * [Estructura de control iterativas](#Estructuras-de-control-iterativas)\n",
    "        * [Estructura de control iterativa - While](#Estructura-de-control-iterativa---While) \n",
    "        * [Estructura de control iterativa - For](#Estructura-de-control-iterativa---For)\n",
    "    * [Declaraciones Break, Continue, Else y Pass](#Declaraciones-Break,-Continue,-Else-y-Pass)\n",
    "        * [Break](#Break)\n",
    "        * [Continue](#Continue)\n",
    "        * [Else](#Else)\n",
    "        * [Pass](#Pass)\n",
    "* [Funciones definidas por el usuario](#Funciones-definidas-por-el-usuario)\n",
    "    * [Encoding - codificacion del codigo fuente](#Encoding---codificacion-del-codigo-fuente)\n",
    "    * [Definicion de funciones](#Definicion-de-funciones)\n",
    "    * [Retorno - return](#Retorno---return)\n",
    "    * [Argumentos](#Argumentos)\n",
    "        * [Argumentos con valores por omision](#Argumentos-con-valores-por-omision)\n",
    "        * [Palabras claves como argumentos](#Palabras-claves-como-argumentos)\n",
    "        * [Listas de argumentos arbitrarios](#Listas-de-argumentos-arbitrarios)"
   ]
  },
  {
   "cell_type": "markdown",
   "metadata": {},
   "source": [
    "## Objetivos del notebook CORREGIR\n",
    "\n",
    "* Completar los tipos de estructura de datos disponibles en Python: **Tuplas** y **Diccionarios**.\n"
   ]
  },
  {
   "cell_type": "markdown",
   "metadata": {},
   "source": [
    "## Estructura de datos III\n",
    "\n",
    "### Tuplas\n",
    "\n",
    "Una tupla es una variable que permite almacenar varios **datos inmutables**, son como las listas, pero no pueden ser modificadas, sólo creadas. **Se pueden pensar como una lista de sólo lectura**."
   ]
  },
  {
   "cell_type": "code",
   "execution_count": 5,
   "metadata": {},
   "outputs": [
    {
     "data": {
      "text/plain": [
       "'b'"
      ]
     },
     "execution_count": 5,
     "metadata": {},
     "output_type": "execute_result"
    }
   ],
   "source": [
    "t = ('a','b','c')\n",
    "t[1]"
   ]
  },
  {
   "cell_type": "code",
   "execution_count": null,
   "metadata": {},
   "outputs": [],
   "source": [
    "a = (\"Voten\",\"por\",\"mi\")\n",
    "a"
   ]
  },
  {
   "cell_type": "code",
   "execution_count": null,
   "metadata": {},
   "outputs": [],
   "source": [
    "# Es común ver este tipo de expresiones. Se llama tuple unpacking\n",
    "\n",
    "x, y, z = 'a', 7, 9"
   ]
  },
  {
   "cell_type": "code",
   "execution_count": null,
   "metadata": {},
   "outputs": [],
   "source": [
    "a = 1, 2, 3 # Es esta manera los ingresamos en la primera clase"
   ]
  },
  {
   "cell_type": "markdown",
   "metadata": {},
   "source": [
    "¿Por qué usar **tuplas** y **no listas**?\n",
    "\n",
    "* Son un poco más eficientes que las listas y ocupan menos memoria.\n",
    "* Se usan en general donde se requiere una secuencia inmutable, como en el **key** de un diccionario.\n",
    "* Los argumentos a función son pasados como tuplas."
   ]
  },
  {
   "cell_type": "markdown",
   "metadata": {},
   "source": [
    "### Diccionarios\n",
    "\n",
    "![](../img/diccionario.png)\n",
    "\n",
    "Mientras que a las listas y tuplas se accede solo y únicamente por un número de índice, los diccionarios permiten utilizar una **key** para declarar y acceder a un valor:\n",
    "\n",
    "Características:\n",
    "\n",
    "* Los diccionarios en Python se acceden con enteros, strings u otros objetos llamados **keys** en este contexto.\n",
    "* Como las listas, pueden contener cualquier tipo de objeto en **values**.\n",
    "* A diferencia de las listas, que estaban implícitamente ordenadas, **los diccionarios no tienen un orden interno**.\n",
    "* En otros lenguajes, se conocen también como *hashes*, *hashmaps*, *associative array*.\n",
    "\n",
    "Parece un comportamiento similar a una lista...\n",
    "\n",
    "![](../img/diccionario_obj.png)"
   ]
  },
  {
   "cell_type": "code",
   "execution_count": 7,
   "metadata": {},
   "outputs": [
    {
     "data": {
      "text/plain": [
       "{0: 'rojo', 1: 'amarillo'}"
      ]
     },
     "execution_count": 7,
     "metadata": {},
     "output_type": "execute_result"
    }
   ],
   "source": [
    "d = {}\n",
    "d[0] = \"rojo\"\n",
    "d[1] = \"amarillo\"\n",
    "d"
   ]
  },
  {
   "cell_type": "markdown",
   "metadata": {},
   "source": [
    "Sin embargo, podemos hacer esto, mucho más práctico."
   ]
  },
  {
   "cell_type": "code",
   "execution_count": 8,
   "metadata": {},
   "outputs": [
    {
     "data": {
      "text/plain": [
       "{'nombre': 'Juan',\n",
       " 'edad': 26,\n",
       " 'legajo': 32415,\n",
       " 'sector': '7G',\n",
       " 'riesgo': 'máximo',\n",
       " 'notas': '[9,7,5]'}"
      ]
     },
     "execution_count": 8,
     "metadata": {},
     "output_type": "execute_result"
    }
   ],
   "source": [
    "del d[0], d[1] # borrar un campo\n",
    "d[\"nombre\"]  = \"Juan\"\n",
    "d[\"edad\"] = 26\n",
    "d[\"legajo\"] = 32415\n",
    "d[\"sector\"] = \"7G\"\n",
    "d[\"riesgo\"] = \"máximo\"\n",
    "d[\"notas\"] = \"[9,7,5]\"\n",
    "d"
   ]
  },
  {
   "cell_type": "code",
   "execution_count": 9,
   "metadata": {},
   "outputs": [
    {
     "data": {
      "text/plain": [
       "['nombre', 'edad', 'legajo', 'sector', 'riesgo', 'notas']"
      ]
     },
     "execution_count": 9,
     "metadata": {},
     "output_type": "execute_result"
    }
   ],
   "source": [
    "list(d.keys())"
   ]
  },
  {
   "cell_type": "code",
   "execution_count": 10,
   "metadata": {},
   "outputs": [
    {
     "data": {
      "text/plain": [
       "['Juan', 26, 32415, '7G', 'máximo', '[9,7,5]']"
      ]
     },
     "execution_count": 10,
     "metadata": {},
     "output_type": "execute_result"
    }
   ],
   "source": [
    "list(d.values())"
   ]
  },
  {
   "cell_type": "code",
   "execution_count": 11,
   "metadata": {},
   "outputs": [
    {
     "data": {
      "text/plain": [
       "[('nombre', 'Juan'),\n",
       " ('edad', 26),\n",
       " ('legajo', 32415),\n",
       " ('sector', '7G'),\n",
       " ('riesgo', 'máximo'),\n",
       " ('notas', '[9,7,5]')]"
      ]
     },
     "execution_count": 11,
     "metadata": {},
     "output_type": "execute_result"
    }
   ],
   "source": [
    "list(d.items())"
   ]
  },
  {
   "cell_type": "markdown",
   "metadata": {},
   "source": [
    "### Otras operaciones II"
   ]
  },
  {
   "cell_type": "code",
   "execution_count": 17,
   "metadata": {},
   "outputs": [
    {
     "data": {
      "text/plain": [
       "{'red': 'rojo', 'green': 'verde', 'black': 'negro'}"
      ]
     },
     "execution_count": 17,
     "metadata": {},
     "output_type": "execute_result"
    }
   ],
   "source": [
    "d = dict(red = \"rojo\",green=\"verde\",black=\"negro\")\n",
    "d"
   ]
  },
  {
   "cell_type": "code",
   "execution_count": 15,
   "metadata": {},
   "outputs": [
    {
     "data": {
      "text/plain": [
       "{'a': 0, 'b': 1, 'c': 2}"
      ]
     },
     "execution_count": 15,
     "metadata": {},
     "output_type": "execute_result"
    }
   ],
   "source": [
    "l = [('a', 0),('b',1),('c',2)]\n",
    "d = dict(l)\n",
    "d"
   ]
  },
  {
   "cell_type": "code",
   "execution_count": 12,
   "metadata": {},
   "outputs": [
    {
     "name": "stdout",
     "output_type": "stream",
     "text": [
      "Cantidad de entradas: 6\n"
     ]
    }
   ],
   "source": [
    "print(\"Cantidad de entradas: {}\".format(len(d)))"
   ]
  },
  {
   "cell_type": "code",
   "execution_count": 18,
   "metadata": {},
   "outputs": [
    {
     "data": {
      "text/plain": [
       "(True, False)"
      ]
     },
     "execution_count": 18,
     "metadata": {},
     "output_type": "execute_result"
    }
   ],
   "source": [
    "\"red\" in d, \"yellow\" in d"
   ]
  },
  {
   "cell_type": "code",
   "execution_count": 19,
   "metadata": {},
   "outputs": [
    {
     "name": "stdout",
     "output_type": "stream",
     "text": [
      "rojo\n"
     ]
    }
   ],
   "source": [
    "print(d.get(\"red\", \"no encontrado\"))"
   ]
  },
  {
   "cell_type": "code",
   "execution_count": 21,
   "metadata": {},
   "outputs": [
    {
     "name": "stdout",
     "output_type": "stream",
     "text": [
      "no encontrado\n"
     ]
    }
   ],
   "source": [
    "print(d.get(\"orange\", \"no encontrado\"))"
   ]
  },
  {
   "cell_type": "markdown",
   "metadata": {},
   "source": [
    "## Estructuras de control de flujo III"
   ]
  },
  {
   "cell_type": "markdown",
   "metadata": {},
   "source": [
    "### Estructura condicional por casos - SWITCH \n",
    "\n",
    "La sentencia `switch` realiza una función análoga a un conjunto de `if`...`elif` concatenados. Permite seleccionar, por medio de una expresión, el siguiente bloque de instrucciones a ejecutar de entre varios posibles:\n",
    "\n",
    "![](../img/caminos.png)\n",
    "\n",
    "**Pero Python no dispone de la sentencia `switch`** como es el caso de otros lenguajes (C++, Java, etc)\n",
    "\n",
    "![](../img/BEAN-say-what.jpg)\n",
    "\n",
    "Si **Mr. Bean**, Python no tiene `switch`, entonces la forma más directa de reemplazarlo es usando una secuencia de instrucciones `if`-`elif`-`else`:"
   ]
  },
  {
   "cell_type": "code",
   "execution_count": null,
   "metadata": {},
   "outputs": [],
   "source": [
    "n = 12 # mazo de cartas españolas\n",
    "\n",
    "if n == 1:\n",
    "    print('As')\n",
    "    \n",
    "elif 2 <= n <= 9:\n",
    "    print(n)\n",
    "    \n",
    "elif n == 10:\n",
    "    print('Sota')\n",
    "    \n",
    "elif n == 11:\n",
    "    print('Caballo')\n",
    "    \n",
    "elif n == 12:\n",
    "    print('Rey')\n",
    "    \n",
    "else:\n",
    "    print('Inválido')"
   ]
  },
  {
   "cell_type": "markdown",
   "metadata": {},
   "source": [
    "Ciertamente **funciona** y debería ser bastante fácil de usar, **pero no es una solución muy elegante**. Especialmente si hay más de un puñado de casos, se torna una estructura difícil de leer. Además, en cuestiones de rendimiento que cada una de las condiciones if debe verificarse en realidad y **merma la velocidad del script**.\n",
    "\n",
    "La **solución Pythonica** (son las soluciones que siguen el zen de Python) es hacer uso de los poderosos **diccionarios**. Los diccionarios de Python permiten una coincidencia uno a uno simple de una **key** y un **value**. La parte interesante es que los valores en los diccionarios se refieren a funciones que contienen el código que normalmente estaría dentro de los bloques de casos. Aquí está el código anterior reescrito como un diccionario y funciones:"
   ]
  },
  {
   "cell_type": "code",
   "execution_count": null,
   "metadata": {},
   "outputs": [],
   "source": [
    "# definición de funciones\n",
    "def n(a):\n",
    "    print (str(a))\n",
    "    \n",
    "def As():\n",
    "    print (\"As\") \n",
    "    \n",
    "def sota():\n",
    "    print (\"sota\")\n",
    "    \n",
    "def caballo():\n",
    "    print (\"caballo\")\n",
    "    \n",
    "def rey():\n",
    "    print (\"rey\")\n",
    "\n",
    "# definición de diccionario    \n",
    "opciones = {1 : As,\n",
    "                2 : n,\n",
    "                3 : n,\n",
    "                4 : n,\n",
    "                5 : n,\n",
    "                6 : n,\n",
    "                7 : n,\n",
    "                8 : n,\n",
    "                9 : n,\n",
    "                10 : sota,\n",
    "                11 : caballo,\n",
    "                12 : rey}"
   ]
  },
  {
   "cell_type": "code",
   "execution_count": null,
   "metadata": {},
   "outputs": [],
   "source": [
    "opciones[1]()\n",
    "opciones[11]()\n",
    "opciones[4](4)"
   ]
  },
  {
   "cell_type": "markdown",
   "metadata": {},
   "source": [
    "Intentemos aplicarlo a una calculadora, en un ejemplo para completar:"
   ]
  },
  {
   "cell_type": "code",
   "execution_count": null,
   "metadata": {},
   "outputs": [],
   "source": [
    "def sumar(a, b):\n",
    "    return a + b\n",
    " \n",
    "def restar(a, b):\n",
    "    return a - b\n",
    " \n",
    "def multiplicar(a, b):\n",
    "    return a * b;\n",
    " \n",
    "num1 = input(\"Num1: \")\n",
    "num2 = input(\"Num2: \")\n",
    " \n",
    "print(\"Opciones\\n1.- Sumar\\n2.- Restar\\n3.- Multiplicar\")\n",
    " \n",
    "operaciones = {}  # completar!\n",
    " \n",
    "seleccion = input('Escoge una: ')\n",
    "\n",
    "try:\n",
    "    resultado = operaciones[](int(), int())  # completar!\n",
    "    print ()\n",
    "except:\n",
    "    print(\"Esa no vale\")"
   ]
  },
  {
   "cell_type": "code",
   "execution_count": 22,
   "metadata": {},
   "outputs": [
    {
     "name": "stdin",
     "output_type": "stream",
     "text": [
      "Num1:  1\n",
      "Num2:  2\n"
     ]
    },
    {
     "name": "stdout",
     "output_type": "stream",
     "text": [
      "Opciones\n",
      "1.- Sumar\n",
      "2.- Restar\n",
      "3.- Multiplicar\n"
     ]
    },
    {
     "name": "stdin",
     "output_type": "stream",
     "text": [
      "Escoge una:  1\n"
     ]
    },
    {
     "name": "stdout",
     "output_type": "stream",
     "text": [
      "Esa no vale\n"
     ]
    }
   ],
   "source": [
    "%run ../code/switch.py"
   ]
  },
  {
   "cell_type": "markdown",
   "metadata": {},
   "source": [
    "## Declaraciones Break, Continue, Else y Pass\n",
    "\n",
    "### Break\n",
    "\n",
    "La sentencia `break` en Python **finaliza el ciclo actual y reanuda la ejecución**. El uso más común para `break` es cuando se activa una condición externa que requiere una salida apresurada de un bucle"
   ]
  },
  {
   "cell_type": "code",
   "execution_count": null,
   "metadata": {},
   "outputs": [],
   "source": [
    "for letra in \"Python\": \n",
    "   if letra == \"o\":\n",
    "      break\n",
    "   print (\"Letra actual:\" + letra)"
   ]
  },
  {
   "cell_type": "code",
   "execution_count": null,
   "metadata": {},
   "outputs": [],
   "source": [
    "var = 10                   \n",
    "while var > 0:              \n",
    "   print (\"Valor actual de la variable: \" + str(var))\n",
    "   var -= 1\n",
    "   if var == 5:\n",
    "      break"
   ]
  },
  {
   "cell_type": "markdown",
   "metadata": {},
   "source": [
    "### Continue\n",
    "\n",
    "La instrucción `continue` en Python **devuelve el control al principio del ciclo** `while` o `for`. La sentencia `continue` rechaza todas las sentencias restantes en la iteración actual del ciclo y mueve el control nuevamente a la parte superior del ciclo."
   ]
  },
  {
   "cell_type": "code",
   "execution_count": null,
   "metadata": {},
   "outputs": [],
   "source": [
    "for letra in \"Python\": \n",
    "   if letra == \"o\":\n",
    "      continue\n",
    "   print (\"Letra actual:\" + letra)"
   ]
  },
  {
   "cell_type": "markdown",
   "metadata": {},
   "source": [
    "### Else\n",
    "\n",
    "Python admite tener una instrucción else asociada con una instrucción de ciclo. Las sentencias de lazo pueden tener una cláusula `else` que **es ejecutada cuando el lazo termina, luego de agotar la lista (con `for`) o cuando la condición se hace falsa (con `while`), pero no cuando el lazo es terminado con la sentencia `break`**."
   ]
  },
  {
   "cell_type": "code",
   "execution_count": null,
   "metadata": {},
   "outputs": [],
   "source": [
    "for n in range (2,10):\n",
    "    for x in range (2,n): \n",
    "        if n % x == 0:\n",
    "            print (n, \"es igual a\", x, \"*\", int(n/x))\n",
    "            break\n",
    "    else:\n",
    "        # sigue el bucle sin encontrar un factor\n",
    "        print (n, \"es un numero primo\")"
   ]
  },
  {
   "cell_type": "markdown",
   "metadata": {},
   "source": [
    "### Pass\n",
    "\n",
    "La sentencia Pass en Python se usa cuando se requiere una declaración sintácticamente pero no se desea ejecutar ningún comando o código. **En definitiva no hace nada**. Es útil en los lugares donde el código finalmente irá, pero aún no se ha escrito: "
   ]
  },
  {
   "cell_type": "code",
   "execution_count": null,
   "metadata": {},
   "outputs": [],
   "source": [
    "while True:\n",
    "    pass # Espera ocupada hasta una interrupción de teclado (Ctrl+C)"
   ]
  },
  {
   "cell_type": "code",
   "execution_count": null,
   "metadata": {},
   "outputs": [],
   "source": [
    "for letter in 'Python': \n",
    "   if letter == 'h':\n",
    "      pass\n",
    "      print 'This is pass block'\n",
    "   print 'Current Letter :', letter\n",
    "\n",
    "print \"Good bye!\""
   ]
  },
  {
   "cell_type": "markdown",
   "metadata": {},
   "source": [
    "AGREGAR TRY EXCEPT"
   ]
  },
  {
   "cell_type": "markdown",
   "metadata": {},
   "source": [
    "Cuando se usa con un ciclo, el `else` tiene más en común con el `else` de una declaración `try` que con el de un `if`: el `else` de un `try` se ejecuta cuando no se genera ninguna excepción, y el `else` de un ciclo se ejecuta cuando no hay ningún `break`."
   ]
  },
  {
   "cell_type": "markdown",
   "metadata": {},
   "source": [
    "## Licencia\n",
    "\n",
    "<a rel=\"license\" href=\"http://creativecommons.org/licenses/by-sa/4.0/\"><img alt=\"Licencia de Creative Commons\" style=\"border-width:0\" src=\"https://i.creativecommons.org/l/by-sa/4.0/88x31.png\" /></a><br />Este documento se destribuye con una <a rel=\"license\" href=\"http://creativecommons.org/licenses/by-sa/4.0/\">licencia Atribución CompartirIgual 4.0 Internacional de Creative Commons</a>.\n",
    "\n",
    "© 2019. Infiniem Labs Acustica. infiniemlab.dsp@gmail.com. Curso de Python (CC BY-SA 4.0))"
   ]
  }
 ],
 "metadata": {
  "kernelspec": {
   "display_name": "Python 3",
   "language": "python",
   "name": "python3"
  },
  "language_info": {
   "codemirror_mode": {
    "name": "ipython",
    "version": 3
   },
   "file_extension": ".py",
   "mimetype": "text/x-python",
   "name": "python",
   "nbconvert_exporter": "python",
   "pygments_lexer": "ipython3",
   "version": "3.7.4"
  }
 },
 "nbformat": 4,
 "nbformat_minor": 4
}
