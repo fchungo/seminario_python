{
 "cells": [
  {
   "cell_type": "markdown",
   "metadata": {
    "slideshow": {
     "slide_type": "-"
    }
   },
   "source": [
    "[comment]: <> (los titulares se generan en el siguiente link: https://docs.google.com/drawings/d/1TLM83sTn9w2Jmq0l0Jy1ivIeLRVO_rKBCamm5Tq11Yo/edit?usp=sharing)\n",
    "\n",
    "![](../img/titulos_ejercicios.png)"
   ]
  },
  {
   "cell_type": "markdown",
   "metadata": {},
   "source": [
    "# Ejercicios propuesto "
   ]
  },
  {
   "cell_type": "markdown",
   "metadata": {
    "slideshow": {
     "slide_type": "-"
    }
   },
   "source": [
    "**1.** Escribir un programa que pregunte al usuario su nombre, edad, dirección y teléfono y lo guarde en un diccionario. \n",
    "Después debe mostrar por pantalla el mensaje <nombre> tiene <edad> años, vive en <dirección> y su número de teléfono es <teléfono>."
   ]
  },
  {
   "cell_type": "code",
   "execution_count": null,
   "metadata": {},
   "outputs": [],
   "source": [
    "name = input('¿Cómo te llamas? ')\n",
    "age = input('¿Cuántos años tienes? ')\n",
    "address = input('¿Cuál es tu dirección? ')\n",
    "phone = input('¿Cuál es tu número de teléfono? ')\n",
    "person = {'name': name, 'age': age, 'address': address, 'phone': phone}\n",
    "print(person['name'], 'tiene', person['age'], 'años, vive en', person['address'], 'y su número de teléfono es', person['phone'])"
   ]
  },
  {
   "cell_type": "markdown",
   "metadata": {},
   "source": [
    "**2.** Escribir un programa que guarde en un diccionario los precios de las frutas de la tabla, pregunte al usuario por una fruta, un número de kilos y muestre por pantalla el precio de ese número de kilos de fruta. Si la fruta no está en el diccionario debe mostrar un mensaje informando de ello."
   ]
  },
  {
   "cell_type": "code",
   "execution_count": null,
   "metadata": {},
   "outputs": [],
   "source": [
    "# Definir las funciones que realizarán las operaciones de la calculadora \n",
    "\n",
    "# Sumar dos números entre sí\n",
    "def sumar(x, y):\n",
    "   return x + y\n",
    "\n",
    "# Restar dos números entre sí \n",
    "def restar(x, y):\n",
    "   return x - y\n",
    "\n",
    "# Multiplicar dos números entre sí\n",
    "def multiplicar(x, y):\n",
    "   return x * y\n",
    "\n",
    "# Dividir dos números entre sí\n",
    "def dividir(x, y):\n",
    "   return x / y    \n",
    "\n",
    "estado = 'C'\n",
    "\n",
    "while estado == 'C':\n",
    "\n",
    "    # Definir mensajes de salida para el usuario, para que pueda elegir una operación\n",
    "    print(\"Seleccione una operación.\")\n",
    "    print(\"1. Sumar\")\n",
    "    print(\"2. Restar\")\n",
    "    print(\"3. Multiplicar\")\n",
    "    print(\"4. Dividir\")\n",
    "\n",
    "    # Tomar la opción ingresada por el usuario\n",
    "    opcion = input(\"Elija una operación: \")\n",
    "\n",
    "    # Pedir al usuario que ingrese los dos números para operar sobre ellos\n",
    "    num1 = int(input(\"Ingrese primer número: \"))\n",
    "    num2 = int(input(\"Ingrese segundo número: \"))\n",
    "\n",
    "    # Estructura condicional para aplicar la funcion elegida\n",
    "    if opcion == '1':\n",
    "        resultado = sumar(num1,num2)\n",
    "        print(num1,\"+\",num2,\"=\", resultado)\n",
    "    elif opcion == '2':\n",
    "        resultado = restar(num1,num2)\n",
    "        print(num1,\"-\",num2,\"=\", resultado)\n",
    "    elif opcion == '3':\n",
    "        resultado = multiplicar(num1,num2)\n",
    "        print(num1,\"*\",num2,\"=\", resultado)\n",
    "    elif opcion == '4':\n",
    "        resultado = dividir(num1,num2)\n",
    "        print(num1,\"/\",num2,\"=\", resultado)\n",
    "    else:\n",
    "       print(\"ERROR: Entrada inválida\")\n",
    "    \n",
    "    # Pedir al usuario qué desea hacer: continuar o salir\n",
    "    print('¿Qué desea hacer?')\n",
    "    print(' -> C: Continuar ')\n",
    "    print(' -> X: Salir')\n",
    "    estado = input('Ingrese la opcion elegida: ')\n",
    "    \n",
    "    if estado == 'X':\n",
    "        print('Saliendo del programa...')\n",
    "    elif estado == 'C':\n",
    "        print('\\n--------------------\\n')\n",
    "    else:\n",
    "        print('ERROR: Entrada inválida')\n",
    "        break"
   ]
  }
 ],
 "metadata": {
  "kernelspec": {
   "display_name": "Python 3",
   "language": "python",
   "name": "python3"
  },
  "language_info": {
   "codemirror_mode": {
    "name": "ipython",
    "version": 3
   },
   "file_extension": ".py",
   "mimetype": "text/x-python",
   "name": "python",
   "nbconvert_exporter": "python",
   "pygments_lexer": "ipython3",
   "version": "3.7.4"
  }
 },
 "nbformat": 4,
 "nbformat_minor": 4
}
