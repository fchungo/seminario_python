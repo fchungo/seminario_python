{
 "cells": [
  {
   "cell_type": "code",
   "execution_count": 16,
   "metadata": {},
   "outputs": [
    {
     "name": "stdout",
     "output_type": "stream",
     "text": [
      "Seleccione una operación.\n",
      "1. Sumar\n",
      "2. Restar\n",
      "3. Multiplicar\n",
      "4. Dividir\n"
     ]
    },
    {
     "name": "stdin",
     "output_type": "stream",
     "text": [
      "Elija una operación:  1\n",
      "Ingrese primer número:  4\n",
      "Ingrese segundo número:  6\n"
     ]
    },
    {
     "name": "stdout",
     "output_type": "stream",
     "text": [
      "4 + 6 = 10\n",
      "¿Qué desea hacer?\n",
      " -> C: Continuar \n",
      " -> X: Salir\n"
     ]
    },
    {
     "name": "stdin",
     "output_type": "stream",
     "text": [
      "Ingrese la opcion elegida:  C\n"
     ]
    },
    {
     "name": "stdout",
     "output_type": "stream",
     "text": [
      "\n",
      "--------------------\n",
      "\n",
      "Seleccione una operación.\n",
      "1. Sumar\n",
      "2. Restar\n",
      "3. Multiplicar\n",
      "4. Dividir\n"
     ]
    },
    {
     "name": "stdin",
     "output_type": "stream",
     "text": [
      "Elija una operación:  4\n",
      "Ingrese primer número:  2\n",
      "Ingrese segundo número:  6\n"
     ]
    },
    {
     "name": "stdout",
     "output_type": "stream",
     "text": [
      "2 / 6 = 0.3333333333333333\n",
      "¿Qué desea hacer?\n",
      " -> C: Continuar \n",
      " -> X: Salir\n"
     ]
    },
    {
     "name": "stdin",
     "output_type": "stream",
     "text": [
      "Ingrese la opcion elegida:  X\n"
     ]
    },
    {
     "name": "stdout",
     "output_type": "stream",
     "text": [
      "Saliendo del programa...\n"
     ]
    }
   ],
   "source": [
    "# Definir las funciones que realizarán las operaciones de la calculadora \n",
    "\n",
    "# Sumar dos números entre sí\n",
    "def sumar(x, y):\n",
    "   return x + y\n",
    "\n",
    "# Restar dos números entre sí \n",
    "def restar(x, y):\n",
    "   return x - y\n",
    "\n",
    "# Multiplicar dos números entre sí\n",
    "def multiplicar(x, y):\n",
    "   return x * y\n",
    "\n",
    "# Dividir dos números entre sí\n",
    "def dividir(x, y):\n",
    "   return x / y    \n",
    "\n",
    "estado = 'C'\n",
    "\n",
    "while estado == 'C':\n",
    "\n",
    "    # Definir mensajes de salida para el usuario, para que pueda elegir una operación\n",
    "    print(\"Seleccione una operación.\")\n",
    "    print(\"1. Sumar\")\n",
    "    print(\"2. Restar\")\n",
    "    print(\"3. Multiplicar\")\n",
    "    print(\"4. Dividir\")\n",
    "\n",
    "    # Tomar la opción ingresada por el usuario\n",
    "    opcion = input(\"Elija una operación: \")\n",
    "\n",
    "    # Pedir al usuario que ingrese los dos números para operar sobre ellos\n",
    "    num1 = int(input(\"Ingrese primer número: \"))\n",
    "    num2 = int(input(\"Ingrese segundo número: \"))\n",
    "\n",
    "    # Estructura condicional para aplicar la funcion elegida\n",
    "    if opcion == '1':\n",
    "        resultado = sumar(num1,num2)\n",
    "        print(num1,\"+\",num2,\"=\", resultado)\n",
    "    elif opcion == '2':\n",
    "        resultado = restar(num1,num2)\n",
    "        print(num1,\"-\",num2,\"=\", resultado)\n",
    "    elif opcion == '3':\n",
    "        resultado = multiplicar(num1,num2)\n",
    "        print(num1,\"*\",num2,\"=\", resultado)\n",
    "    elif opcion == '4':\n",
    "        resultado = dividir(num1,num2)\n",
    "        print(num1,\"/\",num2,\"=\", resultado)\n",
    "    else:\n",
    "       print(\"ERROR: Entrada inválida\")\n",
    "    \n",
    "    # Pedir al usuario qué desea hacer: continuar o salir\n",
    "    print('¿Qué desea hacer?')\n",
    "    print(' -> C: Continuar ')\n",
    "    print(' -> X: Salir')\n",
    "    estado = input('Ingrese la opcion elegida: ')\n",
    "    \n",
    "    if estado == 'X':\n",
    "        print('Saliendo del programa...')\n",
    "    elif estado == 'C':\n",
    "        print('\\n--------------------\\n')\n",
    "    else:\n",
    "        print('ERROR: Entrada inválida')\n",
    "        break\n",
    "    "
   ]
  }
 ],
 "metadata": {
  "kernelspec": {
   "display_name": "Python 3",
   "language": "python",
   "name": "python3"
  },
  "language_info": {
   "codemirror_mode": {
    "name": "ipython",
    "version": 3
   },
   "file_extension": ".py",
   "mimetype": "text/x-python",
   "name": "python",
   "nbconvert_exporter": "python",
   "pygments_lexer": "ipython3",
   "version": "3.7.3"
  }
 },
 "nbformat": 4,
 "nbformat_minor": 4
}
