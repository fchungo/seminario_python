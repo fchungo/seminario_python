{
 "cells": [
  {
   "cell_type": "markdown",
   "metadata": {},
   "source": [
    "# Unidad 3 – Clase 1: Procesamiento, análisis y visualización de datos/señales\n",
    "\n",
    "![](../imagenes/workshop_logo_300x200.png)"
   ]
  },
  {
   "cell_type": "markdown",
   "metadata": {},
   "source": [
    "## Índice\n",
    "\n",
    "* [Librerías para manipulación de datos numéricos](#Librerías-para-manipulación-de-datos-numéricos)\n",
    "    * [Comenzando a usar Numpy](#Comenzando-a-usar-Numpy)\n",
    "    * [Importando la libreria y creando un array](#Importando-la-libreria-y-creando-un-array)\n",
    "* [Arrays de datos](#Arrays-de-datos)\n",
    "    * [Listas y arrays](#Listas-y-arrays)\n",
    "    * [Tipos de datos](#Tipos-de-datos)\n",
    "    * [Longitud y dimensiones de un array](#Longitud-y-dimensiones-de-un-array)\n",
    "    * [Indizado en arrays](#Indizado-en-arrays)\n",
    "    * [Operaciones matematicas entre arrays](#Operaciones-matematicas-entre-arrays)\n",
    "    * [Broadcasting](#Broadcasting)\n",
    "    * [Otras formas de crear arrays](#Otras-formas-de-crear-arrays)\n",
    "    * [Aplicando funciones matematicas](#Aplicando-funciones-matematicas)\n",
    "* [Referencias](#Referencias)\n",
    "* [Licencia](#Licencia)"
   ]
  },
  {
   "cell_type": "markdown",
   "metadata": {},
   "source": [
    "## Librerías para manipulación de datos numéricos"
   ]
  },
  {
   "cell_type": "markdown",
   "metadata": {},
   "source": [
    "### Comenzando a usar Numpy\n",
    "\n",
    "Numpy es la librería dedicada a definir vectores y matrices y realizar operaciones básicas entre ellos.\n",
    "\n",
    "El objeto principal con el que se trabaja en numpy es un **array** de una o varias dimensiones. El mismo contiene elementos, en general de formato numérico.  Se pueden definir las siguientes características para un array de numpy:\n",
    "\n",
    "* Los elementos que lo componen son todos de un mismo tipo o formato.\n",
    "* Cuenta con una longitud, igual a la cantidad de elementos que contiene por fila; y una cantidad de ejes o dimensiones, igual a la cantidad de filas que contiene.\n",
    "* Cada elemento del array posee un índice que denota su ubicación dentro del mismo.\n",
    "\n",
    "### Importando la libreria y creando un array\n",
    "\n",
    "Para utilizar Numpy en nuestro código, primero debemos importarla utilizando el comando `import numpy`. Existen varias formas de importar librerías en  Python. La primera es ingresando `import numpy as np`, y la segunda consiste en ingresar `from numpy import * `. \n",
    "Veamos en el ejemplo, cómo ‘llamamos’ a la misma para utilizarla en nuestro código. \n",
    "\n",
    "Una vez importada la librería, podemos crear un array de datos. Para hacerlo, utilizamos el objeto `numpy.array` de la siguiente manera:"
   ]
  },
  {
   "cell_type": "code",
   "execution_count": 1,
   "metadata": {},
   "outputs": [],
   "source": [
    "# 1° forma\n",
    "import numpy\n",
    "\n",
    "a = numpy.array([1,2,5,9])"
   ]
  },
  {
   "cell_type": "code",
   "execution_count": 2,
   "metadata": {},
   "outputs": [],
   "source": [
    "# 2° forma\n",
    "from numpy import *\n",
    "\n",
    "a = array([1,2,5,9])"
   ]
  },
  {
   "cell_type": "code",
   "execution_count": 3,
   "metadata": {},
   "outputs": [],
   "source": [
    "# 3° forma\n",
    "import numpy as np\n",
    "\n",
    "a = np.array([1,2,5,9])"
   ]
  },
  {
   "cell_type": "markdown",
   "metadata": {},
   "source": [
    "Por convención general, se suele utilizar la tercera forma para la importación de numpy. Es una forma de abreviar el nombre de la librería, y mantener la referencia de que estamos utilizando elementos de la misma. Esto nos importa para mantener cierto orden en nuestro código, por más que parezca tedioso estar anteponiendo 'np' cada vez que creamos numpy. En los ejemplos subsiguientes, vamos a considerar que se utilizó este método."
   ]
  },
  {
   "cell_type": "markdown",
   "metadata": {},
   "source": [
    "## Arrays de datos"
   ]
  },
  {
   "cell_type": "markdown",
   "metadata": {},
   "source": [
    "## Listas y arrays\n",
    "\n",
    "Nótese que al crear arrays, ésto se hace a partir de una lista, es decir que los **datos almacenados en formato de lista se convierten automáticamente en arrays**. Para ejemplificarlo mejor: "
   ]
  },
  {
   "cell_type": "code",
   "execution_count": 4,
   "metadata": {},
   "outputs": [],
   "source": [
    "# creamos el mismo array 'a' a partir de una lista\n",
    "\n",
    "lista = [1,2,5,9]\n",
    "a = np.array(lista)"
   ]
  },
  {
   "cell_type": "markdown",
   "metadata": {},
   "source": [
    "Pero, mientras en las listas se pueden incluir elementos de distinto tipo, **en el array todos deben ser un mismo tipo de datos**."
   ]
  },
  {
   "cell_type": "code",
   "execution_count": 5,
   "metadata": {},
   "outputs": [
    {
     "data": {
      "text/plain": [
       "array(['bla', '1', 'True', '3.14'], dtype='<U4')"
      ]
     },
     "execution_count": 5,
     "metadata": {},
     "output_type": "execute_result"
    }
   ],
   "source": [
    "# otra lista con datos de distinto tipo\n",
    "\n",
    "otra_lista = [\"bla\", 1, True, 3.14]\n",
    "\n",
    "# si la intentamos convertir en array, ¿fracasamos?:\n",
    "\n",
    "x = np.array(otra_lista)\n",
    "\n",
    "# le pedimos a la consola que nos muestre el array\n",
    "x"
   ]
  },
  {
   "cell_type": "markdown",
   "metadata": {},
   "source": [
    "Vemos que el array se crea a partir de una lista con elementos de distinto tipo. Sin embargo, le asigna a todos un mismo formato, en este caso un string del tipo *Unicode* con longitud igual a 4."
   ]
  },
  {
   "cell_type": "markdown",
   "metadata": {},
   "source": [
    "## Tipos de datos\n",
    "\n",
    "Los **argumentos** que se deben indicar para crear el array son dos: los **elementos que contendrá**, que se ingresan en forma de lista, y el **tipo de datos** que tendrá la lista. En los ejemplos anteriores no especificamos el tipo de datos, ya que éste se asigna automáticamente al crear la lista. No obstante, es recomendable indicarlo siempre ya que cada tipo de datos ocupa un espacio en memoria distinto.\n",
    "\n",
    "Los tipos de datos que podemos utilizar dentro de un array son los siguientes:\n",
    "* **Números enteros** de 8, 16, 32 y 64 bits, con signo y sin signo.\n",
    "* **Números complejos** de 64 y 128 bits.\n",
    "* **Números de punto flotante** de 16, 32, 64 y 128 bits\n",
    "* **Booleanos** (‘True’ o ‘False’), **strings**, **bytes...**\n",
    "\n",
    "En el caso del array 'a' que creamos anteriormente, el formato que se asigna automáticamente es un entero de 64 bits con signo (int64). Nos resulta conveniente utilizar un formato entero sin signo y de 8 bits, de acuerdo a los datos que contiene. El formato se especifica de la siguiente forma:\n"
   ]
  },
  {
   "cell_type": "code",
   "execution_count": 6,
   "metadata": {},
   "outputs": [
    {
     "data": {
      "text/plain": [
       "array([1, 2, 5, 9], dtype=uint8)"
      ]
     },
     "execution_count": 6,
     "metadata": {},
     "output_type": "execute_result"
    }
   ],
   "source": [
    "b = np.array([1,2,5,9], dtype = np.uint8)\n",
    "\n",
    "# la consola nos muestra el array\n",
    "b"
   ]
  },
  {
   "cell_type": "markdown",
   "metadata": {},
   "source": [
    "En este caso, definimos un array 'b' con un formato adecuado. Entonces, ¿cómo elegimos un tipo de datos conveniente para nuestros arrays? En la siguiente tabla podemos ver los rangos de valores para cada tipo de dato:\n",
    "\n",
    "| Tipo | Rango | Precisión |\n",
    "| ---  | ---   | --- |\n",
    "| int8 | -128 a 127 | |\n",
    "| int16 | -32768 a 32767 | |\n",
    "| int32 | -2147483648 a 2147483647 | |\n",
    "| int64 | -9223372036854775808 a 9223372036854775807 | |\n",
    "| uint8 | 0 a 255 | |\n",
    "| uint16 | 0 a 65535 | |\n",
    "| uint32 | 0 a 4294967295 | |\n",
    "| uint64 | 0 a 18446744073709551615 | |\n",
    "| float16 | ± 65504 | Hasta 3 dígitos decimales |\n",
    "| float32 | ± 10^(38.53) | Hasta 6 dígitos decimales |\n",
    "| float64 | ± 10^(308.25) | Hasta 16 dígitos decimales |"
   ]
  },
  {
   "cell_type": "markdown",
   "metadata": {},
   "source": [
    "De todo este despliegue de números podemos extraer las siguientes premisas:\n",
    "\n",
    "* Si utilizamos números **enteros positivos**, es conveniente usar un **formato sin signo** para aprovechar el rango de la mejor manera posible.\n",
    "* Si deseamos representar valores de **números reales**, utilizamos un **formato float**.\n",
    "* **Siempre debemos formatear nuestros arrays**. Si no lo especificamos, estaremos utilizando 64 bits (float o entero) para definir a cada elemento de la lista. Esto generalmente no es necesario, y es contraproducente en dos sentidos: consume excesivo espacio en memoria y afecta a la velocidad de los algoritmos, lo que se hace notable cuando trabajamos con arrays extensos (por ejemplo, un archivo wav de varios minutos).\n",
    "\n",
    "Contamos con algunos **comandos útiles para saber el tamaño de un array y de sus elementos** (cantidad de bytes que ocupa en memoria):\n"
   ]
  },
  {
   "cell_type": "code",
   "execution_count": 7,
   "metadata": {},
   "outputs": [
    {
     "name": "stdout",
     "output_type": "stream",
     "text": [
      "El array 'a' ocupa 32 bytes, y cada uno de sus elementos ocupa 8 bytes. \n",
      "\n",
      "Éstos son todos los formatos que admite Numpy:\n"
     ]
    },
    {
     "data": {
      "text/plain": [
       "{numpy.bool_: 1,\n",
       " numpy.int8: 1,\n",
       " numpy.uint8: 1,\n",
       " numpy.int16: 2,\n",
       " numpy.uint16: 2,\n",
       " numpy.int32: 4,\n",
       " numpy.uint32: 4,\n",
       " numpy.int64: 8,\n",
       " numpy.uint64: 8,\n",
       " numpy.int64: 8,\n",
       " numpy.uint64: 8,\n",
       " numpy.float16: 2,\n",
       " numpy.float32: 4,\n",
       " numpy.float64: 8,\n",
       " numpy.float128: 16,\n",
       " numpy.complex64: 8,\n",
       " numpy.complex128: 16,\n",
       " numpy.complex256: 32,\n",
       " numpy.object_: 8,\n",
       " numpy.bytes_: 0,\n",
       " numpy.str_: 0,\n",
       " numpy.void: 0,\n",
       " numpy.datetime64: 8,\n",
       " numpy.timedelta64: 8}"
      ]
     },
     "execution_count": 7,
     "metadata": {},
     "output_type": "execute_result"
    }
   ],
   "source": [
    "# devuelve el número de bytes del array 'a'\n",
    "bytes_array_a = a.nbytes\n",
    "\n",
    "# devuelve el número de bytes que ocupa cada elemento de 'a'\n",
    "bytes_item_a = a.itemsize\n",
    "\n",
    "print (\"El array 'a' ocupa %r bytes, y cada uno de sus elementos ocupa %r bytes. \\n\" \n",
    "       % (bytes_array_a, bytes_item_a))\n",
    "\n",
    "print (\"Éstos son todos los formatos que admite Numpy:\")\n",
    "# devuelve el número de bytes que ocupan los elementos de cada tipo de datos disponibles en Numpy\n",
    "np.nbytes"
   ]
  },
  {
   "cell_type": "markdown",
   "metadata": {},
   "source": [
    "## Longitud y dimensiones de un array\n",
    "\n",
    "Los ejemplos mencionados hasta ahora han sido de arrays de una dimensión. Podemos crear **arrays de varias dimensiones** de la siguiente manera:"
   ]
  },
  {
   "cell_type": "code",
   "execution_count": 8,
   "metadata": {},
   "outputs": [],
   "source": [
    "# array de dos dimensiones y longitud igual a 3\n",
    "b = np.array([[1,2,3],[3,2,1]], dtype = np.uint8)\n",
    "\n",
    "# array de tres dimensiones y longitud igual a 2\n",
    "c = np.array([[1,-1],[0,1],[-5,2]], dtype = np.int8)"
   ]
  },
  {
   "cell_type": "markdown",
   "metadata": {},
   "source": [
    "La **longitud** representa la cantidad de elementos que posee el array en sus filas. Su valor, y el de las dimensiones de un array, se pueden obtener de la siguiente manera: "
   ]
  },
  {
   "cell_type": "code",
   "execution_count": 9,
   "metadata": {},
   "outputs": [],
   "source": [
    "# devuelve la forma de un array, de la siguiente forma (n° de filas, n° de columnas)\n",
    "(dimensiones, longitud) = b.shape"
   ]
  },
  {
   "cell_type": "markdown",
   "metadata": {},
   "source": [
    "## Indizado en arrays\n",
    "\n",
    "Los **índices** se utilizan para indicar la posición de cada elemento de un array. De esta manera, podemos acceder al valor de una posición específica o extraer el valor de un grupo de elementos. Cada elemento posee una posición *[i,j]*, donde 'i' representa el número de fila y 'j' representa el número  de columna en que se ubica."
   ]
  },
  {
   "cell_type": "code",
   "execution_count": 10,
   "metadata": {},
   "outputs": [
    {
     "name": "stdout",
     "output_type": "stream",
     "text": [
      "1\n",
      "-5\n"
     ]
    }
   ],
   "source": [
    "# devuelve el elemento de la posición [1,2] del array 'a', igual a 2.\n",
    "print(b[1,2])\n",
    "\n",
    "# devuelve el elemento de la posición [2,0] del array 'b', igual a -5.\n",
    "print(c[2,0])\n"
   ]
  },
  {
   "cell_type": "markdown",
   "metadata": {},
   "source": [
    "Es importante tener en cuenta que los índices que se asignan se inician desde 0, por lo que si tengo 4 elementos, sus índices irán del rango de 0 a 3.\n",
    "Podemos **desplazarnos** dentro de una array, y **seleccionar** un rango de elementos utilizando la notación *[i: j: k]*, donde 'i' representa el índice a partir del cual nos desplazamos, 'j' es el índice en el cual nos detenemos y 'k' es el paso con el cual nos desplazamos a los elementos subsiguientes. "
   ]
  },
  {
   "cell_type": "code",
   "execution_count": 11,
   "metadata": {},
   "outputs": [
    {
     "name": "stdout",
     "output_type": "stream",
     "text": [
      "[ 1  2  5 13]\n",
      "[ 1  1  2  3  5  8 13]\n",
      "[ 5  8 13 21]\n",
      "[13  8  5  3  2]\n",
      "[ 2  3  5  8 13 21 34]\n",
      "[0 1 3]\n"
     ]
    }
   ],
   "source": [
    "fibo = np.array([0,1,1,2,3,5,8,13,21,34], dtype = np.uint8)\n",
    "\n",
    "# desplazamiento a partir del 1° elemento, hasta el 8°, en pasos de cada 2 elementos\n",
    "print (fibo[1:8:2])\n",
    "\n",
    "# desplazamiento entre las mismas posiciones en pasos de a 1\n",
    "print (fibo[1:8])\n",
    "\n",
    "# desplazamiento desde la posición n-5 hasta la posición 9, siendo n la cantidad de elementos.\n",
    "print (fibo[-5:9])\n",
    "\n",
    "# desplazamiento desde la posición 7 hasta la posición n-8, en pasos de 1 hacia atrás\n",
    "print (fibo[7:-8:-1])\n",
    "\n",
    "# desplazamiento desde la posición 3 hasta el final del array\n",
    "print (fibo[3:])\n",
    "\n",
    "# desplazamiento desde el comienzo hasta la posición 6 en pasos de a 2\n",
    "print (fibo[:6:2])"
   ]
  },
  {
   "cell_type": "markdown",
   "metadata": {},
   "source": [
    "Como se puede ver en el ejemplo, tenemos varias opciones para desplazarnos de distintas maneras. Es posible ir hacia adelante, atrás e indicar las posiciones inicial y final con respecto a la longitud del array.\n",
    "\n",
    "Para el caso de **matrices**, el desplazamiento varía un poco. Veamos algunos casos."
   ]
  },
  {
   "cell_type": "code",
   "execution_count": 12,
   "metadata": {},
   "outputs": [
    {
     "name": "stdout",
     "output_type": "stream",
     "text": [
      "[[0 1 1]\n",
      " [2 3 5]]\n",
      "[ 1  3 13]\n"
     ]
    }
   ],
   "source": [
    "# definimos la misma secuencia, pero en forma de matriz de 3x3\n",
    "fibo_mtx = np.array([[0,1,1],[2,3,5],[8,13,21]], dtype = np.uint8)\n",
    "\n",
    "# el desplazamiento es ahora entre dimensiones, para ver las dos primeras (filas 0 y 1):\n",
    "print(fibo_mtx[0:2])\n",
    "\n",
    "# desplazamiento entre los elementos de la 2° columna \n",
    "print(fibo_mtx[...,1])"
   ]
  },
  {
   "cell_type": "markdown",
   "metadata": {},
   "source": [
    "La notación *[i , j, k]* sirve para desplazarnos entre filas de una matriz. Por otra parte, podemos acceder a todos los elementos de una columna o fila con la notación *[..., x]* o *[x, ...]* respectivamente, siendo *x* el índice de la columna o fila en la que nos desplazamos.\n",
    "\n",
    "> **Nota:** Numpy también cuenta con el objeto matrix, que es una subclase del objeto array. La ventaja de usar este objeto es que las operaciones matemáticas son matriciales por defecto, y en un array se hacen elemento a elemento (vamos a este tema en la siguiente sección). A fines prácticos, el array también se puede implementar como matriz, teniendo en consideración lo mencionado anteriormente."
   ]
  },
  {
   "cell_type": "markdown",
   "metadata": {},
   "source": [
    "### Operaciones matematicas entre arrays\n",
    "\n",
    "Las operaciones matemáticas entre arrays se realizan **elemento a elemento**. Esto quiere decir que si sumamos dos arrays 'a' y 'b', el elemento *a[i,j]* se suma con el elemento *b[i,j]*. Por lo tanto, debemos operar entre arrays de iguales tamaños (aunque existen excepciones, las cuales veremos en el apartado ['broadcasting'](#Broadcasting))."
   ]
  },
  {
   "cell_type": "code",
   "execution_count": 13,
   "metadata": {},
   "outputs": [],
   "source": [
    "import numpy as np\n",
    "\n",
    "a = np.array([1,2,3,1], dtype = np.uint8)\n",
    "b = np.array([2,4,2,1], dtype = np.uint8)"
   ]
  },
  {
   "cell_type": "code",
   "execution_count": 14,
   "metadata": {},
   "outputs": [
    {
     "data": {
      "text/plain": [
       "array([ 5, 10, 15,  5], dtype=uint8)"
      ]
     },
     "execution_count": 14,
     "metadata": {},
     "output_type": "execute_result"
    }
   ],
   "source": [
    "# producto por escalar\n",
    "5 * a"
   ]
  },
  {
   "cell_type": "code",
   "execution_count": 15,
   "metadata": {},
   "outputs": [
    {
     "data": {
      "text/plain": [
       "array([3, 6, 5, 2], dtype=uint8)"
      ]
     },
     "execution_count": 15,
     "metadata": {},
     "output_type": "execute_result"
    }
   ],
   "source": [
    "# suma de arrays (la resta es igual)\n",
    "a + b"
   ]
  },
  {
   "cell_type": "code",
   "execution_count": 16,
   "metadata": {},
   "outputs": [
    {
     "data": {
      "text/plain": [
       "array([2, 8, 6, 1], dtype=uint8)"
      ]
     },
     "execution_count": 16,
     "metadata": {},
     "output_type": "execute_result"
    }
   ],
   "source": [
    "# producto de arrays (elemento a elemento)\n",
    "a * b"
   ]
  },
  {
   "cell_type": "code",
   "execution_count": 17,
   "metadata": {},
   "outputs": [
    {
     "data": {
      "text/plain": [
       "17"
      ]
     },
     "execution_count": 17,
     "metadata": {},
     "output_type": "execute_result"
    }
   ],
   "source": [
    "# producto matricial entre arrays\n",
    "a.dot(b)"
   ]
  },
  {
   "cell_type": "code",
   "execution_count": 18,
   "metadata": {},
   "outputs": [
    {
     "data": {
      "text/plain": [
       "array([0.5, 0.5, 1.5, 1. ])"
      ]
     },
     "execution_count": 18,
     "metadata": {},
     "output_type": "execute_result"
    }
   ],
   "source": [
    "# cociente de arrays\n",
    "a / b"
   ]
  },
  {
   "cell_type": "code",
   "execution_count": 19,
   "metadata": {},
   "outputs": [
    {
     "data": {
      "text/plain": [
       "array([ 1, 16,  9,  1], dtype=uint8)"
      ]
     },
     "execution_count": 19,
     "metadata": {},
     "output_type": "execute_result"
    }
   ],
   "source": [
    "# potencia de arrays (?)\n",
    "a**b"
   ]
  },
  {
   "cell_type": "code",
   "execution_count": 20,
   "metadata": {},
   "outputs": [
    {
     "data": {
      "text/plain": [
       "array([1, 2, 1, 0], dtype=uint8)"
      ]
     },
     "execution_count": 20,
     "metadata": {},
     "output_type": "execute_result"
    }
   ],
   "source": [
    "# operación módulo\n",
    "a % b"
   ]
  },
  {
   "cell_type": "markdown",
   "metadata": {},
   "source": [
    "Tenemos una restricción en el caso de las potencias. **Los formatos enteros no admiten potencias negativas**, en esos casos debemos utilizar un formato float para el array de la base."
   ]
  },
  {
   "cell_type": "code",
   "execution_count": 21,
   "metadata": {},
   "outputs": [
    {
     "ename": "ValueError",
     "evalue": "Integers to negative integer powers are not allowed.",
     "output_type": "error",
     "traceback": [
      "\u001b[0;31m---------------------------------------------------------------------------\u001b[0m",
      "\u001b[0;31mValueError\u001b[0m                                Traceback (most recent call last)",
      "\u001b[0;32m<ipython-input-21-6079573ba0f2>\u001b[0m in \u001b[0;36m<module>\u001b[0;34m\u001b[0m\n\u001b[1;32m      4\u001b[0m \u001b[0;34m\u001b[0m\u001b[0m\n\u001b[1;32m      5\u001b[0m \u001b[0;31m# aplicar la potencia de 'a elevado a la b' no me funciona\u001b[0m\u001b[0;34m\u001b[0m\u001b[0;34m\u001b[0m\u001b[0;34m\u001b[0m\u001b[0m\n\u001b[0;32m----> 6\u001b[0;31m \u001b[0ma\u001b[0m\u001b[0;34m**\u001b[0m\u001b[0mb\u001b[0m\u001b[0;34m\u001b[0m\u001b[0;34m\u001b[0m\u001b[0m\n\u001b[0m",
      "\u001b[0;31mValueError\u001b[0m: Integers to negative integer powers are not allowed."
     ]
    }
   ],
   "source": [
    "# si cambio un elemento de 'b' por un número negativo...\n",
    "b.dtype = np.int8 # ahora necesitamos un formato CON signo para b\n",
    "b[3] = -1\n",
    "\n",
    "# aplicar la potencia de 'a elevado a la b' no me funciona\n",
    "a**b"
   ]
  },
  {
   "cell_type": "code",
   "execution_count": 22,
   "metadata": {},
   "outputs": [
    {
     "data": {
      "text/plain": [
       "array([ 1., 16.,  9.,  1.], dtype=float16)"
      ]
     },
     "execution_count": 22,
     "metadata": {},
     "output_type": "execute_result"
    }
   ],
   "source": [
    "# ahora intento de nuevo convirtiendo el formato de 'a' a un float\n",
    "a = np.array([1,2,3,1], dtype = np.float16)\n",
    "\n",
    "# y entonces...\n",
    "a**b"
   ]
  },
  {
   "cell_type": "markdown",
   "metadata": {},
   "source": [
    "### Broadcasting\n",
    "\n",
    "El término alude a cómo Numpy realiza las operaciones con arrays. En español, se podría traducir como 'expansión' ya que describe lo que sucede al operar entre arrays de distintos tamaños, donde **el array más pequeño se expande a lo largo del array más grande** para poder realizar la operación. De todas formas, hay que tener en cuenta que sólo es posible operar entre arrays bajo una de las siguientes condiciones: las longitudes de ambos son iguales o la de uno de ellos es igual  a 1 (en todos sus ejes)."
   ]
  },
  {
   "cell_type": "code",
   "execution_count": 23,
   "metadata": {},
   "outputs": [
    {
     "data": {
      "text/plain": [
       "((4,), (3,))"
      ]
     },
     "execution_count": 23,
     "metadata": {},
     "output_type": "execute_result"
    }
   ],
   "source": [
    "# Veamos en detalle cómo funciona el broadcasting\n",
    "\n",
    "# partimos de estos dos vectores\n",
    "t = np.array([1,2,3,4], dtype = np.int8)\n",
    "u = np.array([0,5,10], dtype = np.int8)\n",
    "\n",
    "t.shape, u.shape"
   ]
  },
  {
   "cell_type": "markdown",
   "metadata": {},
   "source": [
    "En el ejemplo, las longitudes de a y b son distintas. A pesar de que el comando `shape` nos muestra sólo una de las longitudes, podemos trabajar considerando que son de la forma (4,1) y (3,1). Vemos que la primer longitud de ambos es distinta (4 y 3), mientras que la segunda longitud es igual (1 y 1). Ninguna operación puede hacerse bajo estas condiciones. Sin embargo, podemos manipular la forma de ellos para que sea posible operar. Si aplicamos `reshape` a 'u' para que sea de la forma (1,3), sus longitudes serán compatibles. Por un lado tendremos 4 y 1 y por el otro 3 y 1, son distintas pero una de ellas es igual a 1 por lo que se 'expande'."
   ]
  },
  {
   "cell_type": "code",
   "execution_count": 24,
   "metadata": {},
   "outputs": [
    {
     "data": {
      "text/plain": [
       "array([[ 0],\n",
       "       [ 5],\n",
       "       [10]], dtype=int8)"
      ]
     },
     "execution_count": 24,
     "metadata": {},
     "output_type": "execute_result"
    }
   ],
   "source": [
    "# cambiamos la forma de 'u' para poder operar\n",
    "u = u.reshape(3,1)\n",
    "u"
   ]
  },
  {
   "cell_type": "code",
   "execution_count": 25,
   "metadata": {},
   "outputs": [
    {
     "data": {
      "text/plain": [
       "array([[ 0,  0,  0,  0],\n",
       "       [ 5, 10, 15, 20],\n",
       "       [10, 20, 30, 40]], dtype=int8)"
      ]
     },
     "execution_count": 25,
     "metadata": {},
     "output_type": "execute_result"
    }
   ],
   "source": [
    "# ahora los vectores son compatibles\n",
    "t*u"
   ]
  },
  {
   "cell_type": "code",
   "execution_count": 26,
   "metadata": {},
   "outputs": [
    {
     "data": {
      "text/plain": [
       "array([[ 1,  2,  3,  4],\n",
       "       [ 6,  7,  8,  9],\n",
       "       [11, 12, 13, 14]], dtype=int8)"
      ]
     },
     "execution_count": 26,
     "metadata": {},
     "output_type": "execute_result"
    }
   ],
   "source": [
    "t+u"
   ]
  },
  {
   "cell_type": "markdown",
   "metadata": {},
   "source": [
    "### Otras formas de crear arrays\n",
    "\n",
    "Numpy provee funciones para crear ciertos tipos de arrays de común uso. Veamos algunos casos:"
   ]
  },
  {
   "cell_type": "code",
   "execution_count": 27,
   "metadata": {},
   "outputs": [
    {
     "data": {
      "text/plain": [
       "array([[1, 1, 1, 1, 1, 1],\n",
       "       [1, 1, 1, 1, 1, 1]], dtype=uint8)"
      ]
     },
     "execution_count": 27,
     "metadata": {},
     "output_type": "execute_result"
    }
   ],
   "source": [
    "# creamos un array de unos\n",
    "array_unos = np.ones((2,6), dtype = np.uint8)\n",
    "array_unos"
   ]
  },
  {
   "cell_type": "code",
   "execution_count": 28,
   "metadata": {},
   "outputs": [
    {
     "data": {
      "text/plain": [
       "array([[0, 0, 0],\n",
       "       [0, 0, 0],\n",
       "       [0, 0, 0]], dtype=uint8)"
      ]
     },
     "execution_count": 28,
     "metadata": {},
     "output_type": "execute_result"
    }
   ],
   "source": [
    "# creamos un array de ceros\n",
    "np.zeros((3,3), dtype = np.uint8)"
   ]
  },
  {
   "cell_type": "code",
   "execution_count": 29,
   "metadata": {},
   "outputs": [
    {
     "data": {
      "text/plain": [
       "array([0, 1, 2, 3, 4, 5, 6, 7, 8, 9], dtype=uint8)"
      ]
     },
     "execution_count": 29,
     "metadata": {},
     "output_type": "execute_result"
    }
   ],
   "source": [
    "# creamos una secuencia creciente de números\n",
    "sec_numeros = np.arange(10, dtype = np.uint8)\n",
    "sec_numeros"
   ]
  },
  {
   "cell_type": "code",
   "execution_count": 30,
   "metadata": {},
   "outputs": [
    {
     "data": {
      "text/plain": [
       "array([0.  , 1.25, 2.5 , 3.75, 5.  ], dtype=float16)"
      ]
     },
     "execution_count": 30,
     "metadata": {},
     "output_type": "execute_result"
    }
   ],
   "source": [
    "# otra secuencia de números\n",
    "np.linspace(0,5,5, dtype=np.float16)"
   ]
  },
  {
   "cell_type": "markdown",
   "metadata": {},
   "source": [
    "Podemos utilizar el comando *reshape* para crear secuencias en forma de matriz o modificar la disposición de los elementos de un array que hemos creado previamente. Esto crea un nuevo array, sin modificar o eliminar el original. "
   ]
  },
  {
   "cell_type": "code",
   "execution_count": 31,
   "metadata": {},
   "outputs": [
    {
     "data": {
      "text/plain": [
       "array([[0, 1, 2, 3, 4],\n",
       "       [5, 6, 7, 8, 9]], dtype=uint8)"
      ]
     },
     "execution_count": 31,
     "metadata": {},
     "output_type": "execute_result"
    }
   ],
   "source": [
    "# se indica el número de filas y columnas del nuevo array\n",
    "sec_numeros.reshape(2,5)"
   ]
  },
  {
   "cell_type": "markdown",
   "metadata": {},
   "source": [
    "También es posible reducir un array a una sola dimensión con el comando *ravel*."
   ]
  },
  {
   "cell_type": "code",
   "execution_count": 32,
   "metadata": {},
   "outputs": [
    {
     "data": {
      "text/plain": [
       "array([1, 1, 1, 1, 1, 1, 1, 1, 1, 1, 1, 1], dtype=uint8)"
      ]
     },
     "execution_count": 32,
     "metadata": {},
     "output_type": "execute_result"
    }
   ],
   "source": [
    "np.ravel(array_unos)"
   ]
  },
  {
   "cell_type": "markdown",
   "metadata": {},
   "source": [
    "Veamos algunas formas de crear secuencias aleatorias:"
   ]
  },
  {
   "cell_type": "code",
   "execution_count": 33,
   "metadata": {},
   "outputs": [
    {
     "name": "stdout",
     "output_type": "stream",
     "text": [
      "[-59  -1 -51 -48  34 -36 -45  85]\n"
     ]
    }
   ],
   "source": [
    "# randint = enteros aleatorios - se especifica el rango de valores\n",
    "\n",
    "rand_sec = np.random.randint(-100, 100, 8, dtype=np.int8)\n",
    "print(rand_sec)"
   ]
  },
  {
   "cell_type": "code",
   "execution_count": 34,
   "metadata": {},
   "outputs": [
    {
     "name": "stdout",
     "output_type": "stream",
     "text": [
      "[[0.10524048 0.09445885 0.58170041]\n",
      " [0.10743143 0.02701648 0.54091471]]\n"
     ]
    }
   ],
   "source": [
    "# rand = array con valores aleatorios entre 0 y 1 - se especifican las dimensiones y longitud del array\n",
    "\n",
    "rand_sec = np.random.rand(2,3)\n",
    "print(rand_sec)"
   ]
  },
  {
   "cell_type": "code",
   "execution_count": 35,
   "metadata": {},
   "outputs": [
    {
     "name": "stdout",
     "output_type": "stream",
     "text": [
      "[0.28071245 0.84915187 0.81419045 0.59380492 0.87351174]\n"
     ]
    }
   ],
   "source": [
    "# ranf = floats aleatorios - se especifica la longitud\n",
    "\n",
    "rand_sec = np.random.ranf(5)\n",
    "print(rand_sec)"
   ]
  },
  {
   "cell_type": "markdown",
   "metadata": {},
   "source": [
    "### Aplicando funciones matematicas\n",
    "\n",
    "Numpy dispone de varias funciones matemáticas para aplicar sobre un simple escalar o sobre un array. En esta sección nos enfocaremos en la creación de funciones trigonométricas y logarítmicas específicamente. La lista completa de funciones matemáticas que provee Numpy puede verse haciendo [clic acá](https://docs.scipy.org/doc/numpy/reference/routines.math.html#trigonometric-functions).\n",
    "\n",
    "Veamos algunos ejemplos:"
   ]
  },
  {
   "cell_type": "code",
   "execution_count": 36,
   "metadata": {},
   "outputs": [
    {
     "data": {
      "text/plain": [
       "array([0.  , 1.57, 3.14, 4.71], dtype=float16)"
      ]
     },
     "execution_count": 36,
     "metadata": {},
     "output_type": "execute_result"
    }
   ],
   "source": [
    "# multiplico una array por el escalar pi.\n",
    "x = np.array([0., 0.5, 1., 1.5], dtype = np.float16)*np.pi\n",
    "x"
   ]
  },
  {
   "cell_type": "code",
   "execution_count": 37,
   "metadata": {},
   "outputs": [
    {
     "name": "stdout",
     "output_type": "stream",
     "text": [
      "[ 0.000e+00  1.000e+00  9.675e-04 -1.000e+00]\n"
     ]
    }
   ],
   "source": [
    "f_seno = np.sin(x)\n",
    "\n",
    "print(f_seno)"
   ]
  },
  {
   "cell_type": "code",
   "execution_count": 38,
   "metadata": {},
   "outputs": [
    {
     "name": "stdout",
     "output_type": "stream",
     "text": [
      "[ 1.0000e+00  4.8375e-04 -1.0000e+00 -1.4515e-03]\n"
     ]
    }
   ],
   "source": [
    "f_coseno = np.cos(x)\n",
    "\n",
    "print(f_coseno)"
   ]
  },
  {
   "cell_type": "markdown",
   "metadata": {},
   "source": [
    "Entonces, podemos crear arrays para representar funciones matemáticas conocidas. Primero creamos un array para definir una serie de puntos en el dominio de la función y luego aplicamos la función sobre estos puntos.\n",
    "\n",
    "En los últimos ejemplos, podemos notar que los valores de las funciones seno y coseno se aproximaron a cero pero no fueron exactamente iguales a ese número. Esto se debe a la precisión de los formatos *float*, podemos hacer la prueba de definir *x* con floats de 32 y 64 bits y veremos que los valores se aproximan más al número deseado.\n",
    "\n",
    "Entonces, ¿cómo podemos crear un array que represente a una función senoidal en el dominio del tiempo? Anteriormente vimos cómo crear secuencias numéricas, y una de las funciones que utilizamos fue *linspace*. Ahora vamos a aprovecharla para crear una representación de una función."
   ]
  },
  {
   "cell_type": "code",
   "execution_count": 39,
   "metadata": {},
   "outputs": [
    {
     "data": {
      "text/plain": [
       "array([ 0.       ,  0.7853982,  1.5707964,  2.3561945,  3.1415927,\n",
       "        3.9269907,  4.712389 ,  5.497787 ,  6.2831855,  7.0685835,\n",
       "        7.8539815,  8.6393795,  9.424778 , 10.210176 , 10.995574 ,\n",
       "       11.7809725, 12.566371 , 13.3517685, 14.137167 , 14.922565 ,\n",
       "       15.707963 ], dtype=float32)"
      ]
     },
     "execution_count": 39,
     "metadata": {},
     "output_type": "execute_result"
    }
   ],
   "source": [
    "x = np.linspace(0, 5*np.pi, 21, dtype=np.float32)\n",
    "x"
   ]
  },
  {
   "cell_type": "markdown",
   "metadata": {},
   "source": [
    "Con *x* tenemos representados los puntos en el dominio del tiempo, ahora tenemos que generar la función trigonométrica para estos valores."
   ]
  },
  {
   "cell_type": "code",
   "execution_count": 40,
   "metadata": {},
   "outputs": [
    {
     "name": "stdout",
     "output_type": "stream",
     "text": [
      "[ 1.0000000e+00  7.0710677e-01 -4.3711388e-08 -7.0710677e-01\n",
      " -1.0000000e+00 -7.0710683e-01  1.1924881e-08  7.0710665e-01\n",
      "  1.0000000e+00  7.0710677e-01  1.3907092e-07 -7.0710659e-01\n",
      " -1.0000000e+00 -7.0710653e-01 -2.9006671e-07  7.0710683e-01\n",
      "  1.0000000e+00  7.0710701e-01 -3.5774640e-08 -7.0710701e-01\n",
      " -1.0000000e+00]\n"
     ]
    }
   ],
   "source": [
    "f_trig_1 = np.cos(x)\n",
    "\n",
    "print (f_trig_1)"
   ]
  },
  {
   "cell_type": "markdown",
   "metadata": {},
   "source": [
    "Por último, un ejemplo de logaritmos. Nos sirve también para ver cómo utilizar `numpy.power` para aplicar potencias"
   ]
  },
  {
   "cell_type": "code",
   "execution_count": 41,
   "metadata": {},
   "outputs": [],
   "source": [
    "import numpy as np\n",
    "\n",
    "p_ref = 2*np.power(10.,-5)\n",
    "p = np.linspace(p_ref, 1, 100) # la base en número float! -> 10.\n",
    "\n",
    "p_log = 10*np.log10(p/p_ref)"
   ]
  },
  {
   "cell_type": "code",
   "execution_count": 42,
   "metadata": {},
   "outputs": [
    {
     "data": {
      "text/plain": [
       "46.98970004336019"
      ]
     },
     "execution_count": 42,
     "metadata": {},
     "output_type": "execute_result"
    }
   ],
   "source": [
    "p_log[-1]"
   ]
  },
  {
   "cell_type": "markdown",
   "metadata": {},
   "source": [
    "## Referencias\n",
    "\n",
    " * *Numpy User Guide*, https://www.numpy.org/\n",
    "\n",
    " * Scott Shell, *An introduction to Numpy and Scipy*, 2014. "
   ]
  },
  {
   "cell_type": "markdown",
   "metadata": {},
   "source": [
    "## Licencia\n",
    "\n",
    "<a rel=\"license\" href=\"http://creativecommons.org/licenses/by-sa/4.0/\"><img alt=\"Licencia de Creative Commons\" style=\"border-width:0\" src=\"https://i.creativecommons.org/l/by-sa/4.0/88x31.png\" /></a><br />Este documento se destribuye con una <a rel=\"license\" href=\"http://creativecommons.org/licenses/by-sa/4.0/\">licencia Atribución CompartirIgual 4.0 Internacional de Creative Commons</a>.\n",
    "\n",
    "© 2018. Infiniem Lab DSP. **infiniemlab.dsp@gmail.com**. Introducción informal a Python3 (CC BY-SA 4.0)"
   ]
  }
 ],
 "metadata": {
  "kernelspec": {
   "display_name": "Python 3",
   "language": "python",
   "name": "python3"
  },
  "language_info": {
   "codemirror_mode": {
    "name": "ipython",
    "version": 3
   },
   "file_extension": ".py",
   "mimetype": "text/x-python",
   "name": "python",
   "nbconvert_exporter": "python",
   "pygments_lexer": "ipython3",
   "version": "3.7.3"
  }
 },
 "nbformat": 4,
 "nbformat_minor": 2
}
