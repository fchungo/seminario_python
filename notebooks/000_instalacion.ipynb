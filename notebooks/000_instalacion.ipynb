{
 "cells": [
  {
   "cell_type": "markdown",
   "metadata": {
    "slideshow": {
     "slide_type": "-"
    }
   },
   "source": [
    "[comment]: <> (los titulares se generan en el siguiente link: https://docs.google.com/drawings/d/1TLM83sTn9w2Jmq0l0Jy1ivIeLRVO_rKBCamm5Tq11Yo/edit?usp=sharing)\n",
    "\n",
    "![](../img/titulo_instalacion.png)"
   ]
  },
  {
   "cell_type": "markdown",
   "metadata": {},
   "source": [
    "## Contenido\n",
    "\n",
    "* [Entorno de desarrollo para Python](#Entorno-de-desarrollo-para-Python)\n",
    "    * [Intérprete de Python](#Interprete-de-Python)\n",
    "    * [Administrador de paquetes](#Administrador-de-paquetes)\n",
    "    * [IDE](#IDE)\n",
    "    * [Librerías](#Librerías)\n",
    "* [Instalaciones simplificadas](#Instalaciones-simplificadas)\n",
    "    * [Anaconda](#Anaconda)\n",
    "    * [Miniconda](#Miniconda)\n",
    "    * [Instalando paquetes a través de conda (o pip)](#Instalando-paquetes-a-traves-de-conda-(o-pip))\n",
    "    * [Utilizar el material del seminario](#Utilizar-el-material-del-seminario)\n",
    "* [Bibliografía recomendada para el seminario](#Bibliografia-recomendada-para-el-seminario)\n",
    "* [Referencias usadas en el notebook](#Referencias-usadas-en-el-notebook)"
   ]
  },
  {
   "cell_type": "markdown",
   "metadata": {},
   "source": [
    "## Objetivos del notebook\n",
    "\n",
    "* Aprender a instalar y configurar el entorno de desarrollo.\n",
    "* Instalar paquetes."
   ]
  },
  {
   "cell_type": "markdown",
   "metadata": {},
   "source": [
    "## Entorno de desarrollo para Python\n",
    "\n",
    "Python es un lenguaje de programación multiplataforma, lo que significa que se ejecuta en todos los principales sistemas operativos, pero difiere ligeramente dependiendo de su versión. Por esto, se deberá mantener algunas consideraciones en mente. En terminos generales debemos contar con los siguientes elementos:\n",
    "\n",
    "* Intérprete de Python.\n",
    "* Administrador de paquetes (package managers).\n",
    "* IDE.\n",
    "* Librerías."
   ]
  },
  {
   "cell_type": "markdown",
   "metadata": {},
   "source": [
    "### Interprete de Python\n",
    "\n",
    "Para comenzar a trabajar con Python, nuestro sistema operativo deberá tener acceso a su intérprete. Para lo cual:\n",
    "\n",
    "* Descargarlo desde la página oficial [Python Software Foundation](https://www.python.org/) para el sistema operativo que se desee y ejecutarlo.\n",
    "\n",
    "#### Linux\n",
    "\n",
    "En el caso de los sistemas Linux, éstos están diseñados para la programación, por lo que Python ya está instalado en la mayoría de las distribuciones del dicho sistema operativo. Abriendo una ventana de terminal (en Ubuntu, presionar `ctrl+alt+T`) ingresar `python` y debería abrir el intérprete en consola, donde en las primeras líneas figura la versión del mismo (para salir `ctrl+D` o ingresar `exit()`). \n",
    "\n",
    "#### OS X\n",
    "\n",
    "Al igual que en los sistema Linux, Python ya está instalado en la mayoría de los sistemas OS X. Abrir una ventana de terminal e ingresar `python` y debería abrir el intérprete en consola, donde en las primeras líneas figura la versión del mismo (para salir `ctrl+D` o ingresar `exit()`). \n",
    "\n",
    "#### Windows\n",
    "\n",
    "Por lo general Windows no viene con Python, por lo que probablemente se deba descargar e instalar. Primero verificar si Python está instalado en el sistema. Abrir una ventana de terminal e ingresar `python`, si se abre el intérprete, Python está instalado en el sistema. Sin embargo, probablemente arroje un mensaje de error que indica que Python no es un comando reconocido.\n",
    "Por lo tanto, descargar desde la página oficial [Python Software Foundation](https://www.python.org/) el instalador para Windows e instalar, es importante asegurarse de marcar la opción **Agregar Python a PATH**, lo que facilitará la configuración.\n",
    "\n",
    "> Si no seleccionamos la opción de **Agregar Python a PATH**, el intérprete no podrá ser llamado desde cualquier instancia del terminal de Windows. En tal caso proceder como recomienda la siguiente [publicación](https://medium.com/@hektorprofe/tutorial-windows-10-agregar-el-python-de-anaconda-al-path-para-utilizarlo-en-la-cmd-y-powershell-72acf22901a), para agregar el intérprete a las variables de entorno del sistema operativo.\n",
    "\n",
    "Por otra parte en el libro [*Python crash course: a hands-on, project-based introduction to programming*](https://www.amazon.es/Python-Crash-Course-Hands-Project-Based/dp/1593276036) de Matthes Eric presenta una detallada descripción de cómo proceder para cada sistema operativo, el mismo se encuentra en el capítulo 1, página 5.\n",
    "\n",
    "O se pueden seguir los pasos recomendados en la siguiente guía de [*Real Python*](https://realpython.com/installing-python/)\n",
    "\n",
    "En todos los casos, no importa el camino que se elija para instalar el intérprete de Python en nuestras computadoras, lo importante es el resultado; poder abrir el mismo y correr la siguiente instrucción:"
   ]
  },
  {
   "cell_type": "code",
   "execution_count": 1,
   "metadata": {},
   "outputs": [
    {
     "name": "stdout",
     "output_type": "stream",
     "text": [
      "Hola a todos, esta es mi primer línea de código\n"
     ]
    }
   ],
   "source": [
    "print(\"Hola a todos, esta es mi primer línea de código\")"
   ]
  },
  {
   "cell_type": "markdown",
   "metadata": {},
   "source": [
    "### Administrador de paquetes\n",
    "\n",
    "O **package manager** en inglés, es un sistema de gestión de paquetes utilizado para instalar y administrar paquetes de software escritos en Python, en particular. Los administradores más conocidos son dos:\n",
    "\n",
    "* [PyPi (Python Package Index)](https://pypi.org/)\n",
    "* [Conda](https://docs.conda.io/projects/conda/en/latest/index.html)\n",
    "\n",
    "Conda también es un administrador de entornos virtuales. **Los entornos virtuales son un ambiente creado con el objetivo de aislar recursos como librerías y entornos de ejecución del sistema principal o de otros entornos virtuales. Esto significa que en el mismo sistema, computadora, es posible tener instaladas múltiples versiones de una misma librería sin crear ningún tipo de conflicto.**. También podemos exportar una lista de paquetes en un archivo con todas las dependencias de nuestro proyecto. Otro gestor de entornos muy usado es [virtualenv](https://virtualenv.pypa.io/en/stable/)."
   ]
  },
  {
   "cell_type": "markdown",
   "metadata": {},
   "source": [
    "### IDE\n",
    "\n",
    "Un entorno de desarrollo integrado o entorno de desarrollo interactivo, en inglés **Integrated Development Environment (IDE)**, es una aplicación informática que proporciona servicios integrales para facilitarle al desarrollador o programador el desarrollo de software. Hay un gran número de ellos, muy diversos, especificos, cubriendo la mayoría de las necesidades. Mencionamos algunos de los más utilizandos con Python:\n",
    "\n",
    "* [Geany](https://www.geany.org/).\n",
    "* [IDLE](https://docs.python.org/3/library/idle.html).\n",
    "* [Sublime Text](https://www.sublimetext.com/). \n",
    "* [Atom](https://atom.io/).\n",
    "* [Spyder](https://www.spyder-ide.org/).\n",
    "* [Jupyter Lab](https://jupyterlab.readthedocs.io/en/stable/index.html). "
   ]
  },
  {
   "cell_type": "markdown",
   "metadata": {},
   "source": [
    "### Librerias\n",
    "\n",
    "![](https://www.researchgate.net/publication/332799309/figure/fig1/AS:753947908272130@1556766597837/Schematic-view-of-the-Python-scientific-software-ecosystem-Figure-taken-from-Jake.png)\n",
    "\n",
    "Las librerías son elementos programados en Python (incluso optimizados en más bajo nivel) que amplían el abanico de herramientas para desarrollar. Es buena práctica antes de comenzar un proyecto de desarrollo ver las librerías disponibles. En este sentido [PyPi](https://pypi.org/) tiene un buscador en la web, como en el caso de [conda](https://anaconda.org/anaconda/repo) o por consola:\n",
    "\n",
    "**Conda**\n",
    "``` bash\n",
    "conda search <package>\n",
    "```\n",
    "\n",
    "**Pip**\n",
    "``` bash\n",
    "pip search <package>\n",
    "```"
   ]
  },
  {
   "cell_type": "markdown",
   "metadata": {
    "slideshow": {
     "slide_type": "slide"
    }
   },
   "source": [
    "## Instalaciones simplificadas\n",
    "\n",
    "La instalación por separado del intérprete de Python, un IDE y todos los paquetes que utilizaremos, puede ser una tarea agotadora. [Anaconda](https://www.anaconda.com/distribution/) es un distribución libre y abierta de los lenguajes Python y R, que está orientada a simplificar el despliegue y administración de los paquetes de software.\n",
    "\n",
    "### Anaconda \n",
    "\n",
    "![](https://i1.wp.com/www.linuxhispano.net/wp-content/uploads/2016/08/anaconda_logo.png?fit=1080%2C540)\n",
    "\n",
    "Algunas características de Anaconda relevantes son:\n",
    "\n",
    "* Es libre, de código abierto y con una [documentación](https://docs.anaconda.com/) bastante detallada y una gran comunidad.\n",
    "* Se trata de una suite multiplataforma (Gnu/Linux, MacOS y Windows).\n",
    "* Orientada a procesamiento de datos a gran escala y computación científica.\n",
    "* Apunta a simplificar el manejo de paquetes y su distribución.\n",
    "* Su gestor de paquetes se llama [Conda](https://docs.conda.io/en/latest/).\n",
    "* Elimina problemas de dependencias de paquetes y control de versiones.\n",
    "\n",
    "#### Instalacion de Anaconda\n",
    "\n",
    "> La instalación de Anaconda depende del sistema operativo instalado, para tener los pasos detallados para cada sistema operativo [ver la documentación oficial](https://docs.anaconda.com/anaconda/install/)\n",
    "\n",
    "* Ir a la [página de descargas de Anaconda](https://www.anaconda.com/download/).\n",
    "* Seleccionar tu sistema operativo (Windows, OSX, Linux).\n",
    "* Descargar Anaconda (Version Python 3.x) y ejecutarlo.\n",
    "\n",
    "#### Actualizar Anaconda usando Conda\n",
    "\n",
    "![](https://docs.conda.io/en/latest/_images/conda_logo.svg)\n",
    "\n",
    "[Conda](https://docs.conda.io/en/latest/) es el gestor de paquetes (package managers) que utiliza Anaconda, es análogo a [pip](https://pypi.org/). Los mismos sirven para bajar e instalar paquetes automáticamente, entre otras cosas. Ahora, vamos a actualizar Anaconda para asegurarnos de que tenemos nuestra distribución de Python con todos sus paquetes al día. Abrimos una terminal y ejecutamos los siguientes comandos de actualización (confirmando en el caso de tener que instalar paquetes nuevos):\n",
    "\n",
    "``` bash\n",
    "conda update anaconda\n",
    "conda update --all\n",
    "```"
   ]
  },
  {
   "cell_type": "markdown",
   "metadata": {},
   "source": [
    "### Miniconda\n",
    "\n",
    "En lugar de instalar Anaconda, se puede instalar Miniconda, que es una versión minimalista de Anaconda que solo incluye **Python**, **Pip** y **Conda** (y otros paquetes necesarios para su funcionamiento).\n",
    "\n",
    "¿Por qué instalaría Miniconda en lugar de Anaconda?\n",
    "\n",
    "* Por cuestiones de espacio en disco: en lugar de instalar todo, pueden instalar solo lo que necesitan.\n",
    "* Para aprovechar y aprender a instalar paquetes, por si alguna vez necesitan uno que Anaconda no incluya.\n",
    "\n",
    "Entrar en la [pagina oficial de Miniconda](https://docs.conda.io/en/latest/miniconda.html) e instalar la versión correspondiente al sistema operativo que poseen."
   ]
  },
  {
   "cell_type": "markdown",
   "metadata": {},
   "source": [
    "### Instalando paquetes a traves de conda (o pip)\n",
    "\n",
    "Una vez instalado Anaconda o Miniconda, abrir una consola. En Windows, van al menú inicio, escriben \"cmd\" y les va a aparecer \"cmd.exe\" o \"Command Prompt\". \n",
    "\n",
    "Primero listemos los paquetes instalados\n",
    "``` bash\n",
    "conda list\n",
    "```\n",
    "\n",
    "Probemos instalando Jupyter Lab. Para esto, escriben en la consola (como recomienda la [documentacion oficial](https://jupyter.org/install)):\n",
    "\n",
    "**Conda**\n",
    "``` bash\n",
    "conda install jupyterlab\n",
    "```\n",
    "\n",
    "**Pip**\n",
    "``` bash\n",
    "pip install jupyterlab\n",
    "```\n",
    "\n",
    "Va a mostrar un texto diciendo qué paquetes va a instalar o actualizar, y pregunta si se quiere proceder. Poniendo \"y\" automáticamente se baja el paquete desde internet y se instala. Así de sencillo.\n",
    "\n",
    "Es importante aclarar, además, que a lo largo del seminario, cuando mencionemos **notebook**, se hará referencia al archivo .ipynb, en lugar al programa de **Jupyter Notebook**. El termino **notebook** se hereda de [IPython](https://es.wikipedia.org/wiki/IPython)."
   ]
  },
  {
   "cell_type": "markdown",
   "metadata": {},
   "source": [
    "### Utilizar el material del seminario\n",
    "\n",
    "Una vez que el entorno de desarrollo está instalado y configurado, es necesario descargar el material del seminario para disponerlo offline. \n",
    "Luego, abrir una terminal del sistema operativo en la carpeta que se descomprimió el material. \n",
    "\n",
    "``` bash\n",
    "jupyter lab\n",
    "```\n",
    "> **Nota:** es importante que la dirección que aparezca en la línea de comandos sea la correspondiente a la carpeta del curso (ej. \"workshop\"), o determinados elementos, como las imágenes incrustadas no se visualizarán correctamente.\n",
    "\n",
    "Aparecerán unas cuantas líneas y se abrirá tu navegador web predefinido. **No hace falta disponer de conexión a Internet**. Lo que está ocurriendo es que \"tu navegador está mostrando lo que le manda el programa que se está ejecutando desde la línea de comandos\". Así que no cierres la línea de comandos hasta que termines de usar el notebook y ya lo hayas guardado y cerrado en tu navegador.\n",
    "\n",
    "En esa ventana de tu navegador puedes moverte por las carpetas y ver los archivos con extensión .ipynb. Ve a la carpeta **notebooks** y abre la primera clase haciendo click sobre ella. "
   ]
  },
  {
   "cell_type": "markdown",
   "metadata": {},
   "source": [
    "## Bibliografia recomendada para el seminario\n",
    "\n",
    "La mayor parte del contenido teórico de este curso fue extraida de: \n",
    "\n",
    "* Matthes, Eric. *Python crash course: a hands-on, project-based introduction to programming*. No Starch Press, 2015.\n",
    "* Van Rossum, Guido; Drake, Fred L. *The python language reference manual*. Network Theory Ltd., 2011."
   ]
  },
  {
   "cell_type": "markdown",
   "metadata": {
    "slideshow": {
     "slide_type": "slide"
    }
   },
   "source": [
    "## Referencias usadas en el notebook\n",
    "\n",
    "* Molloy, Derek. *Exploring Raspberry Pi: interfacing to the real world with embedded Linux*. John Wiley & Sons, 2016.\n",
    "* Cano, Juan Luis. *Curso Aero Python*. Extraido de [GitHub](https://github.com/AeroPython/Curso_AeroPython), 2016."
   ]
  },
  {
   "cell_type": "markdown",
   "metadata": {},
   "source": [
    "## Licencia\n",
    "\n",
    "<a rel=\"license\" href=\"http://creativecommons.org/licenses/by-sa/4.0/\"><img alt=\"Licencia de Creative Commons\" style=\"border-width:0\" src=\"https://i.creativecommons.org/l/by-sa/4.0/88x31.png\" /></a><br />Este documento se destribuye con una <a rel=\"license\" href=\"http://creativecommons.org/licenses/by-sa/4.0/\">licencia Atribución CompartirIgual 4.0 Internacional de Creative Commons</a>.\n",
    "\n",
    "© 2019. Infiniem Labs Acústica. infiniemlab.dsp@gmail.com. Curso de Python (CC BY-SA 4.0))"
   ]
  }
 ],
 "metadata": {
  "kernelspec": {
   "display_name": "Python 3",
   "language": "python",
   "name": "python3"
  },
  "language_info": {
   "codemirror_mode": {
    "name": "ipython",
    "version": 3
   },
   "file_extension": ".py",
   "mimetype": "text/x-python",
   "name": "python",
   "nbconvert_exporter": "python",
   "pygments_lexer": "ipython3",
   "version": "3.7.4"
  }
 },
 "nbformat": 4,
 "nbformat_minor": 4
}
