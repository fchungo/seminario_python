{
 "cells": [
  {
   "cell_type": "markdown",
   "metadata": {},
   "source": [
    "[comment]: <> (los titulares se generan en el siguiente link: https://docs.google.com/drawings/d/1TLM83sTn9w2Jmq0l0Jy1ivIeLRVO_rKBCamm5Tq11Yo/edit?usp=sharing)"
   ]
  },
  {
   "cell_type": "markdown",
   "metadata": {},
   "source": [
    "![](../img/titulo_mas_sobre_estructuras.png)"
   ]
  },
  {
   "cell_type": "markdown",
   "metadata": {},
   "source": [
    "## Contenido\n",
    "\n",
    "* [Estructura de datos III](#Estructura-de-datos-III)\n",
    "    * [Tuplas](#Tuplas)\n",
    "    * [Diccionarios](#Diccionarios)\n",
    "    * [Otras operaciones II](#Otras-operaciones-II)\n",
    "* [Estructuras de control de flujo III](#Estructuras-de-control-de-flujo-III)\n",
    "    * [Estructura condicional por casos - SWITCH](#Estructura-condicional-por-casos-\\--SWITCH)\n",
    "* [Introduccion a while loops](#Introduccion-a-while-loops)\n",
    "    * [Uso de Flag](#Uso-de-Flag)\n",
    "    * [Uso de Break](#Uso-de-Break)\n",
    "    * [Continue](#Continue)\n",
    "* [Declaraciones Else y Pass](#Declaraciones-Else-y-Pass)\n",
    "    * [Else](#Else)\n",
    "    * [Pass](#Pass)\n",
    "* [Errores](#Errores)\n",
    "    * [Manejando excepciones](#Manejando-excepciones)\n",
    "    * [Definiendo acciones de limpieza](#Definiendo-acciones-de-limpieza)\n",
    "* [Referencias usadas en el notebook](#Referencias-usadas-en-el-notebook)\n"
   ]
  },
  {
   "cell_type": "markdown",
   "metadata": {},
   "source": [
    "## Objetivos del notebook\n",
    "\n",
    "* Completar los tipos de estructura de datos disponibles en Python: **Tuplas** y **Diccionarios**.\n",
    "* Implementar una estructura de control condicional por casos en Python: **Switch**.\n",
    "* Introducir al uso de **while loops**.\n",
    "* Conocer sobre declaraciones `Break`, `Continue`, `Else` y `Pass`.\n",
    "* Trabajar con excepciones y control de errores."
   ]
  },
  {
   "cell_type": "markdown",
   "metadata": {},
   "source": [
    "## Estructura de datos III\n",
    "\n",
    "### Tuplas\n",
    "\n",
    "Una tupla es una variable que permite almacenar varios **datos inmutables**, son como las listas, pero no pueden ser modificadas, sólo creadas. **Se pueden pensar como una lista de sólo lectura**."
   ]
  },
  {
   "cell_type": "code",
   "execution_count": null,
   "metadata": {},
   "outputs": [],
   "source": [
    "t = ('a','b','c')\n",
    "t[1]"
   ]
  },
  {
   "cell_type": "code",
   "execution_count": null,
   "metadata": {},
   "outputs": [],
   "source": [
    "a = (\"Voten\",\"por\",\"mi\")\n",
    "a"
   ]
  },
  {
   "cell_type": "code",
   "execution_count": null,
   "metadata": {},
   "outputs": [],
   "source": [
    "# Es común ver este tipo de expresiones. Se llama tuple unpacking\n",
    "\n",
    "x, y, z = 'a', 7, 9"
   ]
  },
  {
   "cell_type": "code",
   "execution_count": null,
   "metadata": {},
   "outputs": [],
   "source": [
    "a = 1, 2, 3 # Es esta manera los ingresamos en la primera clase"
   ]
  },
  {
   "cell_type": "markdown",
   "metadata": {},
   "source": [
    "¿Por qué usar **tuplas** y **no listas**?\n",
    "\n",
    "* Son un poco más eficientes que las listas y ocupan menos memoria.\n",
    "* Se usan en general donde se requiere una secuencia inmutable, como en el **key** de un diccionario.\n",
    "* Los argumentos a función son pasados como tuplas."
   ]
  },
  {
   "cell_type": "markdown",
   "metadata": {},
   "source": [
    "### Diccionarios\n",
    "\n",
    "![](../img/diccionario.png)\n",
    "\n",
    "Mientras que a las listas y tuplas se accede solo y únicamente por un número de índice, los diccionarios permiten utilizar una **key** para declarar y acceder a un valor:\n",
    "\n",
    "Características:\n",
    "\n",
    "* Los diccionarios en Python se acceden con enteros, strings u otros objetos llamados **keys** en este contexto.\n",
    "* Como las listas, pueden contener cualquier tipo de objeto en **values**.\n",
    "* A diferencia de las listas, que estaban implícitamente ordenadas, **los diccionarios no tienen un orden interno**.\n",
    "* En otros lenguajes, se conocen también como *hashes*, *hashmaps*, *associative array*.\n",
    "\n",
    "Parece un comportamiento similar a una lista...\n",
    "\n",
    "![](../img/diccionario_obj.png)"
   ]
  },
  {
   "cell_type": "code",
   "execution_count": null,
   "metadata": {},
   "outputs": [],
   "source": [
    "d = {}\n",
    "d[0] = \"rojo\"\n",
    "d[1] = \"amarillo\"\n",
    "d"
   ]
  },
  {
   "cell_type": "markdown",
   "metadata": {},
   "source": [
    "Sin embargo, podemos hacer esto, mucho más práctico."
   ]
  },
  {
   "cell_type": "code",
   "execution_count": null,
   "metadata": {},
   "outputs": [],
   "source": [
    "del d[0], d[1] # borrar un campo\n",
    "d[\"nombre\"]  = \"Juan\"\n",
    "d[\"edad\"] = 26\n",
    "d[\"legajo\"] = 32415\n",
    "d[\"sector\"] = \"7G\"\n",
    "d[\"riesgo\"] = \"máximo\"\n",
    "d[\"notas\"] = \"[9,7,5]\"\n",
    "d"
   ]
  },
  {
   "cell_type": "code",
   "execution_count": null,
   "metadata": {},
   "outputs": [],
   "source": [
    "list(d.keys())"
   ]
  },
  {
   "cell_type": "code",
   "execution_count": null,
   "metadata": {},
   "outputs": [],
   "source": [
    "list(d.values())"
   ]
  },
  {
   "cell_type": "code",
   "execution_count": null,
   "metadata": {},
   "outputs": [],
   "source": [
    "list(d.items())"
   ]
  },
  {
   "cell_type": "markdown",
   "metadata": {},
   "source": [
    "### Otras operaciones II"
   ]
  },
  {
   "cell_type": "code",
   "execution_count": null,
   "metadata": {},
   "outputs": [],
   "source": [
    "d = dict(red = \"rojo\",green=\"verde\",black=\"negro\")\n",
    "d"
   ]
  },
  {
   "cell_type": "code",
   "execution_count": null,
   "metadata": {},
   "outputs": [],
   "source": [
    "l = [('a', 0),('b',1),('c',2)]\n",
    "d = dict(l)\n",
    "d"
   ]
  },
  {
   "cell_type": "code",
   "execution_count": null,
   "metadata": {},
   "outputs": [],
   "source": [
    "print(\"Cantidad de entradas: {}\".format(len(d)))"
   ]
  },
  {
   "cell_type": "code",
   "execution_count": null,
   "metadata": {},
   "outputs": [],
   "source": [
    "\"red\" in d, \"yellow\" in d"
   ]
  },
  {
   "cell_type": "code",
   "execution_count": null,
   "metadata": {},
   "outputs": [],
   "source": [
    "print(d.get(\"red\", \"no encontrado\"))"
   ]
  },
  {
   "cell_type": "code",
   "execution_count": null,
   "metadata": {},
   "outputs": [],
   "source": [
    "print(d.get(\"orange\", \"no encontrado\"))"
   ]
  },
  {
   "cell_type": "markdown",
   "metadata": {},
   "source": [
    "## Estructuras de control de flujo III"
   ]
  },
  {
   "cell_type": "markdown",
   "metadata": {},
   "source": [
    "### Estructura condicional por casos - SWITCH \n",
    "\n",
    "La sentencia `switch` realiza una función análoga a un conjunto de `if`...`elif` concatenados. Permite seleccionar, por medio de una expresión, el siguiente bloque de instrucciones a ejecutar de entre varios posibles:\n",
    "\n",
    "![](../img/caminos.png)\n",
    "\n",
    "**Pero Python no dispone de la sentencia** `switch` como es el caso de otros lenguajes (C++, Java, etc)\n",
    "\n",
    "![](../img/BEAN-say-what.jpg)\n",
    "\n",
    "Sí **Mr. Bean**, Python no tiene `switch`, entonces la forma más directa de reemplazarlo es usando una secuencia de instrucciones `if`-`elif`-`else`:"
   ]
  },
  {
   "cell_type": "code",
   "execution_count": null,
   "metadata": {},
   "outputs": [],
   "source": [
    "n = 12 # mazo de cartas españolas\n",
    "\n",
    "if n == 1:\n",
    "    print('As')\n",
    "    \n",
    "elif 2 <= n <= 9:\n",
    "    print(n)\n",
    "    \n",
    "elif n == 10:\n",
    "    print('Sota')\n",
    "    \n",
    "elif n == 11:\n",
    "    print('Caballo')\n",
    "    \n",
    "elif n == 12:\n",
    "    print('Rey')\n",
    "    \n",
    "else:\n",
    "    print('Inválido')"
   ]
  },
  {
   "cell_type": "markdown",
   "metadata": {},
   "source": [
    "Ciertamente **funciona** y debería ser bastante fácil de usar, **pero no es una solución muy elegante**. Especialmente si hay más de un puñado de casos, se torna una estructura difícil de leer. Además, en cuestiones de rendimiento que cada una de las condiciones `if` debe verificarse en realidad y **merma la velocidad del script**.\n",
    "\n",
    "La **solución Pythónica** (son las soluciones que siguen el zen de Python) es hacer uso de los poderosos **diccionarios**. Los diccionarios de Python permiten una coincidencia uno a uno simple de una **key** y un **value**. La parte interesante es que los valores en los diccionarios se refieren a funciones que contienen el código que normalmente estaría dentro de los bloques de casos. Aquí está el código anterior reescrito como un diccionario y funciones:"
   ]
  },
  {
   "cell_type": "code",
   "execution_count": null,
   "metadata": {},
   "outputs": [],
   "source": [
    "# definición de funciones\n",
    "def n(a):\n",
    "    print (str(a))\n",
    "    \n",
    "def As():\n",
    "    print (\"As\") \n",
    "    \n",
    "def sota():\n",
    "    print (\"sota\")\n",
    "    \n",
    "def caballo():\n",
    "    print (\"caballo\")\n",
    "    \n",
    "def rey():\n",
    "    print (\"rey\")\n",
    "\n",
    "# definición de diccionario    \n",
    "opciones = {1 : As,\n",
    "                2 : n,\n",
    "                3 : n,\n",
    "                4 : n,\n",
    "                5 : n,\n",
    "                6 : n,\n",
    "                7 : n,\n",
    "                8 : n,\n",
    "                9 : n,\n",
    "                10 : sota,\n",
    "                11 : caballo,\n",
    "                12 : rey}"
   ]
  },
  {
   "cell_type": "code",
   "execution_count": null,
   "metadata": {},
   "outputs": [],
   "source": [
    "opciones[1]()\n",
    "opciones[11]()\n",
    "opciones[4](4)"
   ]
  },
  {
   "cell_type": "markdown",
   "metadata": {},
   "source": [
    "Intentemos aplicarlo a una calculadora, en un ejemplo para completar:"
   ]
  },
  {
   "cell_type": "code",
   "execution_count": null,
   "metadata": {},
   "outputs": [],
   "source": [
    "def sumar(a, b):\n",
    "    return a + b\n",
    " \n",
    "def restar(a, b):\n",
    "    return a - b\n",
    " \n",
    "def multiplicar(a, b):\n",
    "    return a * b;\n",
    " \n",
    "num1 = input(\"Num1: \")\n",
    "num2 = input(\"Num2: \")\n",
    " \n",
    "print(\"Opciones\\n1.- Sumar\\n2.- Restar\\n3.- Multiplicar\")\n",
    " \n",
    "operaciones = {}  # completar!\n",
    " \n",
    "seleccion = input('Escoge una: ')\n",
    "\n",
    "try:\n",
    "    resultado = operaciones[](int(), int())  # completar!\n",
    "    print ()\n",
    "except:\n",
    "    print(\"Esa no vale\")"
   ]
  },
  {
   "cell_type": "code",
   "execution_count": null,
   "metadata": {},
   "outputs": [],
   "source": [
    "%run ../code/switch.py"
   ]
  },
  {
   "cell_type": "markdown",
   "metadata": {},
   "source": [
    "## Introduccion a while loops\n",
    "\n",
    "Los programas que usamos a menudo muy probablemente contengan bucles `while`. Por ejemplo, un juego necesita un ciclo `while` para seguir funcionando todo el tiempo que quieras para seguir jugando y dejar de funcionar tan pronto como le pidas que se cierre, por medio del cambio de una condición."
   ]
  },
  {
   "cell_type": "markdown",
   "metadata": {},
   "source": [
    "### Uso de Flag\n",
    "\n",
    "La bandera supervisa si el programa se sigue ejecutando."
   ]
  },
  {
   "cell_type": "code",
   "execution_count": null,
   "metadata": {},
   "outputs": [],
   "source": [
    "prompt = \"\\nDecime algo y yo lo voy a repetir\"\n",
    "prompt += \"\\n(Ingresar 'Salir' para finalizar el programa).\"\n",
    "active = True\n",
    "\n",
    "while active:\n",
    "    message = input(prompt)\n",
    "    if message.upper() == 'SALIR':\n",
    "        active = False\n",
    "    else:\n",
    "        print(message)"
   ]
  },
  {
   "cell_type": "markdown",
   "metadata": {},
   "source": [
    "### Uso de Break\n",
    "\n",
    "La sentencia `break` en Python **finaliza el ciclo actual y reanuda la ejecución**. El uso más común para `break` es cuando se activa una condición externa que requiere una salida apresurada de un bucle. "
   ]
  },
  {
   "cell_type": "code",
   "execution_count": null,
   "metadata": {},
   "outputs": [],
   "source": [
    "prompt = \"\\nPor favor, ingresar la ciudad que visitó\"\n",
    "prompt += \"\\n(Ingresar 'Salir' para finalizar el programa).\"\n",
    "while True:\n",
    "    city = input(prompt)\n",
    "    if city.upper() == 'SALIR':\n",
    "        break\n",
    "    else:\n",
    "        print(\"Me gusta viajar a \" + city.title() + \"!\")"
   ]
  },
  {
   "cell_type": "markdown",
   "metadata": {},
   "source": [
    "Puede utilizarse tanto en bucles `for` como `while`, no son exclusivos de un while loop."
   ]
  },
  {
   "cell_type": "code",
   "execution_count": null,
   "metadata": {},
   "outputs": [],
   "source": [
    "var = 10                   \n",
    "while var > 0:              \n",
    "   print (\"Valor actual de la variable: \" + str(var))\n",
    "   var -= 1\n",
    "   if var == 5:\n",
    "      break"
   ]
  },
  {
   "cell_type": "code",
   "execution_count": null,
   "metadata": {},
   "outputs": [],
   "source": [
    "for letra in \"Python\": \n",
    "   if letra == \"o\":\n",
    "      break\n",
    "   print (\"Letra actual:\" + letra)"
   ]
  },
  {
   "cell_type": "markdown",
   "metadata": {},
   "source": [
    "### Continue\n",
    "\n",
    "La instrucción `continue` en Python **devuelve el control al principio del ciclo** `while` o `for`, en lugar de romper un bucle por completo sin ejecutar el resto de las iteraciones. La sentencia `continue` rechaza todas las sentencias restantes en la iteración actual del ciclo y mueve el control nuevamente a la parte superior del ciclo."
   ]
  },
  {
   "cell_type": "code",
   "execution_count": null,
   "metadata": {},
   "outputs": [],
   "source": [
    "current_number = 0\n",
    "while current_number < 10:\n",
    "    current_number += 1\n",
    "    if current_number % 2 == 0:\n",
    "        continue\n",
    "    print(current_number)"
   ]
  },
  {
   "cell_type": "code",
   "execution_count": null,
   "metadata": {},
   "outputs": [],
   "source": [
    "for letra in \"Python\": \n",
    "   if letra == \"o\":\n",
    "      continue\n",
    "   print (\"Letra actual:\" + letra)"
   ]
  },
  {
   "cell_type": "markdown",
   "metadata": {},
   "source": [
    "## Declaraciones Else y Pass"
   ]
  },
  {
   "cell_type": "markdown",
   "metadata": {},
   "source": [
    "### Else\n",
    "\n",
    "Python admite tener una instrucción `else` asociada con una instrucción de ciclo. Las sentencias de lazo pueden tener una cláusula `else` que **es ejecutada cuando el lazo termina, luego de agotar la lista (con `for`) o cuando la condición se hace falsa (con `while`), pero no cuando el lazo es terminado con la sentencia `break`**."
   ]
  },
  {
   "cell_type": "code",
   "execution_count": null,
   "metadata": {},
   "outputs": [],
   "source": [
    "for n in range (2,10):\n",
    "    for x in range (2,n): \n",
    "        if n % x == 0:\n",
    "            print (n, \"es igual a\", x, \"*\", int(n/x))\n",
    "            break\n",
    "    else:\n",
    "        # sigue el bucle sin encontrar un factor\n",
    "        print (n, \"es un numero primo\")"
   ]
  },
  {
   "cell_type": "markdown",
   "metadata": {},
   "source": [
    "### Pass\n",
    "\n",
    "La sentencia Pass en Python se usa cuando se requiere una declaración sintácticamente pero no se desea ejecutar ningún comando o código. **En definitiva no hace nada**. Es útil en los lugares donde el código finalmente irá, pero aún no se ha escrito: "
   ]
  },
  {
   "cell_type": "code",
   "execution_count": null,
   "metadata": {},
   "outputs": [],
   "source": [
    "while True:\n",
    "    pass # Espera ocupada hasta una interrupción de teclado (Ctrl+C)"
   ]
  },
  {
   "cell_type": "code",
   "execution_count": null,
   "metadata": {},
   "outputs": [],
   "source": [
    "for letter in 'Python': \n",
    "   if letter == 'h':\n",
    "      pass\n",
    "      print 'This is pass block'\n",
    "   print 'Current Letter :', letter\n",
    "\n",
    "print \"Good bye!\""
   ]
  },
  {
   "cell_type": "markdown",
   "metadata": {},
   "source": [
    "## Errores"
   ]
  },
  {
   "cell_type": "markdown",
   "metadata": {},
   "source": [
    "Hay (al menos) dos tipos diferentes de errores: **errores de sintaxis** y **excepciones**. \n",
    "Los errores de sintaxis, también conocidos como errores de interpretación, son quizás el tipo de erorres más comunes cuando se arranca con Python. Por ejemplo:"
   ]
  },
  {
   "cell_type": "code",
   "execution_count": null,
   "metadata": {},
   "outputs": [],
   "source": [
    "while True print('Hola mundo')"
   ]
  },
  {
   "cell_type": "markdown",
   "metadata": {},
   "source": [
    "La pequeña **flecha** señala el primer lugar donde se detectó un error. En este caso, señala a la función `print()`, ya que faltan dos puntos (`:`) antes de la misma."
   ]
  },
  {
   "cell_type": "markdown",
   "metadata": {},
   "source": [
    "## Excepciones"
   ]
  },
  {
   "cell_type": "markdown",
   "metadata": {},
   "source": [
    "Incluso si la declaración o expresión es sintácticamente correcta, puede generar un error cuando se intenta ejecutarla. Los errores detectados durante la ejecución se llaman **excepciones**. Las excepciones surgen por diferentes tipos de errores al ejecutar código Python. Por ejemplo:"
   ]
  },
  {
   "cell_type": "code",
   "execution_count": null,
   "metadata": {},
   "outputs": [],
   "source": [
    "10 * 1/0"
   ]
  },
  {
   "cell_type": "code",
   "execution_count": null,
   "metadata": {},
   "outputs": [],
   "source": [
    "1 + 'e'"
   ]
  },
  {
   "cell_type": "code",
   "execution_count": null,
   "metadata": {},
   "outputs": [],
   "source": [
    "4 + potencia(3,2)"
   ]
  },
  {
   "cell_type": "markdown",
   "metadata": {},
   "source": [
    "La lista de excepciones es muy extensa, Python cuenta con [excepciones integradas](https://docs.python.org/3/library/exceptions.html)."
   ]
  },
  {
   "cell_type": "markdown",
   "metadata": {},
   "source": [
    "### Manejando excepciones"
   ]
  },
  {
   "cell_type": "code",
   "execution_count": null,
   "metadata": {},
   "outputs": [],
   "source": [
    "while True:\n",
    "    try:\n",
    "        x = int(input(\"Por favor ingrese un número: \"))\n",
    "        break\n",
    "    except ValueError:\n",
    "        print(\"Oops! No era válido. Intente nuevamente...\")"
   ]
  },
  {
   "cell_type": "markdown",
   "metadata": {},
   "source": [
    "La declaración `try` funciona de la siguiente manera:\n",
    "* Primero, se ejecuta el bloque `try` (el código entre las declaración `try` y `except`).\n",
    "* **Si no ocurre ninguna excepción**, el bloque `except` se saltea y termina la ejecución de la declaración `try`.\n",
    "* **Si ocurre una excepción** durante la ejecución del bloque `try`, el resto del bloque se saltea. Luego, **si su tipo coincide con la excepción nombrada** luego de la palabra reservada `except`, se ejecuta el bloque `except`, y la ejecución continúa luego de la declaración `try`.\n",
    "* **Si ocurre una excepción que no coincide con la excepción nombrada** en el `except`, esta se pasa a declaraciones `try` de más afuera; si no se encuentra nada que la maneje, es una excepción no manejada, y la ejecución se frena con un mensaje como los mostrados arriba."
   ]
  },
  {
   "cell_type": "markdown",
   "metadata": {},
   "source": [
    "Las declaraciones `try`,`except` tienen un bloque `else` opcional, el cual, cuando está presente, debe seguir a los `except`. Es útil para aquel código que debe ejecutarse si el bloque `try` no genera una excepción. \n",
    "Veamos una aplicación del uso de exepciones. \n",
    "Primero forcemos los errores: *ZeroDivisionError* y *ValueError*."
   ]
  },
  {
   "cell_type": "code",
   "execution_count": null,
   "metadata": {},
   "outputs": [],
   "source": [
    "print(\"Dame dos números y yo los dividiré.\")\n",
    "print(\"Ingrese una q, para salir\")\n",
    "\n",
    "while True:\n",
    "    first_number = input(\"\\nPrimer número: \")\n",
    "    if first_number == 'q':\n",
    "        break\n",
    "    second_number = input(\"Segundo numero: \")\n",
    "    if second_number == 'q':\n",
    "        break    \n",
    "    answer = int(first_number) / int(second_number)\n",
    "    print(answer)"
   ]
  },
  {
   "cell_type": "markdown",
   "metadata": {},
   "source": [
    "Si ahora contemplamos las excepciones y trabajamos sobre ellas:"
   ]
  },
  {
   "cell_type": "code",
   "execution_count": null,
   "metadata": {},
   "outputs": [],
   "source": [
    "print(\"Dame dos números y yo los dividiré.\")\n",
    "print(\"Ingrese una q, para salir\")\n",
    "\n",
    "while True:\n",
    "    first_number = input(\"\\nPrimer número: \")\n",
    "    if first_number == 'q':\n",
    "        break\n",
    "    second_number = input(\"Segundo numero: \")\n",
    "    try:\n",
    "        answer = int(first_number) / int(second_number)\n",
    "    except ZeroDivisionError:\n",
    "        print(\"No se puede dividir por cero.\")\n",
    "    except ValueError:\n",
    "        print(\"Valores ingresados incorrectos\")\n",
    "    else:\n",
    "        print(answer)"
   ]
  },
  {
   "cell_type": "markdown",
   "metadata": {},
   "source": [
    "El uso de `else` es mejor que agregar código adicional en el try porque evita capturar accidentalmente una excepción que no fue generada por el código que está protegido por la declaración `try`, `except`.\n",
    "\n",
    "Cuando se usa con un ciclo, el `else` tiene más en común con el `else` de una declaración `try` que con el de un `if`: el `else` de un `try` se ejecuta cuando no se genera ninguna excepción, y el `else` de un ciclo se ejecuta cuando no hay ningún `break`."
   ]
  },
  {
   "cell_type": "markdown",
   "metadata": {},
   "source": [
    "### Definiendo acciones de limpieza\n",
    "\n",
    "La declaración `try` tiene otra cláusula opcional que intenta definir acciones de limpieza, por ejemplo:"
   ]
  },
  {
   "cell_type": "code",
   "execution_count": null,
   "metadata": {},
   "outputs": [],
   "source": [
    "def dividir(x, y):\n",
    "    try:\n",
    "        result = x / y\n",
    "    except ZeroDivisionError:\n",
    "        print(\"¡división por cero!\")\n",
    "    else:\n",
    "        print(\"el resultado es\", result)\n",
    "    finally:\n",
    "        print(\"ejecutando la clausula finally\")"
   ]
  },
  {
   "cell_type": "markdown",
   "metadata": {},
   "source": [
    "Una cláusula `finally` **siempre es ejecutada antes de salir de la declaración** `try`, ya sea que una excepción haya ocurrido o no. Cuando ocurre una excepción en la cláusula `try` y no fue manejada por una cláusula `except` (o ocurrió en una cláusula `except` o `else`), es relanzada luego de que se ejecuta la cláusula `finally`. El `finally` es también ejecutado “a la salida” cuando cualquier otra cláusula de la declaración `try` es dejada via `break`, `continue` or `return`."
   ]
  },
  {
   "cell_type": "code",
   "execution_count": null,
   "metadata": {},
   "outputs": [],
   "source": [
    "dividir(2, 1)"
   ]
  },
  {
   "cell_type": "code",
   "execution_count": null,
   "metadata": {},
   "outputs": [],
   "source": [
    "dividir(2, 0)"
   ]
  },
  {
   "cell_type": "code",
   "execution_count": null,
   "metadata": {},
   "outputs": [],
   "source": [
    "divide(\"2\", \"1\")"
   ]
  },
  {
   "cell_type": "markdown",
   "metadata": {},
   "source": [
    "Como podés ver, la cláusula `finally` es **ejecutada siempre**. La excepción *TypeError* lanzada al dividir dos cadenas de texto no es manejado por la cláusula `except` y por lo tanto es relanzada luego de que se ejecuta la cláusula `finally`.\n",
    "\n",
    "> **Nota :** En aplicaciones reales, la cláusula `finally` es útil para liberar recursos externos (como archivos o conexiones de red), sin importar si el uso del recurso fue exitoso."
   ]
  },
  {
   "cell_type": "markdown",
   "metadata": {},
   "source": [
    "## Referencias usadas en el notebook\n",
    "\n",
    "* G. Van Rossum. El tutorial de Python. PyAr http://docs.python.org.ar/tutorial/\n",
    "* Matthes, Eric. *Python crash course: a hands-on, project-based introduction to programming*. No Starch Press, 2015."
   ]
  },
  {
   "cell_type": "markdown",
   "metadata": {},
   "source": [
    "## Licencia\n",
    "\n",
    "<a rel=\"license\" href=\"http://creativecommons.org/licenses/by-sa/4.0/\"><img alt=\"Licencia de Creative Commons\" style=\"border-width:0\" src=\"https://i.creativecommons.org/l/by-sa/4.0/88x31.png\" /></a><br />Este documento se destribuye con una <a rel=\"license\" href=\"http://creativecommons.org/licenses/by-sa/4.0/\">licencia Atribución CompartirIgual 4.0 Internacional de Creative Commons</a>.\n",
    "\n",
    "© 2019. Infiniem Labs Acústica. infiniemlab.dsp@gmail.com. Curso de Python (CC BY-SA 4.0))"
   ]
  }
 ],
 "metadata": {
  "kernelspec": {
   "display_name": "Python 3",
   "language": "python",
   "name": "python3"
  },
  "language_info": {
   "codemirror_mode": {
    "name": "ipython",
    "version": 3
   },
   "file_extension": ".py",
   "mimetype": "text/x-python",
   "name": "python",
   "nbconvert_exporter": "python",
   "pygments_lexer": "ipython3",
   "version": "3.7.3"
  }
 },
 "nbformat": 4,
 "nbformat_minor": 4
}
