{
 "cells": [
  {
   "cell_type": "markdown",
   "metadata": {
    "slideshow": {
     "slide_type": "-"
    }
   },
   "source": [
    "[comment]: <> (los titulares se generan en el siguiente link: https://docs.google.com/drawings/d/1TLM83sTn9w2Jmq0l0Jy1ivIeLRVO_rKBCamm5Tq11Yo/edit?usp=sharing)\n",
    "\n",
    "![](../img/titulos_ejercicios.png)"
   ]
  },
  {
   "cell_type": "markdown",
   "metadata": {
    "slideshow": {
     "slide_type": "-"
    }
   },
   "source": [
    "# Ejercicios propuesto \n",
    "\n",
    "**1.** Determinar junto a la ecuación de Einstein ($E=mc^2$), cuánta materia se debe convertir en energía para producir esa cantidad de radiación en un día. Esta ecuación sorprendentemente sencilla, vincula los mundos antes separados de la **materia** y la **energía**, y se puede utilizar para **encontrar la cantidad de energía que se libera conforme la materia se destruye en reacciones nucleares** tanto naturales como inducidas por el hombre.\n",
    "El **Sol** irradia $385x10^{24} \\text{J/s}$ de energía, los cuales se generan mediante reacciones nucleares\n",
    "que **convierten la materia en energía**. \n",
    "\n",
    "Ayudas: \n",
    "* $c=3.0x10^8 \\text{m/s}$.\n",
    "* $1\\text{J = kg m}^2/\\text{s}^2$\n",
    "\n",
    "Respuesta: \n",
    "* $m = 3.6960x10^{14}$"
   ]
  },
  {
   "cell_type": "code",
   "execution_count": null,
   "metadata": {},
   "outputs": [],
   "source": [
    "e = (385*(10**24))\n",
    "c = (3*10**8)\n",
    "m = (e/(c**2))*60*60*24\n",
    "print(m)"
   ]
  },
  {
   "cell_type": "markdown",
   "metadata": {},
   "source": [
    "**2.** Determinar si una palabra ingresada es **palindromo** (es igual si se lee de izquierda a derecha que de derecha a izquierda)."
   ]
  },
  {
   "cell_type": "code",
   "execution_count": null,
   "metadata": {},
   "outputs": [],
   "source": [
    "x = 'reconocer'\n",
    "if x == x[::-1]:\n",
    "    print('La palabra: ' + x + ', es palindromo')"
   ]
  },
  {
   "cell_type": "markdown",
   "metadata": {},
   "source": [
    "**3.** Desarrollar un programa que imprima los números impares comprendidos entre 1 y 1000"
   ]
  },
  {
   "cell_type": "code",
   "execution_count": null,
   "metadata": {},
   "outputs": [],
   "source": [
    "lista = []\n",
    "for i in range (100):\n",
    "    if (i+1)%2 == 0:\n",
    "        lista.append (i+1)    \n",
    "print(lista)"
   ]
  },
  {
   "cell_type": "markdown",
   "metadata": {},
   "source": [
    "**4.** Leer diez números enteros e imprimir el mayor."
   ]
  },
  {
   "cell_type": "code",
   "execution_count": null,
   "metadata": {},
   "outputs": [],
   "source": [
    "ingresos = []\n",
    "for i in range(3):\n",
    "    ingresos.append (int(input(\"Ingrese un número: \")))\n",
    "\n",
    "print(\"El max valor ingresado es: \",max(ingresos)) "
   ]
  },
  {
   "cell_type": "markdown",
   "metadata": {},
   "source": [
    "**5.** Leer dos números A y B enteros positivos. Calcular el producto A * B por sumas sucesivase imprimir el resultado. Ejemplo: $4 * 3 = 4 + 4 + 4$ (4 sumado 3 veces)."
   ]
  },
  {
   "cell_type": "code",
   "execution_count": null,
   "metadata": {},
   "outputs": [],
   "source": [
    "input_1 = int(input(\"Ingrese un numero\"))\n",
    "input_2 = int(input(\"Ingrese oto numero\"))\n",
    "\n",
    "salida = 0\n",
    "\n",
    "for i in range(input_2):\n",
    "    salida += input_1\n",
    "print (salida)"
   ]
  },
  {
   "cell_type": "markdown",
   "metadata": {},
   "source": [
    "**6.** Leer diez números e imprimir el menor de ellos, indicando además el número de orden conque fue leído."
   ]
  },
  {
   "cell_type": "code",
   "execution_count": null,
   "metadata": {},
   "outputs": [],
   "source": [
    "ingresos = []\n",
    "for i in range(3):\n",
    "    ingresos.append (int(input(\"Ingrese un número: \")))\n",
    "\n",
    "print(\"El minimo valor ingresado es \",min(ingresos), \", ingresado en la posición \", ingresos.index(min(ingresos))+1)"
   ]
  },
  {
   "cell_type": "markdown",
   "metadata": {},
   "source": [
    "**7.** Escribir un programa que imprima los múltiplos de 7 hasta el 3000."
   ]
  },
  {
   "cell_type": "code",
   "execution_count": null,
   "metadata": {},
   "outputs": [],
   "source": [
    "multi = 0\n",
    "i = 0\n",
    "while multi < 3000:\n",
    "    multi = 7*i \n",
    "    if multi > 3000:\n",
    "        break\n",
    "    else:\n",
    "        print (multi)\n",
    "        i += 1 "
   ]
  },
  {
   "cell_type": "markdown",
   "metadata": {},
   "source": [
    "**8.** Leer diez números e imprimir el mayor, el menor y el rango del conjunto (El rango de unconjunto se calcula restando el mayor menos el menor)."
   ]
  },
  {
   "cell_type": "code",
   "execution_count": null,
   "metadata": {},
   "outputs": [],
   "source": [
    "ingresos = []\n",
    "for i in range(3):\n",
    "    ingresos.append (int(input(\"Ingrese un número: \")))\n",
    "print(\"El maximo número ingresado es: \", max(ingresos))\n",
    "print(\"El minimo número ingresado es: \", min(ingresos))\n",
    "print(\"El rango del conjunto es: \", max(ingresos)-min(ingresos))"
   ]
  },
  {
   "cell_type": "markdown",
   "metadata": {},
   "source": [
    "**9.** El factorial de un número entero $N$ mayor que cero se define como el producto detodos los enteros $X$ tales que $ 0<X\\leq N$. Desarrollar un programa para calcular el factorial de un número dado. Deberán rechazarse las entradas inválidas ($<0$)."
   ]
  },
  {
   "cell_type": "code",
   "execution_count": null,
   "metadata": {},
   "outputs": [],
   "source": [
    "ingreso = int(input(\"Ingrese un número: \"))\n",
    "salida = 1\n",
    "if ingreso < 0:\n",
    "    print(\"Entrada invalida.\")\n",
    "    pass\n",
    "else:\n",
    "    for i in range(ingreso):\n",
    "        salida *= i+1\n",
    "    print(salida)"
   ]
  }
 ],
 "metadata": {
  "kernelspec": {
   "display_name": "Python 3",
   "language": "python",
   "name": "python3"
  },
  "language_info": {
   "codemirror_mode": {
    "name": "ipython",
    "version": 3
   },
   "file_extension": ".py",
   "mimetype": "text/x-python",
   "name": "python",
   "nbconvert_exporter": "python",
   "pygments_lexer": "ipython3",
   "version": "3.7.4"
  }
 },
 "nbformat": 4,
 "nbformat_minor": 4
}
