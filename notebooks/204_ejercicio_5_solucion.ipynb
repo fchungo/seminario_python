{
 "cells": [
  {
   "cell_type": "markdown",
   "metadata": {
    "slideshow": {
     "slide_type": "-"
    }
   },
   "source": [
    "[comment]: <> (los titulares se generan en el siguiente link: https://docs.google.com/drawings/d/1TLM83sTn9w2Jmq0l0Jy1ivIeLRVO_rKBCamm5Tq11Yo/edit?usp=sharing)\n",
    "\n",
    "![](../img/titulos_ejercicios.png)"
   ]
  },
  {
   "cell_type": "markdown",
   "metadata": {},
   "source": [
    "# Ejercicios propuesto "
   ]
  },
  {
   "cell_type": "markdown",
   "metadata": {},
   "source": [
    "**1.** Crea una tupla con los meses del año y pide números al usuario. Si el número está entre 1 y la longitud máxima de la tupla, muestra el contenido de esa posición, sino muestra un mensaje de error. El programa termina cuando el usuario introduce un cero."
   ]
  },
  {
   "cell_type": "code",
   "execution_count": null,
   "metadata": {},
   "outputs": [],
   "source": [
    "meses = (\"Enero\", \"Febrero\", \"Marzo\", \"Abril\", \"Mayo\", \"Junio\", \"Julio\", \"Agosto\", \"Septiembre\", \"Octubre\", \"Noviembre\", \"Diciembre\")\n",
    " \n",
    "salir = False\n",
    "while(not salir):\n",
    "     \n",
    "    numero = int(input(\"Dame un numero: \"))\n",
    " \n",
    "    if(numero==0):\n",
    "        salir= True\n",
    "    else:\n",
    "        if(numero>=1 and numero<=len(meses)):\n",
    "            print(meses[numero-1])\n",
    "        else:\n",
    "            print(\"Inserta un numero entre 1 y \",len(meses))"
   ]
  },
  {
   "cell_type": "markdown",
   "metadata": {},
   "source": [
    "**2.** Crea una tupla con números, pide un número por teclado e indica cuantas veces se repite"
   ]
  },
  {
   "cell_type": "code",
   "execution_count": null,
   "metadata": {},
   "outputs": [],
   "source": [
    "numeros = (5,4,3,2,1,6,45,3,6,6,6,6,6)\n",
    " \n",
    "numero = int(input(\"Dame un numero: \"))\n",
    " \n",
    "contador= 0\n",
    "for i in numeros:\n",
    "    if numero == i:\n",
    "        contador = contador + 1\n",
    " \n",
    "print (\"Hay \",contador,\" repeticion/es\")"
   ]
  },
  {
   "cell_type": "markdown",
   "metadata": {
    "slideshow": {
     "slide_type": "-"
    }
   },
   "source": [
    "**3.** Escribir un programa que pregunte al usuario su nombre, edad, dirección y teléfono y lo guarde en un diccionario. \n",
    "Después debe mostrar por pantalla el mensaje: \"<nombre> tiene <edad> años, vive en <dirección> y su número de teléfono es <teléfono>\"."
   ]
  },
  {
   "cell_type": "code",
   "execution_count": null,
   "metadata": {},
   "outputs": [],
   "source": [
    "name = input('¿Cómo te llamas? ')\n",
    "age = input('¿Cuántos años tienes? ')\n",
    "address = input('¿Cuál es tu dirección? ')\n",
    "phone = input('¿Cuál es tu número de teléfono? ')\n",
    "person = {'name': name, 'age': age, 'address': address, 'phone': phone}\n",
    "print(person['name'], 'tiene', person['age'], 'años, vive en', person['address'], 'y su número de teléfono es', person['phone'])"
   ]
  },
  {
   "cell_type": "markdown",
   "metadata": {},
   "source": [
    "**4.** Escribir un programa que guarde en un diccionario los precios de las frutas de la tabla, pregunte al usuario por una fruta, un número de kilos y muestre por pantalla el precio de ese número de kilos de fruta. Si la fruta no está en el diccionario debe mostrar un mensaje informando de ello.\n",
    "\n",
    "| Fruta  | Precio  |   \n",
    "|---|:---:|\n",
    "| Banana  | 80  | \n",
    "| Manzana| 50  |  \n",
    "| Pera  | 40  | \n",
    "| Naranja  | 20  |"
   ]
  },
  {
   "cell_type": "code",
   "execution_count": null,
   "metadata": {},
   "outputs": [],
   "source": [
    "fruits = {'BANANA':80, 'MANZANA':50, 'PERA':40, 'NARANJA':20}\n",
    "fruit = input('¿Qué fruta queres? ').capitalize()\n",
    "kg = float(input('¿Cuántos kilos? '))\n",
    "\n",
    "if fruit in fruits:\n",
    "    print(kg, 'kilos de', fruit, 'valen', fruits[fruit]*kg )\n",
    "else: \n",
    "    print(\"Lo siento, la fruta\", fruit, \"no está disponible.\")"
   ]
  },
  {
   "cell_type": "markdown",
   "metadata": {},
   "source": [
    "**5.** Crear un diccionario que contenga 5 provincias, las key utilizadas deben ser de dos letras. Luego Agregar un diccionario de ciudades, usando las misma key que para provincias."
   ]
  },
  {
   "cell_type": "code",
   "execution_count": null,
   "metadata": {},
   "outputs": [],
   "source": [
    "# Crear un diccionario conteniendo una lista de 5 provincias\n",
    "provincias = {'BA': 'Buenos Aires',\n",
    "              'CH': 'Chubut',\n",
    "              'MZ': 'Mendoza',\n",
    "              'SL': 'San Luis',\n",
    "              'JU': 'Jujuy'}\n",
    "\n",
    "# Agregar un diccionario usando el mismo key que para provincias\n",
    "ciudades = {'BA': 'Buenos Aires',\n",
    "            'BA': 'Bahía Blanca',\n",
    "            'CH': 'Trelew',\n",
    "            'JU': 'Tilcara',\n",
    "            'CH': 'Comodoro Rivadavia',\n",
    "            'MZ': 'San Rafael',\n",
    "            'SL': 'Merlo'}"
   ]
  },
  {
   "cell_type": "markdown",
   "metadata": {},
   "source": [
    "**6.** Definir las siguientes funciones, para ser utilizadas con los diccionarios creados en el ejercicio 5:\n",
    "* Imprimir la lista de provincias y ciudades.\n",
    "* Buscar un dato específico.\n",
    "* Agregar elemento.\n",
    "* Eliminar elemento.\n",
    "* Ver historial."
   ]
  },
  {
   "cell_type": "code",
   "execution_count": null,
   "metadata": {},
   "outputs": [],
   "source": [
    "# Imprimir la lista de provincias y ciudades\n",
    "def imprimir_datos():\n",
    "    print('Provincias:')\n",
    "    for key_p, nombre_p in provincias.items():\n",
    "        print(key_p, nombre_p)\n",
    "    print('\\nCiudades: ')\n",
    "    for key_c, nombre_c in ciudades.items():\n",
    "        print(key_c, nombre_c)\n",
    "\n",
    "historial_busquedas = []  # creamos lista vacía para guardar el historial\n",
    "# Buscar un dato específico\n",
    "def buscar_dato(nombre_dicc, key):\n",
    "    if nombre_dicc == 'provincias':\n",
    "        nombre_dato = provincias[key]\n",
    "        historial_busquedas.insert(0,nombre_dato)\n",
    "        print('Resultado de la búsqueda: ', nombre_dato)\n",
    "    elif nombre_dicc == 'ciudades':\n",
    "        nombre_dato = ciudades[key]\n",
    "        historial_busquedas.insert(0,nombre_dato)\n",
    "        print('Resultado de la búsqueda: ', nombre_dato)\n",
    "    else:\n",
    "        print('No se encontró nada, verifique el nombre de diccionario que desea modificar.')\n",
    "\n",
    "# Agregar elementos\n",
    "def agregar_datos(nombre_dicc, key, nombre):\n",
    "    if nombre_dicc == 'provincias':\n",
    "        provincias[key] = nombre\n",
    "        print('Dato agregado')\n",
    "    elif nombre_dicc == 'ciudades':\n",
    "        ciudades[key] = nombre\n",
    "        print('Dato agregado')\n",
    "    else:\n",
    "        print('No se agregó nada, verifique el nombre de diccionario que desea modificar.')\n",
    "        \n",
    "def eliminar_dato(nombre_dicc, key):\n",
    "    if nombre_dicc == 'provincias':\n",
    "        provincias.pop(key)\n",
    "        print('Dato eliminado')\n",
    "    elif nombre_dicc == 'ciudades':\n",
    "        ciudades.pop(key)\n",
    "        print('Dato eliminado')\n",
    "    else:\n",
    "        print('No se eliminó nada, verifique el nombre de diccionario que desea modificar.')\n",
    "\n",
    "def ver_historial():\n",
    "    print('Historial de búsquedas: ')\n",
    "    print(historial_busquedas)\n",
    "\n",
    "if __name__ == \"__main__\":\n",
    "    #imprimir_datos()\n",
    "    #buscar_dato('provincias','CH')\n",
    "    #ver_historial()\n",
    "    #buscar_dato('provincia','TU')\n",
    "    #agregar_datos('provincias','TU','Tucumán')\n",
    "    #eliminar_dato('ciudades','BA')\n",
    "    imprimir_datos()"
   ]
  },
  {
   "cell_type": "markdown",
   "metadata": {},
   "source": [
    "**7.** Escriba un bucle que le pida al usuario que ingrese una serie de ingredientes para pizza hasta que ingrese un valor de \"salir\". A medida que ingresan cada relleno, imprima un mensaje que diga que agregará ese relleno a su pizza."
   ]
  },
  {
   "cell_type": "code",
   "execution_count": null,
   "metadata": {},
   "outputs": [],
   "source": []
  },
  {
   "cell_type": "markdown",
   "metadata": {},
   "source": [
    "**8.** Una sala de cine cobra diferentes precios de entradas según la edad de una persona. Si una persona es menor de 3 años, el boleto es gratis; si tienen entre 3 y 12 años, el boleto es de **75** pesos; y si son mayores de 12 años, el boleto es de **150** pesos. Escriba un ciclo en el que pregunte a los usuarios su edad y luego dígales el costo de su boleto de cine."
   ]
  },
  {
   "cell_type": "code",
   "execution_count": null,
   "metadata": {},
   "outputs": [],
   "source": []
  },
  {
   "cell_type": "markdown",
   "metadata": {},
   "source": [
    "**9.** Escriba diferentes versiones del ejercicio 7 y 8 que haga cada uno de los siguientes, al menos una vez:\n",
    "* Use una prueba condicional en la instrucción while para detener el ciclo (`continue`).\n",
    "* Use una variable activa para controlar cuánto tiempo se ejecuta el ciclo (flag).\n",
    "* Use una declaración de interrupción para salir del bucle cuando el usuario ingresa un valor de 'salir' (`break`)."
   ]
  },
  {
   "cell_type": "markdown",
   "metadata": {},
   "source": [
    "**10.** Localiza el error en el siguiente bloque de código. Crea una excepción para evitar que el programa se bloquee y además explica en un mensaje al usuario la causa y/o solución:"
   ]
  },
  {
   "cell_type": "code",
   "execution_count": null,
   "metadata": {},
   "outputs": [],
   "source": [
    "resultado = 10/0"
   ]
  },
  {
   "cell_type": "code",
   "execution_count": null,
   "metadata": {},
   "outputs": [],
   "source": [
    "try:\n",
    "    resultado = 10/0\n",
    "except ZeroDivisionError:\n",
    "    print(\"Error:\\tNo es posible dividir entre cero,\\n\" \n",
    "        \"\\tdebes introducir un número distinto.\")"
   ]
  },
  {
   "cell_type": "markdown",
   "metadata": {},
   "source": [
    "**11.** Localiza el error en el siguiente bloque de código. Crea una excepción para evitar que el programa se bloquee y además explica en un mensaje al usuario la causa y/o solución:"
   ]
  },
  {
   "cell_type": "code",
   "execution_count": null,
   "metadata": {},
   "outputs": [],
   "source": [
    "lista = [1, 2, 3, 4, 5]\n",
    "lista[10]"
   ]
  },
  {
   "cell_type": "code",
   "execution_count": null,
   "metadata": {},
   "outputs": [],
   "source": [
    "lista = [1, 2, 3, 4, 5]\n",
    "try:\n",
    "    lista[10]\n",
    "except IndexError:\n",
    "    print(\"Error:\\tEl índice se encuentra fuera del rango,\\n\"\n",
    "          \"\\tdebes utilizar un número mayor o igual que cero\\n\"\n",
    "          \"\\ty menor que la longitud de la lista.\")"
   ]
  },
  {
   "cell_type": "markdown",
   "metadata": {},
   "source": [
    "**12.** Localiza el error en el siguiente bloque de código. Crea una excepción para evitar que el programa se bloquee y además explica en un mensaje al usuario la causa y/o solución:"
   ]
  },
  {
   "cell_type": "code",
   "execution_count": null,
   "metadata": {},
   "outputs": [],
   "source": [
    "resultado = 15 + \"20\""
   ]
  },
  {
   "cell_type": "code",
   "execution_count": null,
   "metadata": {},
   "outputs": [],
   "source": [
    "try:\n",
    "    resultado = \"20\" + 15\n",
    "except TypeError:\n",
    "    print(\"Error:\\tSólo es posible sumar datos del mismo tipo,\\n\"\n",
    "          \"\\tdebes transformar el número a cadena o viceversa.\")"
   ]
  },
  {
   "cell_type": "markdown",
   "metadata": {},
   "source": [
    "**13.** Implementar control de excepciones en el siguiente código. Ademas contemplar el uso de while loop, para un ingreso constante de datos, hasta que el usuario ingrese 'salir'."
   ]
  },
  {
   "cell_type": "code",
   "execution_count": null,
   "metadata": {},
   "outputs": [],
   "source": [
    "# Definir las funciones que realizarán las operaciones de la calculadora \n",
    "\n",
    "# Sumar dos números entre sí\n",
    "def sumar(x, y):\n",
    "   return x + y\n",
    "\n",
    "# Restar dos números entre sí \n",
    "def restar(x, y):\n",
    "   return x - y\n",
    "\n",
    "# Multiplicar dos números entre sí\n",
    "def multiplicar(x, y):\n",
    "   return x * y\n",
    "\n",
    "# Dividir dos números entre sí\n",
    "def dividir(x, y):\n",
    "   return x / y    \n",
    "\n",
    "estado = 'C'\n",
    "\n",
    "while estado == 'C':\n",
    "\n",
    "    # Definir mensajes de salida para el usuario, para que pueda elegir una operación\n",
    "    print(\"Seleccione una operación.\")\n",
    "    print(\"1. Sumar\")\n",
    "    print(\"2. Restar\")\n",
    "    print(\"3. Multiplicar\")\n",
    "    print(\"4. Dividir\")\n",
    "\n",
    "    # Tomar la opción ingresada por el usuario\n",
    "    opcion = input(\"Elija una operación: \")\n",
    "\n",
    "    # Pedir al usuario que ingrese los dos números para operar sobre ellos\n",
    "    num1 = int(input(\"Ingrese primer número: \"))\n",
    "    num2 = int(input(\"Ingrese segundo número: \"))\n",
    "\n",
    "    # Estructura condicional para aplicar la funcion elegida\n",
    "    if opcion == '1':\n",
    "        resultado = sumar(num1,num2)\n",
    "        print(num1,\"+\",num2,\"=\", resultado)\n",
    "    elif opcion == '2':\n",
    "        resultado = restar(num1,num2)\n",
    "        print(num1,\"-\",num2,\"=\", resultado)\n",
    "    elif opcion == '3':\n",
    "        resultado = multiplicar(num1,num2)\n",
    "        print(num1,\"*\",num2,\"=\", resultado)\n",
    "    elif opcion == '4':\n",
    "        resultado = dividir(num1,num2)\n",
    "        print(num1,\"/\",num2,\"=\", resultado)\n",
    "    else:\n",
    "       print(\"ERROR: Entrada inválida\")\n",
    "    \n",
    "    # Pedir al usuario qué desea hacer: continuar o salir\n",
    "    print('¿Qué desea hacer?')\n",
    "    print(' -> C: Continuar ')\n",
    "    print(' -> X: Salir')\n",
    "    estado = input('Ingrese la opcion elegida: ')\n",
    "    \n",
    "    if estado == 'X':\n",
    "        print('Saliendo del programa...')\n",
    "    elif estado == 'C':\n",
    "        print('\\n--------------------\\n')\n",
    "    else:\n",
    "        print('ERROR: Entrada inválida')\n",
    "        break"
   ]
  },
  {
   "cell_type": "code",
   "execution_count": null,
   "metadata": {},
   "outputs": [],
   "source": []
  }
 ],
 "metadata": {
  "kernelspec": {
   "display_name": "Python 3",
   "language": "python",
   "name": "python3"
  },
  "language_info": {
   "codemirror_mode": {
    "name": "ipython",
    "version": 3
   },
   "file_extension": ".py",
   "mimetype": "text/x-python",
   "name": "python",
   "nbconvert_exporter": "python",
   "pygments_lexer": "ipython3",
   "version": "3.7.3"
  }
 },
 "nbformat": 4,
 "nbformat_minor": 4
}
