{
 "cells": [
  {
   "cell_type": "markdown",
   "metadata": {
    "slideshow": {
     "slide_type": "-"
    }
   },
   "source": [
    "[comment]: <> (los titulares se generan en el siguiente link: https://docs.google.com/drawings/d/1TLM83sTn9w2Jmq0l0Jy1ivIeLRVO_rKBCamm5Tq11Yo/edit?usp=sharing)\n",
    "\n",
    "![](../img/titulos_ejercicios.png)"
   ]
  },
  {
   "cell_type": "markdown",
   "metadata": {},
   "source": [
    "# Ejercicios propuesto "
   ]
  },
  {
   "cell_type": "markdown",
   "metadata": {
    "slideshow": {
     "slide_type": "-"
    }
   },
   "source": [
    "**1.** Escribir un programa que pregunte al usuario su nombre, edad, dirección y teléfono y lo guarde en un diccionario. \n",
    "Después debe mostrar por pantalla el mensaje <nombre> tiene <edad> años, vive en <dirección> y su número de teléfono es <teléfono>."
   ]
  },
  {
   "cell_type": "code",
   "execution_count": null,
   "metadata": {},
   "outputs": [],
   "source": [
    "name = input('¿Cómo te llamas? ')\n",
    "age = input('¿Cuántos años tienes? ')\n",
    "address = input('¿Cuál es tu dirección? ')\n",
    "phone = input('¿Cuál es tu número de teléfono? ')\n",
    "person = {'name': name, 'age': age, 'address': address, 'phone': phone}\n",
    "print(person['name'], 'tiene', person['age'], 'años, vive en', person['address'], 'y su número de teléfono es', person['phone'])"
   ]
  },
  {
   "cell_type": "markdown",
   "metadata": {},
   "source": [
    "**2.** Escribir un programa que guarde en un diccionario los precios de las frutas de la tabla, pregunte al usuario por una fruta, un número de kilos y muestre por pantalla el precio de ese número de kilos de fruta. Si la fruta no está en el diccionario debe mostrar un mensaje informando de ello."
   ]
  },
  {
   "cell_type": "code",
   "execution_count": null,
   "metadata": {},
   "outputs": [],
   "source": [
    "# Definir las funciones que realizarán las operaciones de la calculadora \n",
    "\n",
    "# Sumar dos números entre sí\n",
    "def sumar(x, y):\n",
    "   return x + y\n",
    "\n",
    "# Restar dos números entre sí \n",
    "def restar(x, y):\n",
    "   return x - y\n",
    "\n",
    "# Multiplicar dos números entre sí\n",
    "def multiplicar(x, y):\n",
    "   return x * y\n",
    "\n",
    "# Dividir dos números entre sí\n",
    "def dividir(x, y):\n",
    "   return x / y    \n",
    "\n",
    "estado = 'C'\n",
    "\n",
    "while estado == 'C':\n",
    "\n",
    "    # Definir mensajes de salida para el usuario, para que pueda elegir una operación\n",
    "    print(\"Seleccione una operación.\")\n",
    "    print(\"1. Sumar\")\n",
    "    print(\"2. Restar\")\n",
    "    print(\"3. Multiplicar\")\n",
    "    print(\"4. Dividir\")\n",
    "\n",
    "    # Tomar la opción ingresada por el usuario\n",
    "    opcion = input(\"Elija una operación: \")\n",
    "\n",
    "    # Pedir al usuario que ingrese los dos números para operar sobre ellos\n",
    "    num1 = int(input(\"Ingrese primer número: \"))\n",
    "    num2 = int(input(\"Ingrese segundo número: \"))\n",
    "\n",
    "    # Estructura condicional para aplicar la funcion elegida\n",
    "    if opcion == '1':\n",
    "        resultado = sumar(num1,num2)\n",
    "        print(num1,\"+\",num2,\"=\", resultado)\n",
    "    elif opcion == '2':\n",
    "        resultado = restar(num1,num2)\n",
    "        print(num1,\"-\",num2,\"=\", resultado)\n",
    "    elif opcion == '3':\n",
    "        resultado = multiplicar(num1,num2)\n",
    "        print(num1,\"*\",num2,\"=\", resultado)\n",
    "    elif opcion == '4':\n",
    "        resultado = dividir(num1,num2)\n",
    "        print(num1,\"/\",num2,\"=\", resultado)\n",
    "    else:\n",
    "       print(\"ERROR: Entrada inválida\")\n",
    "    \n",
    "    # Pedir al usuario qué desea hacer: continuar o salir\n",
    "    print('¿Qué desea hacer?')\n",
    "    print(' -> C: Continuar ')\n",
    "    print(' -> X: Salir')\n",
    "    estado = input('Ingrese la opcion elegida: ')\n",
    "    \n",
    "    if estado == 'X':\n",
    "        print('Saliendo del programa...')\n",
    "    elif estado == 'C':\n",
    "        print('\\n--------------------\\n')\n",
    "    else:\n",
    "        print('ERROR: Entrada inválida')\n",
    "        break"
   ]
  },
  {
   "cell_type": "code",
   "execution_count": 5,
   "metadata": {},
   "outputs": [],
   "source": [
    "# Crear un diccionario conteniendo una lista de 5 provincias\n",
    "provincias = {'BA': 'Buenos Aires',\n",
    "              'CH': 'Chubut',\n",
    "              'MZ': 'Mendoza',\n",
    "              'SL': 'San Luis',\n",
    "              'JU': 'Jujuy'}\n",
    "\n",
    "# Agregar un diccionario usando el mismo key que para provincias\n",
    "ciudades = {'BA': 'Buenos Aires',\n",
    "            'BA': 'Bahía Blanca',\n",
    "            'CH': 'Trelew',\n",
    "            'JU': 'Tilcara',\n",
    "            'CH': 'Comodoro Rivadavia',\n",
    "            'MZ': 'San Rafael',\n",
    "            'SL': 'Merlo'}\n"
   ]
  },
  {
   "cell_type": "code",
   "execution_count": 32,
   "metadata": {},
   "outputs": [],
   "source": [
    "# Imprimir la lista de provincias y ciudades\n",
    "def imprimir_datos():\n",
    "    print('Provincias:')\n",
    "    for key_p, nombre_p in provincias.items():\n",
    "        print(key_p, nombre_p)\n",
    "    print('\\nCiudades: ')\n",
    "    for key_c, nombre_c in ciudades.items():\n",
    "        print(key_c, nombre_c)\n",
    "\n",
    "historial_busquedas = []  # creamos lista vacía para guardar el historial\n",
    "# Buscar un dato específico\n",
    "def buscar_dato(nombre_dicc, key):\n",
    "    if nombre_dicc == 'provincias':\n",
    "        nombre_dato = provincias[key]\n",
    "        historial_busquedas.insert(0,nombre_dato)\n",
    "        print('Resultado de la búsqueda: ', nombre_dato)\n",
    "    elif nombre_dicc == 'ciudades':\n",
    "        nombre_dato = ciudades[key]\n",
    "        historial_busquedas.insert(0,nombre_dato)\n",
    "        print('Resultado de la búsqueda: ', nombre_dato)\n",
    "    else:\n",
    "        print('No se encontró nada, verifique el nombre de diccionario que desea modificar.')\n",
    "\n",
    "# Agregar elementos\n",
    "def agregar_datos(nombre_dicc, key, nombre):\n",
    "    if nombre_dicc == 'provincias':\n",
    "        provincias[key] = nombre\n",
    "        print('Dato agregado')\n",
    "    elif nombre_dicc == 'ciudades':\n",
    "        ciudades[key] = nombre\n",
    "        print('Dato agregado')\n",
    "    else:\n",
    "        print('No se agregó nada, verifique el nombre de diccionario que desea modificar.')\n",
    "        \n",
    "def eliminar_dato(nombre_dicc, key):\n",
    "    if nombre_dicc == 'provincias':\n",
    "        provincias.pop(key)\n",
    "        print('Dato eliminado')\n",
    "    elif nombre_dicc == 'ciudades':\n",
    "        ciudades.pop(key)\n",
    "        print('Dato eliminado')\n",
    "    else:\n",
    "        print('No se eliminó nada, verifique el nombre de diccionario que desea modificar.')\n",
    "\n",
    "def ver_historial():\n",
    "    print('Historial de búsquedas: ')\n",
    "    print(historial_busquedas)"
   ]
  }
 ],
 "metadata": {
  "kernelspec": {
   "display_name": "Python 3",
   "language": "python",
   "name": "python3"
  },
  "language_info": {
   "codemirror_mode": {
    "name": "ipython",
    "version": 3
   },
   "file_extension": ".py",
   "mimetype": "text/x-python",
   "name": "python",
   "nbconvert_exporter": "python",
   "pygments_lexer": "ipython3",
   "version": "3.7.3"
  }
 },
 "nbformat": 4,
 "nbformat_minor": 4
}
